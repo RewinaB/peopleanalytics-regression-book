{
  "cells": [
    {
      "cell_type": "markdown",
      "metadata": {
        "id": "view-in-github",
        "colab_type": "text"
      },
      "source": [
        "<a href=\"https://colab.research.google.com/github/RewinaB/peopleanalytics-regression-book/blob/master/Regularization_synthetic.ipynb\" target=\"_parent\"><img src=\"https://colab.research.google.com/assets/colab-badge.svg\" alt=\"Open In Colab\"/></a>"
      ]
    },
    {
      "cell_type": "markdown",
      "metadata": {
        "id": "Uy5w6QhYIZBU"
      },
      "source": [
        "\n",
        "---"
      ]
    },
    {
      "cell_type": "markdown",
      "metadata": {
        "id": "puGRHn6-IZBV"
      },
      "source": [
        "# Regularization: Penalized regression\n",
        "\n",
        "Regularization force the learning algorithm to build a less complex model . In practice, that often leads to slightly higher bias but significantly reduces the variance. The most common penalized regression models are:\n",
        "\n",
        "1. Ridge regression\n",
        "2. Lasso regression\n",
        "3. Elastic Net regression\n",
        "\n",
        "In this notebook we will explore the three methods and compare their results with a multiple liear regression model applied to our synthetic data generated from the following  true model f(x)\n",
        "\n",
        "$$y =f(x)= x + 2x^2- 3 x^3 + \\epsilon$$\n",
        "\n",
        "The target variable is **y** and the features are 5 polynomial features of **X**. Namely, $X_1= X$, $X_2= X^2$, $X_3= X^3$, etc.\n"
      ]
    },
    {
      "cell_type": "markdown",
      "metadata": {
        "id": "3FvL1fOnIZBW"
      },
      "source": [
        "First we need to import the libraries:"
      ]
    },
    {
      "cell_type": "code",
      "execution_count": 1,
      "metadata": {
        "id": "CuX7qrUtIZBW"
      },
      "outputs": [],
      "source": [
        "import numpy as np\n",
        "import pandas as pd\n",
        "import matplotlib.pyplot as plt\n",
        "import seaborn as sns\n",
        "sns.set()  #if you want to use seaborn themes with matplotlib functions\n",
        "import warnings\n",
        "warnings.filterwarnings('ignore')"
      ]
    },
    {
      "cell_type": "code",
      "execution_count": 2,
      "metadata": {
        "id": "9KvQHyihIZBX"
      },
      "outputs": [],
      "source": [
        "rand_state= 1000"
      ]
    },
    {
      "cell_type": "code",
      "execution_count": 3,
      "metadata": {
        "id": "PEOBVPwzIZBX"
      },
      "outputs": [],
      "source": [
        "df=pd.read_csv('https://raw.githubusercontent.com/PJalgotrader/Machine_Learning-USU/main/data/Regularization_synthetic.csv')"
      ]
    },
    {
      "cell_type": "code",
      "execution_count": 4,
      "metadata": {
        "colab": {
          "base_uri": "https://localhost:8080/",
          "height": 206
        },
        "id": "ZuH4S_u1IZBY",
        "outputId": "fadd1f2c-c18b-4716-9132-10e7c7d404ff"
      },
      "outputs": [
        {
          "output_type": "execute_result",
          "data": {
            "text/plain": [
              "         X1        X2        X3        X4         X5          y\n",
              "0  1.668068  2.782452  4.641320  7.742038  12.914249  -3.901562\n",
              "1  0.925862  0.857220  0.793667  0.734826   0.680348  -0.384578\n",
              "2  1.057997  1.119357  1.184276  1.252960   1.325628  12.493677\n",
              "3 -0.920339  0.847024 -0.779549  0.717449  -0.660297  12.237389\n",
              "4  1.299748  1.689346  2.195725  2.853890   3.709339  -3.772851"
            ],
            "text/html": [
              "\n",
              "  <div id=\"df-51f3f320-12d1-46c1-9736-70a08611c609\" class=\"colab-df-container\">\n",
              "    <div>\n",
              "<style scoped>\n",
              "    .dataframe tbody tr th:only-of-type {\n",
              "        vertical-align: middle;\n",
              "    }\n",
              "\n",
              "    .dataframe tbody tr th {\n",
              "        vertical-align: top;\n",
              "    }\n",
              "\n",
              "    .dataframe thead th {\n",
              "        text-align: right;\n",
              "    }\n",
              "</style>\n",
              "<table border=\"1\" class=\"dataframe\">\n",
              "  <thead>\n",
              "    <tr style=\"text-align: right;\">\n",
              "      <th></th>\n",
              "      <th>X1</th>\n",
              "      <th>X2</th>\n",
              "      <th>X3</th>\n",
              "      <th>X4</th>\n",
              "      <th>X5</th>\n",
              "      <th>y</th>\n",
              "    </tr>\n",
              "  </thead>\n",
              "  <tbody>\n",
              "    <tr>\n",
              "      <th>0</th>\n",
              "      <td>1.668068</td>\n",
              "      <td>2.782452</td>\n",
              "      <td>4.641320</td>\n",
              "      <td>7.742038</td>\n",
              "      <td>12.914249</td>\n",
              "      <td>-3.901562</td>\n",
              "    </tr>\n",
              "    <tr>\n",
              "      <th>1</th>\n",
              "      <td>0.925862</td>\n",
              "      <td>0.857220</td>\n",
              "      <td>0.793667</td>\n",
              "      <td>0.734826</td>\n",
              "      <td>0.680348</td>\n",
              "      <td>-0.384578</td>\n",
              "    </tr>\n",
              "    <tr>\n",
              "      <th>2</th>\n",
              "      <td>1.057997</td>\n",
              "      <td>1.119357</td>\n",
              "      <td>1.184276</td>\n",
              "      <td>1.252960</td>\n",
              "      <td>1.325628</td>\n",
              "      <td>12.493677</td>\n",
              "    </tr>\n",
              "    <tr>\n",
              "      <th>3</th>\n",
              "      <td>-0.920339</td>\n",
              "      <td>0.847024</td>\n",
              "      <td>-0.779549</td>\n",
              "      <td>0.717449</td>\n",
              "      <td>-0.660297</td>\n",
              "      <td>12.237389</td>\n",
              "    </tr>\n",
              "    <tr>\n",
              "      <th>4</th>\n",
              "      <td>1.299748</td>\n",
              "      <td>1.689346</td>\n",
              "      <td>2.195725</td>\n",
              "      <td>2.853890</td>\n",
              "      <td>3.709339</td>\n",
              "      <td>-3.772851</td>\n",
              "    </tr>\n",
              "  </tbody>\n",
              "</table>\n",
              "</div>\n",
              "    <div class=\"colab-df-buttons\">\n",
              "\n",
              "  <div class=\"colab-df-container\">\n",
              "    <button class=\"colab-df-convert\" onclick=\"convertToInteractive('df-51f3f320-12d1-46c1-9736-70a08611c609')\"\n",
              "            title=\"Convert this dataframe to an interactive table.\"\n",
              "            style=\"display:none;\">\n",
              "\n",
              "  <svg xmlns=\"http://www.w3.org/2000/svg\" height=\"24px\" viewBox=\"0 -960 960 960\">\n",
              "    <path d=\"M120-120v-720h720v720H120Zm60-500h600v-160H180v160Zm220 220h160v-160H400v160Zm0 220h160v-160H400v160ZM180-400h160v-160H180v160Zm440 0h160v-160H620v160ZM180-180h160v-160H180v160Zm440 0h160v-160H620v160Z\"/>\n",
              "  </svg>\n",
              "    </button>\n",
              "\n",
              "  <style>\n",
              "    .colab-df-container {\n",
              "      display:flex;\n",
              "      gap: 12px;\n",
              "    }\n",
              "\n",
              "    .colab-df-convert {\n",
              "      background-color: #E8F0FE;\n",
              "      border: none;\n",
              "      border-radius: 50%;\n",
              "      cursor: pointer;\n",
              "      display: none;\n",
              "      fill: #1967D2;\n",
              "      height: 32px;\n",
              "      padding: 0 0 0 0;\n",
              "      width: 32px;\n",
              "    }\n",
              "\n",
              "    .colab-df-convert:hover {\n",
              "      background-color: #E2EBFA;\n",
              "      box-shadow: 0px 1px 2px rgba(60, 64, 67, 0.3), 0px 1px 3px 1px rgba(60, 64, 67, 0.15);\n",
              "      fill: #174EA6;\n",
              "    }\n",
              "\n",
              "    .colab-df-buttons div {\n",
              "      margin-bottom: 4px;\n",
              "    }\n",
              "\n",
              "    [theme=dark] .colab-df-convert {\n",
              "      background-color: #3B4455;\n",
              "      fill: #D2E3FC;\n",
              "    }\n",
              "\n",
              "    [theme=dark] .colab-df-convert:hover {\n",
              "      background-color: #434B5C;\n",
              "      box-shadow: 0px 1px 3px 1px rgba(0, 0, 0, 0.15);\n",
              "      filter: drop-shadow(0px 1px 2px rgba(0, 0, 0, 0.3));\n",
              "      fill: #FFFFFF;\n",
              "    }\n",
              "  </style>\n",
              "\n",
              "    <script>\n",
              "      const buttonEl =\n",
              "        document.querySelector('#df-51f3f320-12d1-46c1-9736-70a08611c609 button.colab-df-convert');\n",
              "      buttonEl.style.display =\n",
              "        google.colab.kernel.accessAllowed ? 'block' : 'none';\n",
              "\n",
              "      async function convertToInteractive(key) {\n",
              "        const element = document.querySelector('#df-51f3f320-12d1-46c1-9736-70a08611c609');\n",
              "        const dataTable =\n",
              "          await google.colab.kernel.invokeFunction('convertToInteractive',\n",
              "                                                    [key], {});\n",
              "        if (!dataTable) return;\n",
              "\n",
              "        const docLinkHtml = 'Like what you see? Visit the ' +\n",
              "          '<a target=\"_blank\" href=https://colab.research.google.com/notebooks/data_table.ipynb>data table notebook</a>'\n",
              "          + ' to learn more about interactive tables.';\n",
              "        element.innerHTML = '';\n",
              "        dataTable['output_type'] = 'display_data';\n",
              "        await google.colab.output.renderOutput(dataTable, element);\n",
              "        const docLink = document.createElement('div');\n",
              "        docLink.innerHTML = docLinkHtml;\n",
              "        element.appendChild(docLink);\n",
              "      }\n",
              "    </script>\n",
              "  </div>\n",
              "\n",
              "\n",
              "<div id=\"df-830d6390-d43d-44bd-8abb-5ffe60306d1f\">\n",
              "  <button class=\"colab-df-quickchart\" onclick=\"quickchart('df-830d6390-d43d-44bd-8abb-5ffe60306d1f')\"\n",
              "            title=\"Suggest charts\"\n",
              "            style=\"display:none;\">\n",
              "\n",
              "<svg xmlns=\"http://www.w3.org/2000/svg\" height=\"24px\"viewBox=\"0 0 24 24\"\n",
              "     width=\"24px\">\n",
              "    <g>\n",
              "        <path d=\"M19 3H5c-1.1 0-2 .9-2 2v14c0 1.1.9 2 2 2h14c1.1 0 2-.9 2-2V5c0-1.1-.9-2-2-2zM9 17H7v-7h2v7zm4 0h-2V7h2v10zm4 0h-2v-4h2v4z\"/>\n",
              "    </g>\n",
              "</svg>\n",
              "  </button>\n",
              "\n",
              "<style>\n",
              "  .colab-df-quickchart {\n",
              "      --bg-color: #E8F0FE;\n",
              "      --fill-color: #1967D2;\n",
              "      --hover-bg-color: #E2EBFA;\n",
              "      --hover-fill-color: #174EA6;\n",
              "      --disabled-fill-color: #AAA;\n",
              "      --disabled-bg-color: #DDD;\n",
              "  }\n",
              "\n",
              "  [theme=dark] .colab-df-quickchart {\n",
              "      --bg-color: #3B4455;\n",
              "      --fill-color: #D2E3FC;\n",
              "      --hover-bg-color: #434B5C;\n",
              "      --hover-fill-color: #FFFFFF;\n",
              "      --disabled-bg-color: #3B4455;\n",
              "      --disabled-fill-color: #666;\n",
              "  }\n",
              "\n",
              "  .colab-df-quickchart {\n",
              "    background-color: var(--bg-color);\n",
              "    border: none;\n",
              "    border-radius: 50%;\n",
              "    cursor: pointer;\n",
              "    display: none;\n",
              "    fill: var(--fill-color);\n",
              "    height: 32px;\n",
              "    padding: 0;\n",
              "    width: 32px;\n",
              "  }\n",
              "\n",
              "  .colab-df-quickchart:hover {\n",
              "    background-color: var(--hover-bg-color);\n",
              "    box-shadow: 0 1px 2px rgba(60, 64, 67, 0.3), 0 1px 3px 1px rgba(60, 64, 67, 0.15);\n",
              "    fill: var(--button-hover-fill-color);\n",
              "  }\n",
              "\n",
              "  .colab-df-quickchart-complete:disabled,\n",
              "  .colab-df-quickchart-complete:disabled:hover {\n",
              "    background-color: var(--disabled-bg-color);\n",
              "    fill: var(--disabled-fill-color);\n",
              "    box-shadow: none;\n",
              "  }\n",
              "\n",
              "  .colab-df-spinner {\n",
              "    border: 2px solid var(--fill-color);\n",
              "    border-color: transparent;\n",
              "    border-bottom-color: var(--fill-color);\n",
              "    animation:\n",
              "      spin 1s steps(1) infinite;\n",
              "  }\n",
              "\n",
              "  @keyframes spin {\n",
              "    0% {\n",
              "      border-color: transparent;\n",
              "      border-bottom-color: var(--fill-color);\n",
              "      border-left-color: var(--fill-color);\n",
              "    }\n",
              "    20% {\n",
              "      border-color: transparent;\n",
              "      border-left-color: var(--fill-color);\n",
              "      border-top-color: var(--fill-color);\n",
              "    }\n",
              "    30% {\n",
              "      border-color: transparent;\n",
              "      border-left-color: var(--fill-color);\n",
              "      border-top-color: var(--fill-color);\n",
              "      border-right-color: var(--fill-color);\n",
              "    }\n",
              "    40% {\n",
              "      border-color: transparent;\n",
              "      border-right-color: var(--fill-color);\n",
              "      border-top-color: var(--fill-color);\n",
              "    }\n",
              "    60% {\n",
              "      border-color: transparent;\n",
              "      border-right-color: var(--fill-color);\n",
              "    }\n",
              "    80% {\n",
              "      border-color: transparent;\n",
              "      border-right-color: var(--fill-color);\n",
              "      border-bottom-color: var(--fill-color);\n",
              "    }\n",
              "    90% {\n",
              "      border-color: transparent;\n",
              "      border-bottom-color: var(--fill-color);\n",
              "    }\n",
              "  }\n",
              "</style>\n",
              "\n",
              "  <script>\n",
              "    async function quickchart(key) {\n",
              "      const quickchartButtonEl =\n",
              "        document.querySelector('#' + key + ' button');\n",
              "      quickchartButtonEl.disabled = true;  // To prevent multiple clicks.\n",
              "      quickchartButtonEl.classList.add('colab-df-spinner');\n",
              "      try {\n",
              "        const charts = await google.colab.kernel.invokeFunction(\n",
              "            'suggestCharts', [key], {});\n",
              "      } catch (error) {\n",
              "        console.error('Error during call to suggestCharts:', error);\n",
              "      }\n",
              "      quickchartButtonEl.classList.remove('colab-df-spinner');\n",
              "      quickchartButtonEl.classList.add('colab-df-quickchart-complete');\n",
              "    }\n",
              "    (() => {\n",
              "      let quickchartButtonEl =\n",
              "        document.querySelector('#df-830d6390-d43d-44bd-8abb-5ffe60306d1f button');\n",
              "      quickchartButtonEl.style.display =\n",
              "        google.colab.kernel.accessAllowed ? 'block' : 'none';\n",
              "    })();\n",
              "  </script>\n",
              "</div>\n",
              "\n",
              "    </div>\n",
              "  </div>\n"
            ],
            "application/vnd.google.colaboratory.intrinsic+json": {
              "type": "dataframe",
              "variable_name": "df",
              "summary": "{\n  \"name\": \"df\",\n  \"rows\": 100,\n  \"fields\": [\n    {\n      \"column\": \"X1\",\n      \"properties\": {\n        \"dtype\": \"number\",\n        \"std\": 1.0217336258855605,\n        \"min\": -2.502812866,\n        \"max\": 3.428562934,\n        \"samples\": [\n          -0.895378572,\n          0.556752763,\n          0.609150984\n        ],\n        \"num_unique_values\": 100,\n        \"semantic_type\": \"\",\n        \"description\": \"\"\n      }\n    },\n    {\n      \"column\": \"X2\",\n      \"properties\": {\n        \"dtype\": \"number\",\n        \"std\": 1.5905831363372287,\n        \"min\": 7.74e-05,\n        \"max\": 11.75504379,\n        \"samples\": [\n          0.801702787,\n          0.309973639,\n          0.371064921\n        ],\n        \"num_unique_values\": 100,\n        \"semantic_type\": \"\",\n        \"description\": \"\"\n      }\n    },\n    {\n      \"column\": \"X3\",\n      \"properties\": {\n        \"dtype\": \"number\",\n        \"std\": 4.9332661025182745,\n        \"min\": -15.67780059,\n        \"max\": 40.30290743,\n        \"samples\": [\n          -0.717827497,\n          0.17257868,\n          0.226034561\n        ],\n        \"num_unique_values\": 100,\n        \"semantic_type\": \"\",\n        \"description\": \"\"\n      }\n    },\n    {\n      \"column\": \"X4\",\n      \"properties\": {\n        \"dtype\": \"number\",\n        \"std\": 14.672386601939523,\n        \"min\": 5.99e-09,\n        \"max\": 138.1810545,\n        \"samples\": [\n          0.642727359,\n          0.096083657,\n          0.137689175\n        ],\n        \"num_unique_values\": 100,\n        \"semantic_type\": \"\",\n        \"description\": \"\"\n      }\n    },\n    {\n      \"column\": \"X5\",\n      \"properties\": {\n        \"dtype\": \"number\",\n        \"std\": 49.374982096031914,\n        \"min\": -98.20687547,\n        \"max\": 473.7624418,\n        \"samples\": [\n          -0.575484305,\n          0.053494841,\n          0.083873497\n        ],\n        \"num_unique_values\": 100,\n        \"semantic_type\": \"\",\n        \"description\": \"\"\n      }\n    },\n    {\n      \"column\": \"y\",\n      \"properties\": {\n        \"dtype\": \"number\",\n        \"std\": 17.25152534596788,\n        \"min\": -96.61513463,\n        \"max\": 61.37532386,\n        \"samples\": [\n          -8.13921205,\n          9.201484392,\n          -12.94787357\n        ],\n        \"num_unique_values\": 100,\n        \"semantic_type\": \"\",\n        \"description\": \"\"\n      }\n    }\n  ]\n}"
            }
          },
          "metadata": {},
          "execution_count": 4
        }
      ],
      "source": [
        "df.head()"
      ]
    },
    {
      "cell_type": "code",
      "execution_count": 5,
      "metadata": {
        "colab": {
          "base_uri": "https://localhost:8080/",
          "height": 458
        },
        "id": "KhSDtQiJIZBZ",
        "outputId": "247d1511-64fe-4d10-83ae-16988a9e995c"
      },
      "outputs": [
        {
          "output_type": "display_data",
          "data": {
            "text/plain": [
              "<Figure size 640x480 with 1 Axes>"
            ],
            "image/png": "[encoded data removed]"
          },
          "metadata": {}
        }
      ],
      "source": [
        "sns.scatterplot(x='X1', y='y', data=df)\n",
        "plt.show()"
      ]
    },
    {
      "cell_type": "markdown",
      "metadata": {
        "id": "VjrmEqxoIZBZ"
      },
      "source": [
        "**important**: we need to normalize the features before training the models. Computational effiient for lasso and elastic net. Ridge doesnt matter\n"
      ]
    },
    {
      "cell_type": "code",
      "execution_count": 6,
      "metadata": {
        "id": "02Ly0kWoIZBa"
      },
      "outputs": [],
      "source": [
        "from sklearn.preprocessing import StandardScaler"
      ]
    },
    {
      "cell_type": "code",
      "execution_count": 7,
      "metadata": {
        "id": "m7bL7jhkIZBa"
      },
      "outputs": [],
      "source": [
        "scaler=StandardScaler()\n",
        "df_sc= scaler.fit_transform(df)"
      ]
    },
    {
      "cell_type": "code",
      "execution_count": 8,
      "metadata": {
        "id": "_tGrOmNcToNZ",
        "outputId": "bc8dce8d-4efb-4561-ce61-c0169bb09a3a",
        "colab": {
          "base_uri": "https://localhost:8080/"
        }
      },
      "outputs": [
        {
          "output_type": "execute_result",
          "data": {
            "text/plain": [
              "(100, 6)"
            ]
          },
          "metadata": {},
          "execution_count": 8
        }
      ],
      "source": [
        "df_sc.shape"
      ]
    },
    {
      "cell_type": "code",
      "execution_count": 9,
      "metadata": {
        "id": "7AuNkPytToNa",
        "outputId": "ea10cd90-8a81-415f-c0af-7483b005b3bb",
        "colab": {
          "base_uri": "https://localhost:8080/"
        }
      },
      "outputs": [
        {
          "output_type": "execute_result",
          "data": {
            "text/plain": [
              "array([[ 1.68559489,  1.10379599,  0.93969261,  0.28529469,  0.20893775,\n",
              "        -0.41160092],\n",
              "       [ 0.95551657, -0.1126954 ,  0.15582326, -0.19468946, -0.0400858 ,\n",
              "        -0.20670883]])"
            ]
          },
          "metadata": {},
          "execution_count": 9
        }
      ],
      "source": [
        "df_sc[:2]"
      ]
    },
    {
      "cell_type": "code",
      "execution_count": 10,
      "metadata": {
        "colab": {
          "base_uri": "https://localhost:8080/",
          "height": 206
        },
        "id": "gCnL914VIZBb",
        "outputId": "efbe41e1-4037-4828-d8e3-26319fad4b27"
      },
      "outputs": [
        {
          "output_type": "execute_result",
          "data": {
            "text/plain": [
              "         X1        X2        X3        X4        X5         y\n",
              "0  1.685595  1.103796  0.939693  0.285295  0.208938 -0.411601\n",
              "1  0.955517 -0.112695  0.155823 -0.194689 -0.040086 -0.206709\n",
              "2  1.085492  0.052941  0.235401 -0.159198 -0.026951  0.543551\n",
              "3 -0.860516 -0.119138 -0.164683 -0.195880 -0.067375  0.528621\n",
              "4  1.323294  0.413098  0.441460 -0.049537  0.021570 -0.404102"
            ],
            "text/html": [
              "\n",
              "  <div id=\"df-0f33b751-7344-4bbf-8c1b-6cd4951eb71b\" class=\"colab-df-container\">\n",
              "    <div>\n",
              "<style scoped>\n",
              "    .dataframe tbody tr th:only-of-type {\n",
              "        vertical-align: middle;\n",
              "    }\n",
              "\n",
              "    .dataframe tbody tr th {\n",
              "        vertical-align: top;\n",
              "    }\n",
              "\n",
              "    .dataframe thead th {\n",
              "        text-align: right;\n",
              "    }\n",
              "</style>\n",
              "<table border=\"1\" class=\"dataframe\">\n",
              "  <thead>\n",
              "    <tr style=\"text-align: right;\">\n",
              "      <th></th>\n",
              "      <th>X1</th>\n",
              "      <th>X2</th>\n",
              "      <th>X3</th>\n",
              "      <th>X4</th>\n",
              "      <th>X5</th>\n",
              "      <th>y</th>\n",
              "    </tr>\n",
              "  </thead>\n",
              "  <tbody>\n",
              "    <tr>\n",
              "      <th>0</th>\n",
              "      <td>1.685595</td>\n",
              "      <td>1.103796</td>\n",
              "      <td>0.939693</td>\n",
              "      <td>0.285295</td>\n",
              "      <td>0.208938</td>\n",
              "      <td>-0.411601</td>\n",
              "    </tr>\n",
              "    <tr>\n",
              "      <th>1</th>\n",
              "      <td>0.955517</td>\n",
              "      <td>-0.112695</td>\n",
              "      <td>0.155823</td>\n",
              "      <td>-0.194689</td>\n",
              "      <td>-0.040086</td>\n",
              "      <td>-0.206709</td>\n",
              "    </tr>\n",
              "    <tr>\n",
              "      <th>2</th>\n",
              "      <td>1.085492</td>\n",
              "      <td>0.052941</td>\n",
              "      <td>0.235401</td>\n",
              "      <td>-0.159198</td>\n",
              "      <td>-0.026951</td>\n",
              "      <td>0.543551</td>\n",
              "    </tr>\n",
              "    <tr>\n",
              "      <th>3</th>\n",
              "      <td>-0.860516</td>\n",
              "      <td>-0.119138</td>\n",
              "      <td>-0.164683</td>\n",
              "      <td>-0.195880</td>\n",
              "      <td>-0.067375</td>\n",
              "      <td>0.528621</td>\n",
              "    </tr>\n",
              "    <tr>\n",
              "      <th>4</th>\n",
              "      <td>1.323294</td>\n",
              "      <td>0.413098</td>\n",
              "      <td>0.441460</td>\n",
              "      <td>-0.049537</td>\n",
              "      <td>0.021570</td>\n",
              "      <td>-0.404102</td>\n",
              "    </tr>\n",
              "  </tbody>\n",
              "</table>\n",
              "</div>\n",
              "    <div class=\"colab-df-buttons\">\n",
              "\n",
              "  <div class=\"colab-df-container\">\n",
              "    <button class=\"colab-df-convert\" onclick=\"convertToInteractive('df-0f33b751-7344-4bbf-8c1b-6cd4951eb71b')\"\n",
              "            title=\"Convert this dataframe to an interactive table.\"\n",
              "            style=\"display:none;\">\n",
              "\n",
              "  <svg xmlns=\"http://www.w3.org/2000/svg\" height=\"24px\" viewBox=\"0 -960 960 960\">\n",
              "    <path d=\"M120-120v-720h720v720H120Zm60-500h600v-160H180v160Zm220 220h160v-160H400v160Zm0 220h160v-160H400v160ZM180-400h160v-160H180v160Zm440 0h160v-160H620v160ZM180-180h160v-160H180v160Zm440 0h160v-160H620v160Z\"/>\n",
              "  </svg>\n",
              "    </button>\n",
              "\n",
              "  <style>\n",
              "    .colab-df-container {\n",
              "      display:flex;\n",
              "      gap: 12px;\n",
              "    }\n",
              "\n",
              "    .colab-df-convert {\n",
              "      background-color: #E8F0FE;\n",
              "      border: none;\n",
              "      border-radius: 50%;\n",
              "      cursor: pointer;\n",
              "      display: none;\n",
              "      fill: #1967D2;\n",
              "      height: 32px;\n",
              "      padding: 0 0 0 0;\n",
              "      width: 32px;\n",
              "    }\n",
              "\n",
              "    .colab-df-convert:hover {\n",
              "      background-color: #E2EBFA;\n",
              "      box-shadow: 0px 1px 2px rgba(60, 64, 67, 0.3), 0px 1px 3px 1px rgba(60, 64, 67, 0.15);\n",
              "      fill: #174EA6;\n",
              "    }\n",
              "\n",
              "    .colab-df-buttons div {\n",
              "      margin-bottom: 4px;\n",
              "    }\n",
              "\n",
              "    [theme=dark] .colab-df-convert {\n",
              "      background-color: #3B4455;\n",
              "      fill: #D2E3FC;\n",
              "    }\n",
              "\n",
              "    [theme=dark] .colab-df-convert:hover {\n",
              "      background-color: #434B5C;\n",
              "      box-shadow: 0px 1px 3px 1px rgba(0, 0, 0, 0.15);\n",
              "      filter: drop-shadow(0px 1px 2px rgba(0, 0, 0, 0.3));\n",
              "      fill: #FFFFFF;\n",
              "    }\n",
              "  </style>\n",
              "\n",
              "    <script>\n",
              "      const buttonEl =\n",
              "        document.querySelector('#df-0f33b751-7344-4bbf-8c1b-6cd4951eb71b button.colab-df-convert');\n",
              "      buttonEl.style.display =\n",
              "        google.colab.kernel.accessAllowed ? 'block' : 'none';\n",
              "\n",
              "      async function convertToInteractive(key) {\n",
              "        const element = document.querySelector('#df-0f33b751-7344-4bbf-8c1b-6cd4951eb71b');\n",
              "        const dataTable =\n",
              "          await google.colab.kernel.invokeFunction('convertToInteractive',\n",
              "                                                    [key], {});\n",
              "        if (!dataTable) return;\n",
              "\n",
              "        const docLinkHtml = 'Like what you see? Visit the ' +\n",
              "          '<a target=\"_blank\" href=https://colab.research.google.com/notebooks/data_table.ipynb>data table notebook</a>'\n",
              "          + ' to learn more about interactive tables.';\n",
              "        element.innerHTML = '';\n",
              "        dataTable['output_type'] = 'display_data';\n",
              "        await google.colab.output.renderOutput(dataTable, element);\n",
              "        const docLink = document.createElement('div');\n",
              "        docLink.innerHTML = docLinkHtml;\n",
              "        element.appendChild(docLink);\n",
              "      }\n",
              "    </script>\n",
              "  </div>\n",
              "\n",
              "\n",
              "<div id=\"df-a25dec11-94bd-45cd-b4a4-fc2089232d45\">\n",
              "  <button class=\"colab-df-quickchart\" onclick=\"quickchart('df-a25dec11-94bd-45cd-b4a4-fc2089232d45')\"\n",
              "            title=\"Suggest charts\"\n",
              "            style=\"display:none;\">\n",
              "\n",
              "<svg xmlns=\"http://www.w3.org/2000/svg\" height=\"24px\"viewBox=\"0 0 24 24\"\n",
              "     width=\"24px\">\n",
              "    <g>\n",
              "        <path d=\"M19 3H5c-1.1 0-2 .9-2 2v14c0 1.1.9 2 2 2h14c1.1 0 2-.9 2-2V5c0-1.1-.9-2-2-2zM9 17H7v-7h2v7zm4 0h-2V7h2v10zm4 0h-2v-4h2v4z\"/>\n",
              "    </g>\n",
              "</svg>\n",
              "  </button>\n",
              "\n",
              "<style>\n",
              "  .colab-df-quickchart {\n",
              "      --bg-color: #E8F0FE;\n",
              "      --fill-color: #1967D2;\n",
              "      --hover-bg-color: #E2EBFA;\n",
              "      --hover-fill-color: #174EA6;\n",
              "      --disabled-fill-color: #AAA;\n",
              "      --disabled-bg-color: #DDD;\n",
              "  }\n",
              "\n",
              "  [theme=dark] .colab-df-quickchart {\n",
              "      --bg-color: #3B4455;\n",
              "      --fill-color: #D2E3FC;\n",
              "      --hover-bg-color: #434B5C;\n",
              "      --hover-fill-color: #FFFFFF;\n",
              "      --disabled-bg-color: #3B4455;\n",
              "      --disabled-fill-color: #666;\n",
              "  }\n",
              "\n",
              "  .colab-df-quickchart {\n",
              "    background-color: var(--bg-color);\n",
              "    border: none;\n",
              "    border-radius: 50%;\n",
              "    cursor: pointer;\n",
              "    display: none;\n",
              "    fill: var(--fill-color);\n",
              "    height: 32px;\n",
              "    padding: 0;\n",
              "    width: 32px;\n",
              "  }\n",
              "\n",
              "  .colab-df-quickchart:hover {\n",
              "    background-color: var(--hover-bg-color);\n",
              "    box-shadow: 0 1px 2px rgba(60, 64, 67, 0.3), 0 1px 3px 1px rgba(60, 64, 67, 0.15);\n",
              "    fill: var(--button-hover-fill-color);\n",
              "  }\n",
              "\n",
              "  .colab-df-quickchart-complete:disabled,\n",
              "  .colab-df-quickchart-complete:disabled:hover {\n",
              "    background-color: var(--disabled-bg-color);\n",
              "    fill: var(--disabled-fill-color);\n",
              "    box-shadow: none;\n",
              "  }\n",
              "\n",
              "  .colab-df-spinner {\n",
              "    border: 2px solid var(--fill-color);\n",
              "    border-color: transparent;\n",
              "    border-bottom-color: var(--fill-color);\n",
              "    animation:\n",
              "      spin 1s steps(1) infinite;\n",
              "  }\n",
              "\n",
              "  @keyframes spin {\n",
              "    0% {\n",
              "      border-color: transparent;\n",
              "      border-bottom-color: var(--fill-color);\n",
              "      border-left-color: var(--fill-color);\n",
              "    }\n",
              "    20% {\n",
              "      border-color: transparent;\n",
              "      border-left-color: var(--fill-color);\n",
              "      border-top-color: var(--fill-color);\n",
              "    }\n",
              "    30% {\n",
              "      border-color: transparent;\n",
              "      border-left-color: var(--fill-color);\n",
              "      border-top-color: var(--fill-color);\n",
              "      border-right-color: var(--fill-color);\n",
              "    }\n",
              "    40% {\n",
              "      border-color: transparent;\n",
              "      border-right-color: var(--fill-color);\n",
              "      border-top-color: var(--fill-color);\n",
              "    }\n",
              "    60% {\n",
              "      border-color: transparent;\n",
              "      border-right-color: var(--fill-color);\n",
              "    }\n",
              "    80% {\n",
              "      border-color: transparent;\n",
              "      border-right-color: var(--fill-color);\n",
              "      border-bottom-color: var(--fill-color);\n",
              "    }\n",
              "    90% {\n",
              "      border-color: transparent;\n",
              "      border-bottom-color: var(--fill-color);\n",
              "    }\n",
              "  }\n",
              "</style>\n",
              "\n",
              "  <script>\n",
              "    async function quickchart(key) {\n",
              "      const quickchartButtonEl =\n",
              "        document.querySelector('#' + key + ' button');\n",
              "      quickchartButtonEl.disabled = true;  // To prevent multiple clicks.\n",
              "      quickchartButtonEl.classList.add('colab-df-spinner');\n",
              "      try {\n",
              "        const charts = await google.colab.kernel.invokeFunction(\n",
              "            'suggestCharts', [key], {});\n",
              "      } catch (error) {\n",
              "        console.error('Error during call to suggestCharts:', error);\n",
              "      }\n",
              "      quickchartButtonEl.classList.remove('colab-df-spinner');\n",
              "      quickchartButtonEl.classList.add('colab-df-quickchart-complete');\n",
              "    }\n",
              "    (() => {\n",
              "      let quickchartButtonEl =\n",
              "        document.querySelector('#df-a25dec11-94bd-45cd-b4a4-fc2089232d45 button');\n",
              "      quickchartButtonEl.style.display =\n",
              "        google.colab.kernel.accessAllowed ? 'block' : 'none';\n",
              "    })();\n",
              "  </script>\n",
              "</div>\n",
              "\n",
              "    </div>\n",
              "  </div>\n"
            ],
            "application/vnd.google.colaboratory.intrinsic+json": {
              "type": "dataframe",
              "variable_name": "df_sc",
              "summary": "{\n  \"name\": \"df_sc\",\n  \"rows\": 100,\n  \"fields\": [\n    {\n      \"column\": \"X1\",\n      \"properties\": {\n        \"dtype\": \"number\",\n        \"std\": 1.005037815259212,\n        \"min\": -2.417131279309812,\n        \"max\": 3.417321874120076,\n        \"samples\": [\n          -0.8359635364802904,\n          0.5924390015421872,\n          0.6439810005751209\n        ],\n        \"num_unique_values\": 100,\n        \"semantic_type\": \"\",\n        \"description\": \"\"\n      }\n    },\n    {\n      \"column\": \"X2\",\n      \"properties\": {\n        \"dtype\": \"number\",\n        \"std\": 1.005037815259212,\n        \"min\": -0.6542960305268878,\n        \"max\": 6.7732853823231185,\n        \"samples\": [\n          -0.1477749885258571,\n          -0.4584826637896882,\n          -0.4198810671865373\n        ],\n        \"num_unique_values\": 100,\n        \"semantic_type\": \"\",\n        \"description\": \"\"\n      }\n    },\n    {\n      \"column\": \"X3\",\n      \"properties\": {\n        \"dtype\": \"number\",\n        \"std\": 1.0050378152592123,\n        \"min\": -3.1998538565942414,\n        \"max\": 8.204908691358389,\n        \"samples\": [\n          -0.15210853710899028,\n          0.029290937443694737,\n          0.04018132542126023\n        ],\n        \"num_unique_values\": 100,\n        \"semantic_type\": \"\",\n        \"description\": \"\"\n      }\n    },\n    {\n      \"column\": \"X4\",\n      \"properties\": {\n        \"dtype\": \"number\",\n        \"std\": 1.005037815259212,\n        \"min\": -0.24502402303997298,\n        \"max\": 9.22018357314727,\n        \"samples\": [\n          -0.20099810468043922,\n          -0.23844242828561626,\n          -0.23559250890658898\n        ],\n        \"num_unique_values\": 100,\n        \"semantic_type\": \"\",\n        \"description\": \"\"\n      }\n    },\n    {\n      \"column\": \"X5\",\n      \"properties\": {\n        \"dtype\": \"number\",\n        \"std\": 1.0050378152592117,\n        \"min\": -2.052955361663621,\n        \"max\": 9.58959656688771,\n        \"samples\": [\n          -0.06564851289668379,\n          -0.05284551429488282,\n          -0.05222715056570985\n        ],\n        \"num_unique_values\": 100,\n        \"semantic_type\": \"\",\n        \"description\": \"\"\n      }\n    },\n    {\n      \"column\": \"y\",\n      \"properties\": {\n        \"dtype\": \"number\",\n        \"std\": 1.005037815259212,\n        \"min\": -5.812899939065308,\n        \"max\": 3.3912940118019548,\n        \"samples\": [\n          -0.6584775822254457,\n          0.3517551547431869,\n          -0.9386201534741621\n        ],\n        \"num_unique_values\": 100,\n        \"semantic_type\": \"\",\n        \"description\": \"\"\n      }\n    }\n  ]\n}"
            }
          },
          "metadata": {},
          "execution_count": 10
        }
      ],
      "source": [
        "df_sc = pd.DataFrame(df_sc, columns=df.columns)\n",
        "df_sc.head()"
      ]
    },
    {
      "cell_type": "code",
      "execution_count": 11,
      "metadata": {
        "colab": {
          "base_uri": "https://localhost:8080/",
          "height": 458
        },
        "id": "IKL7FVgjIZBb",
        "outputId": "3304f6b3-2407-4dc3-eff2-54ac29ba1e4f"
      },
      "outputs": [
        {
          "output_type": "display_data",
          "data": {
            "text/plain": [
              "<Figure size 640x480 with 1 Axes>"
            ],
            "image/png": "[encoded data removed]"
          },
          "metadata": {}
        }
      ],
      "source": [
        "sns.scatterplot(x='X1', y='y', data=df_sc)\n",
        "plt.show()"
      ]
    },
    {
      "cell_type": "markdown",
      "metadata": {
        "id": "X-vt1r7rIZBc"
      },
      "source": [
        "## Splitting the data"
      ]
    },
    {
      "cell_type": "code",
      "execution_count": 12,
      "metadata": {
        "colab": {
          "base_uri": "https://localhost:8080/",
          "height": 206
        },
        "id": "0ZptM-hYIZBc",
        "outputId": "2b7144de-cf26-4a27-f659-75070fdf57b7"
      },
      "outputs": [
        {
          "output_type": "execute_result",
          "data": {
            "text/plain": [
              "          X1        X2        X3        X4        X5\n",
              "37  1.464631  0.662152  0.606819  0.052327  0.073610\n",
              "44  1.572794  0.870372  0.757779  0.153824  0.130178\n",
              "55  0.275319 -0.619639 -0.003245 -0.244817 -0.053920\n",
              "66 -0.493702 -0.464986 -0.039290 -0.238872 -0.054935\n",
              "82  0.272588 -0.620456 -0.003337 -0.244827 -0.053921"
            ],
            "text/html": [
              "\n",
              "  <div id=\"df-2b023e5d-3175-4eac-b769-793eb3427abb\" class=\"colab-df-container\">\n",
              "    <div>\n",
              "<style scoped>\n",
              "    .dataframe tbody tr th:only-of-type {\n",
              "        vertical-align: middle;\n",
              "    }\n",
              "\n",
              "    .dataframe tbody tr th {\n",
              "        vertical-align: top;\n",
              "    }\n",
              "\n",
              "    .dataframe thead th {\n",
              "        text-align: right;\n",
              "    }\n",
              "</style>\n",
              "<table border=\"1\" class=\"dataframe\">\n",
              "  <thead>\n",
              "    <tr style=\"text-align: right;\">\n",
              "      <th></th>\n",
              "      <th>X1</th>\n",
              "      <th>X2</th>\n",
              "      <th>X3</th>\n",
              "      <th>X4</th>\n",
              "      <th>X5</th>\n",
              "    </tr>\n",
              "  </thead>\n",
              "  <tbody>\n",
              "    <tr>\n",
              "      <th>37</th>\n",
              "      <td>1.464631</td>\n",
              "      <td>0.662152</td>\n",
              "      <td>0.606819</td>\n",
              "      <td>0.052327</td>\n",
              "      <td>0.073610</td>\n",
              "    </tr>\n",
              "    <tr>\n",
              "      <th>44</th>\n",
              "      <td>1.572794</td>\n",
              "      <td>0.870372</td>\n",
              "      <td>0.757779</td>\n",
              "      <td>0.153824</td>\n",
              "      <td>0.130178</td>\n",
              "    </tr>\n",
              "    <tr>\n",
              "      <th>55</th>\n",
              "      <td>0.275319</td>\n",
              "      <td>-0.619639</td>\n",
              "      <td>-0.003245</td>\n",
              "      <td>-0.244817</td>\n",
              "      <td>-0.053920</td>\n",
              "    </tr>\n",
              "    <tr>\n",
              "      <th>66</th>\n",
              "      <td>-0.493702</td>\n",
              "      <td>-0.464986</td>\n",
              "      <td>-0.039290</td>\n",
              "      <td>-0.238872</td>\n",
              "      <td>-0.054935</td>\n",
              "    </tr>\n",
              "    <tr>\n",
              "      <th>82</th>\n",
              "      <td>0.272588</td>\n",
              "      <td>-0.620456</td>\n",
              "      <td>-0.003337</td>\n",
              "      <td>-0.244827</td>\n",
              "      <td>-0.053921</td>\n",
              "    </tr>\n",
              "  </tbody>\n",
              "</table>\n",
              "</div>\n",
              "    <div class=\"colab-df-buttons\">\n",
              "\n",
              "  <div class=\"colab-df-container\">\n",
              "    <button class=\"colab-df-convert\" onclick=\"convertToInteractive('df-2b023e5d-3175-4eac-b769-793eb3427abb')\"\n",
              "            title=\"Convert this dataframe to an interactive table.\"\n",
              "            style=\"display:none;\">\n",
              "\n",
              "  <svg xmlns=\"http://www.w3.org/2000/svg\" height=\"24px\" viewBox=\"0 -960 960 960\">\n",
              "    <path d=\"M120-120v-720h720v720H120Zm60-500h600v-160H180v160Zm220 220h160v-160H400v160Zm0 220h160v-160H400v160ZM180-400h160v-160H180v160Zm440 0h160v-160H620v160ZM180-180h160v-160H180v160Zm440 0h160v-160H620v160Z\"/>\n",
              "  </svg>\n",
              "    </button>\n",
              "\n",
              "  <style>\n",
              "    .colab-df-container {\n",
              "      display:flex;\n",
              "      gap: 12px;\n",
              "    }\n",
              "\n",
              "    .colab-df-convert {\n",
              "      background-color: #E8F0FE;\n",
              "      border: none;\n",
              "      border-radius: 50%;\n",
              "      cursor: pointer;\n",
              "      display: none;\n",
              "      fill: #1967D2;\n",
              "      height: 32px;\n",
              "      padding: 0 0 0 0;\n",
              "      width: 32px;\n",
              "    }\n",
              "\n",
              "    .colab-df-convert:hover {\n",
              "      background-color: #E2EBFA;\n",
              "      box-shadow: 0px 1px 2px rgba(60, 64, 67, 0.3), 0px 1px 3px 1px rgba(60, 64, 67, 0.15);\n",
              "      fill: #174EA6;\n",
              "    }\n",
              "\n",
              "    .colab-df-buttons div {\n",
              "      margin-bottom: 4px;\n",
              "    }\n",
              "\n",
              "    [theme=dark] .colab-df-convert {\n",
              "      background-color: #3B4455;\n",
              "      fill: #D2E3FC;\n",
              "    }\n",
              "\n",
              "    [theme=dark] .colab-df-convert:hover {\n",
              "      background-color: #434B5C;\n",
              "      box-shadow: 0px 1px 3px 1px rgba(0, 0, 0, 0.15);\n",
              "      filter: drop-shadow(0px 1px 2px rgba(0, 0, 0, 0.3));\n",
              "      fill: #FFFFFF;\n",
              "    }\n",
              "  </style>\n",
              "\n",
              "    <script>\n",
              "      const buttonEl =\n",
              "        document.querySelector('#df-2b023e5d-3175-4eac-b769-793eb3427abb button.colab-df-convert');\n",
              "      buttonEl.style.display =\n",
              "        google.colab.kernel.accessAllowed ? 'block' : 'none';\n",
              "\n",
              "      async function convertToInteractive(key) {\n",
              "        const element = document.querySelector('#df-2b023e5d-3175-4eac-b769-793eb3427abb');\n",
              "        const dataTable =\n",
              "          await google.colab.kernel.invokeFunction('convertToInteractive',\n",
              "                                                    [key], {});\n",
              "        if (!dataTable) return;\n",
              "\n",
              "        const docLinkHtml = 'Like what you see? Visit the ' +\n",
              "          '<a target=\"_blank\" href=https://colab.research.google.com/notebooks/data_table.ipynb>data table notebook</a>'\n",
              "          + ' to learn more about interactive tables.';\n",
              "        element.innerHTML = '';\n",
              "        dataTable['output_type'] = 'display_data';\n",
              "        await google.colab.output.renderOutput(dataTable, element);\n",
              "        const docLink = document.createElement('div');\n",
              "        docLink.innerHTML = docLinkHtml;\n",
              "        element.appendChild(docLink);\n",
              "      }\n",
              "    </script>\n",
              "  </div>\n",
              "\n",
              "\n",
              "<div id=\"df-f9b669ec-0dbd-4d44-aba0-32279476242b\">\n",
              "  <button class=\"colab-df-quickchart\" onclick=\"quickchart('df-f9b669ec-0dbd-4d44-aba0-32279476242b')\"\n",
              "            title=\"Suggest charts\"\n",
              "            style=\"display:none;\">\n",
              "\n",
              "<svg xmlns=\"http://www.w3.org/2000/svg\" height=\"24px\"viewBox=\"0 0 24 24\"\n",
              "     width=\"24px\">\n",
              "    <g>\n",
              "        <path d=\"M19 3H5c-1.1 0-2 .9-2 2v14c0 1.1.9 2 2 2h14c1.1 0 2-.9 2-2V5c0-1.1-.9-2-2-2zM9 17H7v-7h2v7zm4 0h-2V7h2v10zm4 0h-2v-4h2v4z\"/>\n",
              "    </g>\n",
              "</svg>\n",
              "  </button>\n",
              "\n",
              "<style>\n",
              "  .colab-df-quickchart {\n",
              "      --bg-color: #E8F0FE;\n",
              "      --fill-color: #1967D2;\n",
              "      --hover-bg-color: #E2EBFA;\n",
              "      --hover-fill-color: #174EA6;\n",
              "      --disabled-fill-color: #AAA;\n",
              "      --disabled-bg-color: #DDD;\n",
              "  }\n",
              "\n",
              "  [theme=dark] .colab-df-quickchart {\n",
              "      --bg-color: #3B4455;\n",
              "      --fill-color: #D2E3FC;\n",
              "      --hover-bg-color: #434B5C;\n",
              "      --hover-fill-color: #FFFFFF;\n",
              "      --disabled-bg-color: #3B4455;\n",
              "      --disabled-fill-color: #666;\n",
              "  }\n",
              "\n",
              "  .colab-df-quickchart {\n",
              "    background-color: var(--bg-color);\n",
              "    border: none;\n",
              "    border-radius: 50%;\n",
              "    cursor: pointer;\n",
              "    display: none;\n",
              "    fill: var(--fill-color);\n",
              "    height: 32px;\n",
              "    padding: 0;\n",
              "    width: 32px;\n",
              "  }\n",
              "\n",
              "  .colab-df-quickchart:hover {\n",
              "    background-color: var(--hover-bg-color);\n",
              "    box-shadow: 0 1px 2px rgba(60, 64, 67, 0.3), 0 1px 3px 1px rgba(60, 64, 67, 0.15);\n",
              "    fill: var(--button-hover-fill-color);\n",
              "  }\n",
              "\n",
              "  .colab-df-quickchart-complete:disabled,\n",
              "  .colab-df-quickchart-complete:disabled:hover {\n",
              "    background-color: var(--disabled-bg-color);\n",
              "    fill: var(--disabled-fill-color);\n",
              "    box-shadow: none;\n",
              "  }\n",
              "\n",
              "  .colab-df-spinner {\n",
              "    border: 2px solid var(--fill-color);\n",
              "    border-color: transparent;\n",
              "    border-bottom-color: var(--fill-color);\n",
              "    animation:\n",
              "      spin 1s steps(1) infinite;\n",
              "  }\n",
              "\n",
              "  @keyframes spin {\n",
              "    0% {\n",
              "      border-color: transparent;\n",
              "      border-bottom-color: var(--fill-color);\n",
              "      border-left-color: var(--fill-color);\n",
              "    }\n",
              "    20% {\n",
              "      border-color: transparent;\n",
              "      border-left-color: var(--fill-color);\n",
              "      border-top-color: var(--fill-color);\n",
              "    }\n",
              "    30% {\n",
              "      border-color: transparent;\n",
              "      border-left-color: var(--fill-color);\n",
              "      border-top-color: var(--fill-color);\n",
              "      border-right-color: var(--fill-color);\n",
              "    }\n",
              "    40% {\n",
              "      border-color: transparent;\n",
              "      border-right-color: var(--fill-color);\n",
              "      border-top-color: var(--fill-color);\n",
              "    }\n",
              "    60% {\n",
              "      border-color: transparent;\n",
              "      border-right-color: var(--fill-color);\n",
              "    }\n",
              "    80% {\n",
              "      border-color: transparent;\n",
              "      border-right-color: var(--fill-color);\n",
              "      border-bottom-color: var(--fill-color);\n",
              "    }\n",
              "    90% {\n",
              "      border-color: transparent;\n",
              "      border-bottom-color: var(--fill-color);\n",
              "    }\n",
              "  }\n",
              "</style>\n",
              "\n",
              "  <script>\n",
              "    async function quickchart(key) {\n",
              "      const quickchartButtonEl =\n",
              "        document.querySelector('#' + key + ' button');\n",
              "      quickchartButtonEl.disabled = true;  // To prevent multiple clicks.\n",
              "      quickchartButtonEl.classList.add('colab-df-spinner');\n",
              "      try {\n",
              "        const charts = await google.colab.kernel.invokeFunction(\n",
              "            'suggestCharts', [key], {});\n",
              "      } catch (error) {\n",
              "        console.error('Error during call to suggestCharts:', error);\n",
              "      }\n",
              "      quickchartButtonEl.classList.remove('colab-df-spinner');\n",
              "      quickchartButtonEl.classList.add('colab-df-quickchart-complete');\n",
              "    }\n",
              "    (() => {\n",
              "      let quickchartButtonEl =\n",
              "        document.querySelector('#df-f9b669ec-0dbd-4d44-aba0-32279476242b button');\n",
              "      quickchartButtonEl.style.display =\n",
              "        google.colab.kernel.accessAllowed ? 'block' : 'none';\n",
              "    })();\n",
              "  </script>\n",
              "</div>\n",
              "\n",
              "    </div>\n",
              "  </div>\n"
            ],
            "application/vnd.google.colaboratory.intrinsic+json": {
              "type": "dataframe",
              "variable_name": "X_train",
              "summary": "{\n  \"name\": \"X_train\",\n  \"rows\": 80,\n  \"fields\": [\n    {\n      \"column\": \"X1\",\n      \"properties\": {\n        \"dtype\": \"number\",\n        \"std\": 0.9389843917600209,\n        \"min\": -2.417131279309812,\n        \"max\": 1.9511345810515712,\n        \"samples\": [\n          1.9511345810515712,\n          1.4646312211350334,\n          0.07344797864097731\n        ],\n        \"num_unique_values\": 80,\n        \"semantic_type\": \"\",\n        \"description\": \"\"\n      }\n    },\n    {\n      \"column\": \"X2\",\n      \"properties\": {\n        \"dtype\": \"number\",\n        \"std\": 0.6934842833649856,\n        \"min\": -0.6542960305268878,\n        \"max\": 3.303718828907546,\n        \"samples\": [\n          1.718897804592718,\n          0.6621520155817588,\n          -0.6538083861395907\n        ],\n        \"num_unique_values\": 80,\n        \"semantic_type\": \"\",\n        \"description\": \"\"\n      }\n    },\n    {\n      \"column\": \"X3\",\n      \"properties\": {\n        \"dtype\": \"number\",\n        \"std\": 0.5304172591425956,\n        \"min\": -3.1998538565942414,\n        \"max\": 1.4770668671557876,\n        \"samples\": [\n          1.4770668671557876,\n          0.6068189732596374,\n          -0.005862908197219452\n        ],\n        \"num_unique_values\": 80,\n        \"semantic_type\": \"\",\n        \"description\": \"\"\n      }\n    },\n    {\n      \"column\": \"X4\",\n      \"properties\": {\n        \"dtype\": \"number\",\n        \"std\": 0.34707681990977574,\n        \"min\": -0.24502402303997298,\n        \"max\": 2.442764876397524,\n        \"samples\": [\n          0.7212802623833262,\n          0.05232690522033655,\n          -0.2450239740627951\n        ],\n        \"num_unique_values\": 80,\n        \"semantic_type\": \"\",\n        \"description\": \"\"\n      }\n    },\n    {\n      \"column\": \"X5\",\n      \"properties\": {\n        \"dtype\": \"number\",\n        \"std\": 0.25022023839330565,\n        \"min\": -2.052955361663621,\n        \"max\": 0.5025663737277164,\n        \"samples\": [\n          0.5025663737277164,\n          0.0736095847322934,\n          -0.05393441224963885\n        ],\n        \"num_unique_values\": 80,\n        \"semantic_type\": \"\",\n        \"description\": \"\"\n      }\n    }\n  ]\n}"
            }
          },
          "metadata": {},
          "execution_count": 12
        }
      ],
      "source": [
        "y = df_sc['y']\n",
        "X = df_sc.drop('y', axis=1) # be careful, inplace= False\n",
        "\n",
        "from sklearn.model_selection import train_test_split\n",
        "X_train, X_test, y_train, y_test = train_test_split(X, y, test_size=0.2, random_state=rand_state)\n",
        "X_train.head()"
      ]
    },
    {
      "cell_type": "code",
      "source": [],
      "metadata": {
        "id": "9a5vlh3Vlnv9"
      },
      "execution_count": 12,
      "outputs": []
    },
    {
      "cell_type": "markdown",
      "metadata": {
        "id": "3KK2cLuPIZBc"
      },
      "source": [
        "Let's first run a linear regression (using statsmodels.api)  and see the results as a benchmark."
      ]
    },
    {
      "cell_type": "code",
      "execution_count": 13,
      "metadata": {
        "id": "1gLb0zd3ToNf"
      },
      "outputs": [],
      "source": [
        "import statsmodels.api as sm"
      ]
    },
    {
      "cell_type": "code",
      "execution_count": 14,
      "metadata": {
        "id": "iIF61gXPIZBc"
      },
      "outputs": [],
      "source": [
        "X_test_wc = sm.add_constant(X_test)\n",
        "X_train_wc = sm.add_constant(X_train) #In linear regression, including a constant term allows the regression line to have an intercept with the y-axis, even if the predictors (features) have zero values.\n",
        "#It essentially accounts for the baseline value of the target variable when all predictors are zero."
      ]
    },
    {
      "cell_type": "code",
      "execution_count": 15,
      "metadata": {
        "id": "tdvsysbiIZBd",
        "outputId": "b79ed8bb-b3c8-40af-cd7b-5d0265702bee",
        "colab": {
          "base_uri": "https://localhost:8080/",
          "height": 537
        }
      },
      "outputs": [
        {
          "output_type": "execute_result",
          "data": {
            "text/plain": [
              "<class 'statsmodels.iolib.summary.Summary'>\n",
              "\"\"\"\n",
              "                            OLS Regression Results                            \n",
              "==============================================================================\n",
              "Dep. Variable:                      y   R-squared:                       0.451\n",
              "Model:                            OLS   Adj. R-squared:                  0.414\n",
              "Method:                 Least Squares   F-statistic:                     12.17\n",
              "Date:                Tue, 20 Feb 2024   Prob (F-statistic):           1.28e-08\n",
              "Time:                        04:15:41   Log-Likelihood:                -65.981\n",
              "No. Observations:                  80   AIC:                             144.0\n",
              "Df Residuals:                      74   BIC:                             158.3\n",
              "Df Model:                           5                                         \n",
              "Covariance Type:            nonrobust                                         \n",
              "==============================================================================\n",
              "                 coef    std err          t      P>|t|      [0.025      0.975]\n",
              "------------------------------------------------------------------------------\n",
              "const          0.0870      0.173      0.504      0.616      -0.257       0.431\n",
              "X1             0.5370      0.199      2.705      0.008       0.141       0.933\n",
              "X2             0.1037      0.302      0.343      0.732      -0.498       0.705\n",
              "X3            -2.1339      0.839     -2.543      0.013      -3.806      -0.462\n",
              "X4             0.2535      0.861      0.294      0.769      -1.463       1.970\n",
              "X5             1.5933      1.669      0.954      0.343      -1.733       4.920\n",
              "==============================================================================\n",
              "Omnibus:                       11.757   Durbin-Watson:                   2.213\n",
              "Prob(Omnibus):                  0.003   Jarque-Bera (JB):               14.171\n",
              "Skew:                          -0.701   Prob(JB):                     0.000837\n",
              "Kurtosis:                       4.512   Cond. No.                         33.9\n",
              "==============================================================================\n",
              "\n",
              "Notes:\n",
              "[1] Standard Errors assume that the covariance matrix of the errors is correctly specified.\n",
              "\"\"\""
            ],
            "text/html": [
              "<table class=\"simpletable\">\n",
              "<caption>OLS Regression Results</caption>\n",
              "<tr>\n",
              "  <th>Dep. Variable:</th>            <td>y</td>        <th>  R-squared:         </th> <td>   0.451</td>\n",
              "</tr>\n",
              "<tr>\n",
              "  <th>Model:</th>                   <td>OLS</td>       <th>  Adj. R-squared:    </th> <td>   0.414</td>\n",
              "</tr>\n",
              "<tr>\n",
              "  <th>Method:</th>             <td>Least Squares</td>  <th>  F-statistic:       </th> <td>   12.17</td>\n",
              "</tr>\n",
              "<tr>\n",
              "  <th>Date:</th>             <td>Tue, 20 Feb 2024</td> <th>  Prob (F-statistic):</th> <td>1.28e-08</td>\n",
              "</tr>\n",
              "<tr>\n",
              "  <th>Time:</th>                 <td>04:15:41</td>     <th>  Log-Likelihood:    </th> <td> -65.981</td>\n",
              "</tr>\n",
              "<tr>\n",
              "  <th>No. Observations:</th>      <td>    80</td>      <th>  AIC:               </th> <td>   144.0</td>\n",
              "</tr>\n",
              "<tr>\n",
              "  <th>Df Residuals:</th>          <td>    74</td>      <th>  BIC:               </th> <td>   158.3</td>\n",
              "</tr>\n",
              "<tr>\n",
              "  <th>Df Model:</th>              <td>     5</td>      <th>                     </th>     <td> </td>   \n",
              "</tr>\n",
              "<tr>\n",
              "  <th>Covariance Type:</th>      <td>nonrobust</td>    <th>                     </th>     <td> </td>   \n",
              "</tr>\n",
              "</table>\n",
              "<table class=\"simpletable\">\n",
              "<tr>\n",
              "    <td></td>       <th>coef</th>     <th>std err</th>      <th>t</th>      <th>P>|t|</th>  <th>[0.025</th>    <th>0.975]</th>  \n",
              "</tr>\n",
              "<tr>\n",
              "  <th>const</th> <td>    0.0870</td> <td>    0.173</td> <td>    0.504</td> <td> 0.616</td> <td>   -0.257</td> <td>    0.431</td>\n",
              "</tr>\n",
              "<tr>\n",
              "  <th>X1</th>    <td>    0.5370</td> <td>    0.199</td> <td>    2.705</td> <td> 0.008</td> <td>    0.141</td> <td>    0.933</td>\n",
              "</tr>\n",
              "<tr>\n",
              "  <th>X2</th>    <td>    0.1037</td> <td>    0.302</td> <td>    0.343</td> <td> 0.732</td> <td>   -0.498</td> <td>    0.705</td>\n",
              "</tr>\n",
              "<tr>\n",
              "  <th>X3</th>    <td>   -2.1339</td> <td>    0.839</td> <td>   -2.543</td> <td> 0.013</td> <td>   -3.806</td> <td>   -0.462</td>\n",
              "</tr>\n",
              "<tr>\n",
              "  <th>X4</th>    <td>    0.2535</td> <td>    0.861</td> <td>    0.294</td> <td> 0.769</td> <td>   -1.463</td> <td>    1.970</td>\n",
              "</tr>\n",
              "<tr>\n",
              "  <th>X5</th>    <td>    1.5933</td> <td>    1.669</td> <td>    0.954</td> <td> 0.343</td> <td>   -1.733</td> <td>    4.920</td>\n",
              "</tr>\n",
              "</table>\n",
              "<table class=\"simpletable\">\n",
              "<tr>\n",
              "  <th>Omnibus:</th>       <td>11.757</td> <th>  Durbin-Watson:     </th> <td>   2.213</td>\n",
              "</tr>\n",
              "<tr>\n",
              "  <th>Prob(Omnibus):</th> <td> 0.003</td> <th>  Jarque-Bera (JB):  </th> <td>  14.171</td>\n",
              "</tr>\n",
              "<tr>\n",
              "  <th>Skew:</th>          <td>-0.701</td> <th>  Prob(JB):          </th> <td>0.000837</td>\n",
              "</tr>\n",
              "<tr>\n",
              "  <th>Kurtosis:</th>      <td> 4.512</td> <th>  Cond. No.          </th> <td>    33.9</td>\n",
              "</tr>\n",
              "</table><br/><br/>Notes:<br/>[1] Standard Errors assume that the covariance matrix of the errors is correctly specified."
            ],
            "text/latex": "\\begin{center}\n\\begin{tabular}{lclc}\n\\toprule\n\\textbf{Dep. Variable:}    &        y         & \\textbf{  R-squared:         } &     0.451   \\\\\n\\textbf{Model:}            &       OLS        & \\textbf{  Adj. R-squared:    } &     0.414   \\\\\n\\textbf{Method:}           &  Least Squares   & \\textbf{  F-statistic:       } &     12.17   \\\\\n\\textbf{Date:}             & Tue, 20 Feb 2024 & \\textbf{  Prob (F-statistic):} &  1.28e-08   \\\\\n\\textbf{Time:}             &     04:15:41     & \\textbf{  Log-Likelihood:    } &   -65.981   \\\\\n\\textbf{No. Observations:} &          80      & \\textbf{  AIC:               } &     144.0   \\\\\n\\textbf{Df Residuals:}     &          74      & \\textbf{  BIC:               } &     158.3   \\\\\n\\textbf{Df Model:}         &           5      & \\textbf{                     } &             \\\\\n\\textbf{Covariance Type:}  &    nonrobust     & \\textbf{                     } &             \\\\\n\\bottomrule\n\\end{tabular}\n\\begin{tabular}{lcccccc}\n               & \\textbf{coef} & \\textbf{std err} & \\textbf{t} & \\textbf{P$> |$t$|$} & \\textbf{[0.025} & \\textbf{0.975]}  \\\\\n\\midrule\n\\textbf{const} &       0.0870  &        0.173     &     0.504  &         0.616        &       -0.257    &        0.431     \\\\\n\\textbf{X1}    &       0.5370  &        0.199     &     2.705  &         0.008        &        0.141    &        0.933     \\\\\n\\textbf{X2}    &       0.1037  &        0.302     &     0.343  &         0.732        &       -0.498    &        0.705     \\\\\n\\textbf{X3}    &      -2.1339  &        0.839     &    -2.543  &         0.013        &       -3.806    &       -0.462     \\\\\n\\textbf{X4}    &       0.2535  &        0.861     &     0.294  &         0.769        &       -1.463    &        1.970     \\\\\n\\textbf{X5}    &       1.5933  &        1.669     &     0.954  &         0.343        &       -1.733    &        4.920     \\\\\n\\bottomrule\n\\end{tabular}\n\\begin{tabular}{lclc}\n\\textbf{Omnibus:}       & 11.757 & \\textbf{  Durbin-Watson:     } &    2.213  \\\\\n\\textbf{Prob(Omnibus):} &  0.003 & \\textbf{  Jarque-Bera (JB):  } &   14.171  \\\\\n\\textbf{Skew:}          & -0.701 & \\textbf{  Prob(JB):          } & 0.000837  \\\\\n\\textbf{Kurtosis:}      &  4.512 & \\textbf{  Cond. No.          } &     33.9  \\\\\n\\bottomrule\n\\end{tabular}\n%\\caption{OLS Regression Results}\n\\end{center}\n\nNotes: \\newline\n [1] Standard Errors assume that the covariance matrix of the errors is correctly specified."
          },
          "metadata": {},
          "execution_count": 15
        }
      ],
      "source": [
        "model = sm.OLS(y_train, X_train_wc).fit()\n",
        "model.summary()"
      ]
    },
    {
      "cell_type": "markdown",
      "metadata": {
        "id": "LnpftpMxIZBd"
      },
      "source": [
        "----"
      ]
    },
    {
      "cell_type": "markdown",
      "metadata": {
        "id": "A2ig5TlMIZBd"
      },
      "source": [
        "# A) Training the models\n",
        "\n",
        "In this section we will train 4 different models:\n",
        "1. Linear regression (model_linear)\n",
        "2. Ridge regression (model_ridge)\n",
        "3. Lasso regression (model_lasso)\n",
        "4. Elastic Net regression (model_net)"
      ]
    },
    {
      "cell_type": "code",
      "execution_count": 16,
      "metadata": {
        "id": "D-HZewHxIZBd"
      },
      "outputs": [],
      "source": [
        "from sklearn.linear_model import LinearRegression, Ridge,RidgeCV, Lasso, LassoCV, ElasticNet, ElasticNetCV"
      ]
    },
    {
      "cell_type": "code",
      "execution_count": 17,
      "metadata": {
        "id": "_2N0s7IKIZBe"
      },
      "outputs": [],
      "source": [
        "model_linear = LinearRegression()\n",
        "model_ridge = Ridge(alpha=0)\n",
        "model_lasso = Lasso(alpha=0)\n",
        "model_net = ElasticNet(alpha=0)"
      ]
    },
    {
      "cell_type": "code",
      "execution_count": 18,
      "metadata": {
        "id": "TKRyVmhpIZBe"
      },
      "outputs": [],
      "source": [
        "y_hat_linear= model_linear.fit(X_train, y_train).predict(X_test)\n",
        "y_hat_ridge = model_ridge.fit(X_train, y_train).predict(X_test)\n",
        "y_hat_lasso = model_lasso.fit(X_train, y_train).predict(X_test)# here all alphas are set to 0,so all Y-hats are the same\n",
        "y_hat_net   = model_net.fit(X_train, y_train).predict(X_test) #After fitting the model to the training data, the predict() method is used to generate predictions for the target variable using the testing data (X_test).\n",
        "#These predictions are stored in the variable y_hat_linear."
      ]
    },
    {
      "cell_type": "code",
      "execution_count": 19,
      "metadata": {
        "colab": {
          "base_uri": "https://localhost:8080/",
          "height": 206
        },
        "id": "F1NU1QwnIZBe",
        "outputId": "be2ac633-a025-4900-bf62-cb0bf7490744"
      },
      "outputs": [
        {
          "output_type": "execute_result",
          "data": {
            "text/plain": [
              "      y_test  y_hat_linear  y_hat_ridge  y_hat_lasso  y_hat_net\n",
              "88  1.307243      0.171067     0.171067     0.171067   0.171067\n",
              "4  -0.404102     -0.079686    -0.079686    -0.079686  -0.079686\n",
              "62 -1.055680     -0.180921    -0.180921    -0.180921  -0.180921\n",
              "63  2.538916      2.344482     2.344482     2.344482   2.344482\n",
              "48  1.144605     -0.078630    -0.078630    -0.078630  -0.078630"
            ],
            "text/html": [
              "\n",
              "  <div id=\"df-16cacec7-6691-4c32-900f-06a457d5c46f\" class=\"colab-df-container\">\n",
              "    <div>\n",
              "<style scoped>\n",
              "    .dataframe tbody tr th:only-of-type {\n",
              "        vertical-align: middle;\n",
              "    }\n",
              "\n",
              "    .dataframe tbody tr th {\n",
              "        vertical-align: top;\n",
              "    }\n",
              "\n",
              "    .dataframe thead th {\n",
              "        text-align: right;\n",
              "    }\n",
              "</style>\n",
              "<table border=\"1\" class=\"dataframe\">\n",
              "  <thead>\n",
              "    <tr style=\"text-align: right;\">\n",
              "      <th></th>\n",
              "      <th>y_test</th>\n",
              "      <th>y_hat_linear</th>\n",
              "      <th>y_hat_ridge</th>\n",
              "      <th>y_hat_lasso</th>\n",
              "      <th>y_hat_net</th>\n",
              "    </tr>\n",
              "  </thead>\n",
              "  <tbody>\n",
              "    <tr>\n",
              "      <th>88</th>\n",
              "      <td>1.307243</td>\n",
              "      <td>0.171067</td>\n",
              "      <td>0.171067</td>\n",
              "      <td>0.171067</td>\n",
              "      <td>0.171067</td>\n",
              "    </tr>\n",
              "    <tr>\n",
              "      <th>4</th>\n",
              "      <td>-0.404102</td>\n",
              "      <td>-0.079686</td>\n",
              "      <td>-0.079686</td>\n",
              "      <td>-0.079686</td>\n",
              "      <td>-0.079686</td>\n",
              "    </tr>\n",
              "    <tr>\n",
              "      <th>62</th>\n",
              "      <td>-1.055680</td>\n",
              "      <td>-0.180921</td>\n",
              "      <td>-0.180921</td>\n",
              "      <td>-0.180921</td>\n",
              "      <td>-0.180921</td>\n",
              "    </tr>\n",
              "    <tr>\n",
              "      <th>63</th>\n",
              "      <td>2.538916</td>\n",
              "      <td>2.344482</td>\n",
              "      <td>2.344482</td>\n",
              "      <td>2.344482</td>\n",
              "      <td>2.344482</td>\n",
              "    </tr>\n",
              "    <tr>\n",
              "      <th>48</th>\n",
              "      <td>1.144605</td>\n",
              "      <td>-0.078630</td>\n",
              "      <td>-0.078630</td>\n",
              "      <td>-0.078630</td>\n",
              "      <td>-0.078630</td>\n",
              "    </tr>\n",
              "  </tbody>\n",
              "</table>\n",
              "</div>\n",
              "    <div class=\"colab-df-buttons\">\n",
              "\n",
              "  <div class=\"colab-df-container\">\n",
              "    <button class=\"colab-df-convert\" onclick=\"convertToInteractive('df-16cacec7-6691-4c32-900f-06a457d5c46f')\"\n",
              "            title=\"Convert this dataframe to an interactive table.\"\n",
              "            style=\"display:none;\">\n",
              "\n",
              "  <svg xmlns=\"http://www.w3.org/2000/svg\" height=\"24px\" viewBox=\"0 -960 960 960\">\n",
              "    <path d=\"M120-120v-720h720v720H120Zm60-500h600v-160H180v160Zm220 220h160v-160H400v160Zm0 220h160v-160H400v160ZM180-400h160v-160H180v160Zm440 0h160v-160H620v160ZM180-180h160v-160H180v160Zm440 0h160v-160H620v160Z\"/>\n",
              "  </svg>\n",
              "    </button>\n",
              "\n",
              "  <style>\n",
              "    .colab-df-container {\n",
              "      display:flex;\n",
              "      gap: 12px;\n",
              "    }\n",
              "\n",
              "    .colab-df-convert {\n",
              "      background-color: #E8F0FE;\n",
              "      border: none;\n",
              "      border-radius: 50%;\n",
              "      cursor: pointer;\n",
              "      display: none;\n",
              "      fill: #1967D2;\n",
              "      height: 32px;\n",
              "      padding: 0 0 0 0;\n",
              "      width: 32px;\n",
              "    }\n",
              "\n",
              "    .colab-df-convert:hover {\n",
              "      background-color: #E2EBFA;\n",
              "      box-shadow: 0px 1px 2px rgba(60, 64, 67, 0.3), 0px 1px 3px 1px rgba(60, 64, 67, 0.15);\n",
              "      fill: #174EA6;\n",
              "    }\n",
              "\n",
              "    .colab-df-buttons div {\n",
              "      margin-bottom: 4px;\n",
              "    }\n",
              "\n",
              "    [theme=dark] .colab-df-convert {\n",
              "      background-color: #3B4455;\n",
              "      fill: #D2E3FC;\n",
              "    }\n",
              "\n",
              "    [theme=dark] .colab-df-convert:hover {\n",
              "      background-color: #434B5C;\n",
              "      box-shadow: 0px 1px 3px 1px rgba(0, 0, 0, 0.15);\n",
              "      filter: drop-shadow(0px 1px 2px rgba(0, 0, 0, 0.3));\n",
              "      fill: #FFFFFF;\n",
              "    }\n",
              "  </style>\n",
              "\n",
              "    <script>\n",
              "      const buttonEl =\n",
              "        document.querySelector('#df-16cacec7-6691-4c32-900f-06a457d5c46f button.colab-df-convert');\n",
              "      buttonEl.style.display =\n",
              "        google.colab.kernel.accessAllowed ? 'block' : 'none';\n",
              "\n",
              "      async function convertToInteractive(key) {\n",
              "        const element = document.querySelector('#df-16cacec7-6691-4c32-900f-06a457d5c46f');\n",
              "        const dataTable =\n",
              "          await google.colab.kernel.invokeFunction('convertToInteractive',\n",
              "                                                    [key], {});\n",
              "        if (!dataTable) return;\n",
              "\n",
              "        const docLinkHtml = 'Like what you see? Visit the ' +\n",
              "          '<a target=\"_blank\" href=https://colab.research.google.com/notebooks/data_table.ipynb>data table notebook</a>'\n",
              "          + ' to learn more about interactive tables.';\n",
              "        element.innerHTML = '';\n",
              "        dataTable['output_type'] = 'display_data';\n",
              "        await google.colab.output.renderOutput(dataTable, element);\n",
              "        const docLink = document.createElement('div');\n",
              "        docLink.innerHTML = docLinkHtml;\n",
              "        element.appendChild(docLink);\n",
              "      }\n",
              "    </script>\n",
              "  </div>\n",
              "\n",
              "\n",
              "<div id=\"df-856ac42e-b959-434a-9dc1-e3a9361b2e63\">\n",
              "  <button class=\"colab-df-quickchart\" onclick=\"quickchart('df-856ac42e-b959-434a-9dc1-e3a9361b2e63')\"\n",
              "            title=\"Suggest charts\"\n",
              "            style=\"display:none;\">\n",
              "\n",
              "<svg xmlns=\"http://www.w3.org/2000/svg\" height=\"24px\"viewBox=\"0 0 24 24\"\n",
              "     width=\"24px\">\n",
              "    <g>\n",
              "        <path d=\"M19 3H5c-1.1 0-2 .9-2 2v14c0 1.1.9 2 2 2h14c1.1 0 2-.9 2-2V5c0-1.1-.9-2-2-2zM9 17H7v-7h2v7zm4 0h-2V7h2v10zm4 0h-2v-4h2v4z\"/>\n",
              "    </g>\n",
              "</svg>\n",
              "  </button>\n",
              "\n",
              "<style>\n",
              "  .colab-df-quickchart {\n",
              "      --bg-color: #E8F0FE;\n",
              "      --fill-color: #1967D2;\n",
              "      --hover-bg-color: #E2EBFA;\n",
              "      --hover-fill-color: #174EA6;\n",
              "      --disabled-fill-color: #AAA;\n",
              "      --disabled-bg-color: #DDD;\n",
              "  }\n",
              "\n",
              "  [theme=dark] .colab-df-quickchart {\n",
              "      --bg-color: #3B4455;\n",
              "      --fill-color: #D2E3FC;\n",
              "      --hover-bg-color: #434B5C;\n",
              "      --hover-fill-color: #FFFFFF;\n",
              "      --disabled-bg-color: #3B4455;\n",
              "      --disabled-fill-color: #666;\n",
              "  }\n",
              "\n",
              "  .colab-df-quickchart {\n",
              "    background-color: var(--bg-color);\n",
              "    border: none;\n",
              "    border-radius: 50%;\n",
              "    cursor: pointer;\n",
              "    display: none;\n",
              "    fill: var(--fill-color);\n",
              "    height: 32px;\n",
              "    padding: 0;\n",
              "    width: 32px;\n",
              "  }\n",
              "\n",
              "  .colab-df-quickchart:hover {\n",
              "    background-color: var(--hover-bg-color);\n",
              "    box-shadow: 0 1px 2px rgba(60, 64, 67, 0.3), 0 1px 3px 1px rgba(60, 64, 67, 0.15);\n",
              "    fill: var(--button-hover-fill-color);\n",
              "  }\n",
              "\n",
              "  .colab-df-quickchart-complete:disabled,\n",
              "  .colab-df-quickchart-complete:disabled:hover {\n",
              "    background-color: var(--disabled-bg-color);\n",
              "    fill: var(--disabled-fill-color);\n",
              "    box-shadow: none;\n",
              "  }\n",
              "\n",
              "  .colab-df-spinner {\n",
              "    border: 2px solid var(--fill-color);\n",
              "    border-color: transparent;\n",
              "    border-bottom-color: var(--fill-color);\n",
              "    animation:\n",
              "      spin 1s steps(1) infinite;\n",
              "  }\n",
              "\n",
              "  @keyframes spin {\n",
              "    0% {\n",
              "      border-color: transparent;\n",
              "      border-bottom-color: var(--fill-color);\n",
              "      border-left-color: var(--fill-color);\n",
              "    }\n",
              "    20% {\n",
              "      border-color: transparent;\n",
              "      border-left-color: var(--fill-color);\n",
              "      border-top-color: var(--fill-color);\n",
              "    }\n",
              "    30% {\n",
              "      border-color: transparent;\n",
              "      border-left-color: var(--fill-color);\n",
              "      border-top-color: var(--fill-color);\n",
              "      border-right-color: var(--fill-color);\n",
              "    }\n",
              "    40% {\n",
              "      border-color: transparent;\n",
              "      border-right-color: var(--fill-color);\n",
              "      border-top-color: var(--fill-color);\n",
              "    }\n",
              "    60% {\n",
              "      border-color: transparent;\n",
              "      border-right-color: var(--fill-color);\n",
              "    }\n",
              "    80% {\n",
              "      border-color: transparent;\n",
              "      border-right-color: var(--fill-color);\n",
              "      border-bottom-color: var(--fill-color);\n",
              "    }\n",
              "    90% {\n",
              "      border-color: transparent;\n",
              "      border-bottom-color: var(--fill-color);\n",
              "    }\n",
              "  }\n",
              "</style>\n",
              "\n",
              "  <script>\n",
              "    async function quickchart(key) {\n",
              "      const quickchartButtonEl =\n",
              "        document.querySelector('#' + key + ' button');\n",
              "      quickchartButtonEl.disabled = true;  // To prevent multiple clicks.\n",
              "      quickchartButtonEl.classList.add('colab-df-spinner');\n",
              "      try {\n",
              "        const charts = await google.colab.kernel.invokeFunction(\n",
              "            'suggestCharts', [key], {});\n",
              "      } catch (error) {\n",
              "        console.error('Error during call to suggestCharts:', error);\n",
              "      }\n",
              "      quickchartButtonEl.classList.remove('colab-df-spinner');\n",
              "      quickchartButtonEl.classList.add('colab-df-quickchart-complete');\n",
              "    }\n",
              "    (() => {\n",
              "      let quickchartButtonEl =\n",
              "        document.querySelector('#df-856ac42e-b959-434a-9dc1-e3a9361b2e63 button');\n",
              "      quickchartButtonEl.style.display =\n",
              "        google.colab.kernel.accessAllowed ? 'block' : 'none';\n",
              "    })();\n",
              "  </script>\n",
              "</div>\n",
              "\n",
              "    </div>\n",
              "  </div>\n"
            ],
            "application/vnd.google.colaboratory.intrinsic+json": {
              "type": "dataframe",
              "variable_name": "df_predictions",
              "summary": "{\n  \"name\": \"df_predictions\",\n  \"rows\": 20,\n  \"fields\": [\n    {\n      \"column\": \"y_test\",\n      \"properties\": {\n        \"dtype\": \"number\",\n        \"std\": 1.703516140420224,\n        \"min\": -5.812899939065308,\n        \"max\": 2.538915857004536,\n        \"samples\": [\n          1.3072433491795288,\n          -1.107648152380922,\n          2.050202456455551\n        ],\n        \"num_unique_values\": 20,\n        \"semantic_type\": \"\",\n        \"description\": \"\"\n      }\n    },\n    {\n      \"column\": \"y_hat_linear\",\n      \"properties\": {\n        \"dtype\": \"number\",\n        \"std\": 0.9733157803663945,\n        \"min\": -0.29194952804180463,\n        \"max\": 2.7328480676723617,\n        \"samples\": [\n          0.17106671516957145,\n          -0.1936749898941353,\n          2.541832854626709\n        ],\n        \"num_unique_values\": 20,\n        \"semantic_type\": \"\",\n        \"description\": \"\"\n      }\n    },\n    {\n      \"column\": \"y_hat_ridge\",\n      \"properties\": {\n        \"dtype\": \"number\",\n        \"std\": 0.973315780366547,\n        \"min\": -0.29194952804180613,\n        \"max\": 2.7328480676735207,\n        \"samples\": [\n          0.17106671516957278,\n          -0.1936749898941314,\n          2.5418328546267084\n        ],\n        \"num_unique_values\": 20,\n        \"semantic_type\": \"\",\n        \"description\": \"\"\n      }\n    },\n    {\n      \"column\": \"y_hat_lasso\",\n      \"properties\": {\n        \"dtype\": \"number\",\n        \"std\": 0.9733157692760279,\n        \"min\": -0.2919495277725733,\n        \"max\": 2.7328479849678136,\n        \"samples\": [\n          0.17106671543232907,\n          -0.1936749900074108,\n          2.5418328538380672\n        ],\n        \"num_unique_values\": 20,\n        \"semantic_type\": \"\",\n        \"description\": \"\"\n      }\n    },\n    {\n      \"column\": \"y_hat_net\",\n      \"properties\": {\n        \"dtype\": \"number\",\n        \"std\": 0.9733157692760279,\n        \"min\": -0.2919495277725733,\n        \"max\": 2.7328479849678136,\n        \"samples\": [\n          0.17106671543232907,\n          -0.1936749900074108,\n          2.5418328538380672\n        ],\n        \"num_unique_values\": 20,\n        \"semantic_type\": \"\",\n        \"description\": \"\"\n      }\n    }\n  ]\n}"
            }
          },
          "metadata": {},
          "execution_count": 19
        }
      ],
      "source": [
        "df_predictions = pd.DataFrame({'y_test':y_test,\n",
        "                               'y_hat_linear':y_hat_linear,\n",
        "                               'y_hat_ridge':y_hat_ridge,\n",
        "                               'y_hat_lasso':y_hat_lasso,\n",
        "                               'y_hat_net':y_hat_net})\n",
        "df_predictions.head()"
      ]
    },
    {
      "cell_type": "markdown",
      "metadata": {
        "id": "4SxNmWXqIZBe"
      },
      "source": [
        "### coefficients"
      ]
    },
    {
      "cell_type": "code",
      "execution_count": 20,
      "metadata": {
        "colab": {
          "base_uri": "https://localhost:8080/"
        },
        "id": "Pvei20A4IZBe",
        "outputId": "6fc75bd9-0824-4340-d94e-7576cc8014d7"
      },
      "outputs": [
        {
          "output_type": "execute_result",
          "data": {
            "text/plain": [
              "Index(['X1', 'X2', 'X3', 'X4', 'X5'], dtype='object')"
            ]
          },
          "metadata": {},
          "execution_count": 20
        }
      ],
      "source": [
        "df.drop('y', axis=1, inplace=False).columns"
      ]
    },
    {
      "cell_type": "code",
      "execution_count": 21,
      "metadata": {
        "colab": {
          "base_uri": "https://localhost:8080/",
          "height": 206
        },
        "id": "TLWNXAUHIZBf",
        "outputId": "066a72df-aed8-4253-a05e-e437f1569c30"
      },
      "outputs": [
        {
          "output_type": "execute_result",
          "data": {
            "text/plain": [
              "  Features  model_lin  model_ridge  model_lasso  model_net\n",
              "0       X1   0.537047     0.537047     0.537047   0.537047\n",
              "1       X2   0.103655     0.103655     0.103655   0.103655\n",
              "2       X3  -2.133872    -2.133872    -2.133872  -2.133872\n",
              "3       X4   0.253492     0.253492     0.253492   0.253492\n",
              "4       X5   1.593336     1.593336     1.593336   1.593336"
            ],
            "text/html": [
              "\n",
              "  <div id=\"df-bdd9d420-8c24-47c1-b825-b955166d6d9d\" class=\"colab-df-container\">\n",
              "    <div>\n",
              "<style scoped>\n",
              "    .dataframe tbody tr th:only-of-type {\n",
              "        vertical-align: middle;\n",
              "    }\n",
              "\n",
              "    .dataframe tbody tr th {\n",
              "        vertical-align: top;\n",
              "    }\n",
              "\n",
              "    .dataframe thead th {\n",
              "        text-align: right;\n",
              "    }\n",
              "</style>\n",
              "<table border=\"1\" class=\"dataframe\">\n",
              "  <thead>\n",
              "    <tr style=\"text-align: right;\">\n",
              "      <th></th>\n",
              "      <th>Features</th>\n",
              "      <th>model_lin</th>\n",
              "      <th>model_ridge</th>\n",
              "      <th>model_lasso</th>\n",
              "      <th>model_net</th>\n",
              "    </tr>\n",
              "  </thead>\n",
              "  <tbody>\n",
              "    <tr>\n",
              "      <th>0</th>\n",
              "      <td>X1</td>\n",
              "      <td>0.537047</td>\n",
              "      <td>0.537047</td>\n",
              "      <td>0.537047</td>\n",
              "      <td>0.537047</td>\n",
              "    </tr>\n",
              "    <tr>\n",
              "      <th>1</th>\n",
              "      <td>X2</td>\n",
              "      <td>0.103655</td>\n",
              "      <td>0.103655</td>\n",
              "      <td>0.103655</td>\n",
              "      <td>0.103655</td>\n",
              "    </tr>\n",
              "    <tr>\n",
              "      <th>2</th>\n",
              "      <td>X3</td>\n",
              "      <td>-2.133872</td>\n",
              "      <td>-2.133872</td>\n",
              "      <td>-2.133872</td>\n",
              "      <td>-2.133872</td>\n",
              "    </tr>\n",
              "    <tr>\n",
              "      <th>3</th>\n",
              "      <td>X4</td>\n",
              "      <td>0.253492</td>\n",
              "      <td>0.253492</td>\n",
              "      <td>0.253492</td>\n",
              "      <td>0.253492</td>\n",
              "    </tr>\n",
              "    <tr>\n",
              "      <th>4</th>\n",
              "      <td>X5</td>\n",
              "      <td>1.593336</td>\n",
              "      <td>1.593336</td>\n",
              "      <td>1.593336</td>\n",
              "      <td>1.593336</td>\n",
              "    </tr>\n",
              "  </tbody>\n",
              "</table>\n",
              "</div>\n",
              "    <div class=\"colab-df-buttons\">\n",
              "\n",
              "  <div class=\"colab-df-container\">\n",
              "    <button class=\"colab-df-convert\" onclick=\"convertToInteractive('df-bdd9d420-8c24-47c1-b825-b955166d6d9d')\"\n",
              "            title=\"Convert this dataframe to an interactive table.\"\n",
              "            style=\"display:none;\">\n",
              "\n",
              "  <svg xmlns=\"http://www.w3.org/2000/svg\" height=\"24px\" viewBox=\"0 -960 960 960\">\n",
              "    <path d=\"M120-120v-720h720v720H120Zm60-500h600v-160H180v160Zm220 220h160v-160H400v160Zm0 220h160v-160H400v160ZM180-400h160v-160H180v160Zm440 0h160v-160H620v160ZM180-180h160v-160H180v160Zm440 0h160v-160H620v160Z\"/>\n",
              "  </svg>\n",
              "    </button>\n",
              "\n",
              "  <style>\n",
              "    .colab-df-container {\n",
              "      display:flex;\n",
              "      gap: 12px;\n",
              "    }\n",
              "\n",
              "    .colab-df-convert {\n",
              "      background-color: #E8F0FE;\n",
              "      border: none;\n",
              "      border-radius: 50%;\n",
              "      cursor: pointer;\n",
              "      display: none;\n",
              "      fill: #1967D2;\n",
              "      height: 32px;\n",
              "      padding: 0 0 0 0;\n",
              "      width: 32px;\n",
              "    }\n",
              "\n",
              "    .colab-df-convert:hover {\n",
              "      background-color: #E2EBFA;\n",
              "      box-shadow: 0px 1px 2px rgba(60, 64, 67, 0.3), 0px 1px 3px 1px rgba(60, 64, 67, 0.15);\n",
              "      fill: #174EA6;\n",
              "    }\n",
              "\n",
              "    .colab-df-buttons div {\n",
              "      margin-bottom: 4px;\n",
              "    }\n",
              "\n",
              "    [theme=dark] .colab-df-convert {\n",
              "      background-color: #3B4455;\n",
              "      fill: #D2E3FC;\n",
              "    }\n",
              "\n",
              "    [theme=dark] .colab-df-convert:hover {\n",
              "      background-color: #434B5C;\n",
              "      box-shadow: 0px 1px 3px 1px rgba(0, 0, 0, 0.15);\n",
              "      filter: drop-shadow(0px 1px 2px rgba(0, 0, 0, 0.3));\n",
              "      fill: #FFFFFF;\n",
              "    }\n",
              "  </style>\n",
              "\n",
              "    <script>\n",
              "      const buttonEl =\n",
              "        document.querySelector('#df-bdd9d420-8c24-47c1-b825-b955166d6d9d button.colab-df-convert');\n",
              "      buttonEl.style.display =\n",
              "        google.colab.kernel.accessAllowed ? 'block' : 'none';\n",
              "\n",
              "      async function convertToInteractive(key) {\n",
              "        const element = document.querySelector('#df-bdd9d420-8c24-47c1-b825-b955166d6d9d');\n",
              "        const dataTable =\n",
              "          await google.colab.kernel.invokeFunction('convertToInteractive',\n",
              "                                                    [key], {});\n",
              "        if (!dataTable) return;\n",
              "\n",
              "        const docLinkHtml = 'Like what you see? Visit the ' +\n",
              "          '<a target=\"_blank\" href=https://colab.research.google.com/notebooks/data_table.ipynb>data table notebook</a>'\n",
              "          + ' to learn more about interactive tables.';\n",
              "        element.innerHTML = '';\n",
              "        dataTable['output_type'] = 'display_data';\n",
              "        await google.colab.output.renderOutput(dataTable, element);\n",
              "        const docLink = document.createElement('div');\n",
              "        docLink.innerHTML = docLinkHtml;\n",
              "        element.appendChild(docLink);\n",
              "      }\n",
              "    </script>\n",
              "  </div>\n",
              "\n",
              "\n",
              "<div id=\"df-01e4da5b-9918-4369-996a-25e497dde9d7\">\n",
              "  <button class=\"colab-df-quickchart\" onclick=\"quickchart('df-01e4da5b-9918-4369-996a-25e497dde9d7')\"\n",
              "            title=\"Suggest charts\"\n",
              "            style=\"display:none;\">\n",
              "\n",
              "<svg xmlns=\"http://www.w3.org/2000/svg\" height=\"24px\"viewBox=\"0 0 24 24\"\n",
              "     width=\"24px\">\n",
              "    <g>\n",
              "        <path d=\"M19 3H5c-1.1 0-2 .9-2 2v14c0 1.1.9 2 2 2h14c1.1 0 2-.9 2-2V5c0-1.1-.9-2-2-2zM9 17H7v-7h2v7zm4 0h-2V7h2v10zm4 0h-2v-4h2v4z\"/>\n",
              "    </g>\n",
              "</svg>\n",
              "  </button>\n",
              "\n",
              "<style>\n",
              "  .colab-df-quickchart {\n",
              "      --bg-color: #E8F0FE;\n",
              "      --fill-color: #1967D2;\n",
              "      --hover-bg-color: #E2EBFA;\n",
              "      --hover-fill-color: #174EA6;\n",
              "      --disabled-fill-color: #AAA;\n",
              "      --disabled-bg-color: #DDD;\n",
              "  }\n",
              "\n",
              "  [theme=dark] .colab-df-quickchart {\n",
              "      --bg-color: #3B4455;\n",
              "      --fill-color: #D2E3FC;\n",
              "      --hover-bg-color: #434B5C;\n",
              "      --hover-fill-color: #FFFFFF;\n",
              "      --disabled-bg-color: #3B4455;\n",
              "      --disabled-fill-color: #666;\n",
              "  }\n",
              "\n",
              "  .colab-df-quickchart {\n",
              "    background-color: var(--bg-color);\n",
              "    border: none;\n",
              "    border-radius: 50%;\n",
              "    cursor: pointer;\n",
              "    display: none;\n",
              "    fill: var(--fill-color);\n",
              "    height: 32px;\n",
              "    padding: 0;\n",
              "    width: 32px;\n",
              "  }\n",
              "\n",
              "  .colab-df-quickchart:hover {\n",
              "    background-color: var(--hover-bg-color);\n",
              "    box-shadow: 0 1px 2px rgba(60, 64, 67, 0.3), 0 1px 3px 1px rgba(60, 64, 67, 0.15);\n",
              "    fill: var(--button-hover-fill-color);\n",
              "  }\n",
              "\n",
              "  .colab-df-quickchart-complete:disabled,\n",
              "  .colab-df-quickchart-complete:disabled:hover {\n",
              "    background-color: var(--disabled-bg-color);\n",
              "    fill: var(--disabled-fill-color);\n",
              "    box-shadow: none;\n",
              "  }\n",
              "\n",
              "  .colab-df-spinner {\n",
              "    border: 2px solid var(--fill-color);\n",
              "    border-color: transparent;\n",
              "    border-bottom-color: var(--fill-color);\n",
              "    animation:\n",
              "      spin 1s steps(1) infinite;\n",
              "  }\n",
              "\n",
              "  @keyframes spin {\n",
              "    0% {\n",
              "      border-color: transparent;\n",
              "      border-bottom-color: var(--fill-color);\n",
              "      border-left-color: var(--fill-color);\n",
              "    }\n",
              "    20% {\n",
              "      border-color: transparent;\n",
              "      border-left-color: var(--fill-color);\n",
              "      border-top-color: var(--fill-color);\n",
              "    }\n",
              "    30% {\n",
              "      border-color: transparent;\n",
              "      border-left-color: var(--fill-color);\n",
              "      border-top-color: var(--fill-color);\n",
              "      border-right-color: var(--fill-color);\n",
              "    }\n",
              "    40% {\n",
              "      border-color: transparent;\n",
              "      border-right-color: var(--fill-color);\n",
              "      border-top-color: var(--fill-color);\n",
              "    }\n",
              "    60% {\n",
              "      border-color: transparent;\n",
              "      border-right-color: var(--fill-color);\n",
              "    }\n",
              "    80% {\n",
              "      border-color: transparent;\n",
              "      border-right-color: var(--fill-color);\n",
              "      border-bottom-color: var(--fill-color);\n",
              "    }\n",
              "    90% {\n",
              "      border-color: transparent;\n",
              "      border-bottom-color: var(--fill-color);\n",
              "    }\n",
              "  }\n",
              "</style>\n",
              "\n",
              "  <script>\n",
              "    async function quickchart(key) {\n",
              "      const quickchartButtonEl =\n",
              "        document.querySelector('#' + key + ' button');\n",
              "      quickchartButtonEl.disabled = true;  // To prevent multiple clicks.\n",
              "      quickchartButtonEl.classList.add('colab-df-spinner');\n",
              "      try {\n",
              "        const charts = await google.colab.kernel.invokeFunction(\n",
              "            'suggestCharts', [key], {});\n",
              "      } catch (error) {\n",
              "        console.error('Error during call to suggestCharts:', error);\n",
              "      }\n",
              "      quickchartButtonEl.classList.remove('colab-df-spinner');\n",
              "      quickchartButtonEl.classList.add('colab-df-quickchart-complete');\n",
              "    }\n",
              "    (() => {\n",
              "      let quickchartButtonEl =\n",
              "        document.querySelector('#df-01e4da5b-9918-4369-996a-25e497dde9d7 button');\n",
              "      quickchartButtonEl.style.display =\n",
              "        google.colab.kernel.accessAllowed ? 'block' : 'none';\n",
              "    })();\n",
              "  </script>\n",
              "</div>\n",
              "\n",
              "  <div id=\"id_bb409c7d-5008-49e2-9781-adcb7aedc525\">\n",
              "    <style>\n",
              "      .colab-df-generate {\n",
              "        background-color: #E8F0FE;\n",
              "        border: none;\n",
              "        border-radius: 50%;\n",
              "        cursor: pointer;\n",
              "        display: none;\n",
              "        fill: #1967D2;\n",
              "        height: 32px;\n",
              "        padding: 0 0 0 0;\n",
              "        width: 32px;\n",
              "      }\n",
              "\n",
              "      .colab-df-generate:hover {\n",
              "        background-color: #E2EBFA;\n",
              "        box-shadow: 0px 1px 2px rgba(60, 64, 67, 0.3), 0px 1px 3px 1px rgba(60, 64, 67, 0.15);\n",
              "        fill: #174EA6;\n",
              "      }\n",
              "\n",
              "      [theme=dark] .colab-df-generate {\n",
              "        background-color: #3B4455;\n",
              "        fill: #D2E3FC;\n",
              "      }\n",
              "\n",
              "      [theme=dark] .colab-df-generate:hover {\n",
              "        background-color: #434B5C;\n",
              "        box-shadow: 0px 1px 3px 1px rgba(0, 0, 0, 0.15);\n",
              "        filter: drop-shadow(0px 1px 2px rgba(0, 0, 0, 0.3));\n",
              "        fill: #FFFFFF;\n",
              "      }\n",
              "    </style>\n",
              "    <button class=\"colab-df-generate\" onclick=\"generateWithVariable('coefficients')\"\n",
              "            title=\"Generate code using this dataframe.\"\n",
              "            style=\"display:none;\">\n",
              "\n",
              "  <svg xmlns=\"http://www.w3.org/2000/svg\" height=\"24px\"viewBox=\"0 0 24 24\"\n",
              "       width=\"24px\">\n",
              "    <path d=\"M7,19H8.4L18.45,9,17,7.55,7,17.6ZM5,21V16.75L18.45,3.32a2,2,0,0,1,2.83,0l1.4,1.43a1.91,1.91,0,0,1,.58,1.4,1.91,1.91,0,0,1-.58,1.4L9.25,21ZM18.45,9,17,7.55Zm-12,3A5.31,5.31,0,0,0,4.9,8.1,5.31,5.31,0,0,0,1,6.5,5.31,5.31,0,0,0,4.9,4.9,5.31,5.31,0,0,0,6.5,1,5.31,5.31,0,0,0,8.1,4.9,5.31,5.31,0,0,0,12,6.5,5.46,5.46,0,0,0,6.5,12Z\"/>\n",
              "  </svg>\n",
              "    </button>\n",
              "    <script>\n",
              "      (() => {\n",
              "      const buttonEl =\n",
              "        document.querySelector('#id_bb409c7d-5008-49e2-9781-adcb7aedc525 button.colab-df-generate');\n",
              "      buttonEl.style.display =\n",
              "        google.colab.kernel.accessAllowed ? 'block' : 'none';\n",
              "\n",
              "      buttonEl.onclick = () => {\n",
              "        google.colab.notebook.generateWithVariable('coefficients');\n",
              "      }\n",
              "      })();\n",
              "    </script>\n",
              "  </div>\n",
              "\n",
              "    </div>\n",
              "  </div>\n"
            ],
            "application/vnd.google.colaboratory.intrinsic+json": {
              "type": "dataframe",
              "variable_name": "coefficients",
              "summary": "{\n  \"name\": \"coefficients\",\n  \"rows\": 5,\n  \"fields\": [\n    {\n      \"column\": \"Features\",\n      \"properties\": {\n        \"dtype\": \"string\",\n        \"samples\": [\n          \"X2\",\n          \"X5\",\n          \"X3\"\n        ],\n        \"num_unique_values\": 5,\n        \"semantic_type\": \"\",\n        \"description\": \"\"\n      }\n    },\n    {\n      \"column\": \"model_lin\",\n      \"properties\": {\n        \"dtype\": \"number\",\n        \"std\": 1.362950642951457,\n        \"min\": -2.133872401427852,\n        \"max\": 1.5933357762958056,\n        \"samples\": [\n          0.10365543246039577,\n          1.5933357762958056,\n          -2.133872401427852\n        ],\n        \"num_unique_values\": 5,\n        \"semantic_type\": \"\",\n        \"description\": \"\"\n      }\n    },\n    {\n      \"column\": \"model_ridge\",\n      \"properties\": {\n        \"dtype\": \"number\",\n        \"std\": 1.3629506429515366,\n        \"min\": -2.133872401427934,\n        \"max\": 1.593335776295962,\n        \"samples\": [\n          0.10365543246037497,\n          1.593335776295962,\n          -2.133872401427934\n        ],\n        \"num_unique_values\": 5,\n        \"semantic_type\": \"\",\n        \"description\": \"\"\n      }\n    },\n    {\n      \"column\": \"model_lasso\",\n      \"properties\": {\n        \"dtype\": \"number\",\n        \"std\": 1.3629506386966972,\n        \"min\": -2.133872397369138,\n        \"max\": 1.593335767663667,\n        \"samples\": [\n          0.1036554338674219,\n          1.593335767663667,\n          -2.133872397369138\n        ],\n        \"num_unique_values\": 5,\n        \"semantic_type\": \"\",\n        \"description\": \"\"\n      }\n    },\n    {\n      \"column\": \"model_net\",\n      \"properties\": {\n        \"dtype\": \"number\",\n        \"std\": 1.3629506386966972,\n        \"min\": -2.133872397369138,\n        \"max\": 1.593335767663667,\n        \"samples\": [\n          0.1036554338674219,\n          1.593335767663667,\n          -2.133872397369138\n        ],\n        \"num_unique_values\": 5,\n        \"semantic_type\": \"\",\n        \"description\": \"\"\n      }\n    }\n  ]\n}"
            }
          },
          "metadata": {},
          "execution_count": 21
        }
      ],
      "source": [
        "coefficients = pd.DataFrame({'Features':df.drop('y', axis=1, inplace=False).columns})\n",
        "coefficients['model_lin']= model_linear.coef_\n",
        "coefficients['model_ridge']= model_ridge.coef_\n",
        "coefficients['model_lasso']= model_lasso.coef_\n",
        "coefficients['model_net']= model_net.coef_\n",
        "coefficients"
      ]
    },
    {
      "cell_type": "markdown",
      "metadata": {
        "id": "MU5YKVQ5IZBf"
      },
      "source": [
        "Exercise: Why do you think if $\\alpha = 0$, all the 4 model coefficients are the same? there is no penalization happening"
      ]
    },
    {
      "cell_type": "markdown",
      "metadata": {
        "id": "-Tqz4OnIIZBf"
      },
      "source": [
        "----"
      ]
    },
    {
      "cell_type": "markdown",
      "metadata": {
        "id": "I75dJFHpIZBf"
      },
      "source": [
        "### Performance in the test set"
      ]
    },
    {
      "cell_type": "code",
      "execution_count": 22,
      "metadata": {
        "id": "hhN-W6D1ToNt",
        "outputId": "4464d7cb-fb92-43dd-d8dd-1849b7ef5e4d",
        "colab": {
          "base_uri": "https://localhost:8080/"
        }
      },
      "outputs": [
        {
          "output_type": "execute_result",
          "data": {
            "text/plain": [
              "-0.5051758896584884"
            ]
          },
          "metadata": {},
          "execution_count": 22
        }
      ],
      "source": [
        "model_linear.score(X_test, y_test)"
      ]
    },
    {
      "cell_type": "code",
      "execution_count": 23,
      "metadata": {
        "colab": {
          "base_uri": "https://localhost:8080/"
        },
        "id": "y2K7eItSIZBf",
        "outputId": "4b980fed-dc76-42b6-efbc-6f5162eab642"
      },
      "outputs": [
        {
          "output_type": "execute_result",
          "data": {
            "text/plain": [
              "2.037"
            ]
          },
          "metadata": {},
          "execution_count": 23
        }
      ],
      "source": [
        "MSE_test_lin = np.mean(np.square(df_predictions['y_test'] - df_predictions['y_hat_linear']))\n",
        "RMSE_test_lin = np.sqrt(MSE_test_lin)\n",
        "np.round(RMSE_test_lin,3)"
      ]
    },
    {
      "cell_type": "code",
      "source": [
        "from sklearn.metrics import mean_squared_error\n",
        "import numpy as np\n",
        "\n",
        "# Calculate MSE\n",
        "MSE_test_lin = mean_squared_error(df_predictions['y_test'], df_predictions['y_hat_linear'])\n",
        "\n",
        "# Calculate RMSE\n",
        "RMSE_test_lin = np.sqrt(MSE_test_lin)\n",
        "\n",
        "# Round RMSE to three decimal places\n",
        "rounded_RMSE = np.round(RMSE_test_lin, 3)\n",
        "rounded_RMSE\n"
      ],
      "metadata": {
        "colab": {
          "base_uri": "https://localhost:8080/"
        },
        "id": "1wtM__nfpwfP",
        "outputId": "47942b40-76df-49d5-ce04-ea6e67acb447"
      },
      "execution_count": 24,
      "outputs": [
        {
          "output_type": "execute_result",
          "data": {
            "text/plain": [
              "2.037"
            ]
          },
          "metadata": {},
          "execution_count": 24
        }
      ]
    },
    {
      "cell_type": "code",
      "execution_count": 25,
      "metadata": {
        "id": "mFhIJdKGToNv",
        "outputId": "55d2f2c4-9d04-473c-8d7d-a44c5abe2409",
        "colab": {
          "base_uri": "https://localhost:8080/"
        }
      },
      "outputs": [
        {
          "output_type": "execute_result",
          "data": {
            "text/plain": [
              "-0.5051758896588487"
            ]
          },
          "metadata": {},
          "execution_count": 25
        }
      ],
      "source": [
        "model_ridge.score(X_test, y_test)"
      ]
    },
    {
      "cell_type": "code",
      "execution_count": 26,
      "metadata": {
        "colab": {
          "base_uri": "https://localhost:8080/"
        },
        "id": "sCNH2oKkIZBf",
        "outputId": "43283ad3-7dda-44e6-e544-ae139543c8b5"
      },
      "outputs": [
        {
          "output_type": "execute_result",
          "data": {
            "text/plain": [
              "2.037"
            ]
          },
          "metadata": {},
          "execution_count": 26
        }
      ],
      "source": [
        "MSE_test_ridge = np.mean(np.square(df_predictions['y_test'] - df_predictions['y_hat_ridge']))\n",
        "RMSE_test_ridge = np.sqrt(MSE_test_ridge)\n",
        "np.round(RMSE_test_ridge,3)"
      ]
    },
    {
      "cell_type": "code",
      "execution_count": 27,
      "metadata": {
        "id": "k7o2ZgMGToNx",
        "outputId": "40b30a8e-cce6-403b-d8a7-ca46125dd639",
        "colab": {
          "base_uri": "https://localhost:8080/"
        }
      },
      "outputs": [
        {
          "output_type": "execute_result",
          "data": {
            "text/plain": [
              "-0.5051758639724002"
            ]
          },
          "metadata": {},
          "execution_count": 27
        }
      ],
      "source": [
        "model_lasso.score(X_test, y_test)"
      ]
    },
    {
      "cell_type": "code",
      "execution_count": 28,
      "metadata": {
        "colab": {
          "base_uri": "https://localhost:8080/"
        },
        "id": "tNH-HckRIZBg",
        "outputId": "bbad3a64-69f7-4614-f71a-4c0a7ac066c2"
      },
      "outputs": [
        {
          "output_type": "execute_result",
          "data": {
            "text/plain": [
              "2.037"
            ]
          },
          "metadata": {},
          "execution_count": 28
        }
      ],
      "source": [
        "MSE_test_lasso = np.mean(np.square(df_predictions['y_test'] - df_predictions['y_hat_lasso']))\n",
        "RMSE_test_lasso = np.sqrt(MSE_test_lasso)\n",
        "np.round(RMSE_test_lasso,3)"
      ]
    },
    {
      "cell_type": "code",
      "execution_count": 29,
      "metadata": {
        "id": "j3MRhQlmToN7",
        "outputId": "28d1401d-fd17-4c98-f5df-0512b17903a3",
        "colab": {
          "base_uri": "https://localhost:8080/"
        }
      },
      "outputs": [
        {
          "output_type": "execute_result",
          "data": {
            "text/plain": [
              "-0.5051758639724002"
            ]
          },
          "metadata": {},
          "execution_count": 29
        }
      ],
      "source": [
        "model_net.score(X_test, y_test)"
      ]
    },
    {
      "cell_type": "code",
      "execution_count": 30,
      "metadata": {
        "colab": {
          "base_uri": "https://localhost:8080/"
        },
        "id": "7TPfEPTBIZBg",
        "outputId": "924ece01-8f64-4a85-ed88-7d4a69448d75"
      },
      "outputs": [
        {
          "output_type": "execute_result",
          "data": {
            "text/plain": [
              "2.037"
            ]
          },
          "metadata": {},
          "execution_count": 30
        }
      ],
      "source": [
        "MSE_test_net = np.mean(np.square(df_predictions['y_test'] - df_predictions['y_hat_net']))\n",
        "RMSE_test_net = np.sqrt(MSE_test_net)\n",
        "np.round(RMSE_test_net,3)"
      ]
    },
    {
      "cell_type": "markdown",
      "metadata": {
        "id": "lg8JDDk-IZBg"
      },
      "source": [
        "-------------"
      ]
    },
    {
      "cell_type": "markdown",
      "metadata": {
        "id": "u7IxB8aaIZBg"
      },
      "source": [
        "### Plotting the regression coefficients vs alphas:"
      ]
    },
    {
      "cell_type": "markdown",
      "metadata": {
        "id": "xVv7NS73IZBg"
      },
      "source": [
        "#### 1) Ridge regression coefficients vs alpha"
      ]
    },
    {
      "cell_type": "code",
      "execution_count": 31,
      "metadata": {
        "colab": {
          "base_uri": "https://localhost:8080/",
          "height": 473
        },
        "id": "rZDKGb4gIZBg",
        "outputId": "bf19ef2b-607b-48bc-bae8-7a04714dddf5"
      },
      "outputs": [
        {
          "output_type": "display_data",
          "data": {
            "text/plain": [
              "<Figure size 1200x500 with 1 Axes>"
            ],
            "image/png": "[encoded data removed]"
          },
          "metadata": {}
        }
      ],
      "source": [
        "alpha_ridge = 10**np.linspace(-3,4,100)\n",
        "plt.figure(figsize=(12,5))\n",
        "plt.plot(alpha_ridge,'or' )\n",
        "plt.xlabel('steps')\n",
        "plt.ylabel('alpha (lambda)')\n",
        "plt.show()"
      ]
    },
    {
      "cell_type": "code",
      "execution_count": 32,
      "metadata": {
        "id": "T3pjSmIbToN_",
        "outputId": "924eb129-18a4-4513-bd62-f7687610a038",
        "colab": {
          "base_uri": "https://localhost:8080/"
        }
      },
      "outputs": [
        {
          "output_type": "execute_result",
          "data": {
            "text/plain": [
              "100"
            ]
          },
          "metadata": {},
          "execution_count": 32
        }
      ],
      "source": [
        "len(alpha_ridge)"
      ]
    },
    {
      "cell_type": "code",
      "source": [
        "import matplotlib.pyplot as plt\n",
        "import numpy as np\n",
        "\n",
        "# Generate alpha values on a logarithmic scale\n",
        "alpha_ridge = 10 ** np.linspace(-3, 4, 100)\n",
        "\n",
        "# Plot alpha values against steps\n",
        "plt.figure(figsize=(12, 5))\n",
        "plt.plot(alpha_ridge, 'or')\n",
        "plt.xscale('log')  # Set logarithmic scale for x-axis\n",
        "plt.xlabel('Steps')\n",
        "plt.ylabel('Alpha (lambda)')\n",
        "plt.title('Alpha Values in Ridge Regression')\n",
        "plt.grid(True)  # Add grid for better readability\n",
        "plt.show()\n"
      ],
      "metadata": {
        "colab": {
          "base_uri": "https://localhost:8080/",
          "height": 499
        },
        "id": "FJCROvC0rGyN",
        "outputId": "5954ce83-3ad2-44da-ada3-c1551a692053"
      },
      "execution_count": 33,
      "outputs": [
        {
          "output_type": "display_data",
          "data": {
            "text/plain": [
              "<Figure size 1200x500 with 1 Axes>"
            ],
            "image/png": "[encoded data removed]"
          },
          "metadata": {}
        }
      ]
    },
    {
      "cell_type": "code",
      "execution_count": 34,
      "metadata": {
        "colab": {
          "base_uri": "https://localhost:8080/"
        },
        "id": "SW7pdCuXIZBg",
        "outputId": "f8479545-2cf4-44e3-e0c5-70e823f55b43"
      },
      "outputs": [
        {
          "output_type": "execute_result",
          "data": {
            "text/plain": [
              "(100, 5)"
            ]
          },
          "metadata": {},
          "execution_count": 34
        }
      ],
      "source": [
        "ridge = Ridge()\n",
        "coefs_ridge = []\n",
        "\n",
        "for i in alpha_ridge:\n",
        "    ridge.set_params(alpha = i)\n",
        "    ridge.fit(X_train, y_train)\n",
        "    coefs_ridge.append(ridge.coef_)\n",
        "\n",
        "np.shape(coefs_ridge)"
      ]
    },
    {
      "cell_type": "code",
      "execution_count": 35,
      "metadata": {
        "colab": {
          "base_uri": "https://localhost:8080/",
          "height": 576
        },
        "id": "CrsJ97p4IZBh",
        "outputId": "553c3616-ba24-4eb7-8821-42cace47918d"
      },
      "outputs": [
        {
          "output_type": "display_data",
          "data": {
            "text/plain": [
              "<Figure size 1000x600 with 1 Axes>"
            ],
            "image/png": "[encoded data removed]"
          },
          "metadata": {}
        }
      ],
      "source": [
        "plt.figure(figsize=(10,6))\n",
        "ax = plt.gca()\n",
        "ax.plot(alpha_ridge, coefs_ridge)\n",
        "ax.set_xscale('log')\n",
        "plt.axis('tight')\n",
        "plt.xlabel('alpha')\n",
        "plt.ylabel('weights: scaled coefficients')\n",
        "plt.title('Ridge regression coefficients Vs. alpha')\n",
        "plt.legend(df.drop('y',axis=1, inplace=False).columns)\n",
        "\n",
        "plt.show()"
      ]
    },
    {
      "cell_type": "code",
      "source": [
        "plt.figure(figsize=(10, 6))\n",
        "ax = plt.gca()\n",
        "\n",
        "# Scaling the coefficients for better visualization\n",
        "coefs_scaled = np.array(coefs_ridge) / np.array(coefs_ridge).max(axis=0)\n",
        "\n",
        "# Plotting\n",
        "ax.plot(alpha_ridge, coefs_scaled)\n",
        "ax.set_xscale('log')\n",
        "plt.axis('tight')\n",
        "plt.xlabel('alpha')\n",
        "plt.ylabel('Weights: Scaled Coefficients')\n",
        "plt.title('Ridge Regression Coefficients vs. Alpha')\n",
        "plt.legend(df.drop('y', axis=1, inplace=False).columns)\n",
        "\n",
        "plt.show()\n"
      ],
      "metadata": {
        "colab": {
          "base_uri": "https://localhost:8080/",
          "height": 576
        },
        "id": "bybR5aUOsFnV",
        "outputId": "4fe0b30d-aa9a-44f4-ed1f-903e8b4436d9"
      },
      "execution_count": 36,
      "outputs": [
        {
          "output_type": "display_data",
          "data": {
            "text/plain": [
              "<Figure size 1000x600 with 1 Axes>"
            ],
            "image/png": "[encoded data removed]"
          },
          "metadata": {}
        }
      ]
    },
    {
      "cell_type": "markdown",
      "metadata": {
        "id": "VT1Km_YiIZBh"
      },
      "source": [
        "---"
      ]
    },
    {
      "cell_type": "markdown",
      "metadata": {
        "id": "SZlcEeX1IZBh"
      },
      "source": [
        "#### 2) Lasso regression coefficients vs alpha"
      ]
    },
    {
      "cell_type": "code",
      "execution_count": 37,
      "metadata": {
        "id": "WOyCCEq5IZBh"
      },
      "outputs": [],
      "source": [
        "alpha_lasso = 10**np.linspace(-3,1,100)"
      ]
    },
    {
      "cell_type": "code",
      "execution_count": 38,
      "metadata": {
        "colab": {
          "base_uri": "https://localhost:8080/"
        },
        "id": "k-5e7Jh9IZBh",
        "outputId": "5e85775a-f3c9-4f24-9bad-4eff59b41d5d"
      },
      "outputs": [
        {
          "output_type": "execute_result",
          "data": {
            "text/plain": [
              "(100, 5)"
            ]
          },
          "metadata": {},
          "execution_count": 38
        }
      ],
      "source": [
        "lasso = Lasso()\n",
        "coefs_lasso = []\n",
        "\n",
        "for i in alpha_lasso:\n",
        "    lasso.set_params(alpha = i)\n",
        "    lasso.fit(X_train, y_train)\n",
        "    coefs_lasso.append(lasso.coef_)\n",
        "\n",
        "np.shape(coefs_lasso)"
      ]
    },
    {
      "cell_type": "code",
      "execution_count": 39,
      "metadata": {
        "colab": {
          "base_uri": "https://localhost:8080/",
          "height": 576
        },
        "id": "d3kDizczIZBh",
        "outputId": "e64b7af1-7227-488d-beff-b7aa60010614"
      },
      "outputs": [
        {
          "output_type": "display_data",
          "data": {
            "text/plain": [
              "<Figure size 1000x600 with 1 Axes>"
            ],
            "image/png": "[encoded data removed]"
          },
          "metadata": {}
        }
      ],
      "source": [
        "plt.figure(figsize=(10,6))\n",
        "ax = plt.gca()\n",
        "ax.plot(alpha_lasso, coefs_lasso)\n",
        "ax.set_xscale('log')\n",
        "plt.axis('tight')\n",
        "plt.xlabel('alpha')\n",
        "plt.ylabel('weights: scaled coefficients')\n",
        "plt.title('Lasso regression coefficients Vs. alpha')\n",
        "plt.legend(df.drop('y',axis=1, inplace=False).columns)\n",
        "\n",
        "plt.show()"
      ]
    },
    {
      "cell_type": "markdown",
      "metadata": {
        "id": "k3_yV4LcIZBi"
      },
      "source": [
        "---"
      ]
    },
    {
      "cell_type": "markdown",
      "metadata": {
        "id": "Ak3WsbohIZBi"
      },
      "source": [
        "#### 3) Elastic Net regression coefficients vs alpha"
      ]
    },
    {
      "cell_type": "code",
      "execution_count": 40,
      "metadata": {
        "id": "dsi4wHq1IZBi"
      },
      "outputs": [],
      "source": [
        "alpha_elasticnet = 10**np.linspace(-3,1,100)"
      ]
    },
    {
      "cell_type": "code",
      "execution_count": 41,
      "metadata": {
        "colab": {
          "base_uri": "https://localhost:8080/"
        },
        "id": "WvpDr7S-IZBj",
        "outputId": "d9fe9b38-3239-4937-bc9f-7b322faaa483"
      },
      "outputs": [
        {
          "output_type": "execute_result",
          "data": {
            "text/plain": [
              "(100, 5)"
            ]
          },
          "metadata": {},
          "execution_count": 41
        }
      ],
      "source": [
        "elasticnet = ElasticNet()\n",
        "coefs_elasticnet = []\n",
        "\n",
        "for i in alpha_elasticnet:\n",
        "    elasticnet.set_params(alpha = i)\n",
        "    elasticnet.fit(X_train, y_train)\n",
        "    coefs_elasticnet.append(elasticnet.coef_)\n",
        "\n",
        "np.shape(coefs_elasticnet)"
      ]
    },
    {
      "cell_type": "code",
      "execution_count": 42,
      "metadata": {
        "colab": {
          "base_uri": "https://localhost:8080/",
          "height": 884
        },
        "id": "eGWBHKoKIZBj",
        "outputId": "f3caee30-df90-4487-ff7f-308214d07c29"
      },
      "outputs": [
        {
          "output_type": "display_data",
          "data": {
            "text/plain": [
              "<Figure size 1200x1000 with 1 Axes>"
            ],
            "image/png": "[encoded data removed]"
          },
          "metadata": {}
        }
      ],
      "source": [
        "plt.figure(figsize=(12,10))\n",
        "ax = plt.gca()\n",
        "ax.plot(alpha_elasticnet, coefs_elasticnet)\n",
        "ax.set_xscale('log')\n",
        "plt.axis('tight')\n",
        "plt.xlabel('alpha')\n",
        "plt.ylabel('weights: scaled coefficients')\n",
        "plt.title('Elastic Net regression coefficients Vs. alpha')\n",
        "plt.legend(df.drop('y',axis=1, inplace=False).columns)\n",
        "\n",
        "plt.show()"
      ]
    },
    {
      "cell_type": "markdown",
      "metadata": {
        "id": "2Fdj6V-GIZBj"
      },
      "source": [
        "----"
      ]
    },
    {
      "cell_type": "markdown",
      "metadata": {
        "id": "T2J-s9SVIZBj"
      },
      "source": [
        "## Cross Validation\n",
        "\n",
        "Let's use cross validation to find the optimal Lambdas (alphas) for different models."
      ]
    },
    {
      "cell_type": "markdown",
      "metadata": {
        "id": "J11PuIpzIZBj"
      },
      "source": [
        "#### 1) Optimal alpha for Ridge regression"
      ]
    },
    {
      "cell_type": "code",
      "execution_count": 43,
      "metadata": {
        "colab": {
          "base_uri": "https://localhost:8080/"
        },
        "id": "5F-AU1vbIZBj",
        "outputId": "ba3cae32-5a78-4169-95a9-7fb6fe828a23"
      },
      "outputs": [
        {
          "output_type": "execute_result",
          "data": {
            "text/plain": [
              "1.291549665014884"
            ]
          },
          "metadata": {},
          "execution_count": 43
        }
      ],
      "source": [
        "ridgecv = RidgeCV(alphas=alpha_ridge)\n",
        "ridgecv.fit(X_train, y_train)\n",
        "ridgecv.alpha_"
      ]
    },
    {
      "cell_type": "code",
      "execution_count": 44,
      "metadata": {
        "id": "t70NmnH_IZBj"
      },
      "outputs": [],
      "source": [
        "alpha_ridge_opt = ridgecv.alpha_"
      ]
    },
    {
      "cell_type": "code",
      "execution_count": 45,
      "metadata": {
        "id": "7xBm_CRmToON",
        "outputId": "4baf6b21-5934-4a3b-947a-12dced98fee9",
        "colab": {
          "base_uri": "https://localhost:8080/"
        }
      },
      "outputs": [
        {
          "output_type": "execute_result",
          "data": {
            "text/plain": [
              "array([ 0.23326653,  0.18398615, -0.89894889, -0.00492102, -0.24987795])"
            ]
          },
          "metadata": {},
          "execution_count": 45
        }
      ],
      "source": [
        "ridgecv.coef_"
      ]
    },
    {
      "cell_type": "markdown",
      "metadata": {
        "id": "7KgB97XlIZBj"
      },
      "source": [
        "----"
      ]
    },
    {
      "cell_type": "markdown",
      "metadata": {
        "id": "jRC74qYQIZBk"
      },
      "source": [
        "#### 2) Optimal alpha for Lasso regression"
      ]
    },
    {
      "cell_type": "code",
      "execution_count": 46,
      "metadata": {
        "colab": {
          "base_uri": "https://localhost:8080/"
        },
        "id": "u0iXTMTIIZBk",
        "outputId": "29807f46-c217-48d3-8126-a7b6075bcfe4"
      },
      "outputs": [
        {
          "output_type": "execute_result",
          "data": {
            "text/plain": [
              "0.004862601580065354"
            ]
          },
          "metadata": {},
          "execution_count": 46
        }
      ],
      "source": [
        "lassocv = LassoCV(alphas=alpha_lasso)\n",
        "lassocv.fit(X_train, y_train)\n",
        "lassocv.alpha_"
      ]
    },
    {
      "cell_type": "code",
      "execution_count": 47,
      "metadata": {
        "id": "LJ9NwDJQIZBk"
      },
      "outputs": [],
      "source": [
        "alpha_lasso_opt = lassocv.alpha_"
      ]
    },
    {
      "cell_type": "code",
      "execution_count": 48,
      "metadata": {
        "id": "4Ru8sYAxToOQ",
        "outputId": "c0346a90-2d72-4409-99ca-aeaddd516e3b",
        "colab": {
          "base_uri": "https://localhost:8080/"
        }
      },
      "outputs": [
        {
          "output_type": "execute_result",
          "data": {
            "text/plain": [
              "array([ 0.31944719,  0.15721496, -1.17879735, -0.        ,  0.        ])"
            ]
          },
          "metadata": {},
          "execution_count": 48
        }
      ],
      "source": [
        "lassocv.coef_"
      ]
    },
    {
      "cell_type": "markdown",
      "metadata": {
        "id": "Ti3L8g_rIZBk"
      },
      "source": [
        "----"
      ]
    },
    {
      "cell_type": "markdown",
      "metadata": {
        "id": "bmG7FooAIZBk"
      },
      "source": [
        "#### 3) Optimal alpha for Elastic Net regression"
      ]
    },
    {
      "cell_type": "code",
      "execution_count": 49,
      "metadata": {
        "colab": {
          "base_uri": "https://localhost:8080/"
        },
        "id": "etuRvXE1IZBk",
        "outputId": "2f789b3a-fa01-4783-dbe2-f59d49d46be7"
      },
      "outputs": [
        {
          "output_type": "execute_result",
          "data": {
            "text/plain": [
              "0.004862601580065354"
            ]
          },
          "metadata": {},
          "execution_count": 49
        }
      ],
      "source": [
        "elasticnetcv = ElasticNetCV(alphas=alpha_elasticnet, l1_ratio=np.linspace(0.0, 1, 11))\n",
        "elasticnetcv.fit(X_train, y_train)\n",
        "elasticnetcv.alpha_"
      ]
    },
    {
      "cell_type": "code",
      "execution_count": 50,
      "metadata": {
        "colab": {
          "base_uri": "https://localhost:8080/"
        },
        "id": "TcuVdtQHIZBk",
        "outputId": "310b199b-b7ea-46a2-fdcf-a62770ce1db6"
      },
      "outputs": [
        {
          "output_type": "execute_result",
          "data": {
            "text/plain": [
              "0.9"
            ]
          },
          "metadata": {},
          "execution_count": 50
        }
      ],
      "source": [
        "elasticnetcv.l1_ratio_"
      ]
    },
    {
      "cell_type": "code",
      "execution_count": 51,
      "metadata": {
        "id": "3-s_bzKSIZBk"
      },
      "outputs": [],
      "source": [
        "alpha_elasticnet_opt = elasticnetcv.alpha_"
      ]
    },
    {
      "cell_type": "code",
      "execution_count": 52,
      "metadata": {
        "id": "t_FRQR6KToOV",
        "outputId": "ad6ad7dc-85b0-40cf-936d-6e60909543f9",
        "colab": {
          "base_uri": "https://localhost:8080/"
        }
      },
      "outputs": [
        {
          "output_type": "execute_result",
          "data": {
            "text/plain": [
              "array([ 0.31976495,  0.15827089, -1.17839143, -0.        ,  0.        ])"
            ]
          },
          "metadata": {},
          "execution_count": 52
        }
      ],
      "source": [
        "elasticnetcv.coef_"
      ]
    },
    {
      "cell_type": "markdown",
      "metadata": {
        "id": "QUcAd_hWIZBl"
      },
      "source": [
        "----"
      ]
    },
    {
      "cell_type": "markdown",
      "metadata": {
        "id": "LrrPNIwiIZBl"
      },
      "source": [
        "#### Refit the models!\n",
        "\n",
        "***Exercise***: Now go back and refit the 3 models with the optimal alphas!\n",
        "- compare the RMSE_test?\n",
        "- were you able to beat the linear regression model?\n",
        "- what do you conclude?"
      ]
    },
    {
      "cell_type": "markdown",
      "metadata": {
        "id": "HiGzJhpmToOX"
      },
      "source": [
        "---\n",
        "---\n",
        "# PyCaret\n",
        "\n",
        "1. **PyCaret**: https://pycaret.readthedocs.io/en/latest/index.html PyCaret3.0\n",
        "2. **scikit-learn**: https://scikit-learn.org/stable/index.html\n",
        "3. **PyCaret model containers** : https://github.com/pycaret/pycaret/tree/master/pycaret/containers/models"
      ]
    },
    {
      "cell_type": "markdown",
      "metadata": {
        "id": "0vSDc8whToOY"
      },
      "source": [
        "# Installation"
      ]
    },
    {
      "cell_type": "markdown",
      "metadata": {
        "id": "kZjiWypiToOZ"
      },
      "source": [
        "Follow the steps here: https://pycaret.gitbook.io/docs/get-started/installation\n"
      ]
    },
    {
      "cell_type": "code",
      "execution_count": 56,
      "metadata": {
        "id": "imUv971lToOa",
        "colab": {
          "base_uri": "https://localhost:8080/",
          "height": 1000
        },
        "outputId": "9693ba40-f5d7-4746-c300-fc06e12b5e84"
      },
      "outputs": [
        {
          "output_type": "stream",
          "name": "stdout",
          "text": [
            "Collecting pycaret\n",
            "  Downloading pycaret-3.2.0-py3-none-any.whl (484 kB)\n",
            "\u001b[2K     \u001b[90m━━━━━━━━━━━━━━━━━━━━━━━━━━━━━━━━━━━━━━━━\u001b[0m \u001b[32m484.7/484.7 kB\u001b[0m \u001b[31m7.0 MB/s\u001b[0m eta \u001b[36m0:00:00\u001b[0m\n",
            "\u001b[?25hCollecting category-encoders>=2.4.0 (from pycaret)\n",
            "  Downloading category_encoders-2.6.3-py2.py3-none-any.whl (81 kB)\n",
            "\u001b[2K     \u001b[90m━━━━━━━━━━━━━━━━━━━━━━━━━━━━━━━━━━━━━━━━\u001b[0m \u001b[32m81.9/81.9 kB\u001b[0m \u001b[31m9.6 MB/s\u001b[0m eta \u001b[36m0:00:00\u001b[0m\n",
            "\u001b[?25hRequirement already satisfied: cloudpickle in /usr/local/lib/python3.10/dist-packages (from pycaret) (2.2.1)\n",
            "Collecting deprecation>=2.1.0 (from pycaret)\n",
            "  Downloading deprecation-2.1.0-py2.py3-none-any.whl (11 kB)\n",
            "Requirement already satisfied: imbalanced-learn>=0.8.1 in /usr/local/lib/python3.10/dist-packages (from pycaret) (0.10.1)\n",
            "Requirement already satisfied: importlib-metadata>=4.12.0 in /usr/local/lib/python3.10/dist-packages (from pycaret) (7.0.1)\n",
            "Requirement already satisfied: ipython>=5.5.0 in /usr/local/lib/python3.10/dist-packages (from pycaret) (7.34.0)\n",
            "Requirement already satisfied: ipywidgets>=7.6.5 in /usr/local/lib/python3.10/dist-packages (from pycaret) (7.7.1)\n",
            "Requirement already satisfied: jinja2>=1.2 in /usr/local/lib/python3.10/dist-packages (from pycaret) (3.1.3)\n",
            "Requirement already satisfied: joblib>=1.2.0 in /usr/local/lib/python3.10/dist-packages (from pycaret) (1.3.2)\n",
            "Collecting kaleido>=0.2.1 (from pycaret)\n",
            "  Downloading kaleido-0.2.1-py2.py3-none-manylinux1_x86_64.whl (79.9 MB)\n",
            "\u001b[2K     \u001b[90m━━━━━━━━━━━━━━━━━━━━━━━━━━━━━━━━━━━━━━━━\u001b[0m \u001b[32m79.9/79.9 MB\u001b[0m \u001b[31m9.8 MB/s\u001b[0m eta \u001b[36m0:00:00\u001b[0m\n",
            "\u001b[?25hRequirement already satisfied: lightgbm>=3.0.0 in /usr/local/lib/python3.10/dist-packages (from pycaret) (4.1.0)\n",
            "Requirement already satisfied: markupsafe>=2.0.1 in /usr/local/lib/python3.10/dist-packages (from pycaret) (2.1.5)\n",
            "Collecting matplotlib<=3.6,>=3.3.0 (from pycaret)\n",
            "  Downloading matplotlib-3.6.0-cp310-cp310-manylinux_2_17_x86_64.manylinux2014_x86_64.whl (11.8 MB)\n",
            "\u001b[2K     \u001b[90m━━━━━━━━━━━━━━━━━━━━━━━━━━━━━━━━━━━━━━━━\u001b[0m \u001b[32m11.8/11.8 MB\u001b[0m \u001b[31m70.5 MB/s\u001b[0m eta \u001b[36m0:00:00\u001b[0m\n",
            "\u001b[?25hRequirement already satisfied: nbformat>=4.2.0 in /usr/local/lib/python3.10/dist-packages (from pycaret) (5.9.2)\n",
            "Requirement already satisfied: numba>=0.55.0 in /usr/local/lib/python3.10/dist-packages (from pycaret) (0.58.1)\n",
            "Requirement already satisfied: numpy<1.27,>=1.21 in /usr/local/lib/python3.10/dist-packages (from pycaret) (1.25.2)\n",
            "Requirement already satisfied: pandas<2.0.0,>=1.3.0 in /usr/local/lib/python3.10/dist-packages (from pycaret) (1.5.3)\n",
            "Collecting plotly-resampler>=0.8.3.1 (from pycaret)\n",
            "  Downloading plotly_resampler-0.9.2-py3-none-any.whl (81 kB)\n",
            "\u001b[2K     \u001b[90m━━━━━━━━━━━━━━━━━━━━━━━━━━━━━━━━━━━━━━━━\u001b[0m \u001b[32m81.1/81.1 kB\u001b[0m \u001b[31m11.0 MB/s\u001b[0m eta \u001b[36m0:00:00\u001b[0m\n",
            "\u001b[?25hRequirement already satisfied: plotly>=5.0.0 in /usr/local/lib/python3.10/dist-packages (from pycaret) (5.15.0)\n",
            "Collecting pmdarima!=1.8.1,<3.0.0,>=1.8.0 (from pycaret)\n",
            "  Downloading pmdarima-2.0.4-cp310-cp310-manylinux_2_17_x86_64.manylinux2014_x86_64.manylinux_2_28_x86_64.whl (2.1 MB)\n",
            "\u001b[2K     \u001b[90m━━━━━━━━━━━━━━━━━━━━━━━━━━━━━━━━━━━━━━━━\u001b[0m \u001b[32m2.1/2.1 MB\u001b[0m \u001b[31m70.5 MB/s\u001b[0m eta \u001b[36m0:00:00\u001b[0m\n",
            "\u001b[?25hRequirement already satisfied: psutil>=5.9.0 in /usr/local/lib/python3.10/dist-packages (from pycaret) (5.9.5)\n",
            "Collecting pyod>=1.0.8 (from pycaret)\n",
            "  Downloading pyod-1.1.3.tar.gz (160 kB)\n",
            "\u001b[2K     \u001b[90m━━━━━━━━━━━━━━━━━━━━━━━━━━━━━━━━━━━━━━━━\u001b[0m \u001b[32m160.5/160.5 kB\u001b[0m \u001b[31m22.5 MB/s\u001b[0m eta \u001b[36m0:00:00\u001b[0m\n",
            "\u001b[?25h  Preparing metadata (setup.py) ... \u001b[?25l\u001b[?25hdone\n",
            "Requirement already satisfied: requests>=2.27.1 in /usr/local/lib/python3.10/dist-packages (from pycaret) (2.31.0)\n",
            "Collecting schemdraw==0.15 (from pycaret)\n",
            "  Downloading schemdraw-0.15-py3-none-any.whl (106 kB)\n",
            "\u001b[2K     \u001b[90m━━━━━━━━━━━━━━━━━━━━━━━━━━━━━━━━━━━━━━━━\u001b[0m \u001b[32m106.8/106.8 kB\u001b[0m \u001b[31m11.7 MB/s\u001b[0m eta \u001b[36m0:00:00\u001b[0m\n",
            "\u001b[?25hRequirement already satisfied: scikit-learn<1.3.0,>=1.0 in /usr/local/lib/python3.10/dist-packages (from pycaret) (1.2.2)\n",
            "Collecting scikit-plot>=0.3.7 (from pycaret)\n",
            "  Downloading scikit_plot-0.3.7-py3-none-any.whl (33 kB)\n",
            "Collecting scipy~=1.10.1 (from pycaret)\n",
            "  Downloading scipy-1.10.1-cp310-cp310-manylinux_2_17_x86_64.manylinux2014_x86_64.whl (34.4 MB)\n",
            "\u001b[2K     \u001b[90m━━━━━━━━━━━━━━━━━━━━━━━━━━━━━━━━━━━━━━━━\u001b[0m \u001b[32m34.4/34.4 MB\u001b[0m \u001b[31m16.8 MB/s\u001b[0m eta \u001b[36m0:00:00\u001b[0m\n",
            "\u001b[?25hCollecting sktime!=0.17.1,!=0.17.2,!=0.18.0,<0.22.0,>=0.16.1 (from pycaret)\n",
            "  Downloading sktime-0.21.1-py3-none-any.whl (17.1 MB)\n",
            "\u001b[2K     \u001b[90m━━━━━━━━━━━━━━━━━━━━━━━━━━━━━━━━━━━━━━━━\u001b[0m \u001b[32m17.1/17.1 MB\u001b[0m \u001b[31m48.2 MB/s\u001b[0m eta \u001b[36m0:00:00\u001b[0m\n",
            "\u001b[?25hRequirement already satisfied: statsmodels>=0.12.1 in /usr/local/lib/python3.10/dist-packages (from pycaret) (0.14.1)\n",
            "Collecting tbats>=1.1.3 (from pycaret)\n",
            "  Downloading tbats-1.1.3-py3-none-any.whl (44 kB)\n",
            "\u001b[2K     \u001b[90m━━━━━━━━━━━━━━━━━━━━━━━━━━━━━━━━━━━━━━━━\u001b[0m \u001b[32m44.0/44.0 kB\u001b[0m \u001b[31m5.2 MB/s\u001b[0m eta \u001b[36m0:00:00\u001b[0m\n",
            "\u001b[?25hRequirement already satisfied: tqdm>=4.62.0 in /usr/local/lib/python3.10/dist-packages (from pycaret) (4.66.2)\n",
            "Requirement already satisfied: xxhash in /usr/local/lib/python3.10/dist-packages (from pycaret) (3.4.1)\n",
            "Requirement already satisfied: yellowbrick>=1.4 in /usr/local/lib/python3.10/dist-packages (from pycaret) (1.5)\n",
            "Collecting wurlitzer (from pycaret)\n",
            "  Downloading wurlitzer-3.0.3-py3-none-any.whl (7.3 kB)\n",
            "Requirement already satisfied: patsy>=0.5.1 in /usr/local/lib/python3.10/dist-packages (from category-encoders>=2.4.0->pycaret) (0.5.6)\n",
            "Requirement already satisfied: packaging in /usr/local/lib/python3.10/dist-packages (from deprecation>=2.1.0->pycaret) (23.2)\n",
            "Requirement already satisfied: threadpoolctl>=2.0.0 in /usr/local/lib/python3.10/dist-packages (from imbalanced-learn>=0.8.1->pycaret) (3.2.0)\n",
            "Requirement already satisfied: zipp>=0.5 in /usr/local/lib/python3.10/dist-packages (from importlib-metadata>=4.12.0->pycaret) (3.17.0)\n",
            "Requirement already satisfied: setuptools>=18.5 in /usr/local/lib/python3.10/dist-packages (from ipython>=5.5.0->pycaret) (67.7.2)\n",
            "Collecting jedi>=0.16 (from ipython>=5.5.0->pycaret)\n",
            "  Downloading jedi-0.19.1-py2.py3-none-any.whl (1.6 MB)\n",
            "\u001b[2K     \u001b[90m━━━━━━━━━━━━━━━━━━━━━━━━━━━━━━━━━━━━━━━━\u001b[0m \u001b[32m1.6/1.6 MB\u001b[0m \u001b[31m61.6 MB/s\u001b[0m eta \u001b[36m0:00:00\u001b[0m\n",
            "\u001b[?25hRequirement already satisfied: decorator in /usr/local/lib/python3.10/dist-packages (from ipython>=5.5.0->pycaret) (4.4.2)\n",
            "Requirement already satisfied: pickleshare in /usr/local/lib/python3.10/dist-packages (from ipython>=5.5.0->pycaret) (0.7.5)\n",
            "Requirement already satisfied: traitlets>=4.2 in /usr/local/lib/python3.10/dist-packages (from ipython>=5.5.0->pycaret) (5.7.1)\n",
            "Requirement already satisfied: prompt-toolkit!=3.0.0,!=3.0.1,<3.1.0,>=2.0.0 in /usr/local/lib/python3.10/dist-packages (from ipython>=5.5.0->pycaret) (3.0.43)\n",
            "Requirement already satisfied: pygments in /usr/local/lib/python3.10/dist-packages (from ipython>=5.5.0->pycaret) (2.16.1)\n",
            "Requirement already satisfied: backcall in /usr/local/lib/python3.10/dist-packages (from ipython>=5.5.0->pycaret) (0.2.0)\n",
            "Requirement already satisfied: matplotlib-inline in /usr/local/lib/python3.10/dist-packages (from ipython>=5.5.0->pycaret) (0.1.6)\n",
            "Requirement already satisfied: pexpect>4.3 in /usr/local/lib/python3.10/dist-packages (from ipython>=5.5.0->pycaret) (4.9.0)\n",
            "Requirement already satisfied: ipykernel>=4.5.1 in /usr/local/lib/python3.10/dist-packages (from ipywidgets>=7.6.5->pycaret) (5.5.6)\n",
            "Requirement already satisfied: ipython-genutils~=0.2.0 in /usr/local/lib/python3.10/dist-packages (from ipywidgets>=7.6.5->pycaret) (0.2.0)\n",
            "Requirement already satisfied: widgetsnbextension~=3.6.0 in /usr/local/lib/python3.10/dist-packages (from ipywidgets>=7.6.5->pycaret) (3.6.6)\n",
            "Requirement already satisfied: jupyterlab-widgets>=1.0.0 in /usr/local/lib/python3.10/dist-packages (from ipywidgets>=7.6.5->pycaret) (3.0.10)\n",
            "Requirement already satisfied: contourpy>=1.0.1 in /usr/local/lib/python3.10/dist-packages (from matplotlib<=3.6,>=3.3.0->pycaret) (1.2.0)\n",
            "Requirement already satisfied: cycler>=0.10 in /usr/local/lib/python3.10/dist-packages (from matplotlib<=3.6,>=3.3.0->pycaret) (0.12.1)\n",
            "Requirement already satisfied: fonttools>=4.22.0 in /usr/local/lib/python3.10/dist-packages (from matplotlib<=3.6,>=3.3.0->pycaret) (4.48.1)\n",
            "Requirement already satisfied: kiwisolver>=1.0.1 in /usr/local/lib/python3.10/dist-packages (from matplotlib<=3.6,>=3.3.0->pycaret) (1.4.5)\n",
            "Requirement already satisfied: pillow>=6.2.0 in /usr/local/lib/python3.10/dist-packages (from matplotlib<=3.6,>=3.3.0->pycaret) (9.4.0)\n",
            "Requirement already satisfied: pyparsing>=2.2.1 in /usr/local/lib/python3.10/dist-packages (from matplotlib<=3.6,>=3.3.0->pycaret) (3.1.1)\n",
            "Requirement already satisfied: python-dateutil>=2.7 in /usr/local/lib/python3.10/dist-packages (from matplotlib<=3.6,>=3.3.0->pycaret) (2.8.2)\n",
            "Requirement already satisfied: fastjsonschema in /usr/local/lib/python3.10/dist-packages (from nbformat>=4.2.0->pycaret) (2.19.1)\n",
            "Requirement already satisfied: jsonschema>=2.6 in /usr/local/lib/python3.10/dist-packages (from nbformat>=4.2.0->pycaret) (4.19.2)\n",
            "Requirement already satisfied: jupyter-core in /usr/local/lib/python3.10/dist-packages (from nbformat>=4.2.0->pycaret) (5.7.1)\n",
            "Requirement already satisfied: llvmlite<0.42,>=0.41.0dev0 in /usr/local/lib/python3.10/dist-packages (from numba>=0.55.0->pycaret) (0.41.1)\n",
            "Requirement already satisfied: pytz>=2020.1 in /usr/local/lib/python3.10/dist-packages (from pandas<2.0.0,>=1.3.0->pycaret) (2023.4)\n",
            "Requirement already satisfied: tenacity>=6.2.0 in /usr/local/lib/python3.10/dist-packages (from plotly>=5.0.0->pycaret) (8.2.3)\n",
            "Collecting dash>=2.9.0 (from plotly-resampler>=0.8.3.1->pycaret)\n",
            "  Downloading dash-2.15.0-py3-none-any.whl (10.2 MB)\n",
            "\u001b[2K     \u001b[90m━━━━━━━━━━━━━━━━━━━━━━━━━━━━━━━━━━━━━━━━\u001b[0m \u001b[32m10.2/10.2 MB\u001b[0m \u001b[31m59.0 MB/s\u001b[0m eta \u001b[36m0:00:00\u001b[0m\n",
            "\u001b[?25hCollecting orjson<4.0.0,>=3.8.0 (from plotly-resampler>=0.8.3.1->pycaret)\n",
            "  Downloading orjson-3.9.14-cp310-cp310-manylinux_2_17_x86_64.manylinux2014_x86_64.whl (138 kB)\n",
            "\u001b[2K     \u001b[90m━━━━━━━━━━━━━━━━━━━━━━━━━━━━━━━━━━━━━━━━\u001b[0m \u001b[32m139.0/139.0 kB\u001b[0m \u001b[31m16.7 MB/s\u001b[0m eta \u001b[36m0:00:00\u001b[0m\n",
            "\u001b[?25hCollecting tsdownsample==0.1.2 (from plotly-resampler>=0.8.3.1->pycaret)\n",
            "  Downloading tsdownsample-0.1.2-cp310-cp310-manylinux_2_17_x86_64.manylinux2014_x86_64.whl (2.3 MB)\n",
            "\u001b[2K     \u001b[90m━━━━━━━━━━━━━━━━━━━━━━━━━━━━━━━━━━━━━━━━\u001b[0m \u001b[32m2.3/2.3 MB\u001b[0m \u001b[31m76.1 MB/s\u001b[0m eta \u001b[36m0:00:00\u001b[0m\n",
            "\u001b[?25hRequirement already satisfied: Cython!=0.29.18,!=0.29.31,>=0.29 in /usr/local/lib/python3.10/dist-packages (from pmdarima!=1.8.1,<3.0.0,>=1.8.0->pycaret) (3.0.8)\n",
            "Requirement already satisfied: urllib3 in /usr/local/lib/python3.10/dist-packages (from pmdarima!=1.8.1,<3.0.0,>=1.8.0->pycaret) (2.0.7)\n",
            "Requirement already satisfied: six in /usr/local/lib/python3.10/dist-packages (from pyod>=1.0.8->pycaret) (1.16.0)\n",
            "Requirement already satisfied: charset-normalizer<4,>=2 in /usr/local/lib/python3.10/dist-packages (from requests>=2.27.1->pycaret) (3.3.2)\n",
            "Requirement already satisfied: idna<4,>=2.5 in /usr/local/lib/python3.10/dist-packages (from requests>=2.27.1->pycaret) (3.6)\n",
            "Requirement already satisfied: certifi>=2017.4.17 in /usr/local/lib/python3.10/dist-packages (from requests>=2.27.1->pycaret) (2024.2.2)\n",
            "Collecting deprecated>=1.2.13 (from sktime!=0.17.1,!=0.17.2,!=0.18.0,<0.22.0,>=0.16.1->pycaret)\n",
            "  Downloading Deprecated-1.2.14-py2.py3-none-any.whl (9.6 kB)\n",
            "Collecting scikit-base<0.6.0 (from sktime!=0.17.1,!=0.17.2,!=0.18.0,<0.22.0,>=0.16.1->pycaret)\n",
            "  Downloading scikit_base-0.5.2-py3-none-any.whl (118 kB)\n",
            "\u001b[2K     \u001b[90m━━━━━━━━━━━━━━━━━━━━━━━━━━━━━━━━━━━━━━━━\u001b[0m \u001b[32m119.0/119.0 kB\u001b[0m \u001b[31m15.7 MB/s\u001b[0m eta \u001b[36m0:00:00\u001b[0m\n",
            "\u001b[?25hRequirement already satisfied: Flask<3.1,>=1.0.4 in /usr/local/lib/python3.10/dist-packages (from dash>=2.9.0->plotly-resampler>=0.8.3.1->pycaret) (2.2.5)\n",
            "Requirement already satisfied: Werkzeug<3.1 in /usr/local/lib/python3.10/dist-packages (from dash>=2.9.0->plotly-resampler>=0.8.3.1->pycaret) (3.0.1)\n",
            "Collecting dash-html-components==2.0.0 (from dash>=2.9.0->plotly-resampler>=0.8.3.1->pycaret)\n",
            "  Downloading dash_html_components-2.0.0-py3-none-any.whl (4.1 kB)\n",
            "Collecting dash-core-components==2.0.0 (from dash>=2.9.0->plotly-resampler>=0.8.3.1->pycaret)\n",
            "  Downloading dash_core_components-2.0.0-py3-none-any.whl (3.8 kB)\n",
            "Collecting dash-table==5.0.0 (from dash>=2.9.0->plotly-resampler>=0.8.3.1->pycaret)\n",
            "  Downloading dash_table-5.0.0-py3-none-any.whl (3.9 kB)\n",
            "Requirement already satisfied: typing-extensions>=4.1.1 in /usr/local/lib/python3.10/dist-packages (from dash>=2.9.0->plotly-resampler>=0.8.3.1->pycaret) (4.9.0)\n",
            "Collecting retrying (from dash>=2.9.0->plotly-resampler>=0.8.3.1->pycaret)\n",
            "  Downloading retrying-1.3.4-py3-none-any.whl (11 kB)\n",
            "Requirement already satisfied: nest-asyncio in /usr/local/lib/python3.10/dist-packages (from dash>=2.9.0->plotly-resampler>=0.8.3.1->pycaret) (1.6.0)\n",
            "Requirement already satisfied: wrapt<2,>=1.10 in /usr/local/lib/python3.10/dist-packages (from deprecated>=1.2.13->sktime!=0.17.1,!=0.17.2,!=0.18.0,<0.22.0,>=0.16.1->pycaret) (1.14.1)\n",
            "Requirement already satisfied: jupyter-client in /usr/local/lib/python3.10/dist-packages (from ipykernel>=4.5.1->ipywidgets>=7.6.5->pycaret) (6.1.12)\n",
            "Requirement already satisfied: tornado>=4.2 in /usr/local/lib/python3.10/dist-packages (from ipykernel>=4.5.1->ipywidgets>=7.6.5->pycaret) (6.3.2)\n",
            "Requirement already satisfied: parso<0.9.0,>=0.8.3 in /usr/local/lib/python3.10/dist-packages (from jedi>=0.16->ipython>=5.5.0->pycaret) (0.8.3)\n",
            "Requirement already satisfied: attrs>=22.2.0 in /usr/local/lib/python3.10/dist-packages (from jsonschema>=2.6->nbformat>=4.2.0->pycaret) (23.2.0)\n",
            "Requirement already satisfied: jsonschema-specifications>=2023.03.6 in /usr/local/lib/python3.10/dist-packages (from jsonschema>=2.6->nbformat>=4.2.0->pycaret) (2023.12.1)\n",
            "Requirement already satisfied: referencing>=0.28.4 in /usr/local/lib/python3.10/dist-packages (from jsonschema>=2.6->nbformat>=4.2.0->pycaret) (0.33.0)\n",
            "Requirement already satisfied: rpds-py>=0.7.1 in /usr/local/lib/python3.10/dist-packages (from jsonschema>=2.6->nbformat>=4.2.0->pycaret) (0.17.1)\n",
            "Requirement already satisfied: ptyprocess>=0.5 in /usr/local/lib/python3.10/dist-packages (from pexpect>4.3->ipython>=5.5.0->pycaret) (0.7.0)\n",
            "Requirement already satisfied: wcwidth in /usr/local/lib/python3.10/dist-packages (from prompt-toolkit!=3.0.0,!=3.0.1,<3.1.0,>=2.0.0->ipython>=5.5.0->pycaret) (0.2.13)\n",
            "Requirement already satisfied: notebook>=4.4.1 in /usr/local/lib/python3.10/dist-packages (from widgetsnbextension~=3.6.0->ipywidgets>=7.6.5->pycaret) (6.5.5)\n",
            "Requirement already satisfied: platformdirs>=2.5 in /usr/local/lib/python3.10/dist-packages (from jupyter-core->nbformat>=4.2.0->pycaret) (4.2.0)\n",
            "Requirement already satisfied: itsdangerous>=2.0 in /usr/local/lib/python3.10/dist-packages (from Flask<3.1,>=1.0.4->dash>=2.9.0->plotly-resampler>=0.8.3.1->pycaret) (2.1.2)\n",
            "Requirement already satisfied: click>=8.0 in /usr/local/lib/python3.10/dist-packages (from Flask<3.1,>=1.0.4->dash>=2.9.0->plotly-resampler>=0.8.3.1->pycaret) (8.1.7)\n",
            "Requirement already satisfied: pyzmq<25,>=17 in /usr/local/lib/python3.10/dist-packages (from notebook>=4.4.1->widgetsnbextension~=3.6.0->ipywidgets>=7.6.5->pycaret) (23.2.1)\n",
            "Requirement already satisfied: argon2-cffi in /usr/local/lib/python3.10/dist-packages (from notebook>=4.4.1->widgetsnbextension~=3.6.0->ipywidgets>=7.6.5->pycaret) (23.1.0)\n",
            "Requirement already satisfied: nbconvert>=5 in /usr/local/lib/python3.10/dist-packages (from notebook>=4.4.1->widgetsnbextension~=3.6.0->ipywidgets>=7.6.5->pycaret) (6.5.4)\n",
            "Requirement already satisfied: Send2Trash>=1.8.0 in /usr/local/lib/python3.10/dist-packages (from notebook>=4.4.1->widgetsnbextension~=3.6.0->ipywidgets>=7.6.5->pycaret) (1.8.2)\n",
            "Requirement already satisfied: terminado>=0.8.3 in /usr/local/lib/python3.10/dist-packages (from notebook>=4.4.1->widgetsnbextension~=3.6.0->ipywidgets>=7.6.5->pycaret) (0.18.0)\n",
            "Requirement already satisfied: prometheus-client in /usr/local/lib/python3.10/dist-packages (from notebook>=4.4.1->widgetsnbextension~=3.6.0->ipywidgets>=7.6.5->pycaret) (0.19.0)\n",
            "Requirement already satisfied: nbclassic>=0.4.7 in /usr/local/lib/python3.10/dist-packages (from notebook>=4.4.1->widgetsnbextension~=3.6.0->ipywidgets>=7.6.5->pycaret) (1.0.0)\n",
            "Requirement already satisfied: jupyter-server>=1.8 in /usr/local/lib/python3.10/dist-packages (from nbclassic>=0.4.7->notebook>=4.4.1->widgetsnbextension~=3.6.0->ipywidgets>=7.6.5->pycaret) (1.24.0)\n",
            "Requirement already satisfied: notebook-shim>=0.2.3 in /usr/local/lib/python3.10/dist-packages (from nbclassic>=0.4.7->notebook>=4.4.1->widgetsnbextension~=3.6.0->ipywidgets>=7.6.5->pycaret) (0.2.3)\n",
            "Requirement already satisfied: lxml in /usr/local/lib/python3.10/dist-packages (from nbconvert>=5->notebook>=4.4.1->widgetsnbextension~=3.6.0->ipywidgets>=7.6.5->pycaret) (4.9.4)\n",
            "Requirement already satisfied: beautifulsoup4 in /usr/local/lib/python3.10/dist-packages (from nbconvert>=5->notebook>=4.4.1->widgetsnbextension~=3.6.0->ipywidgets>=7.6.5->pycaret) (4.12.3)\n",
            "Requirement already satisfied: bleach in /usr/local/lib/python3.10/dist-packages (from nbconvert>=5->notebook>=4.4.1->widgetsnbextension~=3.6.0->ipywidgets>=7.6.5->pycaret) (6.1.0)\n",
            "Requirement already satisfied: defusedxml in /usr/local/lib/python3.10/dist-packages (from nbconvert>=5->notebook>=4.4.1->widgetsnbextension~=3.6.0->ipywidgets>=7.6.5->pycaret) (0.7.1)\n",
            "Requirement already satisfied: entrypoints>=0.2.2 in /usr/local/lib/python3.10/dist-packages (from nbconvert>=5->notebook>=4.4.1->widgetsnbextension~=3.6.0->ipywidgets>=7.6.5->pycaret) (0.4)\n",
            "Requirement already satisfied: jupyterlab-pygments in /usr/local/lib/python3.10/dist-packages (from nbconvert>=5->notebook>=4.4.1->widgetsnbextension~=3.6.0->ipywidgets>=7.6.5->pycaret) (0.3.0)\n",
            "Requirement already satisfied: mistune<2,>=0.8.1 in /usr/local/lib/python3.10/dist-packages (from nbconvert>=5->notebook>=4.4.1->widgetsnbextension~=3.6.0->ipywidgets>=7.6.5->pycaret) (0.8.4)\n",
            "Requirement already satisfied: nbclient>=0.5.0 in /usr/local/lib/python3.10/dist-packages (from nbconvert>=5->notebook>=4.4.1->widgetsnbextension~=3.6.0->ipywidgets>=7.6.5->pycaret) (0.9.0)\n",
            "Requirement already satisfied: pandocfilters>=1.4.1 in /usr/local/lib/python3.10/dist-packages (from nbconvert>=5->notebook>=4.4.1->widgetsnbextension~=3.6.0->ipywidgets>=7.6.5->pycaret) (1.5.1)\n",
            "Requirement already satisfied: tinycss2 in /usr/local/lib/python3.10/dist-packages (from nbconvert>=5->notebook>=4.4.1->widgetsnbextension~=3.6.0->ipywidgets>=7.6.5->pycaret) (1.2.1)\n",
            "Requirement already satisfied: argon2-cffi-bindings in /usr/local/lib/python3.10/dist-packages (from argon2-cffi->notebook>=4.4.1->widgetsnbextension~=3.6.0->ipywidgets>=7.6.5->pycaret) (21.2.0)\n",
            "Requirement already satisfied: anyio<4,>=3.1.0 in /usr/local/lib/python3.10/dist-packages (from jupyter-server>=1.8->nbclassic>=0.4.7->notebook>=4.4.1->widgetsnbextension~=3.6.0->ipywidgets>=7.6.5->pycaret) (3.7.1)\n",
            "Requirement already satisfied: websocket-client in /usr/local/lib/python3.10/dist-packages (from jupyter-server>=1.8->nbclassic>=0.4.7->notebook>=4.4.1->widgetsnbextension~=3.6.0->ipywidgets>=7.6.5->pycaret) (1.7.0)\n",
            "Requirement already satisfied: cffi>=1.0.1 in /usr/local/lib/python3.10/dist-packages (from argon2-cffi-bindings->argon2-cffi->notebook>=4.4.1->widgetsnbextension~=3.6.0->ipywidgets>=7.6.5->pycaret) (1.16.0)\n",
            "Requirement already satisfied: soupsieve>1.2 in /usr/local/lib/python3.10/dist-packages (from beautifulsoup4->nbconvert>=5->notebook>=4.4.1->widgetsnbextension~=3.6.0->ipywidgets>=7.6.5->pycaret) (2.5)\n",
            "Requirement already satisfied: webencodings in /usr/local/lib/python3.10/dist-packages (from bleach->nbconvert>=5->notebook>=4.4.1->widgetsnbextension~=3.6.0->ipywidgets>=7.6.5->pycaret) (0.5.1)\n",
            "Requirement already satisfied: sniffio>=1.1 in /usr/local/lib/python3.10/dist-packages (from anyio<4,>=3.1.0->jupyter-server>=1.8->nbclassic>=0.4.7->notebook>=4.4.1->widgetsnbextension~=3.6.0->ipywidgets>=7.6.5->pycaret) (1.3.0)\n",
            "Requirement already satisfied: exceptiongroup in /usr/local/lib/python3.10/dist-packages (from anyio<4,>=3.1.0->jupyter-server>=1.8->nbclassic>=0.4.7->notebook>=4.4.1->widgetsnbextension~=3.6.0->ipywidgets>=7.6.5->pycaret) (1.2.0)\n",
            "Requirement already satisfied: pycparser in /usr/local/lib/python3.10/dist-packages (from cffi>=1.0.1->argon2-cffi-bindings->argon2-cffi->notebook>=4.4.1->widgetsnbextension~=3.6.0->ipywidgets>=7.6.5->pycaret) (2.21)\n",
            "Building wheels for collected packages: pyod\n",
            "  Building wheel for pyod (setup.py) ... \u001b[?25l\u001b[?25hdone\n",
            "  Created wheel for pyod: filename=pyod-1.1.3-py3-none-any.whl size=190251 sha256=2520ee328d50c03828c106cae5228a3966604c807cab583a1859a30a69d61f59\n",
            "  Stored in directory: /root/.cache/pip/wheels/05/f8/db/124d43bec122d6ec0ab3713fadfe25ebed8af52ec561682b4e\n",
            "Successfully built pyod\n",
            "Installing collected packages: kaleido, dash-table, dash-html-components, dash-core-components, wurlitzer, tsdownsample, scipy, scikit-base, schemdraw, retrying, orjson, jedi, deprecation, deprecated, matplotlib, sktime, scikit-plot, pyod, dash, pmdarima, plotly-resampler, category-encoders, tbats, pycaret\n",
            "  Attempting uninstall: scipy\n",
            "    Found existing installation: scipy 1.11.4\n",
            "    Uninstalling scipy-1.11.4:\n",
            "      Successfully uninstalled scipy-1.11.4\n",
            "  Attempting uninstall: matplotlib\n",
            "    Found existing installation: matplotlib 3.7.1\n",
            "    Uninstalling matplotlib-3.7.1:\n",
            "      Successfully uninstalled matplotlib-3.7.1\n",
            "\u001b[31mERROR: pip's dependency resolver does not currently take into account all the packages that are installed. This behaviour is the source of the following dependency conflicts.\n",
            "lida 0.0.10 requires fastapi, which is not installed.\n",
            "lida 0.0.10 requires python-multipart, which is not installed.\n",
            "lida 0.0.10 requires uvicorn, which is not installed.\u001b[0m\u001b[31m\n",
            "\u001b[0mSuccessfully installed category-encoders-2.6.3 dash-2.15.0 dash-core-components-2.0.0 dash-html-components-2.0.0 dash-table-5.0.0 deprecated-1.2.14 deprecation-2.1.0 jedi-0.19.1 kaleido-0.2.1 matplotlib-3.6.0 orjson-3.9.14 plotly-resampler-0.9.2 pmdarima-2.0.4 pycaret-3.2.0 pyod-1.1.3 retrying-1.3.4 schemdraw-0.15 scikit-base-0.5.2 scikit-plot-0.3.7 scipy-1.10.1 sktime-0.21.1 tbats-1.1.3 tsdownsample-0.1.2 wurlitzer-3.0.3\n"
          ]
        },
        {
          "output_type": "display_data",
          "data": {
            "application/vnd.colab-display-data+json": {
              "pip_warning": {
                "packages": [
                  "matplotlib",
                  "mpl_toolkits"
                ]
              }
            }
          },
          "metadata": {}
        }
      ],
      "source": [
        "#only if you want to run it in Google Colab:\n",
        "# for this chapter, we can install the light version of PyCaret as below.\n",
        "\n",
        "!pip install pycaret"
      ]
    },
    {
      "cell_type": "code",
      "execution_count": 53,
      "metadata": {
        "id": "9jpk2v47ToOb",
        "outputId": "7e074060-4039-4616-d988-a45eb3973b31",
        "colab": {
          "base_uri": "https://localhost:8080/",
          "height": 35
        }
      },
      "outputs": [
        {
          "output_type": "execute_result",
          "data": {
            "text/plain": [
              "'3.2.0'"
            ],
            "application/vnd.google.colaboratory.intrinsic+json": {
              "type": "string"
            }
          },
          "metadata": {},
          "execution_count": 53
        }
      ],
      "source": [
        "\n",
        "from pycaret.utils import version\n",
        "version()"
      ]
    },
    {
      "cell_type": "code",
      "execution_count": 54,
      "metadata": {
        "id": "8RUeK2E_ToOc",
        "outputId": "e331fbe7-bfea-44ae-de60-c1814ea3d85c",
        "colab": {
          "base_uri": "https://localhost:8080/",
          "height": 206
        }
      },
      "outputs": [
        {
          "output_type": "execute_result",
          "data": {
            "text/plain": [
              "         X1        X2        X3        X4         X5          y\n",
              "0  1.668068  2.782452  4.641320  7.742038  12.914249  -3.901562\n",
              "1  0.925862  0.857220  0.793667  0.734826   0.680348  -0.384578\n",
              "2  1.057997  1.119357  1.184276  1.252960   1.325628  12.493677\n",
              "3 -0.920339  0.847024 -0.779549  0.717449  -0.660297  12.237389\n",
              "4  1.299748  1.689346  2.195725  2.853890   3.709339  -3.772851"
            ],
            "text/html": [
              "\n",
              "  <div id=\"df-ffa53252-7333-470d-8b2b-bcc4a893175c\" class=\"colab-df-container\">\n",
              "    <div>\n",
              "<style scoped>\n",
              "    .dataframe tbody tr th:only-of-type {\n",
              "        vertical-align: middle;\n",
              "    }\n",
              "\n",
              "    .dataframe tbody tr th {\n",
              "        vertical-align: top;\n",
              "    }\n",
              "\n",
              "    .dataframe thead th {\n",
              "        text-align: right;\n",
              "    }\n",
              "</style>\n",
              "<table border=\"1\" class=\"dataframe\">\n",
              "  <thead>\n",
              "    <tr style=\"text-align: right;\">\n",
              "      <th></th>\n",
              "      <th>X1</th>\n",
              "      <th>X2</th>\n",
              "      <th>X3</th>\n",
              "      <th>X4</th>\n",
              "      <th>X5</th>\n",
              "      <th>y</th>\n",
              "    </tr>\n",
              "  </thead>\n",
              "  <tbody>\n",
              "    <tr>\n",
              "      <th>0</th>\n",
              "      <td>1.668068</td>\n",
              "      <td>2.782452</td>\n",
              "      <td>4.641320</td>\n",
              "      <td>7.742038</td>\n",
              "      <td>12.914249</td>\n",
              "      <td>-3.901562</td>\n",
              "    </tr>\n",
              "    <tr>\n",
              "      <th>1</th>\n",
              "      <td>0.925862</td>\n",
              "      <td>0.857220</td>\n",
              "      <td>0.793667</td>\n",
              "      <td>0.734826</td>\n",
              "      <td>0.680348</td>\n",
              "      <td>-0.384578</td>\n",
              "    </tr>\n",
              "    <tr>\n",
              "      <th>2</th>\n",
              "      <td>1.057997</td>\n",
              "      <td>1.119357</td>\n",
              "      <td>1.184276</td>\n",
              "      <td>1.252960</td>\n",
              "      <td>1.325628</td>\n",
              "      <td>12.493677</td>\n",
              "    </tr>\n",
              "    <tr>\n",
              "      <th>3</th>\n",
              "      <td>-0.920339</td>\n",
              "      <td>0.847024</td>\n",
              "      <td>-0.779549</td>\n",
              "      <td>0.717449</td>\n",
              "      <td>-0.660297</td>\n",
              "      <td>12.237389</td>\n",
              "    </tr>\n",
              "    <tr>\n",
              "      <th>4</th>\n",
              "      <td>1.299748</td>\n",
              "      <td>1.689346</td>\n",
              "      <td>2.195725</td>\n",
              "      <td>2.853890</td>\n",
              "      <td>3.709339</td>\n",
              "      <td>-3.772851</td>\n",
              "    </tr>\n",
              "  </tbody>\n",
              "</table>\n",
              "</div>\n",
              "    <div class=\"colab-df-buttons\">\n",
              "\n",
              "  <div class=\"colab-df-container\">\n",
              "    <button class=\"colab-df-convert\" onclick=\"convertToInteractive('df-ffa53252-7333-470d-8b2b-bcc4a893175c')\"\n",
              "            title=\"Convert this dataframe to an interactive table.\"\n",
              "            style=\"display:none;\">\n",
              "\n",
              "  <svg xmlns=\"http://www.w3.org/2000/svg\" height=\"24px\" viewBox=\"0 -960 960 960\">\n",
              "    <path d=\"M120-120v-720h720v720H120Zm60-500h600v-160H180v160Zm220 220h160v-160H400v160Zm0 220h160v-160H400v160ZM180-400h160v-160H180v160Zm440 0h160v-160H620v160ZM180-180h160v-160H180v160Zm440 0h160v-160H620v160Z\"/>\n",
              "  </svg>\n",
              "    </button>\n",
              "\n",
              "  <style>\n",
              "    .colab-df-container {\n",
              "      display:flex;\n",
              "      gap: 12px;\n",
              "    }\n",
              "\n",
              "    .colab-df-convert {\n",
              "      background-color: #E8F0FE;\n",
              "      border: none;\n",
              "      border-radius: 50%;\n",
              "      cursor: pointer;\n",
              "      display: none;\n",
              "      fill: #1967D2;\n",
              "      height: 32px;\n",
              "      padding: 0 0 0 0;\n",
              "      width: 32px;\n",
              "    }\n",
              "\n",
              "    .colab-df-convert:hover {\n",
              "      background-color: #E2EBFA;\n",
              "      box-shadow: 0px 1px 2px rgba(60, 64, 67, 0.3), 0px 1px 3px 1px rgba(60, 64, 67, 0.15);\n",
              "      fill: #174EA6;\n",
              "    }\n",
              "\n",
              "    .colab-df-buttons div {\n",
              "      margin-bottom: 4px;\n",
              "    }\n",
              "\n",
              "    [theme=dark] .colab-df-convert {\n",
              "      background-color: #3B4455;\n",
              "      fill: #D2E3FC;\n",
              "    }\n",
              "\n",
              "    [theme=dark] .colab-df-convert:hover {\n",
              "      background-color: #434B5C;\n",
              "      box-shadow: 0px 1px 3px 1px rgba(0, 0, 0, 0.15);\n",
              "      filter: drop-shadow(0px 1px 2px rgba(0, 0, 0, 0.3));\n",
              "      fill: #FFFFFF;\n",
              "    }\n",
              "  </style>\n",
              "\n",
              "    <script>\n",
              "      const buttonEl =\n",
              "        document.querySelector('#df-ffa53252-7333-470d-8b2b-bcc4a893175c button.colab-df-convert');\n",
              "      buttonEl.style.display =\n",
              "        google.colab.kernel.accessAllowed ? 'block' : 'none';\n",
              "\n",
              "      async function convertToInteractive(key) {\n",
              "        const element = document.querySelector('#df-ffa53252-7333-470d-8b2b-bcc4a893175c');\n",
              "        const dataTable =\n",
              "          await google.colab.kernel.invokeFunction('convertToInteractive',\n",
              "                                                    [key], {});\n",
              "        if (!dataTable) return;\n",
              "\n",
              "        const docLinkHtml = 'Like what you see? Visit the ' +\n",
              "          '<a target=\"_blank\" href=https://colab.research.google.com/notebooks/data_table.ipynb>data table notebook</a>'\n",
              "          + ' to learn more about interactive tables.';\n",
              "        element.innerHTML = '';\n",
              "        dataTable['output_type'] = 'display_data';\n",
              "        await google.colab.output.renderOutput(dataTable, element);\n",
              "        const docLink = document.createElement('div');\n",
              "        docLink.innerHTML = docLinkHtml;\n",
              "        element.appendChild(docLink);\n",
              "      }\n",
              "    </script>\n",
              "  </div>\n",
              "\n",
              "\n",
              "<div id=\"df-0e7ecce8-d258-4bb7-9547-d37baf423f89\">\n",
              "  <button class=\"colab-df-quickchart\" onclick=\"quickchart('df-0e7ecce8-d258-4bb7-9547-d37baf423f89')\"\n",
              "            title=\"Suggest charts\"\n",
              "            style=\"display:none;\">\n",
              "\n",
              "<svg xmlns=\"http://www.w3.org/2000/svg\" height=\"24px\"viewBox=\"0 0 24 24\"\n",
              "     width=\"24px\">\n",
              "    <g>\n",
              "        <path d=\"M19 3H5c-1.1 0-2 .9-2 2v14c0 1.1.9 2 2 2h14c1.1 0 2-.9 2-2V5c0-1.1-.9-2-2-2zM9 17H7v-7h2v7zm4 0h-2V7h2v10zm4 0h-2v-4h2v4z\"/>\n",
              "    </g>\n",
              "</svg>\n",
              "  </button>\n",
              "\n",
              "<style>\n",
              "  .colab-df-quickchart {\n",
              "      --bg-color: #E8F0FE;\n",
              "      --fill-color: #1967D2;\n",
              "      --hover-bg-color: #E2EBFA;\n",
              "      --hover-fill-color: #174EA6;\n",
              "      --disabled-fill-color: #AAA;\n",
              "      --disabled-bg-color: #DDD;\n",
              "  }\n",
              "\n",
              "  [theme=dark] .colab-df-quickchart {\n",
              "      --bg-color: #3B4455;\n",
              "      --fill-color: #D2E3FC;\n",
              "      --hover-bg-color: #434B5C;\n",
              "      --hover-fill-color: #FFFFFF;\n",
              "      --disabled-bg-color: #3B4455;\n",
              "      --disabled-fill-color: #666;\n",
              "  }\n",
              "\n",
              "  .colab-df-quickchart {\n",
              "    background-color: var(--bg-color);\n",
              "    border: none;\n",
              "    border-radius: 50%;\n",
              "    cursor: pointer;\n",
              "    display: none;\n",
              "    fill: var(--fill-color);\n",
              "    height: 32px;\n",
              "    padding: 0;\n",
              "    width: 32px;\n",
              "  }\n",
              "\n",
              "  .colab-df-quickchart:hover {\n",
              "    background-color: var(--hover-bg-color);\n",
              "    box-shadow: 0 1px 2px rgba(60, 64, 67, 0.3), 0 1px 3px 1px rgba(60, 64, 67, 0.15);\n",
              "    fill: var(--button-hover-fill-color);\n",
              "  }\n",
              "\n",
              "  .colab-df-quickchart-complete:disabled,\n",
              "  .colab-df-quickchart-complete:disabled:hover {\n",
              "    background-color: var(--disabled-bg-color);\n",
              "    fill: var(--disabled-fill-color);\n",
              "    box-shadow: none;\n",
              "  }\n",
              "\n",
              "  .colab-df-spinner {\n",
              "    border: 2px solid var(--fill-color);\n",
              "    border-color: transparent;\n",
              "    border-bottom-color: var(--fill-color);\n",
              "    animation:\n",
              "      spin 1s steps(1) infinite;\n",
              "  }\n",
              "\n",
              "  @keyframes spin {\n",
              "    0% {\n",
              "      border-color: transparent;\n",
              "      border-bottom-color: var(--fill-color);\n",
              "      border-left-color: var(--fill-color);\n",
              "    }\n",
              "    20% {\n",
              "      border-color: transparent;\n",
              "      border-left-color: var(--fill-color);\n",
              "      border-top-color: var(--fill-color);\n",
              "    }\n",
              "    30% {\n",
              "      border-color: transparent;\n",
              "      border-left-color: var(--fill-color);\n",
              "      border-top-color: var(--fill-color);\n",
              "      border-right-color: var(--fill-color);\n",
              "    }\n",
              "    40% {\n",
              "      border-color: transparent;\n",
              "      border-right-color: var(--fill-color);\n",
              "      border-top-color: var(--fill-color);\n",
              "    }\n",
              "    60% {\n",
              "      border-color: transparent;\n",
              "      border-right-color: var(--fill-color);\n",
              "    }\n",
              "    80% {\n",
              "      border-color: transparent;\n",
              "      border-right-color: var(--fill-color);\n",
              "      border-bottom-color: var(--fill-color);\n",
              "    }\n",
              "    90% {\n",
              "      border-color: transparent;\n",
              "      border-bottom-color: var(--fill-color);\n",
              "    }\n",
              "  }\n",
              "</style>\n",
              "\n",
              "  <script>\n",
              "    async function quickchart(key) {\n",
              "      const quickchartButtonEl =\n",
              "        document.querySelector('#' + key + ' button');\n",
              "      quickchartButtonEl.disabled = true;  // To prevent multiple clicks.\n",
              "      quickchartButtonEl.classList.add('colab-df-spinner');\n",
              "      try {\n",
              "        const charts = await google.colab.kernel.invokeFunction(\n",
              "            'suggestCharts', [key], {});\n",
              "      } catch (error) {\n",
              "        console.error('Error during call to suggestCharts:', error);\n",
              "      }\n",
              "      quickchartButtonEl.classList.remove('colab-df-spinner');\n",
              "      quickchartButtonEl.classList.add('colab-df-quickchart-complete');\n",
              "    }\n",
              "    (() => {\n",
              "      let quickchartButtonEl =\n",
              "        document.querySelector('#df-0e7ecce8-d258-4bb7-9547-d37baf423f89 button');\n",
              "      quickchartButtonEl.style.display =\n",
              "        google.colab.kernel.accessAllowed ? 'block' : 'none';\n",
              "    })();\n",
              "  </script>\n",
              "</div>\n",
              "\n",
              "    </div>\n",
              "  </div>\n"
            ],
            "application/vnd.google.colaboratory.intrinsic+json": {
              "type": "dataframe",
              "variable_name": "df",
              "summary": "{\n  \"name\": \"df\",\n  \"rows\": 100,\n  \"fields\": [\n    {\n      \"column\": \"X1\",\n      \"properties\": {\n        \"dtype\": \"number\",\n        \"std\": 1.0217336258855605,\n        \"min\": -2.502812866,\n        \"max\": 3.428562934,\n        \"samples\": [\n          -0.895378572,\n          0.556752763,\n          0.609150984\n        ],\n        \"num_unique_values\": 100,\n        \"semantic_type\": \"\",\n        \"description\": \"\"\n      }\n    },\n    {\n      \"column\": \"X2\",\n      \"properties\": {\n        \"dtype\": \"number\",\n        \"std\": 1.5905831363372287,\n        \"min\": 7.74e-05,\n        \"max\": 11.75504379,\n        \"samples\": [\n          0.801702787,\n          0.309973639,\n          0.371064921\n        ],\n        \"num_unique_values\": 100,\n        \"semantic_type\": \"\",\n        \"description\": \"\"\n      }\n    },\n    {\n      \"column\": \"X3\",\n      \"properties\": {\n        \"dtype\": \"number\",\n        \"std\": 4.9332661025182745,\n        \"min\": -15.67780059,\n        \"max\": 40.30290743,\n        \"samples\": [\n          -0.717827497,\n          0.17257868,\n          0.226034561\n        ],\n        \"num_unique_values\": 100,\n        \"semantic_type\": \"\",\n        \"description\": \"\"\n      }\n    },\n    {\n      \"column\": \"X4\",\n      \"properties\": {\n        \"dtype\": \"number\",\n        \"std\": 14.672386601939523,\n        \"min\": 5.99e-09,\n        \"max\": 138.1810545,\n        \"samples\": [\n          0.642727359,\n          0.096083657,\n          0.137689175\n        ],\n        \"num_unique_values\": 100,\n        \"semantic_type\": \"\",\n        \"description\": \"\"\n      }\n    },\n    {\n      \"column\": \"X5\",\n      \"properties\": {\n        \"dtype\": \"number\",\n        \"std\": 49.374982096031914,\n        \"min\": -98.20687547,\n        \"max\": 473.7624418,\n        \"samples\": [\n          -0.575484305,\n          0.053494841,\n          0.083873497\n        ],\n        \"num_unique_values\": 100,\n        \"semantic_type\": \"\",\n        \"description\": \"\"\n      }\n    },\n    {\n      \"column\": \"y\",\n      \"properties\": {\n        \"dtype\": \"number\",\n        \"std\": 17.25152534596788,\n        \"min\": -96.61513463,\n        \"max\": 61.37532386,\n        \"samples\": [\n          -8.13921205,\n          9.201484392,\n          -12.94787357\n        ],\n        \"num_unique_values\": 100,\n        \"semantic_type\": \"\",\n        \"description\": \"\"\n      }\n    }\n  ]\n}"
            }
          },
          "metadata": {},
          "execution_count": 54
        }
      ],
      "source": [
        "df.head()"
      ]
    },
    {
      "cell_type": "code",
      "execution_count": 55,
      "metadata": {
        "id": "tfP7P1oXToOd"
      },
      "outputs": [],
      "source": [
        "from pycaret.regression import *"
      ]
    },
    {
      "cell_type": "code",
      "execution_count": 56,
      "metadata": {
        "id": "YrYrcmMKToOd",
        "outputId": "d9c877ad-cd86-4202-93db-c055466ae8ad",
        "colab": {
          "base_uri": "https://localhost:8080/",
          "height": 725
        }
      },
      "outputs": [
        {
          "output_type": "display_data",
          "data": {
            "text/plain": [
              "<pandas.io.formats.style.Styler at 0x7fc5fcaeb3d0>"
            ],
            "text/html": [
              "<style type=\"text/css\">\n",
              "#T_ebee8_row8_col1, #T_ebee8_row12_col1 {\n",
              "  background-color: lightgreen;\n",
              "}\n",
              "</style>\n",
              "<table id=\"T_ebee8\" class=\"dataframe\">\n",
              "  <thead>\n",
              "    <tr>\n",
              "      <th class=\"blank level0\" >&nbsp;</th>\n",
              "      <th id=\"T_ebee8_level0_col0\" class=\"col_heading level0 col0\" >Description</th>\n",
              "      <th id=\"T_ebee8_level0_col1\" class=\"col_heading level0 col1\" >Value</th>\n",
              "    </tr>\n",
              "  </thead>\n",
              "  <tbody>\n",
              "    <tr>\n",
              "      <th id=\"T_ebee8_level0_row0\" class=\"row_heading level0 row0\" >0</th>\n",
              "      <td id=\"T_ebee8_row0_col0\" class=\"data row0 col0\" >Session id</td>\n",
              "      <td id=\"T_ebee8_row0_col1\" class=\"data row0 col1\" >1000</td>\n",
              "    </tr>\n",
              "    <tr>\n",
              "      <th id=\"T_ebee8_level0_row1\" class=\"row_heading level0 row1\" >1</th>\n",
              "      <td id=\"T_ebee8_row1_col0\" class=\"data row1 col0\" >Target</td>\n",
              "      <td id=\"T_ebee8_row1_col1\" class=\"data row1 col1\" >y</td>\n",
              "    </tr>\n",
              "    <tr>\n",
              "      <th id=\"T_ebee8_level0_row2\" class=\"row_heading level0 row2\" >2</th>\n",
              "      <td id=\"T_ebee8_row2_col0\" class=\"data row2 col0\" >Target type</td>\n",
              "      <td id=\"T_ebee8_row2_col1\" class=\"data row2 col1\" >Regression</td>\n",
              "    </tr>\n",
              "    <tr>\n",
              "      <th id=\"T_ebee8_level0_row3\" class=\"row_heading level0 row3\" >3</th>\n",
              "      <td id=\"T_ebee8_row3_col0\" class=\"data row3 col0\" >Original data shape</td>\n",
              "      <td id=\"T_ebee8_row3_col1\" class=\"data row3 col1\" >(100, 6)</td>\n",
              "    </tr>\n",
              "    <tr>\n",
              "      <th id=\"T_ebee8_level0_row4\" class=\"row_heading level0 row4\" >4</th>\n",
              "      <td id=\"T_ebee8_row4_col0\" class=\"data row4 col0\" >Transformed data shape</td>\n",
              "      <td id=\"T_ebee8_row4_col1\" class=\"data row4 col1\" >(100, 6)</td>\n",
              "    </tr>\n",
              "    <tr>\n",
              "      <th id=\"T_ebee8_level0_row5\" class=\"row_heading level0 row5\" >5</th>\n",
              "      <td id=\"T_ebee8_row5_col0\" class=\"data row5 col0\" >Transformed train set shape</td>\n",
              "      <td id=\"T_ebee8_row5_col1\" class=\"data row5 col1\" >(80, 6)</td>\n",
              "    </tr>\n",
              "    <tr>\n",
              "      <th id=\"T_ebee8_level0_row6\" class=\"row_heading level0 row6\" >6</th>\n",
              "      <td id=\"T_ebee8_row6_col0\" class=\"data row6 col0\" >Transformed test set shape</td>\n",
              "      <td id=\"T_ebee8_row6_col1\" class=\"data row6 col1\" >(20, 6)</td>\n",
              "    </tr>\n",
              "    <tr>\n",
              "      <th id=\"T_ebee8_level0_row7\" class=\"row_heading level0 row7\" >7</th>\n",
              "      <td id=\"T_ebee8_row7_col0\" class=\"data row7 col0\" >Numeric features</td>\n",
              "      <td id=\"T_ebee8_row7_col1\" class=\"data row7 col1\" >5</td>\n",
              "    </tr>\n",
              "    <tr>\n",
              "      <th id=\"T_ebee8_level0_row8\" class=\"row_heading level0 row8\" >8</th>\n",
              "      <td id=\"T_ebee8_row8_col0\" class=\"data row8 col0\" >Preprocess</td>\n",
              "      <td id=\"T_ebee8_row8_col1\" class=\"data row8 col1\" >True</td>\n",
              "    </tr>\n",
              "    <tr>\n",
              "      <th id=\"T_ebee8_level0_row9\" class=\"row_heading level0 row9\" >9</th>\n",
              "      <td id=\"T_ebee8_row9_col0\" class=\"data row9 col0\" >Imputation type</td>\n",
              "      <td id=\"T_ebee8_row9_col1\" class=\"data row9 col1\" >simple</td>\n",
              "    </tr>\n",
              "    <tr>\n",
              "      <th id=\"T_ebee8_level0_row10\" class=\"row_heading level0 row10\" >10</th>\n",
              "      <td id=\"T_ebee8_row10_col0\" class=\"data row10 col0\" >Numeric imputation</td>\n",
              "      <td id=\"T_ebee8_row10_col1\" class=\"data row10 col1\" >mean</td>\n",
              "    </tr>\n",
              "    <tr>\n",
              "      <th id=\"T_ebee8_level0_row11\" class=\"row_heading level0 row11\" >11</th>\n",
              "      <td id=\"T_ebee8_row11_col0\" class=\"data row11 col0\" >Categorical imputation</td>\n",
              "      <td id=\"T_ebee8_row11_col1\" class=\"data row11 col1\" >mode</td>\n",
              "    </tr>\n",
              "    <tr>\n",
              "      <th id=\"T_ebee8_level0_row12\" class=\"row_heading level0 row12\" >12</th>\n",
              "      <td id=\"T_ebee8_row12_col0\" class=\"data row12 col0\" >Normalize</td>\n",
              "      <td id=\"T_ebee8_row12_col1\" class=\"data row12 col1\" >True</td>\n",
              "    </tr>\n",
              "    <tr>\n",
              "      <th id=\"T_ebee8_level0_row13\" class=\"row_heading level0 row13\" >13</th>\n",
              "      <td id=\"T_ebee8_row13_col0\" class=\"data row13 col0\" >Normalize method</td>\n",
              "      <td id=\"T_ebee8_row13_col1\" class=\"data row13 col1\" >zscore</td>\n",
              "    </tr>\n",
              "    <tr>\n",
              "      <th id=\"T_ebee8_level0_row14\" class=\"row_heading level0 row14\" >14</th>\n",
              "      <td id=\"T_ebee8_row14_col0\" class=\"data row14 col0\" >Fold Generator</td>\n",
              "      <td id=\"T_ebee8_row14_col1\" class=\"data row14 col1\" >KFold</td>\n",
              "    </tr>\n",
              "    <tr>\n",
              "      <th id=\"T_ebee8_level0_row15\" class=\"row_heading level0 row15\" >15</th>\n",
              "      <td id=\"T_ebee8_row15_col0\" class=\"data row15 col0\" >Fold Number</td>\n",
              "      <td id=\"T_ebee8_row15_col1\" class=\"data row15 col1\" >5</td>\n",
              "    </tr>\n",
              "    <tr>\n",
              "      <th id=\"T_ebee8_level0_row16\" class=\"row_heading level0 row16\" >16</th>\n",
              "      <td id=\"T_ebee8_row16_col0\" class=\"data row16 col0\" >CPU Jobs</td>\n",
              "      <td id=\"T_ebee8_row16_col1\" class=\"data row16 col1\" >-1</td>\n",
              "    </tr>\n",
              "    <tr>\n",
              "      <th id=\"T_ebee8_level0_row17\" class=\"row_heading level0 row17\" >17</th>\n",
              "      <td id=\"T_ebee8_row17_col0\" class=\"data row17 col0\" >Use GPU</td>\n",
              "      <td id=\"T_ebee8_row17_col1\" class=\"data row17 col1\" >False</td>\n",
              "    </tr>\n",
              "    <tr>\n",
              "      <th id=\"T_ebee8_level0_row18\" class=\"row_heading level0 row18\" >18</th>\n",
              "      <td id=\"T_ebee8_row18_col0\" class=\"data row18 col0\" >Log Experiment</td>\n",
              "      <td id=\"T_ebee8_row18_col1\" class=\"data row18 col1\" >False</td>\n",
              "    </tr>\n",
              "    <tr>\n",
              "      <th id=\"T_ebee8_level0_row19\" class=\"row_heading level0 row19\" >19</th>\n",
              "      <td id=\"T_ebee8_row19_col0\" class=\"data row19 col0\" >Experiment Name</td>\n",
              "      <td id=\"T_ebee8_row19_col1\" class=\"data row19 col1\" >reg-default-name</td>\n",
              "    </tr>\n",
              "    <tr>\n",
              "      <th id=\"T_ebee8_level0_row20\" class=\"row_heading level0 row20\" >20</th>\n",
              "      <td id=\"T_ebee8_row20_col0\" class=\"data row20 col0\" >USI</td>\n",
              "      <td id=\"T_ebee8_row20_col1\" class=\"data row20 col1\" >998c</td>\n",
              "    </tr>\n",
              "  </tbody>\n",
              "</table>\n"
            ]
          },
          "metadata": {}
        },
        {
          "output_type": "execute_result",
          "data": {
            "text/plain": [
              "<pycaret.regression.oop.RegressionExperiment at 0x7fc6021d93f0>"
            ]
          },
          "metadata": {},
          "execution_count": 56
        }
      ],
      "source": [
        "setup(df, target='y', session_id=1000, train_size=0.8, fold_strategy='kfold', fold=5,\n",
        "      normalize=True, normalize_method='zscore')"
      ]
    },
    {
      "cell_type": "code",
      "execution_count": 57,
      "metadata": {
        "id": "h7vQR0xMToOe",
        "outputId": "42c8df21-4ad1-4ac5-dea5-2a747918b0be",
        "colab": {
          "base_uri": "https://localhost:8080/",
          "height": 864
        }
      },
      "outputs": [
        {
          "output_type": "execute_result",
          "data": {
            "text/plain": [
              "                                       Name  \\\n",
              "ID                                            \n",
              "lr                        Linear Regression   \n",
              "lasso                      Lasso Regression   \n",
              "ridge                      Ridge Regression   \n",
              "en                              Elastic Net   \n",
              "lar                  Least Angle Regression   \n",
              "llar           Lasso Least Angle Regression   \n",
              "omp             Orthogonal Matching Pursuit   \n",
              "br                           Bayesian Ridge   \n",
              "ard       Automatic Relevance Determination   \n",
              "par            Passive Aggressive Regressor   \n",
              "ransac              Random Sample Consensus   \n",
              "tr                       TheilSen Regressor   \n",
              "huber                       Huber Regressor   \n",
              "kr                             Kernel Ridge   \n",
              "svm               Support Vector Regression   \n",
              "knn                   K Neighbors Regressor   \n",
              "dt                  Decision Tree Regressor   \n",
              "rf                  Random Forest Regressor   \n",
              "et                    Extra Trees Regressor   \n",
              "ada                      AdaBoost Regressor   \n",
              "gbr             Gradient Boosting Regressor   \n",
              "mlp                           MLP Regressor   \n",
              "xgboost           Extreme Gradient Boosting   \n",
              "lightgbm    Light Gradient Boosting Machine   \n",
              "dummy                       Dummy Regressor   \n",
              "\n",
              "                                                  Reference  Turbo  \n",
              "ID                                                                  \n",
              "lr              sklearn.linear_model._base.LinearRegression   True  \n",
              "lasso        sklearn.linear_model._coordinate_descent.Lasso   True  \n",
              "ridge                     sklearn.linear_model._ridge.Ridge   True  \n",
              "en        sklearn.linear_model._coordinate_descent.Elast...   True  \n",
              "lar                  sklearn.linear_model._least_angle.Lars   True  \n",
              "llar            sklearn.linear_model._least_angle.LassoLars   True  \n",
              "omp       sklearn.linear_model._omp.OrthogonalMatchingPu...   True  \n",
              "br                sklearn.linear_model._bayes.BayesianRidge   True  \n",
              "ard               sklearn.linear_model._bayes.ARDRegression  False  \n",
              "par       sklearn.linear_model._passive_aggressive.Passi...   True  \n",
              "ransac         sklearn.linear_model._ransac.RANSACRegressor  False  \n",
              "tr        sklearn.linear_model._theil_sen.TheilSenRegressor  False  \n",
              "huber            sklearn.linear_model._huber.HuberRegressor   True  \n",
              "kr                         sklearn.kernel_ridge.KernelRidge  False  \n",
              "svm                                sklearn.svm._classes.SVR  False  \n",
              "knn       sklearn.neighbors._regression.KNeighborsRegressor   True  \n",
              "dt              sklearn.tree._classes.DecisionTreeRegressor   True  \n",
              "rf           sklearn.ensemble._forest.RandomForestRegressor   True  \n",
              "et             sklearn.ensemble._forest.ExtraTreesRegressor   True  \n",
              "ada       sklearn.ensemble._weight_boosting.AdaBoostRegr...   True  \n",
              "gbr          sklearn.ensemble._gb.GradientBoostingRegressor   True  \n",
              "mlp       sklearn.neural_network._multilayer_perceptron....  False  \n",
              "xgboost                        xgboost.sklearn.XGBRegressor   True  \n",
              "lightgbm                     lightgbm.sklearn.LGBMRegressor   True  \n",
              "dummy                          sklearn.dummy.DummyRegressor   True  "
            ],
            "text/html": [
              "\n",
              "  <div id=\"df-99d1281c-5db2-48ff-b336-018aaf5adcea\" class=\"colab-df-container\">\n",
              "    <div>\n",
              "<style scoped>\n",
              "    .dataframe tbody tr th:only-of-type {\n",
              "        vertical-align: middle;\n",
              "    }\n",
              "\n",
              "    .dataframe tbody tr th {\n",
              "        vertical-align: top;\n",
              "    }\n",
              "\n",
              "    .dataframe thead th {\n",
              "        text-align: right;\n",
              "    }\n",
              "</style>\n",
              "<table border=\"1\" class=\"dataframe\">\n",
              "  <thead>\n",
              "    <tr style=\"text-align: right;\">\n",
              "      <th></th>\n",
              "      <th>Name</th>\n",
              "      <th>Reference</th>\n",
              "      <th>Turbo</th>\n",
              "    </tr>\n",
              "    <tr>\n",
              "      <th>ID</th>\n",
              "      <th></th>\n",
              "      <th></th>\n",
              "      <th></th>\n",
              "    </tr>\n",
              "  </thead>\n",
              "  <tbody>\n",
              "    <tr>\n",
              "      <th>lr</th>\n",
              "      <td>Linear Regression</td>\n",
              "      <td>sklearn.linear_model._base.LinearRegression</td>\n",
              "      <td>True</td>\n",
              "    </tr>\n",
              "    <tr>\n",
              "      <th>lasso</th>\n",
              "      <td>Lasso Regression</td>\n",
              "      <td>sklearn.linear_model._coordinate_descent.Lasso</td>\n",
              "      <td>True</td>\n",
              "    </tr>\n",
              "    <tr>\n",
              "      <th>ridge</th>\n",
              "      <td>Ridge Regression</td>\n",
              "      <td>sklearn.linear_model._ridge.Ridge</td>\n",
              "      <td>True</td>\n",
              "    </tr>\n",
              "    <tr>\n",
              "      <th>en</th>\n",
              "      <td>Elastic Net</td>\n",
              "      <td>sklearn.linear_model._coordinate_descent.Elast...</td>\n",
              "      <td>True</td>\n",
              "    </tr>\n",
              "    <tr>\n",
              "      <th>lar</th>\n",
              "      <td>Least Angle Regression</td>\n",
              "      <td>sklearn.linear_model._least_angle.Lars</td>\n",
              "      <td>True</td>\n",
              "    </tr>\n",
              "    <tr>\n",
              "      <th>llar</th>\n",
              "      <td>Lasso Least Angle Regression</td>\n",
              "      <td>sklearn.linear_model._least_angle.LassoLars</td>\n",
              "      <td>True</td>\n",
              "    </tr>\n",
              "    <tr>\n",
              "      <th>omp</th>\n",
              "      <td>Orthogonal Matching Pursuit</td>\n",
              "      <td>sklearn.linear_model._omp.OrthogonalMatchingPu...</td>\n",
              "      <td>True</td>\n",
              "    </tr>\n",
              "    <tr>\n",
              "      <th>br</th>\n",
              "      <td>Bayesian Ridge</td>\n",
              "      <td>sklearn.linear_model._bayes.BayesianRidge</td>\n",
              "      <td>True</td>\n",
              "    </tr>\n",
              "    <tr>\n",
              "      <th>ard</th>\n",
              "      <td>Automatic Relevance Determination</td>\n",
              "      <td>sklearn.linear_model._bayes.ARDRegression</td>\n",
              "      <td>False</td>\n",
              "    </tr>\n",
              "    <tr>\n",
              "      <th>par</th>\n",
              "      <td>Passive Aggressive Regressor</td>\n",
              "      <td>sklearn.linear_model._passive_aggressive.Passi...</td>\n",
              "      <td>True</td>\n",
              "    </tr>\n",
              "    <tr>\n",
              "      <th>ransac</th>\n",
              "      <td>Random Sample Consensus</td>\n",
              "      <td>sklearn.linear_model._ransac.RANSACRegressor</td>\n",
              "      <td>False</td>\n",
              "    </tr>\n",
              "    <tr>\n",
              "      <th>tr</th>\n",
              "      <td>TheilSen Regressor</td>\n",
              "      <td>sklearn.linear_model._theil_sen.TheilSenRegressor</td>\n",
              "      <td>False</td>\n",
              "    </tr>\n",
              "    <tr>\n",
              "      <th>huber</th>\n",
              "      <td>Huber Regressor</td>\n",
              "      <td>sklearn.linear_model._huber.HuberRegressor</td>\n",
              "      <td>True</td>\n",
              "    </tr>\n",
              "    <tr>\n",
              "      <th>kr</th>\n",
              "      <td>Kernel Ridge</td>\n",
              "      <td>sklearn.kernel_ridge.KernelRidge</td>\n",
              "      <td>False</td>\n",
              "    </tr>\n",
              "    <tr>\n",
              "      <th>svm</th>\n",
              "      <td>Support Vector Regression</td>\n",
              "      <td>sklearn.svm._classes.SVR</td>\n",
              "      <td>False</td>\n",
              "    </tr>\n",
              "    <tr>\n",
              "      <th>knn</th>\n",
              "      <td>K Neighbors Regressor</td>\n",
              "      <td>sklearn.neighbors._regression.KNeighborsRegressor</td>\n",
              "      <td>True</td>\n",
              "    </tr>\n",
              "    <tr>\n",
              "      <th>dt</th>\n",
              "      <td>Decision Tree Regressor</td>\n",
              "      <td>sklearn.tree._classes.DecisionTreeRegressor</td>\n",
              "      <td>True</td>\n",
              "    </tr>\n",
              "    <tr>\n",
              "      <th>rf</th>\n",
              "      <td>Random Forest Regressor</td>\n",
              "      <td>sklearn.ensemble._forest.RandomForestRegressor</td>\n",
              "      <td>True</td>\n",
              "    </tr>\n",
              "    <tr>\n",
              "      <th>et</th>\n",
              "      <td>Extra Trees Regressor</td>\n",
              "      <td>sklearn.ensemble._forest.ExtraTreesRegressor</td>\n",
              "      <td>True</td>\n",
              "    </tr>\n",
              "    <tr>\n",
              "      <th>ada</th>\n",
              "      <td>AdaBoost Regressor</td>\n",
              "      <td>sklearn.ensemble._weight_boosting.AdaBoostRegr...</td>\n",
              "      <td>True</td>\n",
              "    </tr>\n",
              "    <tr>\n",
              "      <th>gbr</th>\n",
              "      <td>Gradient Boosting Regressor</td>\n",
              "      <td>sklearn.ensemble._gb.GradientBoostingRegressor</td>\n",
              "      <td>True</td>\n",
              "    </tr>\n",
              "    <tr>\n",
              "      <th>mlp</th>\n",
              "      <td>MLP Regressor</td>\n",
              "      <td>sklearn.neural_network._multilayer_perceptron....</td>\n",
              "      <td>False</td>\n",
              "    </tr>\n",
              "    <tr>\n",
              "      <th>xgboost</th>\n",
              "      <td>Extreme Gradient Boosting</td>\n",
              "      <td>xgboost.sklearn.XGBRegressor</td>\n",
              "      <td>True</td>\n",
              "    </tr>\n",
              "    <tr>\n",
              "      <th>lightgbm</th>\n",
              "      <td>Light Gradient Boosting Machine</td>\n",
              "      <td>lightgbm.sklearn.LGBMRegressor</td>\n",
              "      <td>True</td>\n",
              "    </tr>\n",
              "    <tr>\n",
              "      <th>dummy</th>\n",
              "      <td>Dummy Regressor</td>\n",
              "      <td>sklearn.dummy.DummyRegressor</td>\n",
              "      <td>True</td>\n",
              "    </tr>\n",
              "  </tbody>\n",
              "</table>\n",
              "</div>\n",
              "    <div class=\"colab-df-buttons\">\n",
              "\n",
              "  <div class=\"colab-df-container\">\n",
              "    <button class=\"colab-df-convert\" onclick=\"convertToInteractive('df-99d1281c-5db2-48ff-b336-018aaf5adcea')\"\n",
              "            title=\"Convert this dataframe to an interactive table.\"\n",
              "            style=\"display:none;\">\n",
              "\n",
              "  <svg xmlns=\"http://www.w3.org/2000/svg\" height=\"24px\" viewBox=\"0 -960 960 960\">\n",
              "    <path d=\"M120-120v-720h720v720H120Zm60-500h600v-160H180v160Zm220 220h160v-160H400v160Zm0 220h160v-160H400v160ZM180-400h160v-160H180v160Zm440 0h160v-160H620v160ZM180-180h160v-160H180v160Zm440 0h160v-160H620v160Z\"/>\n",
              "  </svg>\n",
              "    </button>\n",
              "\n",
              "  <style>\n",
              "    .colab-df-container {\n",
              "      display:flex;\n",
              "      gap: 12px;\n",
              "    }\n",
              "\n",
              "    .colab-df-convert {\n",
              "      background-color: #E8F0FE;\n",
              "      border: none;\n",
              "      border-radius: 50%;\n",
              "      cursor: pointer;\n",
              "      display: none;\n",
              "      fill: #1967D2;\n",
              "      height: 32px;\n",
              "      padding: 0 0 0 0;\n",
              "      width: 32px;\n",
              "    }\n",
              "\n",
              "    .colab-df-convert:hover {\n",
              "      background-color: #E2EBFA;\n",
              "      box-shadow: 0px 1px 2px rgba(60, 64, 67, 0.3), 0px 1px 3px 1px rgba(60, 64, 67, 0.15);\n",
              "      fill: #174EA6;\n",
              "    }\n",
              "\n",
              "    .colab-df-buttons div {\n",
              "      margin-bottom: 4px;\n",
              "    }\n",
              "\n",
              "    [theme=dark] .colab-df-convert {\n",
              "      background-color: #3B4455;\n",
              "      fill: #D2E3FC;\n",
              "    }\n",
              "\n",
              "    [theme=dark] .colab-df-convert:hover {\n",
              "      background-color: #434B5C;\n",
              "      box-shadow: 0px 1px 3px 1px rgba(0, 0, 0, 0.15);\n",
              "      filter: drop-shadow(0px 1px 2px rgba(0, 0, 0, 0.3));\n",
              "      fill: #FFFFFF;\n",
              "    }\n",
              "  </style>\n",
              "\n",
              "    <script>\n",
              "      const buttonEl =\n",
              "        document.querySelector('#df-99d1281c-5db2-48ff-b336-018aaf5adcea button.colab-df-convert');\n",
              "      buttonEl.style.display =\n",
              "        google.colab.kernel.accessAllowed ? 'block' : 'none';\n",
              "\n",
              "      async function convertToInteractive(key) {\n",
              "        const element = document.querySelector('#df-99d1281c-5db2-48ff-b336-018aaf5adcea');\n",
              "        const dataTable =\n",
              "          await google.colab.kernel.invokeFunction('convertToInteractive',\n",
              "                                                    [key], {});\n",
              "        if (!dataTable) return;\n",
              "\n",
              "        const docLinkHtml = 'Like what you see? Visit the ' +\n",
              "          '<a target=\"_blank\" href=https://colab.research.google.com/notebooks/data_table.ipynb>data table notebook</a>'\n",
              "          + ' to learn more about interactive tables.';\n",
              "        element.innerHTML = '';\n",
              "        dataTable['output_type'] = 'display_data';\n",
              "        await google.colab.output.renderOutput(dataTable, element);\n",
              "        const docLink = document.createElement('div');\n",
              "        docLink.innerHTML = docLinkHtml;\n",
              "        element.appendChild(docLink);\n",
              "      }\n",
              "    </script>\n",
              "  </div>\n",
              "\n",
              "\n",
              "<div id=\"df-30eabde6-3883-4178-ae12-852df536e27e\">\n",
              "  <button class=\"colab-df-quickchart\" onclick=\"quickchart('df-30eabde6-3883-4178-ae12-852df536e27e')\"\n",
              "            title=\"Suggest charts\"\n",
              "            style=\"display:none;\">\n",
              "\n",
              "<svg xmlns=\"http://www.w3.org/2000/svg\" height=\"24px\"viewBox=\"0 0 24 24\"\n",
              "     width=\"24px\">\n",
              "    <g>\n",
              "        <path d=\"M19 3H5c-1.1 0-2 .9-2 2v14c0 1.1.9 2 2 2h14c1.1 0 2-.9 2-2V5c0-1.1-.9-2-2-2zM9 17H7v-7h2v7zm4 0h-2V7h2v10zm4 0h-2v-4h2v4z\"/>\n",
              "    </g>\n",
              "</svg>\n",
              "  </button>\n",
              "\n",
              "<style>\n",
              "  .colab-df-quickchart {\n",
              "      --bg-color: #E8F0FE;\n",
              "      --fill-color: #1967D2;\n",
              "      --hover-bg-color: #E2EBFA;\n",
              "      --hover-fill-color: #174EA6;\n",
              "      --disabled-fill-color: #AAA;\n",
              "      --disabled-bg-color: #DDD;\n",
              "  }\n",
              "\n",
              "  [theme=dark] .colab-df-quickchart {\n",
              "      --bg-color: #3B4455;\n",
              "      --fill-color: #D2E3FC;\n",
              "      --hover-bg-color: #434B5C;\n",
              "      --hover-fill-color: #FFFFFF;\n",
              "      --disabled-bg-color: #3B4455;\n",
              "      --disabled-fill-color: #666;\n",
              "  }\n",
              "\n",
              "  .colab-df-quickchart {\n",
              "    background-color: var(--bg-color);\n",
              "    border: none;\n",
              "    border-radius: 50%;\n",
              "    cursor: pointer;\n",
              "    display: none;\n",
              "    fill: var(--fill-color);\n",
              "    height: 32px;\n",
              "    padding: 0;\n",
              "    width: 32px;\n",
              "  }\n",
              "\n",
              "  .colab-df-quickchart:hover {\n",
              "    background-color: var(--hover-bg-color);\n",
              "    box-shadow: 0 1px 2px rgba(60, 64, 67, 0.3), 0 1px 3px 1px rgba(60, 64, 67, 0.15);\n",
              "    fill: var(--button-hover-fill-color);\n",
              "  }\n",
              "\n",
              "  .colab-df-quickchart-complete:disabled,\n",
              "  .colab-df-quickchart-complete:disabled:hover {\n",
              "    background-color: var(--disabled-bg-color);\n",
              "    fill: var(--disabled-fill-color);\n",
              "    box-shadow: none;\n",
              "  }\n",
              "\n",
              "  .colab-df-spinner {\n",
              "    border: 2px solid var(--fill-color);\n",
              "    border-color: transparent;\n",
              "    border-bottom-color: var(--fill-color);\n",
              "    animation:\n",
              "      spin 1s steps(1) infinite;\n",
              "  }\n",
              "\n",
              "  @keyframes spin {\n",
              "    0% {\n",
              "      border-color: transparent;\n",
              "      border-bottom-color: var(--fill-color);\n",
              "      border-left-color: var(--fill-color);\n",
              "    }\n",
              "    20% {\n",
              "      border-color: transparent;\n",
              "      border-left-color: var(--fill-color);\n",
              "      border-top-color: var(--fill-color);\n",
              "    }\n",
              "    30% {\n",
              "      border-color: transparent;\n",
              "      border-left-color: var(--fill-color);\n",
              "      border-top-color: var(--fill-color);\n",
              "      border-right-color: var(--fill-color);\n",
              "    }\n",
              "    40% {\n",
              "      border-color: transparent;\n",
              "      border-right-color: var(--fill-color);\n",
              "      border-top-color: var(--fill-color);\n",
              "    }\n",
              "    60% {\n",
              "      border-color: transparent;\n",
              "      border-right-color: var(--fill-color);\n",
              "    }\n",
              "    80% {\n",
              "      border-color: transparent;\n",
              "      border-right-color: var(--fill-color);\n",
              "      border-bottom-color: var(--fill-color);\n",
              "    }\n",
              "    90% {\n",
              "      border-color: transparent;\n",
              "      border-bottom-color: var(--fill-color);\n",
              "    }\n",
              "  }\n",
              "</style>\n",
              "\n",
              "  <script>\n",
              "    async function quickchart(key) {\n",
              "      const quickchartButtonEl =\n",
              "        document.querySelector('#' + key + ' button');\n",
              "      quickchartButtonEl.disabled = true;  // To prevent multiple clicks.\n",
              "      quickchartButtonEl.classList.add('colab-df-spinner');\n",
              "      try {\n",
              "        const charts = await google.colab.kernel.invokeFunction(\n",
              "            'suggestCharts', [key], {});\n",
              "      } catch (error) {\n",
              "        console.error('Error during call to suggestCharts:', error);\n",
              "      }\n",
              "      quickchartButtonEl.classList.remove('colab-df-spinner');\n",
              "      quickchartButtonEl.classList.add('colab-df-quickchart-complete');\n",
              "    }\n",
              "    (() => {\n",
              "      let quickchartButtonEl =\n",
              "        document.querySelector('#df-30eabde6-3883-4178-ae12-852df536e27e button');\n",
              "      quickchartButtonEl.style.display =\n",
              "        google.colab.kernel.accessAllowed ? 'block' : 'none';\n",
              "    })();\n",
              "  </script>\n",
              "</div>\n",
              "\n",
              "    </div>\n",
              "  </div>\n"
            ],
            "application/vnd.google.colaboratory.intrinsic+json": {
              "type": "dataframe",
              "summary": "{\n  \"name\": \"models()\",\n  \"rows\": 25,\n  \"fields\": [\n    {\n      \"column\": \"Name\",\n      \"properties\": {\n        \"dtype\": \"string\",\n        \"samples\": [\n          \"Automatic Relevance Determination\",\n          \"Decision Tree Regressor\",\n          \"Linear Regression\"\n        ],\n        \"num_unique_values\": 25,\n        \"semantic_type\": \"\",\n        \"description\": \"\"\n      }\n    },\n    {\n      \"column\": \"Reference\",\n      \"properties\": {\n        \"dtype\": \"string\",\n        \"samples\": [\n          \"sklearn.linear_model._bayes.ARDRegression\",\n          \"sklearn.tree._classes.DecisionTreeRegressor\",\n          \"sklearn.linear_model._base.LinearRegression\"\n        ],\n        \"num_unique_values\": 25,\n        \"semantic_type\": \"\",\n        \"description\": \"\"\n      }\n    },\n    {\n      \"column\": \"Turbo\",\n      \"properties\": {\n        \"dtype\": \"boolean\",\n        \"samples\": [\n          false,\n          true\n        ],\n        \"num_unique_values\": 2,\n        \"semantic_type\": \"\",\n        \"description\": \"\"\n      }\n    }\n  ]\n}"
            }
          },
          "metadata": {},
          "execution_count": 57
        }
      ],
      "source": [
        "models()"
      ]
    },
    {
      "cell_type": "markdown",
      "metadata": {
        "id": "Ja8-7dL8ToOf"
      },
      "source": [
        "## Create and tune model"
      ]
    },
    {
      "cell_type": "code",
      "execution_count": 58,
      "metadata": {
        "id": "WdwkRjewToOg",
        "outputId": "9b03d135-65fd-4645-ca51-ea4a1692b105",
        "colab": {
          "base_uri": "https://localhost:8080/",
          "height": 300,
          "referenced_widgets": [
            "3c0f375bd37046d49ba338f9f11eadc6",
            "6017334f407d4fc58016c46b18a58006",
            "fb3650d20e4a45a6812110df97058bb0",
            "8b5ce47a60ac4e7facc96f9996cfd4d1",
            "d11e5338c7114e1ab77a2a9e35205870",
            "06d85e6d877841ae906481ff3e8ae208",
            "cc2f15412f8a430f82939c90158b0c78",
            "712ca52d781c46c48a23f27d2a76bbd2",
            "f270ad3d0f924aa5abcb3eb17995be1a",
            "1d4b3874360b459fa22c80efd9e0f554",
            "8d67aefb2c6141f2be84fa782e5873e3"
          ]
        }
      },
      "outputs": [
        {
          "output_type": "display_data",
          "data": {
            "text/plain": [
              "<IPython.core.display.HTML object>"
            ],
            "text/html": []
          },
          "metadata": {}
        },
        {
          "output_type": "display_data",
          "data": {
            "text/plain": [
              "<pandas.io.formats.style.Styler at 0x7fc5fcc12dd0>"
            ],
            "text/html": [
              "<style type=\"text/css\">\n",
              "#T_320d2_row5_col0, #T_320d2_row5_col1, #T_320d2_row5_col2, #T_320d2_row5_col3, #T_320d2_row5_col4, #T_320d2_row5_col5 {\n",
              "  background: yellow;\n",
              "}\n",
              "</style>\n",
              "<table id=\"T_320d2\" class=\"dataframe\">\n",
              "  <thead>\n",
              "    <tr>\n",
              "      <th class=\"blank level0\" >&nbsp;</th>\n",
              "      <th id=\"T_320d2_level0_col0\" class=\"col_heading level0 col0\" >MAE</th>\n",
              "      <th id=\"T_320d2_level0_col1\" class=\"col_heading level0 col1\" >MSE</th>\n",
              "      <th id=\"T_320d2_level0_col2\" class=\"col_heading level0 col2\" >RMSE</th>\n",
              "      <th id=\"T_320d2_level0_col3\" class=\"col_heading level0 col3\" >R2</th>\n",
              "      <th id=\"T_320d2_level0_col4\" class=\"col_heading level0 col4\" >RMSLE</th>\n",
              "      <th id=\"T_320d2_level0_col5\" class=\"col_heading level0 col5\" >MAPE</th>\n",
              "    </tr>\n",
              "    <tr>\n",
              "      <th class=\"index_name level0\" >Fold</th>\n",
              "      <th class=\"blank col0\" >&nbsp;</th>\n",
              "      <th class=\"blank col1\" >&nbsp;</th>\n",
              "      <th class=\"blank col2\" >&nbsp;</th>\n",
              "      <th class=\"blank col3\" >&nbsp;</th>\n",
              "      <th class=\"blank col4\" >&nbsp;</th>\n",
              "      <th class=\"blank col5\" >&nbsp;</th>\n",
              "    </tr>\n",
              "  </thead>\n",
              "  <tbody>\n",
              "    <tr>\n",
              "      <th id=\"T_320d2_level0_row0\" class=\"row_heading level0 row0\" >0</th>\n",
              "      <td id=\"T_320d2_row0_col0\" class=\"data row0 col0\" >7.0868</td>\n",
              "      <td id=\"T_320d2_row0_col1\" class=\"data row0 col1\" >69.3051</td>\n",
              "      <td id=\"T_320d2_row0_col2\" class=\"data row0 col2\" >8.3250</td>\n",
              "      <td id=\"T_320d2_row0_col3\" class=\"data row0 col3\" >0.0811</td>\n",
              "      <td id=\"T_320d2_row0_col4\" class=\"data row0 col4\" >1.1554</td>\n",
              "      <td id=\"T_320d2_row0_col5\" class=\"data row0 col5\" >2.2193</td>\n",
              "    </tr>\n",
              "    <tr>\n",
              "      <th id=\"T_320d2_level0_row1\" class=\"row_heading level0 row1\" >1</th>\n",
              "      <td id=\"T_320d2_row1_col0\" class=\"data row1 col0\" >8.1472</td>\n",
              "      <td id=\"T_320d2_row1_col1\" class=\"data row1 col1\" >138.2158</td>\n",
              "      <td id=\"T_320d2_row1_col2\" class=\"data row1 col2\" >11.7565</td>\n",
              "      <td id=\"T_320d2_row1_col3\" class=\"data row1 col3\" >-0.3866</td>\n",
              "      <td id=\"T_320d2_row1_col4\" class=\"data row1 col4\" >1.0653</td>\n",
              "      <td id=\"T_320d2_row1_col5\" class=\"data row1 col5\" >1.3712</td>\n",
              "    </tr>\n",
              "    <tr>\n",
              "      <th id=\"T_320d2_level0_row2\" class=\"row_heading level0 row2\" >2</th>\n",
              "      <td id=\"T_320d2_row2_col0\" class=\"data row2 col0\" >10.9808</td>\n",
              "      <td id=\"T_320d2_row2_col1\" class=\"data row2 col1\" >313.8018</td>\n",
              "      <td id=\"T_320d2_row2_col2\" class=\"data row2 col2\" >17.7145</td>\n",
              "      <td id=\"T_320d2_row2_col3\" class=\"data row2 col3\" >-0.0065</td>\n",
              "      <td id=\"T_320d2_row2_col4\" class=\"data row2 col4\" >1.5855</td>\n",
              "      <td id=\"T_320d2_row2_col5\" class=\"data row2 col5\" >0.7485</td>\n",
              "    </tr>\n",
              "    <tr>\n",
              "      <th id=\"T_320d2_level0_row3\" class=\"row_heading level0 row3\" >3</th>\n",
              "      <td id=\"T_320d2_row3_col0\" class=\"data row3 col0\" >10.7973</td>\n",
              "      <td id=\"T_320d2_row3_col1\" class=\"data row3 col1\" >199.8801</td>\n",
              "      <td id=\"T_320d2_row3_col2\" class=\"data row3 col2\" >14.1379</td>\n",
              "      <td id=\"T_320d2_row3_col3\" class=\"data row3 col3\" >-0.1573</td>\n",
              "      <td id=\"T_320d2_row3_col4\" class=\"data row3 col4\" >1.2084</td>\n",
              "      <td id=\"T_320d2_row3_col5\" class=\"data row3 col5\" >0.9093</td>\n",
              "    </tr>\n",
              "    <tr>\n",
              "      <th id=\"T_320d2_level0_row4\" class=\"row_heading level0 row4\" >4</th>\n",
              "      <td id=\"T_320d2_row4_col0\" class=\"data row4 col0\" >5.4064</td>\n",
              "      <td id=\"T_320d2_row4_col1\" class=\"data row4 col1\" >45.4753</td>\n",
              "      <td id=\"T_320d2_row4_col2\" class=\"data row4 col2\" >6.7435</td>\n",
              "      <td id=\"T_320d2_row4_col3\" class=\"data row4 col3\" >0.5687</td>\n",
              "      <td id=\"T_320d2_row4_col4\" class=\"data row4 col4\" >1.0221</td>\n",
              "      <td id=\"T_320d2_row4_col5\" class=\"data row4 col5\" >2.4226</td>\n",
              "    </tr>\n",
              "    <tr>\n",
              "      <th id=\"T_320d2_level0_row5\" class=\"row_heading level0 row5\" >Mean</th>\n",
              "      <td id=\"T_320d2_row5_col0\" class=\"data row5 col0\" >8.4837</td>\n",
              "      <td id=\"T_320d2_row5_col1\" class=\"data row5 col1\" >153.3356</td>\n",
              "      <td id=\"T_320d2_row5_col2\" class=\"data row5 col2\" >11.7355</td>\n",
              "      <td id=\"T_320d2_row5_col3\" class=\"data row5 col3\" >0.0199</td>\n",
              "      <td id=\"T_320d2_row5_col4\" class=\"data row5 col4\" >1.2073</td>\n",
              "      <td id=\"T_320d2_row5_col5\" class=\"data row5 col5\" >1.5342</td>\n",
              "    </tr>\n",
              "    <tr>\n",
              "      <th id=\"T_320d2_level0_row6\" class=\"row_heading level0 row6\" >Std</th>\n",
              "      <td id=\"T_320d2_row6_col0\" class=\"data row6 col0\" >2.1505</td>\n",
              "      <td id=\"T_320d2_row6_col1\" class=\"data row6 col1\" >96.7878</td>\n",
              "      <td id=\"T_320d2_row6_col2\" class=\"data row6 col2\" >3.9515</td>\n",
              "      <td id=\"T_320d2_row6_col3\" class=\"data row6 col3\" >0.3170</td>\n",
              "      <td id=\"T_320d2_row6_col4\" class=\"data row6 col4\" >0.2001</td>\n",
              "      <td id=\"T_320d2_row6_col5\" class=\"data row6 col5\" >0.6772</td>\n",
              "    </tr>\n",
              "  </tbody>\n",
              "</table>\n"
            ]
          },
          "metadata": {}
        },
        {
          "output_type": "display_data",
          "data": {
            "text/plain": [
              "Processing:   0%|          | 0/4 [00:00<?, ?it/s]"
            ],
            "application/vnd.jupyter.widget-view+json": {
              "version_major": 2,
              "version_minor": 0,
              "model_id": "3c0f375bd37046d49ba338f9f11eadc6"
            }
          },
          "metadata": {
            "application/vnd.jupyter.widget-view+json": {
              "colab": {
                "custom_widget_manager": {
                  "url": "https://ssl.gstatic.com/colaboratory-static/widgets/colab-cdn-widget-manager/2b70e893a8ba7c0f/manager.min.js"
                }
              }
            }
          }
        },
        {
          "output_type": "display_data",
          "data": {
            "text/plain": [
              "<IPython.core.display.HTML object>"
            ],
            "text/html": []
          },
          "metadata": {}
        }
      ],
      "source": [
        "lr = create_model(estimator='lr')"
      ]
    },
    {
      "cell_type": "code",
      "execution_count": 59,
      "metadata": {
        "id": "WdMh-ltnToOg",
        "colab": {
          "base_uri": "https://localhost:8080/",
          "height": 335,
          "referenced_widgets": [
            "3069d7bf314b49899d408f6e00087bf7",
            "3698a713ecb14eb6af07618c60a419e9",
            "4d755bc3f6e34612ae681faf26608911",
            "9c46db4e29bd464fb32bbfbb2672ee4d",
            "fb73366c46cf4dcbb3f2d945ca611241",
            "2e758a4bd9c94ce3a6e4e620f1359086",
            "f428de0a97ef4d3ba05194aadb3d1064",
            "cbaf718bd6a1463182d41e445783d9cb",
            "702073055c1541178365b2badc63446d",
            "f53ce928819944968e0ae4185b976ea2",
            "130a54fa909842b7861d32d004d74aa8"
          ]
        },
        "outputId": "58486ec3-0885-45e3-a071-3f1e46f763de"
      },
      "outputs": [
        {
          "output_type": "display_data",
          "data": {
            "text/plain": [
              "<IPython.core.display.HTML object>"
            ],
            "text/html": []
          },
          "metadata": {}
        },
        {
          "output_type": "display_data",
          "data": {
            "text/plain": [
              "<pandas.io.formats.style.Styler at 0x7fc6021f6050>"
            ],
            "text/html": [
              "<style type=\"text/css\">\n",
              "#T_890d6_row5_col0, #T_890d6_row5_col1, #T_890d6_row5_col2, #T_890d6_row5_col3, #T_890d6_row5_col4, #T_890d6_row5_col5 {\n",
              "  background: yellow;\n",
              "}\n",
              "</style>\n",
              "<table id=\"T_890d6\" class=\"dataframe\">\n",
              "  <thead>\n",
              "    <tr>\n",
              "      <th class=\"blank level0\" >&nbsp;</th>\n",
              "      <th id=\"T_890d6_level0_col0\" class=\"col_heading level0 col0\" >MAE</th>\n",
              "      <th id=\"T_890d6_level0_col1\" class=\"col_heading level0 col1\" >MSE</th>\n",
              "      <th id=\"T_890d6_level0_col2\" class=\"col_heading level0 col2\" >RMSE</th>\n",
              "      <th id=\"T_890d6_level0_col3\" class=\"col_heading level0 col3\" >R2</th>\n",
              "      <th id=\"T_890d6_level0_col4\" class=\"col_heading level0 col4\" >RMSLE</th>\n",
              "      <th id=\"T_890d6_level0_col5\" class=\"col_heading level0 col5\" >MAPE</th>\n",
              "    </tr>\n",
              "    <tr>\n",
              "      <th class=\"index_name level0\" >Fold</th>\n",
              "      <th class=\"blank col0\" >&nbsp;</th>\n",
              "      <th class=\"blank col1\" >&nbsp;</th>\n",
              "      <th class=\"blank col2\" >&nbsp;</th>\n",
              "      <th class=\"blank col3\" >&nbsp;</th>\n",
              "      <th class=\"blank col4\" >&nbsp;</th>\n",
              "      <th class=\"blank col5\" >&nbsp;</th>\n",
              "    </tr>\n",
              "  </thead>\n",
              "  <tbody>\n",
              "    <tr>\n",
              "      <th id=\"T_890d6_level0_row0\" class=\"row_heading level0 row0\" >0</th>\n",
              "      <td id=\"T_890d6_row0_col0\" class=\"data row0 col0\" >7.0868</td>\n",
              "      <td id=\"T_890d6_row0_col1\" class=\"data row0 col1\" >69.3051</td>\n",
              "      <td id=\"T_890d6_row0_col2\" class=\"data row0 col2\" >8.3250</td>\n",
              "      <td id=\"T_890d6_row0_col3\" class=\"data row0 col3\" >0.0811</td>\n",
              "      <td id=\"T_890d6_row0_col4\" class=\"data row0 col4\" >1.1554</td>\n",
              "      <td id=\"T_890d6_row0_col5\" class=\"data row0 col5\" >2.2193</td>\n",
              "    </tr>\n",
              "    <tr>\n",
              "      <th id=\"T_890d6_level0_row1\" class=\"row_heading level0 row1\" >1</th>\n",
              "      <td id=\"T_890d6_row1_col0\" class=\"data row1 col0\" >8.1472</td>\n",
              "      <td id=\"T_890d6_row1_col1\" class=\"data row1 col1\" >138.2158</td>\n",
              "      <td id=\"T_890d6_row1_col2\" class=\"data row1 col2\" >11.7565</td>\n",
              "      <td id=\"T_890d6_row1_col3\" class=\"data row1 col3\" >-0.3866</td>\n",
              "      <td id=\"T_890d6_row1_col4\" class=\"data row1 col4\" >1.0653</td>\n",
              "      <td id=\"T_890d6_row1_col5\" class=\"data row1 col5\" >1.3712</td>\n",
              "    </tr>\n",
              "    <tr>\n",
              "      <th id=\"T_890d6_level0_row2\" class=\"row_heading level0 row2\" >2</th>\n",
              "      <td id=\"T_890d6_row2_col0\" class=\"data row2 col0\" >10.9808</td>\n",
              "      <td id=\"T_890d6_row2_col1\" class=\"data row2 col1\" >313.8018</td>\n",
              "      <td id=\"T_890d6_row2_col2\" class=\"data row2 col2\" >17.7145</td>\n",
              "      <td id=\"T_890d6_row2_col3\" class=\"data row2 col3\" >-0.0065</td>\n",
              "      <td id=\"T_890d6_row2_col4\" class=\"data row2 col4\" >1.5855</td>\n",
              "      <td id=\"T_890d6_row2_col5\" class=\"data row2 col5\" >0.7485</td>\n",
              "    </tr>\n",
              "    <tr>\n",
              "      <th id=\"T_890d6_level0_row3\" class=\"row_heading level0 row3\" >3</th>\n",
              "      <td id=\"T_890d6_row3_col0\" class=\"data row3 col0\" >10.7973</td>\n",
              "      <td id=\"T_890d6_row3_col1\" class=\"data row3 col1\" >199.8801</td>\n",
              "      <td id=\"T_890d6_row3_col2\" class=\"data row3 col2\" >14.1379</td>\n",
              "      <td id=\"T_890d6_row3_col3\" class=\"data row3 col3\" >-0.1573</td>\n",
              "      <td id=\"T_890d6_row3_col4\" class=\"data row3 col4\" >1.2084</td>\n",
              "      <td id=\"T_890d6_row3_col5\" class=\"data row3 col5\" >0.9093</td>\n",
              "    </tr>\n",
              "    <tr>\n",
              "      <th id=\"T_890d6_level0_row4\" class=\"row_heading level0 row4\" >4</th>\n",
              "      <td id=\"T_890d6_row4_col0\" class=\"data row4 col0\" >5.4064</td>\n",
              "      <td id=\"T_890d6_row4_col1\" class=\"data row4 col1\" >45.4753</td>\n",
              "      <td id=\"T_890d6_row4_col2\" class=\"data row4 col2\" >6.7435</td>\n",
              "      <td id=\"T_890d6_row4_col3\" class=\"data row4 col3\" >0.5687</td>\n",
              "      <td id=\"T_890d6_row4_col4\" class=\"data row4 col4\" >1.0221</td>\n",
              "      <td id=\"T_890d6_row4_col5\" class=\"data row4 col5\" >2.4226</td>\n",
              "    </tr>\n",
              "    <tr>\n",
              "      <th id=\"T_890d6_level0_row5\" class=\"row_heading level0 row5\" >Mean</th>\n",
              "      <td id=\"T_890d6_row5_col0\" class=\"data row5 col0\" >8.4837</td>\n",
              "      <td id=\"T_890d6_row5_col1\" class=\"data row5 col1\" >153.3356</td>\n",
              "      <td id=\"T_890d6_row5_col2\" class=\"data row5 col2\" >11.7355</td>\n",
              "      <td id=\"T_890d6_row5_col3\" class=\"data row5 col3\" >0.0199</td>\n",
              "      <td id=\"T_890d6_row5_col4\" class=\"data row5 col4\" >1.2073</td>\n",
              "      <td id=\"T_890d6_row5_col5\" class=\"data row5 col5\" >1.5342</td>\n",
              "    </tr>\n",
              "    <tr>\n",
              "      <th id=\"T_890d6_level0_row6\" class=\"row_heading level0 row6\" >Std</th>\n",
              "      <td id=\"T_890d6_row6_col0\" class=\"data row6 col0\" >2.1505</td>\n",
              "      <td id=\"T_890d6_row6_col1\" class=\"data row6 col1\" >96.7878</td>\n",
              "      <td id=\"T_890d6_row6_col2\" class=\"data row6 col2\" >3.9515</td>\n",
              "      <td id=\"T_890d6_row6_col3\" class=\"data row6 col3\" >0.3170</td>\n",
              "      <td id=\"T_890d6_row6_col4\" class=\"data row6 col4\" >0.2001</td>\n",
              "      <td id=\"T_890d6_row6_col5\" class=\"data row6 col5\" >0.6772</td>\n",
              "    </tr>\n",
              "  </tbody>\n",
              "</table>\n"
            ]
          },
          "metadata": {}
        },
        {
          "output_type": "display_data",
          "data": {
            "text/plain": [
              "Processing:   0%|          | 0/7 [00:00<?, ?it/s]"
            ],
            "application/vnd.jupyter.widget-view+json": {
              "version_major": 2,
              "version_minor": 0,
              "model_id": "3069d7bf314b49899d408f6e00087bf7"
            }
          },
          "metadata": {
            "application/vnd.jupyter.widget-view+json": {
              "colab": {
                "custom_widget_manager": {
                  "url": "https://ssl.gstatic.com/colaboratory-static/widgets/colab-cdn-widget-manager/2b70e893a8ba7c0f/manager.min.js"
                }
              }
            }
          }
        },
        {
          "output_type": "stream",
          "name": "stdout",
          "text": [
            "Fitting 5 folds for each of 2 candidates, totalling 10 fits\n"
          ]
        },
        {
          "output_type": "display_data",
          "data": {
            "text/plain": [
              "<IPython.core.display.HTML object>"
            ],
            "text/html": []
          },
          "metadata": {}
        },
        {
          "output_type": "stream",
          "name": "stdout",
          "text": [
            "Original model was better than the tuned model, hence it will be returned. NOTE: The display metrics are for the tuned model (not the original one).\n"
          ]
        }
      ],
      "source": [
        "tuned_lr = tune_model(lr) # we really don't need to run this line. Why? bc its the same as above and no tuning/penalization has occured yet."
      ]
    },
    {
      "cell_type": "markdown",
      "metadata": {
        "id": "6yTEKvcLToOh"
      },
      "source": [
        "What is happening inside the tune_model? https://github.com/pycaret/pycaret/blob/master/pycaret/containers/models/regression.py"
      ]
    },
    {
      "cell_type": "code",
      "execution_count": 60,
      "metadata": {
        "id": "Z5TJoNa7ToOi",
        "outputId": "5bbe40a0-f16d-4cf3-c359-21937e845043",
        "colab": {
          "base_uri": "https://localhost:8080/",
          "height": 300,
          "referenced_widgets": [
            "4c080e91b8104b64a822c7bb8390ade6",
            "5b5c139cdb45414fa91f99b115a06bb3",
            "990b576a980a4dc882a9dae4fe53ebf4",
            "6de9a8e374da4070ad9370f6ba19b51d",
            "402fe6e12b43487a9e079642e30cb1dd",
            "cc8196ab15df4519a27d2dd8f5d959e4",
            "d09c0500abdc4900b07b99a1c7c2064a",
            "739b6f2de9ec4176b1e930d03fd70dcd",
            "d7774f4e1ba1403b8ed1e2a02701edfd",
            "06dc8d586ad143f5b27e43f6688a751a",
            "523643e6ec9d4278ba5ff371e0f23285"
          ]
        }
      },
      "outputs": [
        {
          "output_type": "display_data",
          "data": {
            "text/plain": [
              "<IPython.core.display.HTML object>"
            ],
            "text/html": []
          },
          "metadata": {}
        },
        {
          "output_type": "display_data",
          "data": {
            "text/plain": [
              "<pandas.io.formats.style.Styler at 0x7fc5fcd985b0>"
            ],
            "text/html": [
              "<style type=\"text/css\">\n",
              "#T_b4340_row5_col0, #T_b4340_row5_col1, #T_b4340_row5_col2, #T_b4340_row5_col3, #T_b4340_row5_col4, #T_b4340_row5_col5 {\n",
              "  background: yellow;\n",
              "}\n",
              "</style>\n",
              "<table id=\"T_b4340\" class=\"dataframe\">\n",
              "  <thead>\n",
              "    <tr>\n",
              "      <th class=\"blank level0\" >&nbsp;</th>\n",
              "      <th id=\"T_b4340_level0_col0\" class=\"col_heading level0 col0\" >MAE</th>\n",
              "      <th id=\"T_b4340_level0_col1\" class=\"col_heading level0 col1\" >MSE</th>\n",
              "      <th id=\"T_b4340_level0_col2\" class=\"col_heading level0 col2\" >RMSE</th>\n",
              "      <th id=\"T_b4340_level0_col3\" class=\"col_heading level0 col3\" >R2</th>\n",
              "      <th id=\"T_b4340_level0_col4\" class=\"col_heading level0 col4\" >RMSLE</th>\n",
              "      <th id=\"T_b4340_level0_col5\" class=\"col_heading level0 col5\" >MAPE</th>\n",
              "    </tr>\n",
              "    <tr>\n",
              "      <th class=\"index_name level0\" >Fold</th>\n",
              "      <th class=\"blank col0\" >&nbsp;</th>\n",
              "      <th class=\"blank col1\" >&nbsp;</th>\n",
              "      <th class=\"blank col2\" >&nbsp;</th>\n",
              "      <th class=\"blank col3\" >&nbsp;</th>\n",
              "      <th class=\"blank col4\" >&nbsp;</th>\n",
              "      <th class=\"blank col5\" >&nbsp;</th>\n",
              "    </tr>\n",
              "  </thead>\n",
              "  <tbody>\n",
              "    <tr>\n",
              "      <th id=\"T_b4340_level0_row0\" class=\"row_heading level0 row0\" >0</th>\n",
              "      <td id=\"T_b4340_row0_col0\" class=\"data row0 col0\" >7.1222</td>\n",
              "      <td id=\"T_b4340_row0_col1\" class=\"data row0 col1\" >71.5477</td>\n",
              "      <td id=\"T_b4340_row0_col2\" class=\"data row0 col2\" >8.4586</td>\n",
              "      <td id=\"T_b4340_row0_col3\" class=\"data row0 col3\" >0.0514</td>\n",
              "      <td id=\"T_b4340_row0_col4\" class=\"data row0 col4\" >1.1987</td>\n",
              "      <td id=\"T_b4340_row0_col5\" class=\"data row0 col5\" >2.0879</td>\n",
              "    </tr>\n",
              "    <tr>\n",
              "      <th id=\"T_b4340_level0_row1\" class=\"row_heading level0 row1\" >1</th>\n",
              "      <td id=\"T_b4340_row1_col0\" class=\"data row1 col0\" >7.9911</td>\n",
              "      <td id=\"T_b4340_row1_col1\" class=\"data row1 col1\" >125.7941</td>\n",
              "      <td id=\"T_b4340_row1_col2\" class=\"data row1 col2\" >11.2158</td>\n",
              "      <td id=\"T_b4340_row1_col3\" class=\"data row1 col3\" >-0.2620</td>\n",
              "      <td id=\"T_b4340_row1_col4\" class=\"data row1 col4\" >0.9757</td>\n",
              "      <td id=\"T_b4340_row1_col5\" class=\"data row1 col5\" >1.2352</td>\n",
              "    </tr>\n",
              "    <tr>\n",
              "      <th id=\"T_b4340_level0_row2\" class=\"row_heading level0 row2\" >2</th>\n",
              "      <td id=\"T_b4340_row2_col0\" class=\"data row2 col0\" >8.0989</td>\n",
              "      <td id=\"T_b4340_row2_col1\" class=\"data row2 col1\" >88.5367</td>\n",
              "      <td id=\"T_b4340_row2_col2\" class=\"data row2 col2\" >9.4094</td>\n",
              "      <td id=\"T_b4340_row2_col3\" class=\"data row2 col3\" >0.7160</td>\n",
              "      <td id=\"T_b4340_row2_col4\" class=\"data row2 col4\" >1.4172</td>\n",
              "      <td id=\"T_b4340_row2_col5\" class=\"data row2 col5\" >0.7952</td>\n",
              "    </tr>\n",
              "    <tr>\n",
              "      <th id=\"T_b4340_level0_row3\" class=\"row_heading level0 row3\" >3</th>\n",
              "      <td id=\"T_b4340_row3_col0\" class=\"data row3 col0\" >10.9981</td>\n",
              "      <td id=\"T_b4340_row3_col1\" class=\"data row3 col1\" >193.6841</td>\n",
              "      <td id=\"T_b4340_row3_col2\" class=\"data row3 col2\" >13.9170</td>\n",
              "      <td id=\"T_b4340_row3_col3\" class=\"data row3 col3\" >-0.1214</td>\n",
              "      <td id=\"T_b4340_row3_col4\" class=\"data row3 col4\" >1.3644</td>\n",
              "      <td id=\"T_b4340_row3_col5\" class=\"data row3 col5\" >0.9450</td>\n",
              "    </tr>\n",
              "    <tr>\n",
              "      <th id=\"T_b4340_level0_row4\" class=\"row_heading level0 row4\" >4</th>\n",
              "      <td id=\"T_b4340_row4_col0\" class=\"data row4 col0\" >5.4602</td>\n",
              "      <td id=\"T_b4340_row4_col1\" class=\"data row4 col1\" >48.5251</td>\n",
              "      <td id=\"T_b4340_row4_col2\" class=\"data row4 col2\" >6.9660</td>\n",
              "      <td id=\"T_b4340_row4_col3\" class=\"data row4 col3\" >0.5398</td>\n",
              "      <td id=\"T_b4340_row4_col4\" class=\"data row4 col4\" >1.0812</td>\n",
              "      <td id=\"T_b4340_row4_col5\" class=\"data row4 col5\" >2.1170</td>\n",
              "    </tr>\n",
              "    <tr>\n",
              "      <th id=\"T_b4340_level0_row5\" class=\"row_heading level0 row5\" >Mean</th>\n",
              "      <td id=\"T_b4340_row5_col0\" class=\"data row5 col0\" >7.9341</td>\n",
              "      <td id=\"T_b4340_row5_col1\" class=\"data row5 col1\" >105.6175</td>\n",
              "      <td id=\"T_b4340_row5_col2\" class=\"data row5 col2\" >9.9934</td>\n",
              "      <td id=\"T_b4340_row5_col3\" class=\"data row5 col3\" >0.1848</td>\n",
              "      <td id=\"T_b4340_row5_col4\" class=\"data row5 col4\" >1.2075</td>\n",
              "      <td id=\"T_b4340_row5_col5\" class=\"data row5 col5\" >1.4360</td>\n",
              "    </tr>\n",
              "    <tr>\n",
              "      <th id=\"T_b4340_level0_row6\" class=\"row_heading level0 row6\" >Std</th>\n",
              "      <td id=\"T_b4340_row6_col0\" class=\"data row6 col0\" >1.7999</td>\n",
              "      <td id=\"T_b4340_row6_col1\" class=\"data row6 col1\" >50.7442</td>\n",
              "      <td id=\"T_b4340_row6_col2\" class=\"data row6 col2\" >2.3980</td>\n",
              "      <td id=\"T_b4340_row6_col3\" class=\"data row6 col3\" >0.3793</td>\n",
              "      <td id=\"T_b4340_row6_col4\" class=\"data row6 col4\" >0.1663</td>\n",
              "      <td id=\"T_b4340_row6_col5\" class=\"data row6 col5\" >0.5623</td>\n",
              "    </tr>\n",
              "  </tbody>\n",
              "</table>\n"
            ]
          },
          "metadata": {}
        },
        {
          "output_type": "display_data",
          "data": {
            "text/plain": [
              "Processing:   0%|          | 0/4 [00:00<?, ?it/s]"
            ],
            "application/vnd.jupyter.widget-view+json": {
              "version_major": 2,
              "version_minor": 0,
              "model_id": "4c080e91b8104b64a822c7bb8390ade6"
            }
          },
          "metadata": {
            "application/vnd.jupyter.widget-view+json": {
              "colab": {
                "custom_widget_manager": {
                  "url": "https://ssl.gstatic.com/colaboratory-static/widgets/colab-cdn-widget-manager/2b70e893a8ba7c0f/manager.min.js"
                }
              }
            }
          }
        },
        {
          "output_type": "display_data",
          "data": {
            "text/plain": [
              "<IPython.core.display.HTML object>"
            ],
            "text/html": []
          },
          "metadata": {}
        }
      ],
      "source": [
        "ridge = create_model(estimator='ridge')"
      ]
    },
    {
      "cell_type": "code",
      "execution_count": 61,
      "metadata": {
        "id": "rQsgSFkkToOj",
        "outputId": "4934a90c-9ce9-4384-bf05-1929d244ff90",
        "colab": {
          "base_uri": "https://localhost:8080/",
          "height": 317,
          "referenced_widgets": [
            "c6a568d64216471aa2379b196f551626",
            "090f2cf93d1d48dba6013d579b3838cf",
            "596359df30924352937504fe6d1bb6bc",
            "de7c79179a6c417b8f61322558aa710d",
            "e878ce4f380644848806cf9f3d034616",
            "7aa3cdaf40724e9d896f804fc4ef5d9d",
            "33771a7bc22a4296bf7c6c6f933e8b7a",
            "bb7b461c18a94573b3c9ebf27ec2b4c0",
            "ca74f34e1874457585daac875adfefb2",
            "0c9e1ec3fce64b338d112e5b0f2b5bc5",
            "09387c1deef345d791f1cac335f0e44a"
          ]
        }
      },
      "outputs": [
        {
          "output_type": "display_data",
          "data": {
            "text/plain": [
              "<IPython.core.display.HTML object>"
            ],
            "text/html": []
          },
          "metadata": {}
        },
        {
          "output_type": "display_data",
          "data": {
            "text/plain": [
              "<pandas.io.formats.style.Styler at 0x7fc6023a39d0>"
            ],
            "text/html": [
              "<style type=\"text/css\">\n",
              "#T_903de_row5_col0, #T_903de_row5_col1, #T_903de_row5_col2, #T_903de_row5_col3, #T_903de_row5_col4, #T_903de_row5_col5 {\n",
              "  background: yellow;\n",
              "}\n",
              "</style>\n",
              "<table id=\"T_903de\" class=\"dataframe\">\n",
              "  <thead>\n",
              "    <tr>\n",
              "      <th class=\"blank level0\" >&nbsp;</th>\n",
              "      <th id=\"T_903de_level0_col0\" class=\"col_heading level0 col0\" >MAE</th>\n",
              "      <th id=\"T_903de_level0_col1\" class=\"col_heading level0 col1\" >MSE</th>\n",
              "      <th id=\"T_903de_level0_col2\" class=\"col_heading level0 col2\" >RMSE</th>\n",
              "      <th id=\"T_903de_level0_col3\" class=\"col_heading level0 col3\" >R2</th>\n",
              "      <th id=\"T_903de_level0_col4\" class=\"col_heading level0 col4\" >RMSLE</th>\n",
              "      <th id=\"T_903de_level0_col5\" class=\"col_heading level0 col5\" >MAPE</th>\n",
              "    </tr>\n",
              "    <tr>\n",
              "      <th class=\"index_name level0\" >Fold</th>\n",
              "      <th class=\"blank col0\" >&nbsp;</th>\n",
              "      <th class=\"blank col1\" >&nbsp;</th>\n",
              "      <th class=\"blank col2\" >&nbsp;</th>\n",
              "      <th class=\"blank col3\" >&nbsp;</th>\n",
              "      <th class=\"blank col4\" >&nbsp;</th>\n",
              "      <th class=\"blank col5\" >&nbsp;</th>\n",
              "    </tr>\n",
              "  </thead>\n",
              "  <tbody>\n",
              "    <tr>\n",
              "      <th id=\"T_903de_level0_row0\" class=\"row_heading level0 row0\" >0</th>\n",
              "      <td id=\"T_903de_row0_col0\" class=\"data row0 col0\" >7.0379</td>\n",
              "      <td id=\"T_903de_row0_col1\" class=\"data row0 col1\" >73.2197</td>\n",
              "      <td id=\"T_903de_row0_col2\" class=\"data row0 col2\" >8.5569</td>\n",
              "      <td id=\"T_903de_row0_col3\" class=\"data row0 col3\" >0.0292</td>\n",
              "      <td id=\"T_903de_row0_col4\" class=\"data row0 col4\" >1.1548</td>\n",
              "      <td id=\"T_903de_row0_col5\" class=\"data row0 col5\" >1.6201</td>\n",
              "    </tr>\n",
              "    <tr>\n",
              "      <th id=\"T_903de_level0_row1\" class=\"row_heading level0 row1\" >1</th>\n",
              "      <td id=\"T_903de_row1_col0\" class=\"data row1 col0\" >7.7002</td>\n",
              "      <td id=\"T_903de_row1_col1\" class=\"data row1 col1\" >108.6776</td>\n",
              "      <td id=\"T_903de_row1_col2\" class=\"data row1 col2\" >10.4249</td>\n",
              "      <td id=\"T_903de_row1_col3\" class=\"data row1 col3\" >-0.0903</td>\n",
              "      <td id=\"T_903de_row1_col4\" class=\"data row1 col4\" >0.9166</td>\n",
              "      <td id=\"T_903de_row1_col5\" class=\"data row1 col5\" >1.0669</td>\n",
              "    </tr>\n",
              "    <tr>\n",
              "      <th id=\"T_903de_level0_row2\" class=\"row_heading level0 row2\" >2</th>\n",
              "      <td id=\"T_903de_row2_col0\" class=\"data row2 col0\" >8.8169</td>\n",
              "      <td id=\"T_903de_row2_col1\" class=\"data row2 col1\" >102.0127</td>\n",
              "      <td id=\"T_903de_row2_col2\" class=\"data row2 col2\" >10.1001</td>\n",
              "      <td id=\"T_903de_row2_col3\" class=\"data row2 col3\" >0.6728</td>\n",
              "      <td id=\"T_903de_row2_col4\" class=\"data row2 col4\" >1.2377</td>\n",
              "      <td id=\"T_903de_row2_col5\" class=\"data row2 col5\" >0.9376</td>\n",
              "    </tr>\n",
              "    <tr>\n",
              "      <th id=\"T_903de_level0_row3\" class=\"row_heading level0 row3\" >3</th>\n",
              "      <td id=\"T_903de_row3_col0\" class=\"data row3 col0\" >11.0326</td>\n",
              "      <td id=\"T_903de_row3_col1\" class=\"data row3 col1\" >188.0557</td>\n",
              "      <td id=\"T_903de_row3_col2\" class=\"data row3 col2\" >13.7133</td>\n",
              "      <td id=\"T_903de_row3_col3\" class=\"data row3 col3\" >-0.0888</td>\n",
              "      <td id=\"T_903de_row3_col4\" class=\"data row3 col4\" >1.3676</td>\n",
              "      <td id=\"T_903de_row3_col5\" class=\"data row3 col5\" >0.9109</td>\n",
              "    </tr>\n",
              "    <tr>\n",
              "      <th id=\"T_903de_level0_row4\" class=\"row_heading level0 row4\" >4</th>\n",
              "      <td id=\"T_903de_row4_col0\" class=\"data row4 col0\" >5.6968</td>\n",
              "      <td id=\"T_903de_row4_col1\" class=\"data row4 col1\" >50.9122</td>\n",
              "      <td id=\"T_903de_row4_col2\" class=\"data row4 col2\" >7.1353</td>\n",
              "      <td id=\"T_903de_row4_col3\" class=\"data row4 col3\" >0.5172</td>\n",
              "      <td id=\"T_903de_row4_col4\" class=\"data row4 col4\" >0.9083</td>\n",
              "      <td id=\"T_903de_row4_col5\" class=\"data row4 col5\" >1.6565</td>\n",
              "    </tr>\n",
              "    <tr>\n",
              "      <th id=\"T_903de_level0_row5\" class=\"row_heading level0 row5\" >Mean</th>\n",
              "      <td id=\"T_903de_row5_col0\" class=\"data row5 col0\" >8.0569</td>\n",
              "      <td id=\"T_903de_row5_col1\" class=\"data row5 col1\" >104.5756</td>\n",
              "      <td id=\"T_903de_row5_col2\" class=\"data row5 col2\" >9.9861</td>\n",
              "      <td id=\"T_903de_row5_col3\" class=\"data row5 col3\" >0.2080</td>\n",
              "      <td id=\"T_903de_row5_col4\" class=\"data row5 col4\" >1.1170</td>\n",
              "      <td id=\"T_903de_row5_col5\" class=\"data row5 col5\" >1.2384</td>\n",
              "    </tr>\n",
              "    <tr>\n",
              "      <th id=\"T_903de_level0_row6\" class=\"row_heading level0 row6\" >Std</th>\n",
              "      <td id=\"T_903de_row6_col0\" class=\"data row6 col0\" >1.7982</td>\n",
              "      <td id=\"T_903de_row6_col1\" class=\"data row6 col1\" >46.5946</td>\n",
              "      <td id=\"T_903de_row6_col2\" class=\"data row6 col2\" >2.2031</td>\n",
              "      <td id=\"T_903de_row6_col3\" class=\"data row6 col3\" >0.3227</td>\n",
              "      <td id=\"T_903de_row6_col4\" class=\"data row6 col4\" >0.1803</td>\n",
              "      <td id=\"T_903de_row6_col5\" class=\"data row6 col5\" >0.3309</td>\n",
              "    </tr>\n",
              "  </tbody>\n",
              "</table>\n"
            ]
          },
          "metadata": {}
        },
        {
          "output_type": "display_data",
          "data": {
            "text/plain": [
              "Processing:   0%|          | 0/7 [00:00<?, ?it/s]"
            ],
            "application/vnd.jupyter.widget-view+json": {
              "version_major": 2,
              "version_minor": 0,
              "model_id": "c6a568d64216471aa2379b196f551626"
            }
          },
          "metadata": {
            "application/vnd.jupyter.widget-view+json": {
              "colab": {
                "custom_widget_manager": {
                  "url": "https://ssl.gstatic.com/colaboratory-static/widgets/colab-cdn-widget-manager/2b70e893a8ba7c0f/manager.min.js"
                }
              }
            }
          }
        },
        {
          "output_type": "stream",
          "name": "stdout",
          "text": [
            "Fitting 5 folds for each of 10 candidates, totalling 50 fits\n"
          ]
        },
        {
          "output_type": "display_data",
          "data": {
            "text/plain": [
              "<IPython.core.display.HTML object>"
            ],
            "text/html": []
          },
          "metadata": {}
        }
      ],
      "source": [
        "tuned_ridge = tune_model(ridge)"
      ]
    },
    {
      "cell_type": "code",
      "execution_count": 62,
      "metadata": {
        "id": "RtKSsx82ToOk",
        "outputId": "f1efacc5-bef4-49ad-c293-eef3c751f7de",
        "colab": {
          "base_uri": "https://localhost:8080/",
          "height": 300,
          "referenced_widgets": [
            "1fb08d258f4140a699b7fca18f7628de",
            "2e8c46830e964b8abaf1d2baf71c0ef8",
            "2e7962be944c4cad9c0b8e7cf971e1f7",
            "aa1d3201f62a44eaaa65e4326effc78d",
            "ef13fb85873748b49961098b7869028c",
            "a0e4e9f823ee4290971760cbbb617a76",
            "f1b9f9ba7f2548ed97f1cf04ada706f4",
            "75d577bb629a4d4bbba6f898a4afb118",
            "a4bb3cb8dbd5491a828bdb40fd15faa1",
            "6ec4f12fbfe2400088653046ffd40a9f",
            "a60b3c4a35d441ba99a6ec6a5d6af1a9"
          ]
        }
      },
      "outputs": [
        {
          "output_type": "display_data",
          "data": {
            "text/plain": [
              "<IPython.core.display.HTML object>"
            ],
            "text/html": []
          },
          "metadata": {}
        },
        {
          "output_type": "display_data",
          "data": {
            "text/plain": [
              "<pandas.io.formats.style.Styler at 0x7fc60cfd09a0>"
            ],
            "text/html": [
              "<style type=\"text/css\">\n",
              "#T_e20bd_row5_col0, #T_e20bd_row5_col1, #T_e20bd_row5_col2, #T_e20bd_row5_col3, #T_e20bd_row5_col4, #T_e20bd_row5_col5 {\n",
              "  background: yellow;\n",
              "}\n",
              "</style>\n",
              "<table id=\"T_e20bd\" class=\"dataframe\">\n",
              "  <thead>\n",
              "    <tr>\n",
              "      <th class=\"blank level0\" >&nbsp;</th>\n",
              "      <th id=\"T_e20bd_level0_col0\" class=\"col_heading level0 col0\" >MAE</th>\n",
              "      <th id=\"T_e20bd_level0_col1\" class=\"col_heading level0 col1\" >MSE</th>\n",
              "      <th id=\"T_e20bd_level0_col2\" class=\"col_heading level0 col2\" >RMSE</th>\n",
              "      <th id=\"T_e20bd_level0_col3\" class=\"col_heading level0 col3\" >R2</th>\n",
              "      <th id=\"T_e20bd_level0_col4\" class=\"col_heading level0 col4\" >RMSLE</th>\n",
              "      <th id=\"T_e20bd_level0_col5\" class=\"col_heading level0 col5\" >MAPE</th>\n",
              "    </tr>\n",
              "    <tr>\n",
              "      <th class=\"index_name level0\" >Fold</th>\n",
              "      <th class=\"blank col0\" >&nbsp;</th>\n",
              "      <th class=\"blank col1\" >&nbsp;</th>\n",
              "      <th class=\"blank col2\" >&nbsp;</th>\n",
              "      <th class=\"blank col3\" >&nbsp;</th>\n",
              "      <th class=\"blank col4\" >&nbsp;</th>\n",
              "      <th class=\"blank col5\" >&nbsp;</th>\n",
              "    </tr>\n",
              "  </thead>\n",
              "  <tbody>\n",
              "    <tr>\n",
              "      <th id=\"T_e20bd_level0_row0\" class=\"row_heading level0 row0\" >0</th>\n",
              "      <td id=\"T_e20bd_row0_col0\" class=\"data row0 col0\" >6.8909</td>\n",
              "      <td id=\"T_e20bd_row0_col1\" class=\"data row0 col1\" >72.4029</td>\n",
              "      <td id=\"T_e20bd_row0_col2\" class=\"data row0 col2\" >8.5090</td>\n",
              "      <td id=\"T_e20bd_row0_col3\" class=\"data row0 col3\" >0.0401</td>\n",
              "      <td id=\"T_e20bd_row0_col4\" class=\"data row0 col4\" >1.0412</td>\n",
              "      <td id=\"T_e20bd_row0_col5\" class=\"data row0 col5\" >1.4003</td>\n",
              "    </tr>\n",
              "    <tr>\n",
              "      <th id=\"T_e20bd_level0_row1\" class=\"row_heading level0 row1\" >1</th>\n",
              "      <td id=\"T_e20bd_row1_col0\" class=\"data row1 col0\" >8.2973</td>\n",
              "      <td id=\"T_e20bd_row1_col1\" class=\"data row1 col1\" >120.1616</td>\n",
              "      <td id=\"T_e20bd_row1_col2\" class=\"data row1 col2\" >10.9618</td>\n",
              "      <td id=\"T_e20bd_row1_col3\" class=\"data row1 col3\" >-0.2055</td>\n",
              "      <td id=\"T_e20bd_row1_col4\" class=\"data row1 col4\" >0.9738</td>\n",
              "      <td id=\"T_e20bd_row1_col5\" class=\"data row1 col5\" >1.1786</td>\n",
              "    </tr>\n",
              "    <tr>\n",
              "      <th id=\"T_e20bd_level0_row2\" class=\"row_heading level0 row2\" >2</th>\n",
              "      <td id=\"T_e20bd_row2_col0\" class=\"data row2 col0\" >9.4402</td>\n",
              "      <td id=\"T_e20bd_row2_col1\" class=\"data row2 col1\" >113.3639</td>\n",
              "      <td id=\"T_e20bd_row2_col2\" class=\"data row2 col2\" >10.6472</td>\n",
              "      <td id=\"T_e20bd_row2_col3\" class=\"data row2 col3\" >0.6364</td>\n",
              "      <td id=\"T_e20bd_row2_col4\" class=\"data row2 col4\" >1.1718</td>\n",
              "      <td id=\"T_e20bd_row2_col5\" class=\"data row2 col5\" >1.0820</td>\n",
              "    </tr>\n",
              "    <tr>\n",
              "      <th id=\"T_e20bd_level0_row3\" class=\"row_heading level0 row3\" >3</th>\n",
              "      <td id=\"T_e20bd_row3_col0\" class=\"data row3 col0\" >10.9375</td>\n",
              "      <td id=\"T_e20bd_row3_col1\" class=\"data row3 col1\" >189.1648</td>\n",
              "      <td id=\"T_e20bd_row3_col2\" class=\"data row3 col2\" >13.7537</td>\n",
              "      <td id=\"T_e20bd_row3_col3\" class=\"data row3 col3\" >-0.0952</td>\n",
              "      <td id=\"T_e20bd_row3_col4\" class=\"data row3 col4\" >1.2808</td>\n",
              "      <td id=\"T_e20bd_row3_col5\" class=\"data row3 col5\" >0.9071</td>\n",
              "    </tr>\n",
              "    <tr>\n",
              "      <th id=\"T_e20bd_level0_row4\" class=\"row_heading level0 row4\" >4</th>\n",
              "      <td id=\"T_e20bd_row4_col0\" class=\"data row4 col0\" >5.9705</td>\n",
              "      <td id=\"T_e20bd_row4_col1\" class=\"data row4 col1\" >57.2171</td>\n",
              "      <td id=\"T_e20bd_row4_col2\" class=\"data row4 col2\" >7.5642</td>\n",
              "      <td id=\"T_e20bd_row4_col3\" class=\"data row4 col3\" >0.4574</td>\n",
              "      <td id=\"T_e20bd_row4_col4\" class=\"data row4 col4\" >0.7774</td>\n",
              "      <td id=\"T_e20bd_row4_col5\" class=\"data row4 col5\" >1.4978</td>\n",
              "    </tr>\n",
              "    <tr>\n",
              "      <th id=\"T_e20bd_level0_row5\" class=\"row_heading level0 row5\" >Mean</th>\n",
              "      <td id=\"T_e20bd_row5_col0\" class=\"data row5 col0\" >8.3073</td>\n",
              "      <td id=\"T_e20bd_row5_col1\" class=\"data row5 col1\" >110.4621</td>\n",
              "      <td id=\"T_e20bd_row5_col2\" class=\"data row5 col2\" >10.2872</td>\n",
              "      <td id=\"T_e20bd_row5_col3\" class=\"data row5 col3\" >0.1666</td>\n",
              "      <td id=\"T_e20bd_row5_col4\" class=\"data row5 col4\" >1.0490</td>\n",
              "      <td id=\"T_e20bd_row5_col5\" class=\"data row5 col5\" >1.2132</td>\n",
              "    </tr>\n",
              "    <tr>\n",
              "      <th id=\"T_e20bd_level0_row6\" class=\"row_heading level0 row6\" >Std</th>\n",
              "      <td id=\"T_e20bd_row6_col0\" class=\"data row6 col0\" >1.7702</td>\n",
              "      <td id=\"T_e20bd_row6_col1\" class=\"data row6 col1\" >46.0003</td>\n",
              "      <td id=\"T_e20bd_row6_col2\" class=\"data row6 col2\" >2.1531</td>\n",
              "      <td id=\"T_e20bd_row6_col3\" class=\"data row6 col3\" >0.3251</td>\n",
              "      <td id=\"T_e20bd_row6_col4\" class=\"data row6 col4\" >0.1722</td>\n",
              "      <td id=\"T_e20bd_row6_col5\" class=\"data row6 col5\" >0.2136</td>\n",
              "    </tr>\n",
              "  </tbody>\n",
              "</table>\n"
            ]
          },
          "metadata": {}
        },
        {
          "output_type": "display_data",
          "data": {
            "text/plain": [
              "Processing:   0%|          | 0/4 [00:00<?, ?it/s]"
            ],
            "application/vnd.jupyter.widget-view+json": {
              "version_major": 2,
              "version_minor": 0,
              "model_id": "1fb08d258f4140a699b7fca18f7628de"
            }
          },
          "metadata": {
            "application/vnd.jupyter.widget-view+json": {
              "colab": {
                "custom_widget_manager": {
                  "url": "https://ssl.gstatic.com/colaboratory-static/widgets/colab-cdn-widget-manager/2b70e893a8ba7c0f/manager.min.js"
                }
              }
            }
          }
        },
        {
          "output_type": "display_data",
          "data": {
            "text/plain": [
              "<IPython.core.display.HTML object>"
            ],
            "text/html": []
          },
          "metadata": {}
        }
      ],
      "source": [
        "lasso = create_model(estimator='lasso')"
      ]
    },
    {
      "cell_type": "code",
      "execution_count": 63,
      "metadata": {
        "id": "fRss5RxKToOl",
        "outputId": "eac735c2-6941-474b-dd7d-8d2c30d03f36",
        "colab": {
          "base_uri": "https://localhost:8080/",
          "height": 335,
          "referenced_widgets": [
            "7994712672cb4d3287b5e2c00bc78d90",
            "ff01ee56f5d340178e04026e0f8d69d6",
            "8c16808689634196b111d45394673ebf",
            "f5e97669a4e544068aa7a3d567ab227c",
            "3f56dd7c02a14a2a87deb2bc79fbb393",
            "102dd237092e4dc68c27a06e3c261c91",
            "32146a333b3f4a3ea51df9341ba74c8b",
            "a69b104a46a74a439e0481eb8c514f0a",
            "91b86dec68ae4d178ae2ba088c78cec2",
            "3bee4d0c9cae45a480564034f9a0a5c9",
            "1b7269502b954c3db49a8687d331a99d"
          ]
        }
      },
      "outputs": [
        {
          "output_type": "display_data",
          "data": {
            "text/plain": [
              "<IPython.core.display.HTML object>"
            ],
            "text/html": []
          },
          "metadata": {}
        },
        {
          "output_type": "display_data",
          "data": {
            "text/plain": [
              "<pandas.io.formats.style.Styler at 0x7fc5fcd9ad10>"
            ],
            "text/html": [
              "<style type=\"text/css\">\n",
              "#T_efb3d_row5_col0, #T_efb3d_row5_col1, #T_efb3d_row5_col2, #T_efb3d_row5_col3, #T_efb3d_row5_col4, #T_efb3d_row5_col5 {\n",
              "  background: yellow;\n",
              "}\n",
              "</style>\n",
              "<table id=\"T_efb3d\" class=\"dataframe\">\n",
              "  <thead>\n",
              "    <tr>\n",
              "      <th class=\"blank level0\" >&nbsp;</th>\n",
              "      <th id=\"T_efb3d_level0_col0\" class=\"col_heading level0 col0\" >MAE</th>\n",
              "      <th id=\"T_efb3d_level0_col1\" class=\"col_heading level0 col1\" >MSE</th>\n",
              "      <th id=\"T_efb3d_level0_col2\" class=\"col_heading level0 col2\" >RMSE</th>\n",
              "      <th id=\"T_efb3d_level0_col3\" class=\"col_heading level0 col3\" >R2</th>\n",
              "      <th id=\"T_efb3d_level0_col4\" class=\"col_heading level0 col4\" >RMSLE</th>\n",
              "      <th id=\"T_efb3d_level0_col5\" class=\"col_heading level0 col5\" >MAPE</th>\n",
              "    </tr>\n",
              "    <tr>\n",
              "      <th class=\"index_name level0\" >Fold</th>\n",
              "      <th class=\"blank col0\" >&nbsp;</th>\n",
              "      <th class=\"blank col1\" >&nbsp;</th>\n",
              "      <th class=\"blank col2\" >&nbsp;</th>\n",
              "      <th class=\"blank col3\" >&nbsp;</th>\n",
              "      <th class=\"blank col4\" >&nbsp;</th>\n",
              "      <th class=\"blank col5\" >&nbsp;</th>\n",
              "    </tr>\n",
              "  </thead>\n",
              "  <tbody>\n",
              "    <tr>\n",
              "      <th id=\"T_efb3d_level0_row0\" class=\"row_heading level0 row0\" >0</th>\n",
              "      <td id=\"T_efb3d_row0_col0\" class=\"data row0 col0\" >6.8316</td>\n",
              "      <td id=\"T_efb3d_row0_col1\" class=\"data row0 col1\" >72.0065</td>\n",
              "      <td id=\"T_efb3d_row0_col2\" class=\"data row0 col2\" >8.4857</td>\n",
              "      <td id=\"T_efb3d_row0_col3\" class=\"data row0 col3\" >0.0453</td>\n",
              "      <td id=\"T_efb3d_row0_col4\" class=\"data row0 col4\" >0.9770</td>\n",
              "      <td id=\"T_efb3d_row0_col5\" class=\"data row0 col5\" >1.4211</td>\n",
              "    </tr>\n",
              "    <tr>\n",
              "      <th id=\"T_efb3d_level0_row1\" class=\"row_heading level0 row1\" >1</th>\n",
              "      <td id=\"T_efb3d_row1_col0\" class=\"data row1 col0\" >8.3343</td>\n",
              "      <td id=\"T_efb3d_row1_col1\" class=\"data row1 col1\" >122.0966</td>\n",
              "      <td id=\"T_efb3d_row1_col2\" class=\"data row1 col2\" >11.0497</td>\n",
              "      <td id=\"T_efb3d_row1_col3\" class=\"data row1 col3\" >-0.2249</td>\n",
              "      <td id=\"T_efb3d_row1_col4\" class=\"data row1 col4\" >0.9314</td>\n",
              "      <td id=\"T_efb3d_row1_col5\" class=\"data row1 col5\" >1.2219</td>\n",
              "    </tr>\n",
              "    <tr>\n",
              "      <th id=\"T_efb3d_level0_row2\" class=\"row_heading level0 row2\" >2</th>\n",
              "      <td id=\"T_efb3d_row2_col0\" class=\"data row2 col0\" >10.7243</td>\n",
              "      <td id=\"T_efb3d_row2_col1\" class=\"data row2 col1\" >146.2430</td>\n",
              "      <td id=\"T_efb3d_row2_col2\" class=\"data row2 col2\" >12.0931</td>\n",
              "      <td id=\"T_efb3d_row2_col3\" class=\"data row2 col3\" >0.5309</td>\n",
              "      <td id=\"T_efb3d_row2_col4\" class=\"data row2 col4\" >1.1476</td>\n",
              "      <td id=\"T_efb3d_row2_col5\" class=\"data row2 col5\" >1.1203</td>\n",
              "    </tr>\n",
              "    <tr>\n",
              "      <th id=\"T_efb3d_level0_row3\" class=\"row_heading level0 row3\" >3</th>\n",
              "      <td id=\"T_efb3d_row3_col0\" class=\"data row3 col0\" >10.9097</td>\n",
              "      <td id=\"T_efb3d_row3_col1\" class=\"data row3 col1\" >184.5603</td>\n",
              "      <td id=\"T_efb3d_row3_col2\" class=\"data row3 col2\" >13.5853</td>\n",
              "      <td id=\"T_efb3d_row3_col3\" class=\"data row3 col3\" >-0.0686</td>\n",
              "      <td id=\"T_efb3d_row3_col4\" class=\"data row3 col4\" >1.1941</td>\n",
              "      <td id=\"T_efb3d_row3_col5\" class=\"data row3 col5\" >0.9278</td>\n",
              "    </tr>\n",
              "    <tr>\n",
              "      <th id=\"T_efb3d_level0_row4\" class=\"row_heading level0 row4\" >4</th>\n",
              "      <td id=\"T_efb3d_row4_col0\" class=\"data row4 col0\" >6.0984</td>\n",
              "      <td id=\"T_efb3d_row4_col1\" class=\"data row4 col1\" >63.3412</td>\n",
              "      <td id=\"T_efb3d_row4_col2\" class=\"data row4 col2\" >7.9587</td>\n",
              "      <td id=\"T_efb3d_row4_col3\" class=\"data row4 col3\" >0.3993</td>\n",
              "      <td id=\"T_efb3d_row4_col4\" class=\"data row4 col4\" >0.7544</td>\n",
              "      <td id=\"T_efb3d_row4_col5\" class=\"data row4 col5\" >1.5010</td>\n",
              "    </tr>\n",
              "    <tr>\n",
              "      <th id=\"T_efb3d_level0_row5\" class=\"row_heading level0 row5\" >Mean</th>\n",
              "      <td id=\"T_efb3d_row5_col0\" class=\"data row5 col0\" >8.5797</td>\n",
              "      <td id=\"T_efb3d_row5_col1\" class=\"data row5 col1\" >117.6495</td>\n",
              "      <td id=\"T_efb3d_row5_col2\" class=\"data row5 col2\" >10.6345</td>\n",
              "      <td id=\"T_efb3d_row5_col3\" class=\"data row5 col3\" >0.1364</td>\n",
              "      <td id=\"T_efb3d_row5_col4\" class=\"data row5 col4\" >1.0009</td>\n",
              "      <td id=\"T_efb3d_row5_col5\" class=\"data row5 col5\" >1.2384</td>\n",
              "    </tr>\n",
              "    <tr>\n",
              "      <th id=\"T_efb3d_level0_row6\" class=\"row_heading level0 row6\" >Std</th>\n",
              "      <td id=\"T_efb3d_row6_col0\" class=\"data row6 col0\" >1.9647</td>\n",
              "      <td id=\"T_efb3d_row6_col1\" class=\"data row6 col1\" >45.4909</td>\n",
              "      <td id=\"T_efb3d_row6_col2\" class=\"data row6 col2\" >2.1347</td>\n",
              "      <td id=\"T_efb3d_row6_col3\" class=\"data row6 col3\" >0.2848</td>\n",
              "      <td id=\"T_efb3d_row6_col4\" class=\"data row6 col4\" >0.1581</td>\n",
              "      <td id=\"T_efb3d_row6_col5\" class=\"data row6 col5\" >0.2064</td>\n",
              "    </tr>\n",
              "  </tbody>\n",
              "</table>\n"
            ]
          },
          "metadata": {}
        },
        {
          "output_type": "display_data",
          "data": {
            "text/plain": [
              "Processing:   0%|          | 0/7 [00:00<?, ?it/s]"
            ],
            "application/vnd.jupyter.widget-view+json": {
              "version_major": 2,
              "version_minor": 0,
              "model_id": "7994712672cb4d3287b5e2c00bc78d90"
            }
          },
          "metadata": {
            "application/vnd.jupyter.widget-view+json": {
              "colab": {
                "custom_widget_manager": {
                  "url": "https://ssl.gstatic.com/colaboratory-static/widgets/colab-cdn-widget-manager/2b70e893a8ba7c0f/manager.min.js"
                }
              }
            }
          }
        },
        {
          "output_type": "stream",
          "name": "stdout",
          "text": [
            "Fitting 5 folds for each of 10 candidates, totalling 50 fits\n"
          ]
        },
        {
          "output_type": "display_data",
          "data": {
            "text/plain": [
              "<IPython.core.display.HTML object>"
            ],
            "text/html": []
          },
          "metadata": {}
        },
        {
          "output_type": "stream",
          "name": "stdout",
          "text": [
            "Original model was better than the tuned model, hence it will be returned. NOTE: The display metrics are for the tuned model (not the original one).\n"
          ]
        }
      ],
      "source": [
        "tuned_lasso = tune_model(lasso)"
      ]
    },
    {
      "cell_type": "code",
      "execution_count": 64,
      "metadata": {
        "id": "cKUot5AyToOl",
        "outputId": "43ba17a8-524b-41c7-a34a-f803ef29e25d",
        "colab": {
          "base_uri": "https://localhost:8080/",
          "height": 300,
          "referenced_widgets": [
            "133e04567f2d4a5499296dcb19bf1118",
            "21e1e152471c47d194bcc02e39780f5e",
            "6a35c2da4866444cade9a1e5867f34a0",
            "566774ebfab24cf7a44055d216cdba38",
            "8618785d20af467dbd949a1c77fd5748",
            "831192e2d2d743dfa49c33ce77c8d610",
            "118ff4ef28ec452ca28062d60d521f5a",
            "d978383ca1844b429f308e85dde736dd",
            "dab179647bfc4b5ca02f261d51284a29",
            "f3f31b9c9e6c4031989e42f02e09b576",
            "16a272204a0747eb905dea504bd0d63f"
          ]
        }
      },
      "outputs": [
        {
          "output_type": "display_data",
          "data": {
            "text/plain": [
              "<IPython.core.display.HTML object>"
            ],
            "text/html": []
          },
          "metadata": {}
        },
        {
          "output_type": "display_data",
          "data": {
            "text/plain": [
              "<pandas.io.formats.style.Styler at 0x7fc5fcd983d0>"
            ],
            "text/html": [
              "<style type=\"text/css\">\n",
              "#T_3f328_row5_col0, #T_3f328_row5_col1, #T_3f328_row5_col2, #T_3f328_row5_col3, #T_3f328_row5_col4, #T_3f328_row5_col5 {\n",
              "  background: yellow;\n",
              "}\n",
              "</style>\n",
              "<table id=\"T_3f328\" class=\"dataframe\">\n",
              "  <thead>\n",
              "    <tr>\n",
              "      <th class=\"blank level0\" >&nbsp;</th>\n",
              "      <th id=\"T_3f328_level0_col0\" class=\"col_heading level0 col0\" >MAE</th>\n",
              "      <th id=\"T_3f328_level0_col1\" class=\"col_heading level0 col1\" >MSE</th>\n",
              "      <th id=\"T_3f328_level0_col2\" class=\"col_heading level0 col2\" >RMSE</th>\n",
              "      <th id=\"T_3f328_level0_col3\" class=\"col_heading level0 col3\" >R2</th>\n",
              "      <th id=\"T_3f328_level0_col4\" class=\"col_heading level0 col4\" >RMSLE</th>\n",
              "      <th id=\"T_3f328_level0_col5\" class=\"col_heading level0 col5\" >MAPE</th>\n",
              "    </tr>\n",
              "    <tr>\n",
              "      <th class=\"index_name level0\" >Fold</th>\n",
              "      <th class=\"blank col0\" >&nbsp;</th>\n",
              "      <th class=\"blank col1\" >&nbsp;</th>\n",
              "      <th class=\"blank col2\" >&nbsp;</th>\n",
              "      <th class=\"blank col3\" >&nbsp;</th>\n",
              "      <th class=\"blank col4\" >&nbsp;</th>\n",
              "      <th class=\"blank col5\" >&nbsp;</th>\n",
              "    </tr>\n",
              "  </thead>\n",
              "  <tbody>\n",
              "    <tr>\n",
              "      <th id=\"T_3f328_level0_row0\" class=\"row_heading level0 row0\" >0</th>\n",
              "      <td id=\"T_3f328_row0_col0\" class=\"data row0 col0\" >6.8438</td>\n",
              "      <td id=\"T_3f328_row0_col1\" class=\"data row0 col1\" >72.7915</td>\n",
              "      <td id=\"T_3f328_row0_col2\" class=\"data row0 col2\" >8.5318</td>\n",
              "      <td id=\"T_3f328_row0_col3\" class=\"data row0 col3\" >0.0349</td>\n",
              "      <td id=\"T_3f328_row0_col4\" class=\"data row0 col4\" >1.0098</td>\n",
              "      <td id=\"T_3f328_row0_col5\" class=\"data row0 col5\" >1.2854</td>\n",
              "    </tr>\n",
              "    <tr>\n",
              "      <th id=\"T_3f328_level0_row1\" class=\"row_heading level0 row1\" >1</th>\n",
              "      <td id=\"T_3f328_row1_col0\" class=\"data row1 col0\" >7.7426</td>\n",
              "      <td id=\"T_3f328_row1_col1\" class=\"data row1 col1\" >110.7061</td>\n",
              "      <td id=\"T_3f328_row1_col2\" class=\"data row1 col2\" >10.5217</td>\n",
              "      <td id=\"T_3f328_row1_col3\" class=\"data row1 col3\" >-0.1106</td>\n",
              "      <td id=\"T_3f328_row1_col4\" class=\"data row1 col4\" >0.9257</td>\n",
              "      <td id=\"T_3f328_row1_col5\" class=\"data row1 col5\" >1.0901</td>\n",
              "    </tr>\n",
              "    <tr>\n",
              "      <th id=\"T_3f328_level0_row2\" class=\"row_heading level0 row2\" >2</th>\n",
              "      <td id=\"T_3f328_row2_col0\" class=\"data row2 col0\" >10.1275</td>\n",
              "      <td id=\"T_3f328_row2_col1\" class=\"data row2 col1\" >128.6768</td>\n",
              "      <td id=\"T_3f328_row2_col2\" class=\"data row2 col2\" >11.3436</td>\n",
              "      <td id=\"T_3f328_row2_col3\" class=\"data row2 col3\" >0.5873</td>\n",
              "      <td id=\"T_3f328_row2_col4\" class=\"data row2 col4\" >1.2022</td>\n",
              "      <td id=\"T_3f328_row2_col5\" class=\"data row2 col5\" >1.0975</td>\n",
              "    </tr>\n",
              "    <tr>\n",
              "      <th id=\"T_3f328_level0_row3\" class=\"row_heading level0 row3\" >3</th>\n",
              "      <td id=\"T_3f328_row3_col0\" class=\"data row3 col0\" >11.0100</td>\n",
              "      <td id=\"T_3f328_row3_col1\" class=\"data row3 col1\" >185.7460</td>\n",
              "      <td id=\"T_3f328_row3_col2\" class=\"data row3 col2\" >13.6289</td>\n",
              "      <td id=\"T_3f328_row3_col3\" class=\"data row3 col3\" >-0.0754</td>\n",
              "      <td id=\"T_3f328_row3_col4\" class=\"data row3 col4\" >1.2077</td>\n",
              "      <td id=\"T_3f328_row3_col5\" class=\"data row3 col5\" >0.9298</td>\n",
              "    </tr>\n",
              "    <tr>\n",
              "      <th id=\"T_3f328_level0_row4\" class=\"row_heading level0 row4\" >4</th>\n",
              "      <td id=\"T_3f328_row4_col0\" class=\"data row4 col0\" >5.8872</td>\n",
              "      <td id=\"T_3f328_row4_col1\" class=\"data row4 col1\" >51.9317</td>\n",
              "      <td id=\"T_3f328_row4_col2\" class=\"data row4 col2\" >7.2064</td>\n",
              "      <td id=\"T_3f328_row4_col3\" class=\"data row4 col3\" >0.5075</td>\n",
              "      <td id=\"T_3f328_row4_col4\" class=\"data row4 col4\" >0.8650</td>\n",
              "      <td id=\"T_3f328_row4_col5\" class=\"data row4 col5\" >1.4571</td>\n",
              "    </tr>\n",
              "    <tr>\n",
              "      <th id=\"T_3f328_level0_row5\" class=\"row_heading level0 row5\" >Mean</th>\n",
              "      <td id=\"T_3f328_row5_col0\" class=\"data row5 col0\" >8.3222</td>\n",
              "      <td id=\"T_3f328_row5_col1\" class=\"data row5 col1\" >109.9704</td>\n",
              "      <td id=\"T_3f328_row5_col2\" class=\"data row5 col2\" >10.2465</td>\n",
              "      <td id=\"T_3f328_row5_col3\" class=\"data row5 col3\" >0.1887</td>\n",
              "      <td id=\"T_3f328_row5_col4\" class=\"data row5 col4\" >1.0421</td>\n",
              "      <td id=\"T_3f328_row5_col5\" class=\"data row5 col5\" >1.1720</td>\n",
              "    </tr>\n",
              "    <tr>\n",
              "      <th id=\"T_3f328_level0_row6\" class=\"row_heading level0 row6\" >Std</th>\n",
              "      <td id=\"T_3f328_row6_col0\" class=\"data row6 col0\" >1.9460</td>\n",
              "      <td id=\"T_3f328_row6_col1\" class=\"data row6 col1\" >46.5686</td>\n",
              "      <td id=\"T_3f328_row6_col2\" class=\"data row6 col2\" >2.2317</td>\n",
              "      <td id=\"T_3f328_row6_col3\" class=\"data row6 col3\" >0.2978</td>\n",
              "      <td id=\"T_3f328_row6_col4\" class=\"data row6 col4\" >0.1407</td>\n",
              "      <td id=\"T_3f328_row6_col5\" class=\"data row6 col5\" >0.1817</td>\n",
              "    </tr>\n",
              "  </tbody>\n",
              "</table>\n"
            ]
          },
          "metadata": {}
        },
        {
          "output_type": "display_data",
          "data": {
            "text/plain": [
              "Processing:   0%|          | 0/4 [00:00<?, ?it/s]"
            ],
            "application/vnd.jupyter.widget-view+json": {
              "version_major": 2,
              "version_minor": 0,
              "model_id": "133e04567f2d4a5499296dcb19bf1118"
            }
          },
          "metadata": {
            "application/vnd.jupyter.widget-view+json": {
              "colab": {
                "custom_widget_manager": {
                  "url": "https://ssl.gstatic.com/colaboratory-static/widgets/colab-cdn-widget-manager/2b70e893a8ba7c0f/manager.min.js"
                }
              }
            }
          }
        },
        {
          "output_type": "display_data",
          "data": {
            "text/plain": [
              "<IPython.core.display.HTML object>"
            ],
            "text/html": []
          },
          "metadata": {}
        }
      ],
      "source": [
        "elasticnet = create_model(estimator='en')"
      ]
    },
    {
      "cell_type": "code",
      "execution_count": 65,
      "metadata": {
        "id": "f1uacJ0AToOm",
        "outputId": "a8fa111a-43a9-4246-81a4-5c768e13f973",
        "colab": {
          "base_uri": "https://localhost:8080/",
          "height": 317,
          "referenced_widgets": [
            "8e23513247fe4c0ca3d88d07549a9ea2",
            "fdf35be01334427bb71ac61641353ae3",
            "dc0b06bee38e44ecbf63cedaf89ab069",
            "0680d87e3c21403d914ca1f2a3319459",
            "8958a6013df74c67b8aebe242685e68a",
            "4243057bd5cc417da26ba917970da600",
            "f7a9760542b247418cc7a55bcf11e054",
            "185b174c9b3a47e68da8d3b8d7947e46",
            "f00d34143be24276831f7a0b15160c27",
            "c0f05df51da74f4297a5d6140338765a",
            "2b53c1b50cb340d189351cd1196c40df"
          ]
        }
      },
      "outputs": [
        {
          "output_type": "display_data",
          "data": {
            "text/plain": [
              "<IPython.core.display.HTML object>"
            ],
            "text/html": []
          },
          "metadata": {}
        },
        {
          "output_type": "display_data",
          "data": {
            "text/plain": [
              "<pandas.io.formats.style.Styler at 0x7fc60cfd1cc0>"
            ],
            "text/html": [
              "<style type=\"text/css\">\n",
              "#T_83396_row5_col0, #T_83396_row5_col1, #T_83396_row5_col2, #T_83396_row5_col3, #T_83396_row5_col4, #T_83396_row5_col5 {\n",
              "  background: yellow;\n",
              "}\n",
              "</style>\n",
              "<table id=\"T_83396\" class=\"dataframe\">\n",
              "  <thead>\n",
              "    <tr>\n",
              "      <th class=\"blank level0\" >&nbsp;</th>\n",
              "      <th id=\"T_83396_level0_col0\" class=\"col_heading level0 col0\" >MAE</th>\n",
              "      <th id=\"T_83396_level0_col1\" class=\"col_heading level0 col1\" >MSE</th>\n",
              "      <th id=\"T_83396_level0_col2\" class=\"col_heading level0 col2\" >RMSE</th>\n",
              "      <th id=\"T_83396_level0_col3\" class=\"col_heading level0 col3\" >R2</th>\n",
              "      <th id=\"T_83396_level0_col4\" class=\"col_heading level0 col4\" >RMSLE</th>\n",
              "      <th id=\"T_83396_level0_col5\" class=\"col_heading level0 col5\" >MAPE</th>\n",
              "    </tr>\n",
              "    <tr>\n",
              "      <th class=\"index_name level0\" >Fold</th>\n",
              "      <th class=\"blank col0\" >&nbsp;</th>\n",
              "      <th class=\"blank col1\" >&nbsp;</th>\n",
              "      <th class=\"blank col2\" >&nbsp;</th>\n",
              "      <th class=\"blank col3\" >&nbsp;</th>\n",
              "      <th class=\"blank col4\" >&nbsp;</th>\n",
              "      <th class=\"blank col5\" >&nbsp;</th>\n",
              "    </tr>\n",
              "  </thead>\n",
              "  <tbody>\n",
              "    <tr>\n",
              "      <th id=\"T_83396_level0_row0\" class=\"row_heading level0 row0\" >0</th>\n",
              "      <td id=\"T_83396_row0_col0\" class=\"data row0 col0\" >7.0951</td>\n",
              "      <td id=\"T_83396_row0_col1\" class=\"data row0 col1\" >70.4418</td>\n",
              "      <td id=\"T_83396_row0_col2\" class=\"data row0 col2\" >8.3930</td>\n",
              "      <td id=\"T_83396_row0_col3\" class=\"data row0 col3\" >0.0661</td>\n",
              "      <td id=\"T_83396_row0_col4\" class=\"data row0 col4\" >1.2139</td>\n",
              "      <td id=\"T_83396_row0_col5\" class=\"data row0 col5\" >2.0129</td>\n",
              "    </tr>\n",
              "    <tr>\n",
              "      <th id=\"T_83396_level0_row1\" class=\"row_heading level0 row1\" >1</th>\n",
              "      <td id=\"T_83396_row1_col0\" class=\"data row1 col0\" >7.8995</td>\n",
              "      <td id=\"T_83396_row1_col1\" class=\"data row1 col1\" >119.6057</td>\n",
              "      <td id=\"T_83396_row1_col2\" class=\"data row1 col2\" >10.9364</td>\n",
              "      <td id=\"T_83396_row1_col3\" class=\"data row1 col3\" >-0.1999</td>\n",
              "      <td id=\"T_83396_row1_col4\" class=\"data row1 col4\" >0.9567</td>\n",
              "      <td id=\"T_83396_row1_col5\" class=\"data row1 col5\" >1.2370</td>\n",
              "    </tr>\n",
              "    <tr>\n",
              "      <th id=\"T_83396_level0_row2\" class=\"row_heading level0 row2\" >2</th>\n",
              "      <td id=\"T_83396_row2_col0\" class=\"data row2 col0\" >7.8007</td>\n",
              "      <td id=\"T_83396_row2_col1\" class=\"data row2 col1\" >86.7497</td>\n",
              "      <td id=\"T_83396_row2_col2\" class=\"data row2 col2\" >9.3140</td>\n",
              "      <td id=\"T_83396_row2_col3\" class=\"data row2 col3\" >0.7218</td>\n",
              "      <td id=\"T_83396_row2_col4\" class=\"data row2 col4\" >1.3968</td>\n",
              "      <td id=\"T_83396_row2_col5\" class=\"data row2 col5\" >0.8120</td>\n",
              "    </tr>\n",
              "    <tr>\n",
              "      <th id=\"T_83396_level0_row3\" class=\"row_heading level0 row3\" >3</th>\n",
              "      <td id=\"T_83396_row3_col0\" class=\"data row3 col0\" >10.9461</td>\n",
              "      <td id=\"T_83396_row3_col1\" class=\"data row3 col1\" >191.9947</td>\n",
              "      <td id=\"T_83396_row3_col2\" class=\"data row3 col2\" >13.8562</td>\n",
              "      <td id=\"T_83396_row3_col3\" class=\"data row3 col3\" >-0.1116</td>\n",
              "      <td id=\"T_83396_row3_col4\" class=\"data row3 col4\" >1.4087</td>\n",
              "      <td id=\"T_83396_row3_col5\" class=\"data row3 col5\" >0.9242</td>\n",
              "    </tr>\n",
              "    <tr>\n",
              "      <th id=\"T_83396_level0_row4\" class=\"row_heading level0 row4\" >4</th>\n",
              "      <td id=\"T_83396_row4_col0\" class=\"data row4 col0\" >5.3735</td>\n",
              "      <td id=\"T_83396_row4_col1\" class=\"data row4 col1\" >48.2528</td>\n",
              "      <td id=\"T_83396_row4_col2\" class=\"data row4 col2\" >6.9464</td>\n",
              "      <td id=\"T_83396_row4_col3\" class=\"data row4 col3\" >0.5424</td>\n",
              "      <td id=\"T_83396_row4_col4\" class=\"data row4 col4\" >1.0369</td>\n",
              "      <td id=\"T_83396_row4_col5\" class=\"data row4 col5\" >2.0800</td>\n",
              "    </tr>\n",
              "    <tr>\n",
              "      <th id=\"T_83396_level0_row5\" class=\"row_heading level0 row5\" >Mean</th>\n",
              "      <td id=\"T_83396_row5_col0\" class=\"data row5 col0\" >7.8230</td>\n",
              "      <td id=\"T_83396_row5_col1\" class=\"data row5 col1\" >103.4089</td>\n",
              "      <td id=\"T_83396_row5_col2\" class=\"data row5 col2\" >9.8892</td>\n",
              "      <td id=\"T_83396_row5_col3\" class=\"data row5 col3\" >0.2037</td>\n",
              "      <td id=\"T_83396_row5_col4\" class=\"data row5 col4\" >1.2026</td>\n",
              "      <td id=\"T_83396_row5_col5\" class=\"data row5 col5\" >1.4132</td>\n",
              "    </tr>\n",
              "    <tr>\n",
              "      <th id=\"T_83396_level0_row6\" class=\"row_heading level0 row6\" >Std</th>\n",
              "      <td id=\"T_83396_row6_col0\" class=\"data row6 col0\" >1.8050</td>\n",
              "      <td id=\"T_83396_row6_col1\" class=\"data row6 col1\" >50.0327</td>\n",
              "      <td id=\"T_83396_row6_col2\" class=\"data row6 col2\" >2.3691</td>\n",
              "      <td id=\"T_83396_row6_col3\" class=\"data row6 col3\" >0.3645</td>\n",
              "      <td id=\"T_83396_row6_col4\" class=\"data row6 col4\" >0.1834</td>\n",
              "      <td id=\"T_83396_row6_col5\" class=\"data row6 col5\" >0.5359</td>\n",
              "    </tr>\n",
              "  </tbody>\n",
              "</table>\n"
            ]
          },
          "metadata": {}
        },
        {
          "output_type": "display_data",
          "data": {
            "text/plain": [
              "Processing:   0%|          | 0/7 [00:00<?, ?it/s]"
            ],
            "application/vnd.jupyter.widget-view+json": {
              "version_major": 2,
              "version_minor": 0,
              "model_id": "8e23513247fe4c0ca3d88d07549a9ea2"
            }
          },
          "metadata": {
            "application/vnd.jupyter.widget-view+json": {
              "colab": {
                "custom_widget_manager": {
                  "url": "https://ssl.gstatic.com/colaboratory-static/widgets/colab-cdn-widget-manager/2b70e893a8ba7c0f/manager.min.js"
                }
              }
            }
          }
        },
        {
          "output_type": "stream",
          "name": "stdout",
          "text": [
            "Fitting 5 folds for each of 10 candidates, totalling 50 fits\n"
          ]
        },
        {
          "output_type": "display_data",
          "data": {
            "text/plain": [
              "<IPython.core.display.HTML object>"
            ],
            "text/html": []
          },
          "metadata": {}
        }
      ],
      "source": [
        "tuned_elasticnet = tune_model(elasticnet)"
      ]
    },
    {
      "cell_type": "code",
      "execution_count": 66,
      "metadata": {
        "id": "GgsOTj4lToOn",
        "outputId": "8582306c-2360-494c-adf8-878ac0006c87",
        "colab": {
          "base_uri": "https://localhost:8080/",
          "height": 357,
          "referenced_widgets": [
            "aec75b276c734758931ba286a76537bc",
            "08b73e19885b412abb3d9e83f108a58e",
            "fd618f36af9d4eaeb1471430060c51ae",
            "3e5c3c2b38864f05835011aae9355ded",
            "3191a8748e804d8ba296645d02953d87",
            "8425e63c32ad4a2fa2aeea402ce994f6",
            "8eedad9129f7424e8c26c993e816150b",
            "105595a9bd8f49cc81fe688d66a3bd10",
            "5032e2c381414cba9bd8730b95c6c87c",
            "8c519935107d4ad9975c808709cbe454",
            "57ace22e4c8641f78f3fd1db9883ac44"
          ]
        }
      },
      "outputs": [
        {
          "output_type": "display_data",
          "data": {
            "text/plain": [
              "<IPython.core.display.HTML object>"
            ],
            "text/html": []
          },
          "metadata": {}
        },
        {
          "output_type": "display_data",
          "data": {
            "text/plain": [
              "<pandas.io.formats.style.Styler at 0x7fc602141540>"
            ],
            "text/html": [
              "<style type=\"text/css\">\n",
              "#T_36eb8 th {\n",
              "  text-align: left;\n",
              "}\n",
              "#T_36eb8_row0_col0, #T_36eb8_row0_col1, #T_36eb8_row0_col2, #T_36eb8_row0_col3, #T_36eb8_row0_col5, #T_36eb8_row0_col6, #T_36eb8_row1_col0, #T_36eb8_row1_col4, #T_36eb8_row1_col5, #T_36eb8_row1_col6, #T_36eb8_row2_col0, #T_36eb8_row2_col1, #T_36eb8_row2_col2, #T_36eb8_row2_col3, #T_36eb8_row2_col4, #T_36eb8_row3_col0, #T_36eb8_row3_col1, #T_36eb8_row3_col2, #T_36eb8_row3_col3, #T_36eb8_row3_col4, #T_36eb8_row3_col5, #T_36eb8_row3_col6, #T_36eb8_row4_col0, #T_36eb8_row4_col1, #T_36eb8_row4_col2, #T_36eb8_row4_col3, #T_36eb8_row4_col4, #T_36eb8_row4_col5, #T_36eb8_row4_col6, #T_36eb8_row5_col0, #T_36eb8_row5_col1, #T_36eb8_row5_col2, #T_36eb8_row5_col3, #T_36eb8_row5_col4, #T_36eb8_row5_col5, #T_36eb8_row5_col6, #T_36eb8_row6_col0, #T_36eb8_row6_col1, #T_36eb8_row6_col2, #T_36eb8_row6_col3, #T_36eb8_row6_col4, #T_36eb8_row6_col5, #T_36eb8_row6_col6, #T_36eb8_row7_col0, #T_36eb8_row7_col1, #T_36eb8_row7_col2, #T_36eb8_row7_col3, #T_36eb8_row7_col4, #T_36eb8_row7_col5, #T_36eb8_row7_col6 {\n",
              "  text-align: left;\n",
              "}\n",
              "#T_36eb8_row0_col4, #T_36eb8_row1_col1, #T_36eb8_row1_col2, #T_36eb8_row1_col3, #T_36eb8_row2_col5, #T_36eb8_row2_col6 {\n",
              "  text-align: left;\n",
              "  background-color: yellow;\n",
              "}\n",
              "#T_36eb8_row0_col7, #T_36eb8_row2_col7, #T_36eb8_row4_col7, #T_36eb8_row5_col7, #T_36eb8_row6_col7, #T_36eb8_row7_col7 {\n",
              "  text-align: left;\n",
              "  background-color: lightgrey;\n",
              "}\n",
              "#T_36eb8_row1_col7, #T_36eb8_row3_col7 {\n",
              "  text-align: left;\n",
              "  background-color: yellow;\n",
              "  background-color: lightgrey;\n",
              "}\n",
              "</style>\n",
              "<table id=\"T_36eb8\" class=\"dataframe\">\n",
              "  <thead>\n",
              "    <tr>\n",
              "      <th class=\"blank level0\" >&nbsp;</th>\n",
              "      <th id=\"T_36eb8_level0_col0\" class=\"col_heading level0 col0\" >Model</th>\n",
              "      <th id=\"T_36eb8_level0_col1\" class=\"col_heading level0 col1\" >MAE</th>\n",
              "      <th id=\"T_36eb8_level0_col2\" class=\"col_heading level0 col2\" >MSE</th>\n",
              "      <th id=\"T_36eb8_level0_col3\" class=\"col_heading level0 col3\" >RMSE</th>\n",
              "      <th id=\"T_36eb8_level0_col4\" class=\"col_heading level0 col4\" >R2</th>\n",
              "      <th id=\"T_36eb8_level0_col5\" class=\"col_heading level0 col5\" >RMSLE</th>\n",
              "      <th id=\"T_36eb8_level0_col6\" class=\"col_heading level0 col6\" >MAPE</th>\n",
              "      <th id=\"T_36eb8_level0_col7\" class=\"col_heading level0 col7\" >TT (Sec)</th>\n",
              "    </tr>\n",
              "  </thead>\n",
              "  <tbody>\n",
              "    <tr>\n",
              "      <th id=\"T_36eb8_level0_row0\" class=\"row_heading level0 row0\" >5</th>\n",
              "      <td id=\"T_36eb8_row0_col0\" class=\"data row0 col0\" >Ridge Regression</td>\n",
              "      <td id=\"T_36eb8_row0_col1\" class=\"data row0 col1\" >8.0569</td>\n",
              "      <td id=\"T_36eb8_row0_col2\" class=\"data row0 col2\" >104.5756</td>\n",
              "      <td id=\"T_36eb8_row0_col3\" class=\"data row0 col3\" >9.9861</td>\n",
              "      <td id=\"T_36eb8_row0_col4\" class=\"data row0 col4\" >0.2080</td>\n",
              "      <td id=\"T_36eb8_row0_col5\" class=\"data row0 col5\" >1.1170</td>\n",
              "      <td id=\"T_36eb8_row0_col6\" class=\"data row0 col6\" >1.2384</td>\n",
              "      <td id=\"T_36eb8_row0_col7\" class=\"data row0 col7\" >0.0300</td>\n",
              "    </tr>\n",
              "    <tr>\n",
              "      <th id=\"T_36eb8_level0_row1\" class=\"row_heading level0 row1\" >7</th>\n",
              "      <td id=\"T_36eb8_row1_col0\" class=\"data row1 col0\" >Elastic Net</td>\n",
              "      <td id=\"T_36eb8_row1_col1\" class=\"data row1 col1\" >7.8230</td>\n",
              "      <td id=\"T_36eb8_row1_col2\" class=\"data row1 col2\" >103.4089</td>\n",
              "      <td id=\"T_36eb8_row1_col3\" class=\"data row1 col3\" >9.8892</td>\n",
              "      <td id=\"T_36eb8_row1_col4\" class=\"data row1 col4\" >0.2037</td>\n",
              "      <td id=\"T_36eb8_row1_col5\" class=\"data row1 col5\" >1.2026</td>\n",
              "      <td id=\"T_36eb8_row1_col6\" class=\"data row1 col6\" >1.4132</td>\n",
              "      <td id=\"T_36eb8_row1_col7\" class=\"data row1 col7\" >0.0240</td>\n",
              "    </tr>\n",
              "    <tr>\n",
              "      <th id=\"T_36eb8_level0_row2\" class=\"row_heading level0 row2\" >6</th>\n",
              "      <td id=\"T_36eb8_row2_col0\" class=\"data row2 col0\" >Elastic Net</td>\n",
              "      <td id=\"T_36eb8_row2_col1\" class=\"data row2 col1\" >8.3222</td>\n",
              "      <td id=\"T_36eb8_row2_col2\" class=\"data row2 col2\" >109.9704</td>\n",
              "      <td id=\"T_36eb8_row2_col3\" class=\"data row2 col3\" >10.2465</td>\n",
              "      <td id=\"T_36eb8_row2_col4\" class=\"data row2 col4\" >0.1887</td>\n",
              "      <td id=\"T_36eb8_row2_col5\" class=\"data row2 col5\" >1.0421</td>\n",
              "      <td id=\"T_36eb8_row2_col6\" class=\"data row2 col6\" >1.1720</td>\n",
              "      <td id=\"T_36eb8_row2_col7\" class=\"data row2 col7\" >0.0340</td>\n",
              "    </tr>\n",
              "    <tr>\n",
              "      <th id=\"T_36eb8_level0_row3\" class=\"row_heading level0 row3\" >4</th>\n",
              "      <td id=\"T_36eb8_row3_col0\" class=\"data row3 col0\" >Ridge Regression</td>\n",
              "      <td id=\"T_36eb8_row3_col1\" class=\"data row3 col1\" >7.9341</td>\n",
              "      <td id=\"T_36eb8_row3_col2\" class=\"data row3 col2\" >105.6175</td>\n",
              "      <td id=\"T_36eb8_row3_col3\" class=\"data row3 col3\" >9.9934</td>\n",
              "      <td id=\"T_36eb8_row3_col4\" class=\"data row3 col4\" >0.1848</td>\n",
              "      <td id=\"T_36eb8_row3_col5\" class=\"data row3 col5\" >1.2075</td>\n",
              "      <td id=\"T_36eb8_row3_col6\" class=\"data row3 col6\" >1.4360</td>\n",
              "      <td id=\"T_36eb8_row3_col7\" class=\"data row3 col7\" >0.0240</td>\n",
              "    </tr>\n",
              "    <tr>\n",
              "      <th id=\"T_36eb8_level0_row4\" class=\"row_heading level0 row4\" >2</th>\n",
              "      <td id=\"T_36eb8_row4_col0\" class=\"data row4 col0\" >Lasso Regression</td>\n",
              "      <td id=\"T_36eb8_row4_col1\" class=\"data row4 col1\" >8.3073</td>\n",
              "      <td id=\"T_36eb8_row4_col2\" class=\"data row4 col2\" >110.4621</td>\n",
              "      <td id=\"T_36eb8_row4_col3\" class=\"data row4 col3\" >10.2872</td>\n",
              "      <td id=\"T_36eb8_row4_col4\" class=\"data row4 col4\" >0.1666</td>\n",
              "      <td id=\"T_36eb8_row4_col5\" class=\"data row4 col5\" >1.0490</td>\n",
              "      <td id=\"T_36eb8_row4_col6\" class=\"data row4 col6\" >1.2132</td>\n",
              "      <td id=\"T_36eb8_row4_col7\" class=\"data row4 col7\" >0.0260</td>\n",
              "    </tr>\n",
              "    <tr>\n",
              "      <th id=\"T_36eb8_level0_row5\" class=\"row_heading level0 row5\" >3</th>\n",
              "      <td id=\"T_36eb8_row5_col0\" class=\"data row5 col0\" >Lasso Regression</td>\n",
              "      <td id=\"T_36eb8_row5_col1\" class=\"data row5 col1\" >8.3073</td>\n",
              "      <td id=\"T_36eb8_row5_col2\" class=\"data row5 col2\" >110.4621</td>\n",
              "      <td id=\"T_36eb8_row5_col3\" class=\"data row5 col3\" >10.2872</td>\n",
              "      <td id=\"T_36eb8_row5_col4\" class=\"data row5 col4\" >0.1666</td>\n",
              "      <td id=\"T_36eb8_row5_col5\" class=\"data row5 col5\" >1.0490</td>\n",
              "      <td id=\"T_36eb8_row5_col6\" class=\"data row5 col6\" >1.2132</td>\n",
              "      <td id=\"T_36eb8_row5_col7\" class=\"data row5 col7\" >0.0300</td>\n",
              "    </tr>\n",
              "    <tr>\n",
              "      <th id=\"T_36eb8_level0_row6\" class=\"row_heading level0 row6\" >0</th>\n",
              "      <td id=\"T_36eb8_row6_col0\" class=\"data row6 col0\" >Linear Regression</td>\n",
              "      <td id=\"T_36eb8_row6_col1\" class=\"data row6 col1\" >8.4837</td>\n",
              "      <td id=\"T_36eb8_row6_col2\" class=\"data row6 col2\" >153.3356</td>\n",
              "      <td id=\"T_36eb8_row6_col3\" class=\"data row6 col3\" >11.7355</td>\n",
              "      <td id=\"T_36eb8_row6_col4\" class=\"data row6 col4\" >0.0199</td>\n",
              "      <td id=\"T_36eb8_row6_col5\" class=\"data row6 col5\" >1.2073</td>\n",
              "      <td id=\"T_36eb8_row6_col6\" class=\"data row6 col6\" >1.5342</td>\n",
              "      <td id=\"T_36eb8_row6_col7\" class=\"data row6 col7\" >0.0280</td>\n",
              "    </tr>\n",
              "    <tr>\n",
              "      <th id=\"T_36eb8_level0_row7\" class=\"row_heading level0 row7\" >1</th>\n",
              "      <td id=\"T_36eb8_row7_col0\" class=\"data row7 col0\" >Linear Regression</td>\n",
              "      <td id=\"T_36eb8_row7_col1\" class=\"data row7 col1\" >8.4837</td>\n",
              "      <td id=\"T_36eb8_row7_col2\" class=\"data row7 col2\" >153.3356</td>\n",
              "      <td id=\"T_36eb8_row7_col3\" class=\"data row7 col3\" >11.7355</td>\n",
              "      <td id=\"T_36eb8_row7_col4\" class=\"data row7 col4\" >0.0199</td>\n",
              "      <td id=\"T_36eb8_row7_col5\" class=\"data row7 col5\" >1.2073</td>\n",
              "      <td id=\"T_36eb8_row7_col6\" class=\"data row7 col6\" >1.5342</td>\n",
              "      <td id=\"T_36eb8_row7_col7\" class=\"data row7 col7\" >0.0300</td>\n",
              "    </tr>\n",
              "  </tbody>\n",
              "</table>\n"
            ]
          },
          "metadata": {}
        },
        {
          "output_type": "display_data",
          "data": {
            "text/plain": [
              "Processing:   0%|          | 0/37 [00:00<?, ?it/s]"
            ],
            "application/vnd.jupyter.widget-view+json": {
              "version_major": 2,
              "version_minor": 0,
              "model_id": "aec75b276c734758931ba286a76537bc"
            }
          },
          "metadata": {
            "application/vnd.jupyter.widget-view+json": {
              "colab": {
                "custom_widget_manager": {
                  "url": "https://ssl.gstatic.com/colaboratory-static/widgets/colab-cdn-widget-manager/2b70e893a8ba7c0f/manager.min.js"
                }
              }
            }
          }
        },
        {
          "output_type": "display_data",
          "data": {
            "text/plain": [
              "<IPython.core.display.HTML object>"
            ],
            "text/html": []
          },
          "metadata": {}
        },
        {
          "output_type": "execute_result",
          "data": {
            "text/plain": [
              "Ridge(alpha=8.65, random_state=1000)"
            ],
            "text/html": [
              "<style>#sk-container-id-1 {color: black;background-color: white;}#sk-container-id-1 pre{padding: 0;}#sk-container-id-1 div.sk-toggleable {background-color: white;}#sk-container-id-1 label.sk-toggleable__label {cursor: pointer;display: block;width: 100%;margin-bottom: 0;padding: 0.3em;box-sizing: border-box;text-align: center;}#sk-container-id-1 label.sk-toggleable__label-arrow:before {content: \"▸\";float: left;margin-right: 0.25em;color: #696969;}#sk-container-id-1 label.sk-toggleable__label-arrow:hover:before {color: black;}#sk-container-id-1 div.sk-estimator:hover label.sk-toggleable__label-arrow:before {color: black;}#sk-container-id-1 div.sk-toggleable__content {max-height: 0;max-width: 0;overflow: hidden;text-align: left;background-color: #f0f8ff;}#sk-container-id-1 div.sk-toggleable__content pre {margin: 0.2em;color: black;border-radius: 0.25em;background-color: #f0f8ff;}#sk-container-id-1 input.sk-toggleable__control:checked~div.sk-toggleable__content {max-height: 200px;max-width: 100%;overflow: auto;}#sk-container-id-1 input.sk-toggleable__control:checked~label.sk-toggleable__label-arrow:before {content: \"▾\";}#sk-container-id-1 div.sk-estimator input.sk-toggleable__control:checked~label.sk-toggleable__label {background-color: #d4ebff;}#sk-container-id-1 div.sk-label input.sk-toggleable__control:checked~label.sk-toggleable__label {background-color: #d4ebff;}#sk-container-id-1 input.sk-hidden--visually {border: 0;clip: rect(1px 1px 1px 1px);clip: rect(1px, 1px, 1px, 1px);height: 1px;margin: -1px;overflow: hidden;padding: 0;position: absolute;width: 1px;}#sk-container-id-1 div.sk-estimator {font-family: monospace;background-color: #f0f8ff;border: 1px dotted black;border-radius: 0.25em;box-sizing: border-box;margin-bottom: 0.5em;}#sk-container-id-1 div.sk-estimator:hover {background-color: #d4ebff;}#sk-container-id-1 div.sk-parallel-item::after {content: \"\";width: 100%;border-bottom: 1px solid gray;flex-grow: 1;}#sk-container-id-1 div.sk-label:hover label.sk-toggleable__label {background-color: #d4ebff;}#sk-container-id-1 div.sk-serial::before {content: \"\";position: absolute;border-left: 1px solid gray;box-sizing: border-box;top: 0;bottom: 0;left: 50%;z-index: 0;}#sk-container-id-1 div.sk-serial {display: flex;flex-direction: column;align-items: center;background-color: white;padding-right: 0.2em;padding-left: 0.2em;position: relative;}#sk-container-id-1 div.sk-item {position: relative;z-index: 1;}#sk-container-id-1 div.sk-parallel {display: flex;align-items: stretch;justify-content: center;background-color: white;position: relative;}#sk-container-id-1 div.sk-item::before, #sk-container-id-1 div.sk-parallel-item::before {content: \"\";position: absolute;border-left: 1px solid gray;box-sizing: border-box;top: 0;bottom: 0;left: 50%;z-index: -1;}#sk-container-id-1 div.sk-parallel-item {display: flex;flex-direction: column;z-index: 1;position: relative;background-color: white;}#sk-container-id-1 div.sk-parallel-item:first-child::after {align-self: flex-end;width: 50%;}#sk-container-id-1 div.sk-parallel-item:last-child::after {align-self: flex-start;width: 50%;}#sk-container-id-1 div.sk-parallel-item:only-child::after {width: 0;}#sk-container-id-1 div.sk-dashed-wrapped {border: 1px dashed gray;margin: 0 0.4em 0.5em 0.4em;box-sizing: border-box;padding-bottom: 0.4em;background-color: white;}#sk-container-id-1 div.sk-label label {font-family: monospace;font-weight: bold;display: inline-block;line-height: 1.2em;}#sk-container-id-1 div.sk-label-container {text-align: center;}#sk-container-id-1 div.sk-container {/* jupyter's `normalize.less` sets `[hidden] { display: none; }` but bootstrap.min.css set `[hidden] { display: none !important; }` so we also need the `!important` here to be able to override the default hidden behavior on the sphinx rendered scikit-learn.org. See: https://github.com/scikit-learn/scikit-learn/issues/21755 */display: inline-block !important;position: relative;}#sk-container-id-1 div.sk-text-repr-fallback {display: none;}</style><div id=\"sk-container-id-1\" class=\"sk-top-container\"><div class=\"sk-text-repr-fallback\"><pre>Ridge(alpha=8.65, random_state=1000)</pre><b>In a Jupyter environment, please rerun this cell to show the HTML representation or trust the notebook. <br />On GitHub, the HTML representation is unable to render, please try loading this page with nbviewer.org.</b></div><div class=\"sk-container\" hidden><div class=\"sk-item\"><div class=\"sk-estimator sk-toggleable\"><input class=\"sk-toggleable__control sk-hidden--visually\" id=\"sk-estimator-id-1\" type=\"checkbox\" checked><label for=\"sk-estimator-id-1\" class=\"sk-toggleable__label sk-toggleable__label-arrow\">Ridge</label><div class=\"sk-toggleable__content\"><pre>Ridge(alpha=8.65, random_state=1000)</pre></div></div></div></div></div>"
            ]
          },
          "metadata": {},
          "execution_count": 66
        }
      ],
      "source": [
        "compare_models([lr,tuned_lr, lasso, tuned_lasso, ridge, tuned_ridge, elasticnet, tuned_elasticnet])"
      ]
    },
    {
      "cell_type": "markdown",
      "metadata": {
        "id": "-2LA6wxzToOo"
      },
      "source": [
        "The best model is tuned ridge!"
      ]
    },
    {
      "cell_type": "markdown",
      "metadata": {
        "id": "T7BPj-YpToOo"
      },
      "source": [
        "Bonus question: Why we were not able to get the same answer with PyCaret? remember, our best model was ElasticNet."
      ]
    },
    {
      "cell_type": "markdown",
      "metadata": {
        "id": "Q3hipOBJToOo"
      },
      "source": [
        "## Plot model"
      ]
    },
    {
      "cell_type": "code",
      "execution_count": 67,
      "metadata": {
        "id": "Pil_OtxjToOp",
        "outputId": "123db102-e215-4823-fcea-33b00f794d2e",
        "colab": {
          "base_uri": "https://localhost:8080/",
          "height": 524
        }
      },
      "outputs": [
        {
          "output_type": "display_data",
          "data": {
            "text/plain": [
              "<IPython.core.display.HTML object>"
            ],
            "text/html": []
          },
          "metadata": {}
        },
        {
          "output_type": "display_data",
          "data": {
            "text/plain": [
              "<Figure size 800x550 with 2 Axes>"
            ],
            "image/png": "[encoded data removed]"
          },
          "metadata": {}
        }
      ],
      "source": [
        "plot_model(tuned_ridge,plot='residuals')"
      ]
    },
    {
      "cell_type": "code",
      "execution_count": 68,
      "metadata": {
        "id": "OdwD42LWToOq",
        "outputId": "65929169-119b-4874-dc8f-38d4ff731ec1",
        "colab": {
          "base_uri": "https://localhost:8080/",
          "height": 526
        }
      },
      "outputs": [
        {
          "output_type": "display_data",
          "data": {
            "text/plain": [
              "<IPython.core.display.HTML object>"
            ],
            "text/html": []
          },
          "metadata": {}
        },
        {
          "output_type": "display_data",
          "data": {
            "text/plain": [
              "<Figure size 800x550 with 1 Axes>"
            ],
            "image/png": "[encoded data removed]"
          },
          "metadata": {}
        }
      ],
      "source": [
        "plot_model(tuned_ridge,plot='error' )"
      ]
    },
    {
      "cell_type": "code",
      "execution_count": 69,
      "metadata": {
        "id": "ADIPVma5ToOr",
        "outputId": "29ff6eeb-8be7-4788-cc7a-5a46b393020c",
        "colab": {
          "base_uri": "https://localhost:8080/",
          "height": 524
        }
      },
      "outputs": [
        {
          "output_type": "display_data",
          "data": {
            "text/plain": [
              "<IPython.core.display.HTML object>"
            ],
            "text/html": []
          },
          "metadata": {}
        },
        {
          "output_type": "display_data",
          "data": {
            "text/plain": [
              "<Figure size 800x550 with 1 Axes>"
            ],
            "image/png": "[encoded data removed]"
          },
          "metadata": {}
        }
      ],
      "source": [
        "plot_model(tuned_ridge,plot='learning')"
      ]
    },
    {
      "cell_type": "markdown",
      "metadata": {
        "id": "NYDxINREToOt"
      },
      "source": [
        "## Predict model"
      ]
    },
    {
      "cell_type": "code",
      "execution_count": 70,
      "metadata": {
        "id": "gdMj0sbYToOt",
        "outputId": "b3774736-2598-433b-9c21-2ded417af94d",
        "colab": {
          "base_uri": "https://localhost:8080/",
          "height": 739
        }
      },
      "outputs": [
        {
          "output_type": "display_data",
          "data": {
            "text/plain": [
              "<pandas.io.formats.style.Styler at 0x7fc5fcd9a380>"
            ],
            "text/html": [
              "<style type=\"text/css\">\n",
              "</style>\n",
              "<table id=\"T_7ebc0\" class=\"dataframe\">\n",
              "  <thead>\n",
              "    <tr>\n",
              "      <th class=\"blank level0\" >&nbsp;</th>\n",
              "      <th id=\"T_7ebc0_level0_col0\" class=\"col_heading level0 col0\" >Model</th>\n",
              "      <th id=\"T_7ebc0_level0_col1\" class=\"col_heading level0 col1\" >MAE</th>\n",
              "      <th id=\"T_7ebc0_level0_col2\" class=\"col_heading level0 col2\" >MSE</th>\n",
              "      <th id=\"T_7ebc0_level0_col3\" class=\"col_heading level0 col3\" >RMSE</th>\n",
              "      <th id=\"T_7ebc0_level0_col4\" class=\"col_heading level0 col4\" >R2</th>\n",
              "      <th id=\"T_7ebc0_level0_col5\" class=\"col_heading level0 col5\" >RMSLE</th>\n",
              "      <th id=\"T_7ebc0_level0_col6\" class=\"col_heading level0 col6\" >MAPE</th>\n",
              "    </tr>\n",
              "  </thead>\n",
              "  <tbody>\n",
              "    <tr>\n",
              "      <th id=\"T_7ebc0_level0_row0\" class=\"row_heading level0 row0\" >0</th>\n",
              "      <td id=\"T_7ebc0_row0_col0\" class=\"data row0 col0\" >Ridge Regression</td>\n",
              "      <td id=\"T_7ebc0_row0_col1\" class=\"data row0 col1\" >13.5817</td>\n",
              "      <td id=\"T_7ebc0_row0_col2\" class=\"data row0 col2\" >344.9441</td>\n",
              "      <td id=\"T_7ebc0_row0_col3\" class=\"data row0 col3\" >18.5727</td>\n",
              "      <td id=\"T_7ebc0_row0_col4\" class=\"data row0 col4\" >0.5753</td>\n",
              "      <td id=\"T_7ebc0_row0_col5\" class=\"data row0 col5\" >1.3192</td>\n",
              "      <td id=\"T_7ebc0_row0_col6\" class=\"data row0 col6\" >0.8509</td>\n",
              "    </tr>\n",
              "  </tbody>\n",
              "</table>\n"
            ]
          },
          "metadata": {}
        },
        {
          "output_type": "execute_result",
          "data": {
            "text/plain": [
              "          X1         X2         X3            X4            X5          y  \\\n",
              "88 -1.270066   1.613067  -2.048701  2.601985e+00 -3.304691e+00  25.602488   \n",
              "4   1.299748   1.689346   2.195725  2.853890e+00  3.709339e+00  -3.772851   \n",
              "62 -0.176185   0.031041  -0.005469  9.635560e-04 -1.697640e-04 -14.957215   \n",
              "63 -2.172674   4.720512 -10.256133  2.228323e+01 -4.841420e+01  46.744209   \n",
              "48 -1.063891   1.131864  -1.204180  1.281116e+00 -1.362968e+00  22.810785   \n",
              "85  1.169370   1.367426   1.599027  1.869854e+00  2.186551e+00  15.660195   \n",
              "73 -1.109817   1.231695  -1.366956  1.517072e+00 -1.683673e+00 -10.956726   \n",
              "84 -1.000759   1.001519  -1.002279  1.003040e+00 -1.003801e+00   3.248486   \n",
              "39 -0.690765   0.477157  -0.329603  2.276786e-01 -1.572725e-01  14.289402   \n",
              "47 -0.118042   0.013934  -0.001645  1.941540e-04 -2.290000e-05  11.126081   \n",
              "33  3.428563  11.755044  40.302906  1.381811e+02  4.737625e+02 -96.615135   \n",
              "96 -0.013516   0.000183  -0.000002  3.340000e-08 -4.510000e-10 -15.068184   \n",
              "54 -0.048404   0.002343  -0.000113  5.490000e-06 -2.660000e-07 -17.751352   \n",
              "53  0.556753   0.309974   0.172579  9.608366e-02  5.349484e-02   9.201485   \n",
              "34 -0.578567   0.334740  -0.193670  1.120510e-01 -6.482904e-02  -2.255177   \n",
              "9  -2.238204   5.009555 -11.212403  2.509564e+01 -5.616915e+01  38.355419   \n",
              "83 -0.895379   0.801703  -0.717827  6.427274e-01 -5.754843e-01  -8.139212   \n",
              "35 -0.204163   0.041683  -0.008510  1.737434e-03 -3.547200e-04 -15.849248   \n",
              "72  0.098843   0.009770   0.000966  9.550000e-05  9.430000e-06   2.179013   \n",
              "25  0.162718   0.026477   0.004308  7.010350e-04  1.140710e-04  14.121992   \n",
              "\n",
              "    prediction_label  \n",
              "88          6.237529  \n",
              "4           2.264750  \n",
              "62          1.146233  \n",
              "63         37.120049  \n",
              "48          3.725569  \n",
              "85          2.904333  \n",
              "73          4.194131  \n",
              "84          3.157096  \n",
              "39          1.424382  \n",
              "47          1.240201  \n",
              "33       -158.816544  \n",
              "96          1.448401  \n",
              "54          1.373907  \n",
              "53          2.918284  \n",
              "34          1.144045  \n",
              "9          41.313538  \n",
              "83          2.385668  \n",
              "35          1.107494  \n",
              "72          1.715447  \n",
              "25          1.881137  "
            ],
            "text/html": [
              "\n",
              "  <div id=\"df-f2736240-5ac4-4128-9e45-99ed8818feda\" class=\"colab-df-container\">\n",
              "    <div>\n",
              "<style scoped>\n",
              "    .dataframe tbody tr th:only-of-type {\n",
              "        vertical-align: middle;\n",
              "    }\n",
              "\n",
              "    .dataframe tbody tr th {\n",
              "        vertical-align: top;\n",
              "    }\n",
              "\n",
              "    .dataframe thead th {\n",
              "        text-align: right;\n",
              "    }\n",
              "</style>\n",
              "<table border=\"1\" class=\"dataframe\">\n",
              "  <thead>\n",
              "    <tr style=\"text-align: right;\">\n",
              "      <th></th>\n",
              "      <th>X1</th>\n",
              "      <th>X2</th>\n",
              "      <th>X3</th>\n",
              "      <th>X4</th>\n",
              "      <th>X5</th>\n",
              "      <th>y</th>\n",
              "      <th>prediction_label</th>\n",
              "    </tr>\n",
              "  </thead>\n",
              "  <tbody>\n",
              "    <tr>\n",
              "      <th>88</th>\n",
              "      <td>-1.270066</td>\n",
              "      <td>1.613067</td>\n",
              "      <td>-2.048701</td>\n",
              "      <td>2.601985e+00</td>\n",
              "      <td>-3.304691e+00</td>\n",
              "      <td>25.602488</td>\n",
              "      <td>6.237529</td>\n",
              "    </tr>\n",
              "    <tr>\n",
              "      <th>4</th>\n",
              "      <td>1.299748</td>\n",
              "      <td>1.689346</td>\n",
              "      <td>2.195725</td>\n",
              "      <td>2.853890e+00</td>\n",
              "      <td>3.709339e+00</td>\n",
              "      <td>-3.772851</td>\n",
              "      <td>2.264750</td>\n",
              "    </tr>\n",
              "    <tr>\n",
              "      <th>62</th>\n",
              "      <td>-0.176185</td>\n",
              "      <td>0.031041</td>\n",
              "      <td>-0.005469</td>\n",
              "      <td>9.635560e-04</td>\n",
              "      <td>-1.697640e-04</td>\n",
              "      <td>-14.957215</td>\n",
              "      <td>1.146233</td>\n",
              "    </tr>\n",
              "    <tr>\n",
              "      <th>63</th>\n",
              "      <td>-2.172674</td>\n",
              "      <td>4.720512</td>\n",
              "      <td>-10.256133</td>\n",
              "      <td>2.228323e+01</td>\n",
              "      <td>-4.841420e+01</td>\n",
              "      <td>46.744209</td>\n",
              "      <td>37.120049</td>\n",
              "    </tr>\n",
              "    <tr>\n",
              "      <th>48</th>\n",
              "      <td>-1.063891</td>\n",
              "      <td>1.131864</td>\n",
              "      <td>-1.204180</td>\n",
              "      <td>1.281116e+00</td>\n",
              "      <td>-1.362968e+00</td>\n",
              "      <td>22.810785</td>\n",
              "      <td>3.725569</td>\n",
              "    </tr>\n",
              "    <tr>\n",
              "      <th>85</th>\n",
              "      <td>1.169370</td>\n",
              "      <td>1.367426</td>\n",
              "      <td>1.599027</td>\n",
              "      <td>1.869854e+00</td>\n",
              "      <td>2.186551e+00</td>\n",
              "      <td>15.660195</td>\n",
              "      <td>2.904333</td>\n",
              "    </tr>\n",
              "    <tr>\n",
              "      <th>73</th>\n",
              "      <td>-1.109817</td>\n",
              "      <td>1.231695</td>\n",
              "      <td>-1.366956</td>\n",
              "      <td>1.517072e+00</td>\n",
              "      <td>-1.683673e+00</td>\n",
              "      <td>-10.956726</td>\n",
              "      <td>4.194131</td>\n",
              "    </tr>\n",
              "    <tr>\n",
              "      <th>84</th>\n",
              "      <td>-1.000759</td>\n",
              "      <td>1.001519</td>\n",
              "      <td>-1.002279</td>\n",
              "      <td>1.003040e+00</td>\n",
              "      <td>-1.003801e+00</td>\n",
              "      <td>3.248486</td>\n",
              "      <td>3.157096</td>\n",
              "    </tr>\n",
              "    <tr>\n",
              "      <th>39</th>\n",
              "      <td>-0.690765</td>\n",
              "      <td>0.477157</td>\n",
              "      <td>-0.329603</td>\n",
              "      <td>2.276786e-01</td>\n",
              "      <td>-1.572725e-01</td>\n",
              "      <td>14.289402</td>\n",
              "      <td>1.424382</td>\n",
              "    </tr>\n",
              "    <tr>\n",
              "      <th>47</th>\n",
              "      <td>-0.118042</td>\n",
              "      <td>0.013934</td>\n",
              "      <td>-0.001645</td>\n",
              "      <td>1.941540e-04</td>\n",
              "      <td>-2.290000e-05</td>\n",
              "      <td>11.126081</td>\n",
              "      <td>1.240201</td>\n",
              "    </tr>\n",
              "    <tr>\n",
              "      <th>33</th>\n",
              "      <td>3.428563</td>\n",
              "      <td>11.755044</td>\n",
              "      <td>40.302906</td>\n",
              "      <td>1.381811e+02</td>\n",
              "      <td>4.737625e+02</td>\n",
              "      <td>-96.615135</td>\n",
              "      <td>-158.816544</td>\n",
              "    </tr>\n",
              "    <tr>\n",
              "      <th>96</th>\n",
              "      <td>-0.013516</td>\n",
              "      <td>0.000183</td>\n",
              "      <td>-0.000002</td>\n",
              "      <td>3.340000e-08</td>\n",
              "      <td>-4.510000e-10</td>\n",
              "      <td>-15.068184</td>\n",
              "      <td>1.448401</td>\n",
              "    </tr>\n",
              "    <tr>\n",
              "      <th>54</th>\n",
              "      <td>-0.048404</td>\n",
              "      <td>0.002343</td>\n",
              "      <td>-0.000113</td>\n",
              "      <td>5.490000e-06</td>\n",
              "      <td>-2.660000e-07</td>\n",
              "      <td>-17.751352</td>\n",
              "      <td>1.373907</td>\n",
              "    </tr>\n",
              "    <tr>\n",
              "      <th>53</th>\n",
              "      <td>0.556753</td>\n",
              "      <td>0.309974</td>\n",
              "      <td>0.172579</td>\n",
              "      <td>9.608366e-02</td>\n",
              "      <td>5.349484e-02</td>\n",
              "      <td>9.201485</td>\n",
              "      <td>2.918284</td>\n",
              "    </tr>\n",
              "    <tr>\n",
              "      <th>34</th>\n",
              "      <td>-0.578567</td>\n",
              "      <td>0.334740</td>\n",
              "      <td>-0.193670</td>\n",
              "      <td>1.120510e-01</td>\n",
              "      <td>-6.482904e-02</td>\n",
              "      <td>-2.255177</td>\n",
              "      <td>1.144045</td>\n",
              "    </tr>\n",
              "    <tr>\n",
              "      <th>9</th>\n",
              "      <td>-2.238204</td>\n",
              "      <td>5.009555</td>\n",
              "      <td>-11.212403</td>\n",
              "      <td>2.509564e+01</td>\n",
              "      <td>-5.616915e+01</td>\n",
              "      <td>38.355419</td>\n",
              "      <td>41.313538</td>\n",
              "    </tr>\n",
              "    <tr>\n",
              "      <th>83</th>\n",
              "      <td>-0.895379</td>\n",
              "      <td>0.801703</td>\n",
              "      <td>-0.717827</td>\n",
              "      <td>6.427274e-01</td>\n",
              "      <td>-5.754843e-01</td>\n",
              "      <td>-8.139212</td>\n",
              "      <td>2.385668</td>\n",
              "    </tr>\n",
              "    <tr>\n",
              "      <th>35</th>\n",
              "      <td>-0.204163</td>\n",
              "      <td>0.041683</td>\n",
              "      <td>-0.008510</td>\n",
              "      <td>1.737434e-03</td>\n",
              "      <td>-3.547200e-04</td>\n",
              "      <td>-15.849248</td>\n",
              "      <td>1.107494</td>\n",
              "    </tr>\n",
              "    <tr>\n",
              "      <th>72</th>\n",
              "      <td>0.098843</td>\n",
              "      <td>0.009770</td>\n",
              "      <td>0.000966</td>\n",
              "      <td>9.550000e-05</td>\n",
              "      <td>9.430000e-06</td>\n",
              "      <td>2.179013</td>\n",
              "      <td>1.715447</td>\n",
              "    </tr>\n",
              "    <tr>\n",
              "      <th>25</th>\n",
              "      <td>0.162718</td>\n",
              "      <td>0.026477</td>\n",
              "      <td>0.004308</td>\n",
              "      <td>7.010350e-04</td>\n",
              "      <td>1.140710e-04</td>\n",
              "      <td>14.121992</td>\n",
              "      <td>1.881137</td>\n",
              "    </tr>\n",
              "  </tbody>\n",
              "</table>\n",
              "</div>\n",
              "    <div class=\"colab-df-buttons\">\n",
              "\n",
              "  <div class=\"colab-df-container\">\n",
              "    <button class=\"colab-df-convert\" onclick=\"convertToInteractive('df-f2736240-5ac4-4128-9e45-99ed8818feda')\"\n",
              "            title=\"Convert this dataframe to an interactive table.\"\n",
              "            style=\"display:none;\">\n",
              "\n",
              "  <svg xmlns=\"http://www.w3.org/2000/svg\" height=\"24px\" viewBox=\"0 -960 960 960\">\n",
              "    <path d=\"M120-120v-720h720v720H120Zm60-500h600v-160H180v160Zm220 220h160v-160H400v160Zm0 220h160v-160H400v160ZM180-400h160v-160H180v160Zm440 0h160v-160H620v160ZM180-180h160v-160H180v160Zm440 0h160v-160H620v160Z\"/>\n",
              "  </svg>\n",
              "    </button>\n",
              "\n",
              "  <style>\n",
              "    .colab-df-container {\n",
              "      display:flex;\n",
              "      gap: 12px;\n",
              "    }\n",
              "\n",
              "    .colab-df-convert {\n",
              "      background-color: #E8F0FE;\n",
              "      border: none;\n",
              "      border-radius: 50%;\n",
              "      cursor: pointer;\n",
              "      display: none;\n",
              "      fill: #1967D2;\n",
              "      height: 32px;\n",
              "      padding: 0 0 0 0;\n",
              "      width: 32px;\n",
              "    }\n",
              "\n",
              "    .colab-df-convert:hover {\n",
              "      background-color: #E2EBFA;\n",
              "      box-shadow: 0px 1px 2px rgba(60, 64, 67, 0.3), 0px 1px 3px 1px rgba(60, 64, 67, 0.15);\n",
              "      fill: #174EA6;\n",
              "    }\n",
              "\n",
              "    .colab-df-buttons div {\n",
              "      margin-bottom: 4px;\n",
              "    }\n",
              "\n",
              "    [theme=dark] .colab-df-convert {\n",
              "      background-color: #3B4455;\n",
              "      fill: #D2E3FC;\n",
              "    }\n",
              "\n",
              "    [theme=dark] .colab-df-convert:hover {\n",
              "      background-color: #434B5C;\n",
              "      box-shadow: 0px 1px 3px 1px rgba(0, 0, 0, 0.15);\n",
              "      filter: drop-shadow(0px 1px 2px rgba(0, 0, 0, 0.3));\n",
              "      fill: #FFFFFF;\n",
              "    }\n",
              "  </style>\n",
              "\n",
              "    <script>\n",
              "      const buttonEl =\n",
              "        document.querySelector('#df-f2736240-5ac4-4128-9e45-99ed8818feda button.colab-df-convert');\n",
              "      buttonEl.style.display =\n",
              "        google.colab.kernel.accessAllowed ? 'block' : 'none';\n",
              "\n",
              "      async function convertToInteractive(key) {\n",
              "        const element = document.querySelector('#df-f2736240-5ac4-4128-9e45-99ed8818feda');\n",
              "        const dataTable =\n",
              "          await google.colab.kernel.invokeFunction('convertToInteractive',\n",
              "                                                    [key], {});\n",
              "        if (!dataTable) return;\n",
              "\n",
              "        const docLinkHtml = 'Like what you see? Visit the ' +\n",
              "          '<a target=\"_blank\" href=https://colab.research.google.com/notebooks/data_table.ipynb>data table notebook</a>'\n",
              "          + ' to learn more about interactive tables.';\n",
              "        element.innerHTML = '';\n",
              "        dataTable['output_type'] = 'display_data';\n",
              "        await google.colab.output.renderOutput(dataTable, element);\n",
              "        const docLink = document.createElement('div');\n",
              "        docLink.innerHTML = docLinkHtml;\n",
              "        element.appendChild(docLink);\n",
              "      }\n",
              "    </script>\n",
              "  </div>\n",
              "\n",
              "\n",
              "<div id=\"df-572f2a11-8432-4a5e-a5c1-25c129fafbc4\">\n",
              "  <button class=\"colab-df-quickchart\" onclick=\"quickchart('df-572f2a11-8432-4a5e-a5c1-25c129fafbc4')\"\n",
              "            title=\"Suggest charts\"\n",
              "            style=\"display:none;\">\n",
              "\n",
              "<svg xmlns=\"http://www.w3.org/2000/svg\" height=\"24px\"viewBox=\"0 0 24 24\"\n",
              "     width=\"24px\">\n",
              "    <g>\n",
              "        <path d=\"M19 3H5c-1.1 0-2 .9-2 2v14c0 1.1.9 2 2 2h14c1.1 0 2-.9 2-2V5c0-1.1-.9-2-2-2zM9 17H7v-7h2v7zm4 0h-2V7h2v10zm4 0h-2v-4h2v4z\"/>\n",
              "    </g>\n",
              "</svg>\n",
              "  </button>\n",
              "\n",
              "<style>\n",
              "  .colab-df-quickchart {\n",
              "      --bg-color: #E8F0FE;\n",
              "      --fill-color: #1967D2;\n",
              "      --hover-bg-color: #E2EBFA;\n",
              "      --hover-fill-color: #174EA6;\n",
              "      --disabled-fill-color: #AAA;\n",
              "      --disabled-bg-color: #DDD;\n",
              "  }\n",
              "\n",
              "  [theme=dark] .colab-df-quickchart {\n",
              "      --bg-color: #3B4455;\n",
              "      --fill-color: #D2E3FC;\n",
              "      --hover-bg-color: #434B5C;\n",
              "      --hover-fill-color: #FFFFFF;\n",
              "      --disabled-bg-color: #3B4455;\n",
              "      --disabled-fill-color: #666;\n",
              "  }\n",
              "\n",
              "  .colab-df-quickchart {\n",
              "    background-color: var(--bg-color);\n",
              "    border: none;\n",
              "    border-radius: 50%;\n",
              "    cursor: pointer;\n",
              "    display: none;\n",
              "    fill: var(--fill-color);\n",
              "    height: 32px;\n",
              "    padding: 0;\n",
              "    width: 32px;\n",
              "  }\n",
              "\n",
              "  .colab-df-quickchart:hover {\n",
              "    background-color: var(--hover-bg-color);\n",
              "    box-shadow: 0 1px 2px rgba(60, 64, 67, 0.3), 0 1px 3px 1px rgba(60, 64, 67, 0.15);\n",
              "    fill: var(--button-hover-fill-color);\n",
              "  }\n",
              "\n",
              "  .colab-df-quickchart-complete:disabled,\n",
              "  .colab-df-quickchart-complete:disabled:hover {\n",
              "    background-color: var(--disabled-bg-color);\n",
              "    fill: var(--disabled-fill-color);\n",
              "    box-shadow: none;\n",
              "  }\n",
              "\n",
              "  .colab-df-spinner {\n",
              "    border: 2px solid var(--fill-color);\n",
              "    border-color: transparent;\n",
              "    border-bottom-color: var(--fill-color);\n",
              "    animation:\n",
              "      spin 1s steps(1) infinite;\n",
              "  }\n",
              "\n",
              "  @keyframes spin {\n",
              "    0% {\n",
              "      border-color: transparent;\n",
              "      border-bottom-color: var(--fill-color);\n",
              "      border-left-color: var(--fill-color);\n",
              "    }\n",
              "    20% {\n",
              "      border-color: transparent;\n",
              "      border-left-color: var(--fill-color);\n",
              "      border-top-color: var(--fill-color);\n",
              "    }\n",
              "    30% {\n",
              "      border-color: transparent;\n",
              "      border-left-color: var(--fill-color);\n",
              "      border-top-color: var(--fill-color);\n",
              "      border-right-color: var(--fill-color);\n",
              "    }\n",
              "    40% {\n",
              "      border-color: transparent;\n",
              "      border-right-color: var(--fill-color);\n",
              "      border-top-color: var(--fill-color);\n",
              "    }\n",
              "    60% {\n",
              "      border-color: transparent;\n",
              "      border-right-color: var(--fill-color);\n",
              "    }\n",
              "    80% {\n",
              "      border-color: transparent;\n",
              "      border-right-color: var(--fill-color);\n",
              "      border-bottom-color: var(--fill-color);\n",
              "    }\n",
              "    90% {\n",
              "      border-color: transparent;\n",
              "      border-bottom-color: var(--fill-color);\n",
              "    }\n",
              "  }\n",
              "</style>\n",
              "\n",
              "  <script>\n",
              "    async function quickchart(key) {\n",
              "      const quickchartButtonEl =\n",
              "        document.querySelector('#' + key + ' button');\n",
              "      quickchartButtonEl.disabled = true;  // To prevent multiple clicks.\n",
              "      quickchartButtonEl.classList.add('colab-df-spinner');\n",
              "      try {\n",
              "        const charts = await google.colab.kernel.invokeFunction(\n",
              "            'suggestCharts', [key], {});\n",
              "      } catch (error) {\n",
              "        console.error('Error during call to suggestCharts:', error);\n",
              "      }\n",
              "      quickchartButtonEl.classList.remove('colab-df-spinner');\n",
              "      quickchartButtonEl.classList.add('colab-df-quickchart-complete');\n",
              "    }\n",
              "    (() => {\n",
              "      let quickchartButtonEl =\n",
              "        document.querySelector('#df-572f2a11-8432-4a5e-a5c1-25c129fafbc4 button');\n",
              "      quickchartButtonEl.style.display =\n",
              "        google.colab.kernel.accessAllowed ? 'block' : 'none';\n",
              "    })();\n",
              "  </script>\n",
              "</div>\n",
              "\n",
              "  <div id=\"id_c74b4daf-2acc-42c9-8b8e-defcbe293fef\">\n",
              "    <style>\n",
              "      .colab-df-generate {\n",
              "        background-color: #E8F0FE;\n",
              "        border: none;\n",
              "        border-radius: 50%;\n",
              "        cursor: pointer;\n",
              "        display: none;\n",
              "        fill: #1967D2;\n",
              "        height: 32px;\n",
              "        padding: 0 0 0 0;\n",
              "        width: 32px;\n",
              "      }\n",
              "\n",
              "      .colab-df-generate:hover {\n",
              "        background-color: #E2EBFA;\n",
              "        box-shadow: 0px 1px 2px rgba(60, 64, 67, 0.3), 0px 1px 3px 1px rgba(60, 64, 67, 0.15);\n",
              "        fill: #174EA6;\n",
              "      }\n",
              "\n",
              "      [theme=dark] .colab-df-generate {\n",
              "        background-color: #3B4455;\n",
              "        fill: #D2E3FC;\n",
              "      }\n",
              "\n",
              "      [theme=dark] .colab-df-generate:hover {\n",
              "        background-color: #434B5C;\n",
              "        box-shadow: 0px 1px 3px 1px rgba(0, 0, 0, 0.15);\n",
              "        filter: drop-shadow(0px 1px 2px rgba(0, 0, 0, 0.3));\n",
              "        fill: #FFFFFF;\n",
              "      }\n",
              "    </style>\n",
              "    <button class=\"colab-df-generate\" onclick=\"generateWithVariable('pycaret_predictions')\"\n",
              "            title=\"Generate code using this dataframe.\"\n",
              "            style=\"display:none;\">\n",
              "\n",
              "  <svg xmlns=\"http://www.w3.org/2000/svg\" height=\"24px\"viewBox=\"0 0 24 24\"\n",
              "       width=\"24px\">\n",
              "    <path d=\"M7,19H8.4L18.45,9,17,7.55,7,17.6ZM5,21V16.75L18.45,3.32a2,2,0,0,1,2.83,0l1.4,1.43a1.91,1.91,0,0,1,.58,1.4,1.91,1.91,0,0,1-.58,1.4L9.25,21ZM18.45,9,17,7.55Zm-12,3A5.31,5.31,0,0,0,4.9,8.1,5.31,5.31,0,0,0,1,6.5,5.31,5.31,0,0,0,4.9,4.9,5.31,5.31,0,0,0,6.5,1,5.31,5.31,0,0,0,8.1,4.9,5.31,5.31,0,0,0,12,6.5,5.46,5.46,0,0,0,6.5,12Z\"/>\n",
              "  </svg>\n",
              "    </button>\n",
              "    <script>\n",
              "      (() => {\n",
              "      const buttonEl =\n",
              "        document.querySelector('#id_c74b4daf-2acc-42c9-8b8e-defcbe293fef button.colab-df-generate');\n",
              "      buttonEl.style.display =\n",
              "        google.colab.kernel.accessAllowed ? 'block' : 'none';\n",
              "\n",
              "      buttonEl.onclick = () => {\n",
              "        google.colab.notebook.generateWithVariable('pycaret_predictions');\n",
              "      }\n",
              "      })();\n",
              "    </script>\n",
              "  </div>\n",
              "\n",
              "    </div>\n",
              "  </div>\n"
            ],
            "application/vnd.google.colaboratory.intrinsic+json": {
              "type": "dataframe",
              "variable_name": "pycaret_predictions",
              "summary": "{\n  \"name\": \"pycaret_predictions\",\n  \"rows\": 20,\n  \"fields\": [\n    {\n      \"column\": \"X1\",\n      \"properties\": {\n        \"dtype\": \"float32\",\n        \"samples\": [\n          -1.2700656652450562,\n          -0.20416299998760223,\n          -2.238203525543213\n        ],\n        \"num_unique_values\": 20,\n        \"semantic_type\": \"\",\n        \"description\": \"\"\n      }\n    },\n    {\n      \"column\": \"X2\",\n      \"properties\": {\n        \"dtype\": \"float32\",\n        \"samples\": [\n          1.6130667924880981,\n          0.04168253391981125,\n          5.009554862976074\n        ],\n        \"num_unique_values\": 20,\n        \"semantic_type\": \"\",\n        \"description\": \"\"\n      }\n    },\n    {\n      \"column\": \"X3\",\n      \"properties\": {\n        \"dtype\": \"float32\",\n        \"samples\": [\n          -2.0487008094787598,\n          -0.008510030806064606,\n          -11.212403297424316\n        ],\n        \"num_unique_values\": 20,\n        \"semantic_type\": \"\",\n        \"description\": \"\"\n      }\n    },\n    {\n      \"column\": \"X4\",\n      \"properties\": {\n        \"dtype\": \"float32\",\n        \"samples\": [\n          2.6019845008850098,\n          0.0017374339513480663,\n          25.095640182495117\n        ],\n        \"num_unique_values\": 20,\n        \"semantic_type\": \"\",\n        \"description\": \"\"\n      }\n    },\n    {\n      \"column\": \"X5\",\n      \"properties\": {\n        \"dtype\": \"float32\",\n        \"samples\": [\n          -3.3046910762786865,\n          -0.00035471998853608966,\n          -56.16914749145508\n        ],\n        \"num_unique_values\": 20,\n        \"semantic_type\": \"\",\n        \"description\": \"\"\n      }\n    },\n    {\n      \"column\": \"y\",\n      \"properties\": {\n        \"dtype\": \"float32\",\n        \"samples\": [\n          25.602487564086914,\n          -15.849247932434082,\n          38.35541915893555\n        ],\n        \"num_unique_values\": 20,\n        \"semantic_type\": \"\",\n        \"description\": \"\"\n      }\n    },\n    {\n      \"column\": \"prediction_label\",\n      \"properties\": {\n        \"dtype\": \"float32\",\n        \"samples\": [\n          6.2375288009643555,\n          1.1074943542480469,\n          41.31353759765625\n        ],\n        \"num_unique_values\": 20,\n        \"semantic_type\": \"\",\n        \"description\": \"\"\n      }\n    }\n  ]\n}"
            }
          },
          "metadata": {},
          "execution_count": 70
        }
      ],
      "source": [
        "pycaret_predictions = predict_model(tuned_ridge)\n",
        "pycaret_predictions"
      ]
    },
    {
      "cell_type": "markdown",
      "metadata": {
        "id": "mP9hYHBHIZBl"
      },
      "source": [
        "----"
      ]
    },
    {
      "cell_type": "markdown",
      "metadata": {
        "id": "dfD7U5F_IZBm"
      },
      "source": [
        "###  Additional links:\n",
        "1. Underfitting vs Overfitting: https://scikit-learn.org/stable/auto_examples/model_selection/plot_underfitting_overfitting.html#sphx-glr-auto-examples-model-selection-plot-underfitting-overfitting-py\n",
        "2. From Linear Regression to Ridge Regression, the Lasso, and the Elastic Net: https://towardsdatascience.com/from-linear-regression-to-ridge-regression-the-lasso-and-the-elastic-net-4eaecaf5f7e6\n",
        "3. Standardizing features in Python:https://scikit-learn.org/stable/modules/generated/sklearn.preprocessing.StandardScaler.html\n",
        "4. sklearn Ridge: https://scikit-learn.org/stable/modules/generated/sklearn.linear_model.Ridge.html\n",
        "5. sklearn RidgeCV: https://scikit-learn.org/stable/modules/generated/sklearn.linear_model.RidgeCV.html#sklearn.linear_model.RidgeCV\n",
        "6. sklearn Lasso: https://scikit-learn.org/stable/modules/generated/sklearn.linear_model.Lasso.html\n",
        "7. skearn LassoCV: https://scikit-learn.org/stable/modules/generated/sklearn.linear_model.LassoCV.html#sklearn.linear_model.LassoCV\n",
        "8. sklearn Elasticnet: https://scikit-learn.org/stable/modules/generated/sklearn.linear_model.ElasticNet.html\n",
        "9. sklearn ElasticNetCV: https://scikit-learn.org/stable/modules/generated/sklearn.linear_model.ElasticNetCV.html#sklearn.linear_model.ElasticNetCV\n"
      ]
    }
  ],
  "metadata": {
    "colab": {
      "collapsed_sections": [
        "LrrPNIwiIZBl"
      ],
      "provenance": [],
      "include_colab_link": true
    },
    "kernelspec": {
      "display_name": "pycaret",
      "language": "python",
      "name": "python3"
    },
    "language_info": {
      "codemirror_mode": {
        "name": "ipython",
        "version": 3
      },
      "file_extension": ".py",
      "mimetype": "text/x-python",
      "name": "python",
      "nbconvert_exporter": "python",
      "pygments_lexer": "ipython3",
      "version": "3.10.13"
    },
    "vscode": {
      "interpreter": {
        "hash": "0ffaff5b1e80cdd71a415505f56c3be5ea007b6ea13339b1257b480c5ad65f4c"
      }
    },
    "widgets": {
      "application/vnd.jupyter.widget-state+json": {
        "3c0f375bd37046d49ba338f9f11eadc6": {
          "model_module": "@jupyter-widgets/controls",
          "model_name": "HBoxModel",
          "model_module_version": "1.5.0",
          "state": {
            "_dom_classes": [],
            "_model_module": "@jupyter-widgets/controls",
            "_model_module_version": "1.5.0",
            "_model_name": "HBoxModel",
            "_view_count": null,
            "_view_module": "@jupyter-widgets/controls",
            "_view_module_version": "1.5.0",
            "_view_name": "HBoxView",
            "box_style": "",
            "children": [
              "IPY_MODEL_6017334f407d4fc58016c46b18a58006",
              "IPY_MODEL_fb3650d20e4a45a6812110df97058bb0",
              "IPY_MODEL_8b5ce47a60ac4e7facc96f9996cfd4d1"
            ],
            "layout": "IPY_MODEL_d11e5338c7114e1ab77a2a9e35205870"
          }
        },
        "6017334f407d4fc58016c46b18a58006": {
          "model_module": "@jupyter-widgets/controls",
          "model_name": "HTMLModel",
          "model_module_version": "1.5.0",
          "state": {
            "_dom_classes": [],
            "_model_module": "@jupyter-widgets/controls",
            "_model_module_version": "1.5.0",
            "_model_name": "HTMLModel",
            "_view_count": null,
            "_view_module": "@jupyter-widgets/controls",
            "_view_module_version": "1.5.0",
            "_view_name": "HTMLView",
            "description": "",
            "description_tooltip": null,
            "layout": "IPY_MODEL_06d85e6d877841ae906481ff3e8ae208",
            "placeholder": "​",
            "style": "IPY_MODEL_cc2f15412f8a430f82939c90158b0c78",
            "value": "Processing:  75%"
          }
        },
        "fb3650d20e4a45a6812110df97058bb0": {
          "model_module": "@jupyter-widgets/controls",
          "model_name": "FloatProgressModel",
          "model_module_version": "1.5.0",
          "state": {
            "_dom_classes": [],
            "_model_module": "@jupyter-widgets/controls",
            "_model_module_version": "1.5.0",
            "_model_name": "FloatProgressModel",
            "_view_count": null,
            "_view_module": "@jupyter-widgets/controls",
            "_view_module_version": "1.5.0",
            "_view_name": "ProgressView",
            "bar_style": "",
            "description": "",
            "description_tooltip": null,
            "layout": "IPY_MODEL_712ca52d781c46c48a23f27d2a76bbd2",
            "max": 4,
            "min": 0,
            "orientation": "horizontal",
            "style": "IPY_MODEL_f270ad3d0f924aa5abcb3eb17995be1a",
            "value": 4
          }
        },
        "8b5ce47a60ac4e7facc96f9996cfd4d1": {
          "model_module": "@jupyter-widgets/controls",
          "model_name": "HTMLModel",
          "model_module_version": "1.5.0",
          "state": {
            "_dom_classes": [],
            "_model_module": "@jupyter-widgets/controls",
            "_model_module_version": "1.5.0",
            "_model_name": "HTMLModel",
            "_view_count": null,
            "_view_module": "@jupyter-widgets/controls",
            "_view_module_version": "1.5.0",
            "_view_name": "HTMLView",
            "description": "",
            "description_tooltip": null,
            "layout": "IPY_MODEL_1d4b3874360b459fa22c80efd9e0f554",
            "placeholder": "​",
            "style": "IPY_MODEL_8d67aefb2c6141f2be84fa782e5873e3",
            "value": " 3/4 [00:05&lt;00:01,  1.90s/it]"
          }
        },
        "d11e5338c7114e1ab77a2a9e35205870": {
          "model_module": "@jupyter-widgets/base",
          "model_name": "LayoutModel",
          "model_module_version": "1.2.0",
          "state": {
            "_model_module": "@jupyter-widgets/base",
            "_model_module_version": "1.2.0",
            "_model_name": "LayoutModel",
            "_view_count": null,
            "_view_module": "@jupyter-widgets/base",
            "_view_module_version": "1.2.0",
            "_view_name": "LayoutView",
            "align_content": null,
            "align_items": null,
            "align_self": null,
            "border": null,
            "bottom": null,
            "display": null,
            "flex": null,
            "flex_flow": null,
            "grid_area": null,
            "grid_auto_columns": null,
            "grid_auto_flow": null,
            "grid_auto_rows": null,
            "grid_column": null,
            "grid_gap": null,
            "grid_row": null,
            "grid_template_areas": null,
            "grid_template_columns": null,
            "grid_template_rows": null,
            "height": null,
            "justify_content": null,
            "justify_items": null,
            "left": null,
            "margin": null,
            "max_height": null,
            "max_width": null,
            "min_height": null,
            "min_width": null,
            "object_fit": null,
            "object_position": null,
            "order": null,
            "overflow": null,
            "overflow_x": null,
            "overflow_y": null,
            "padding": null,
            "right": null,
            "top": null,
            "visibility": "hidden",
            "width": null
          }
        },
        "06d85e6d877841ae906481ff3e8ae208": {
          "model_module": "@jupyter-widgets/base",
          "model_name": "LayoutModel",
          "model_module_version": "1.2.0",
          "state": {
            "_model_module": "@jupyter-widgets/base",
            "_model_module_version": "1.2.0",
            "_model_name": "LayoutModel",
            "_view_count": null,
            "_view_module": "@jupyter-widgets/base",
            "_view_module_version": "1.2.0",
            "_view_name": "LayoutView",
            "align_content": null,
            "align_items": null,
            "align_self": null,
            "border": null,
            "bottom": null,
            "display": null,
            "flex": null,
            "flex_flow": null,
            "grid_area": null,
            "grid_auto_columns": null,
            "grid_auto_flow": null,
            "grid_auto_rows": null,
            "grid_column": null,
            "grid_gap": null,
            "grid_row": null,
            "grid_template_areas": null,
            "grid_template_columns": null,
            "grid_template_rows": null,
            "height": null,
            "justify_content": null,
            "justify_items": null,
            "left": null,
            "margin": null,
            "max_height": null,
            "max_width": null,
            "min_height": null,
            "min_width": null,
            "object_fit": null,
            "object_position": null,
            "order": null,
            "overflow": null,
            "overflow_x": null,
            "overflow_y": null,
            "padding": null,
            "right": null,
            "top": null,
            "visibility": null,
            "width": null
          }
        },
        "cc2f15412f8a430f82939c90158b0c78": {
          "model_module": "@jupyter-widgets/controls",
          "model_name": "DescriptionStyleModel",
          "model_module_version": "1.5.0",
          "state": {
            "_model_module": "@jupyter-widgets/controls",
            "_model_module_version": "1.5.0",
            "_model_name": "DescriptionStyleModel",
            "_view_count": null,
            "_view_module": "@jupyter-widgets/base",
            "_view_module_version": "1.2.0",
            "_view_name": "StyleView",
            "description_width": ""
          }
        },
        "712ca52d781c46c48a23f27d2a76bbd2": {
          "model_module": "@jupyter-widgets/base",
          "model_name": "LayoutModel",
          "model_module_version": "1.2.0",
          "state": {
            "_model_module": "@jupyter-widgets/base",
            "_model_module_version": "1.2.0",
            "_model_name": "LayoutModel",
            "_view_count": null,
            "_view_module": "@jupyter-widgets/base",
            "_view_module_version": "1.2.0",
            "_view_name": "LayoutView",
            "align_content": null,
            "align_items": null,
            "align_self": null,
            "border": null,
            "bottom": null,
            "display": null,
            "flex": null,
            "flex_flow": null,
            "grid_area": null,
            "grid_auto_columns": null,
            "grid_auto_flow": null,
            "grid_auto_rows": null,
            "grid_column": null,
            "grid_gap": null,
            "grid_row": null,
            "grid_template_areas": null,
            "grid_template_columns": null,
            "grid_template_rows": null,
            "height": null,
            "justify_content": null,
            "justify_items": null,
            "left": null,
            "margin": null,
            "max_height": null,
            "max_width": null,
            "min_height": null,
            "min_width": null,
            "object_fit": null,
            "object_position": null,
            "order": null,
            "overflow": null,
            "overflow_x": null,
            "overflow_y": null,
            "padding": null,
            "right": null,
            "top": null,
            "visibility": null,
            "width": null
          }
        },
        "f270ad3d0f924aa5abcb3eb17995be1a": {
          "model_module": "@jupyter-widgets/controls",
          "model_name": "ProgressStyleModel",
          "model_module_version": "1.5.0",
          "state": {
            "_model_module": "@jupyter-widgets/controls",
            "_model_module_version": "1.5.0",
            "_model_name": "ProgressStyleModel",
            "_view_count": null,
            "_view_module": "@jupyter-widgets/base",
            "_view_module_version": "1.2.0",
            "_view_name": "StyleView",
            "bar_color": null,
            "description_width": ""
          }
        },
        "1d4b3874360b459fa22c80efd9e0f554": {
          "model_module": "@jupyter-widgets/base",
          "model_name": "LayoutModel",
          "model_module_version": "1.2.0",
          "state": {
            "_model_module": "@jupyter-widgets/base",
            "_model_module_version": "1.2.0",
            "_model_name": "LayoutModel",
            "_view_count": null,
            "_view_module": "@jupyter-widgets/base",
            "_view_module_version": "1.2.0",
            "_view_name": "LayoutView",
            "align_content": null,
            "align_items": null,
            "align_self": null,
            "border": null,
            "bottom": null,
            "display": null,
            "flex": null,
            "flex_flow": null,
            "grid_area": null,
            "grid_auto_columns": null,
            "grid_auto_flow": null,
            "grid_auto_rows": null,
            "grid_column": null,
            "grid_gap": null,
            "grid_row": null,
            "grid_template_areas": null,
            "grid_template_columns": null,
            "grid_template_rows": null,
            "height": null,
            "justify_content": null,
            "justify_items": null,
            "left": null,
            "margin": null,
            "max_height": null,
            "max_width": null,
            "min_height": null,
            "min_width": null,
            "object_fit": null,
            "object_position": null,
            "order": null,
            "overflow": null,
            "overflow_x": null,
            "overflow_y": null,
            "padding": null,
            "right": null,
            "top": null,
            "visibility": null,
            "width": null
          }
        },
        "8d67aefb2c6141f2be84fa782e5873e3": {
          "model_module": "@jupyter-widgets/controls",
          "model_name": "DescriptionStyleModel",
          "model_module_version": "1.5.0",
          "state": {
            "_model_module": "@jupyter-widgets/controls",
            "_model_module_version": "1.5.0",
            "_model_name": "DescriptionStyleModel",
            "_view_count": null,
            "_view_module": "@jupyter-widgets/base",
            "_view_module_version": "1.2.0",
            "_view_name": "StyleView",
            "description_width": ""
          }
        },
        "3069d7bf314b49899d408f6e00087bf7": {
          "model_module": "@jupyter-widgets/controls",
          "model_name": "HBoxModel",
          "model_module_version": "1.5.0",
          "state": {
            "_dom_classes": [],
            "_model_module": "@jupyter-widgets/controls",
            "_model_module_version": "1.5.0",
            "_model_name": "HBoxModel",
            "_view_count": null,
            "_view_module": "@jupyter-widgets/controls",
            "_view_module_version": "1.5.0",
            "_view_name": "HBoxView",
            "box_style": "",
            "children": [
              "IPY_MODEL_3698a713ecb14eb6af07618c60a419e9",
              "IPY_MODEL_4d755bc3f6e34612ae681faf26608911",
              "IPY_MODEL_9c46db4e29bd464fb32bbfbb2672ee4d"
            ],
            "layout": "IPY_MODEL_fb73366c46cf4dcbb3f2d945ca611241"
          }
        },
        "3698a713ecb14eb6af07618c60a419e9": {
          "model_module": "@jupyter-widgets/controls",
          "model_name": "HTMLModel",
          "model_module_version": "1.5.0",
          "state": {
            "_dom_classes": [],
            "_model_module": "@jupyter-widgets/controls",
            "_model_module_version": "1.5.0",
            "_model_name": "HTMLModel",
            "_view_count": null,
            "_view_module": "@jupyter-widgets/controls",
            "_view_module_version": "1.5.0",
            "_view_name": "HTMLView",
            "description": "",
            "description_tooltip": null,
            "layout": "IPY_MODEL_2e758a4bd9c94ce3a6e4e620f1359086",
            "placeholder": "​",
            "style": "IPY_MODEL_f428de0a97ef4d3ba05194aadb3d1064",
            "value": "Processing:   0%"
          }
        },
        "4d755bc3f6e34612ae681faf26608911": {
          "model_module": "@jupyter-widgets/controls",
          "model_name": "FloatProgressModel",
          "model_module_version": "1.5.0",
          "state": {
            "_dom_classes": [],
            "_model_module": "@jupyter-widgets/controls",
            "_model_module_version": "1.5.0",
            "_model_name": "FloatProgressModel",
            "_view_count": null,
            "_view_module": "@jupyter-widgets/controls",
            "_view_module_version": "1.5.0",
            "_view_name": "ProgressView",
            "bar_style": "",
            "description": "",
            "description_tooltip": null,
            "layout": "IPY_MODEL_cbaf718bd6a1463182d41e445783d9cb",
            "max": 7,
            "min": 0,
            "orientation": "horizontal",
            "style": "IPY_MODEL_702073055c1541178365b2badc63446d",
            "value": 7
          }
        },
        "9c46db4e29bd464fb32bbfbb2672ee4d": {
          "model_module": "@jupyter-widgets/controls",
          "model_name": "HTMLModel",
          "model_module_version": "1.5.0",
          "state": {
            "_dom_classes": [],
            "_model_module": "@jupyter-widgets/controls",
            "_model_module_version": "1.5.0",
            "_model_name": "HTMLModel",
            "_view_count": null,
            "_view_module": "@jupyter-widgets/controls",
            "_view_module_version": "1.5.0",
            "_view_name": "HTMLView",
            "description": "",
            "description_tooltip": null,
            "layout": "IPY_MODEL_f53ce928819944968e0ae4185b976ea2",
            "placeholder": "​",
            "style": "IPY_MODEL_130a54fa909842b7861d32d004d74aa8",
            "value": " 0/7 [00:00&lt;?, ?it/s]"
          }
        },
        "fb73366c46cf4dcbb3f2d945ca611241": {
          "model_module": "@jupyter-widgets/base",
          "model_name": "LayoutModel",
          "model_module_version": "1.2.0",
          "state": {
            "_model_module": "@jupyter-widgets/base",
            "_model_module_version": "1.2.0",
            "_model_name": "LayoutModel",
            "_view_count": null,
            "_view_module": "@jupyter-widgets/base",
            "_view_module_version": "1.2.0",
            "_view_name": "LayoutView",
            "align_content": null,
            "align_items": null,
            "align_self": null,
            "border": null,
            "bottom": null,
            "display": null,
            "flex": null,
            "flex_flow": null,
            "grid_area": null,
            "grid_auto_columns": null,
            "grid_auto_flow": null,
            "grid_auto_rows": null,
            "grid_column": null,
            "grid_gap": null,
            "grid_row": null,
            "grid_template_areas": null,
            "grid_template_columns": null,
            "grid_template_rows": null,
            "height": null,
            "justify_content": null,
            "justify_items": null,
            "left": null,
            "margin": null,
            "max_height": null,
            "max_width": null,
            "min_height": null,
            "min_width": null,
            "object_fit": null,
            "object_position": null,
            "order": null,
            "overflow": null,
            "overflow_x": null,
            "overflow_y": null,
            "padding": null,
            "right": null,
            "top": null,
            "visibility": "hidden",
            "width": null
          }
        },
        "2e758a4bd9c94ce3a6e4e620f1359086": {
          "model_module": "@jupyter-widgets/base",
          "model_name": "LayoutModel",
          "model_module_version": "1.2.0",
          "state": {
            "_model_module": "@jupyter-widgets/base",
            "_model_module_version": "1.2.0",
            "_model_name": "LayoutModel",
            "_view_count": null,
            "_view_module": "@jupyter-widgets/base",
            "_view_module_version": "1.2.0",
            "_view_name": "LayoutView",
            "align_content": null,
            "align_items": null,
            "align_self": null,
            "border": null,
            "bottom": null,
            "display": null,
            "flex": null,
            "flex_flow": null,
            "grid_area": null,
            "grid_auto_columns": null,
            "grid_auto_flow": null,
            "grid_auto_rows": null,
            "grid_column": null,
            "grid_gap": null,
            "grid_row": null,
            "grid_template_areas": null,
            "grid_template_columns": null,
            "grid_template_rows": null,
            "height": null,
            "justify_content": null,
            "justify_items": null,
            "left": null,
            "margin": null,
            "max_height": null,
            "max_width": null,
            "min_height": null,
            "min_width": null,
            "object_fit": null,
            "object_position": null,
            "order": null,
            "overflow": null,
            "overflow_x": null,
            "overflow_y": null,
            "padding": null,
            "right": null,
            "top": null,
            "visibility": null,
            "width": null
          }
        },
        "f428de0a97ef4d3ba05194aadb3d1064": {
          "model_module": "@jupyter-widgets/controls",
          "model_name": "DescriptionStyleModel",
          "model_module_version": "1.5.0",
          "state": {
            "_model_module": "@jupyter-widgets/controls",
            "_model_module_version": "1.5.0",
            "_model_name": "DescriptionStyleModel",
            "_view_count": null,
            "_view_module": "@jupyter-widgets/base",
            "_view_module_version": "1.2.0",
            "_view_name": "StyleView",
            "description_width": ""
          }
        },
        "cbaf718bd6a1463182d41e445783d9cb": {
          "model_module": "@jupyter-widgets/base",
          "model_name": "LayoutModel",
          "model_module_version": "1.2.0",
          "state": {
            "_model_module": "@jupyter-widgets/base",
            "_model_module_version": "1.2.0",
            "_model_name": "LayoutModel",
            "_view_count": null,
            "_view_module": "@jupyter-widgets/base",
            "_view_module_version": "1.2.0",
            "_view_name": "LayoutView",
            "align_content": null,
            "align_items": null,
            "align_self": null,
            "border": null,
            "bottom": null,
            "display": null,
            "flex": null,
            "flex_flow": null,
            "grid_area": null,
            "grid_auto_columns": null,
            "grid_auto_flow": null,
            "grid_auto_rows": null,
            "grid_column": null,
            "grid_gap": null,
            "grid_row": null,
            "grid_template_areas": null,
            "grid_template_columns": null,
            "grid_template_rows": null,
            "height": null,
            "justify_content": null,
            "justify_items": null,
            "left": null,
            "margin": null,
            "max_height": null,
            "max_width": null,
            "min_height": null,
            "min_width": null,
            "object_fit": null,
            "object_position": null,
            "order": null,
            "overflow": null,
            "overflow_x": null,
            "overflow_y": null,
            "padding": null,
            "right": null,
            "top": null,
            "visibility": null,
            "width": null
          }
        },
        "702073055c1541178365b2badc63446d": {
          "model_module": "@jupyter-widgets/controls",
          "model_name": "ProgressStyleModel",
          "model_module_version": "1.5.0",
          "state": {
            "_model_module": "@jupyter-widgets/controls",
            "_model_module_version": "1.5.0",
            "_model_name": "ProgressStyleModel",
            "_view_count": null,
            "_view_module": "@jupyter-widgets/base",
            "_view_module_version": "1.2.0",
            "_view_name": "StyleView",
            "bar_color": null,
            "description_width": ""
          }
        },
        "f53ce928819944968e0ae4185b976ea2": {
          "model_module": "@jupyter-widgets/base",
          "model_name": "LayoutModel",
          "model_module_version": "1.2.0",
          "state": {
            "_model_module": "@jupyter-widgets/base",
            "_model_module_version": "1.2.0",
            "_model_name": "LayoutModel",
            "_view_count": null,
            "_view_module": "@jupyter-widgets/base",
            "_view_module_version": "1.2.0",
            "_view_name": "LayoutView",
            "align_content": null,
            "align_items": null,
            "align_self": null,
            "border": null,
            "bottom": null,
            "display": null,
            "flex": null,
            "flex_flow": null,
            "grid_area": null,
            "grid_auto_columns": null,
            "grid_auto_flow": null,
            "grid_auto_rows": null,
            "grid_column": null,
            "grid_gap": null,
            "grid_row": null,
            "grid_template_areas": null,
            "grid_template_columns": null,
            "grid_template_rows": null,
            "height": null,
            "justify_content": null,
            "justify_items": null,
            "left": null,
            "margin": null,
            "max_height": null,
            "max_width": null,
            "min_height": null,
            "min_width": null,
            "object_fit": null,
            "object_position": null,
            "order": null,
            "overflow": null,
            "overflow_x": null,
            "overflow_y": null,
            "padding": null,
            "right": null,
            "top": null,
            "visibility": null,
            "width": null
          }
        },
        "130a54fa909842b7861d32d004d74aa8": {
          "model_module": "@jupyter-widgets/controls",
          "model_name": "DescriptionStyleModel",
          "model_module_version": "1.5.0",
          "state": {
            "_model_module": "@jupyter-widgets/controls",
            "_model_module_version": "1.5.0",
            "_model_name": "DescriptionStyleModel",
            "_view_count": null,
            "_view_module": "@jupyter-widgets/base",
            "_view_module_version": "1.2.0",
            "_view_name": "StyleView",
            "description_width": ""
          }
        },
        "4c080e91b8104b64a822c7bb8390ade6": {
          "model_module": "@jupyter-widgets/controls",
          "model_name": "HBoxModel",
          "model_module_version": "1.5.0",
          "state": {
            "_dom_classes": [],
            "_model_module": "@jupyter-widgets/controls",
            "_model_module_version": "1.5.0",
            "_model_name": "HBoxModel",
            "_view_count": null,
            "_view_module": "@jupyter-widgets/controls",
            "_view_module_version": "1.5.0",
            "_view_name": "HBoxView",
            "box_style": "",
            "children": [
              "IPY_MODEL_5b5c139cdb45414fa91f99b115a06bb3",
              "IPY_MODEL_990b576a980a4dc882a9dae4fe53ebf4",
              "IPY_MODEL_6de9a8e374da4070ad9370f6ba19b51d"
            ],
            "layout": "IPY_MODEL_402fe6e12b43487a9e079642e30cb1dd"
          }
        },
        "5b5c139cdb45414fa91f99b115a06bb3": {
          "model_module": "@jupyter-widgets/controls",
          "model_name": "HTMLModel",
          "model_module_version": "1.5.0",
          "state": {
            "_dom_classes": [],
            "_model_module": "@jupyter-widgets/controls",
            "_model_module_version": "1.5.0",
            "_model_name": "HTMLModel",
            "_view_count": null,
            "_view_module": "@jupyter-widgets/controls",
            "_view_module_version": "1.5.0",
            "_view_name": "HTMLView",
            "description": "",
            "description_tooltip": null,
            "layout": "IPY_MODEL_cc8196ab15df4519a27d2dd8f5d959e4",
            "placeholder": "​",
            "style": "IPY_MODEL_d09c0500abdc4900b07b99a1c7c2064a",
            "value": "Processing:   0%"
          }
        },
        "990b576a980a4dc882a9dae4fe53ebf4": {
          "model_module": "@jupyter-widgets/controls",
          "model_name": "FloatProgressModel",
          "model_module_version": "1.5.0",
          "state": {
            "_dom_classes": [],
            "_model_module": "@jupyter-widgets/controls",
            "_model_module_version": "1.5.0",
            "_model_name": "FloatProgressModel",
            "_view_count": null,
            "_view_module": "@jupyter-widgets/controls",
            "_view_module_version": "1.5.0",
            "_view_name": "ProgressView",
            "bar_style": "",
            "description": "",
            "description_tooltip": null,
            "layout": "IPY_MODEL_739b6f2de9ec4176b1e930d03fd70dcd",
            "max": 4,
            "min": 0,
            "orientation": "horizontal",
            "style": "IPY_MODEL_d7774f4e1ba1403b8ed1e2a02701edfd",
            "value": 4
          }
        },
        "6de9a8e374da4070ad9370f6ba19b51d": {
          "model_module": "@jupyter-widgets/controls",
          "model_name": "HTMLModel",
          "model_module_version": "1.5.0",
          "state": {
            "_dom_classes": [],
            "_model_module": "@jupyter-widgets/controls",
            "_model_module_version": "1.5.0",
            "_model_name": "HTMLModel",
            "_view_count": null,
            "_view_module": "@jupyter-widgets/controls",
            "_view_module_version": "1.5.0",
            "_view_name": "HTMLView",
            "description": "",
            "description_tooltip": null,
            "layout": "IPY_MODEL_06dc8d586ad143f5b27e43f6688a751a",
            "placeholder": "​",
            "style": "IPY_MODEL_523643e6ec9d4278ba5ff371e0f23285",
            "value": " 0/4 [00:00&lt;?, ?it/s]"
          }
        },
        "402fe6e12b43487a9e079642e30cb1dd": {
          "model_module": "@jupyter-widgets/base",
          "model_name": "LayoutModel",
          "model_module_version": "1.2.0",
          "state": {
            "_model_module": "@jupyter-widgets/base",
            "_model_module_version": "1.2.0",
            "_model_name": "LayoutModel",
            "_view_count": null,
            "_view_module": "@jupyter-widgets/base",
            "_view_module_version": "1.2.0",
            "_view_name": "LayoutView",
            "align_content": null,
            "align_items": null,
            "align_self": null,
            "border": null,
            "bottom": null,
            "display": null,
            "flex": null,
            "flex_flow": null,
            "grid_area": null,
            "grid_auto_columns": null,
            "grid_auto_flow": null,
            "grid_auto_rows": null,
            "grid_column": null,
            "grid_gap": null,
            "grid_row": null,
            "grid_template_areas": null,
            "grid_template_columns": null,
            "grid_template_rows": null,
            "height": null,
            "justify_content": null,
            "justify_items": null,
            "left": null,
            "margin": null,
            "max_height": null,
            "max_width": null,
            "min_height": null,
            "min_width": null,
            "object_fit": null,
            "object_position": null,
            "order": null,
            "overflow": null,
            "overflow_x": null,
            "overflow_y": null,
            "padding": null,
            "right": null,
            "top": null,
            "visibility": "hidden",
            "width": null
          }
        },
        "cc8196ab15df4519a27d2dd8f5d959e4": {
          "model_module": "@jupyter-widgets/base",
          "model_name": "LayoutModel",
          "model_module_version": "1.2.0",
          "state": {
            "_model_module": "@jupyter-widgets/base",
            "_model_module_version": "1.2.0",
            "_model_name": "LayoutModel",
            "_view_count": null,
            "_view_module": "@jupyter-widgets/base",
            "_view_module_version": "1.2.0",
            "_view_name": "LayoutView",
            "align_content": null,
            "align_items": null,
            "align_self": null,
            "border": null,
            "bottom": null,
            "display": null,
            "flex": null,
            "flex_flow": null,
            "grid_area": null,
            "grid_auto_columns": null,
            "grid_auto_flow": null,
            "grid_auto_rows": null,
            "grid_column": null,
            "grid_gap": null,
            "grid_row": null,
            "grid_template_areas": null,
            "grid_template_columns": null,
            "grid_template_rows": null,
            "height": null,
            "justify_content": null,
            "justify_items": null,
            "left": null,
            "margin": null,
            "max_height": null,
            "max_width": null,
            "min_height": null,
            "min_width": null,
            "object_fit": null,
            "object_position": null,
            "order": null,
            "overflow": null,
            "overflow_x": null,
            "overflow_y": null,
            "padding": null,
            "right": null,
            "top": null,
            "visibility": null,
            "width": null
          }
        },
        "d09c0500abdc4900b07b99a1c7c2064a": {
          "model_module": "@jupyter-widgets/controls",
          "model_name": "DescriptionStyleModel",
          "model_module_version": "1.5.0",
          "state": {
            "_model_module": "@jupyter-widgets/controls",
            "_model_module_version": "1.5.0",
            "_model_name": "DescriptionStyleModel",
            "_view_count": null,
            "_view_module": "@jupyter-widgets/base",
            "_view_module_version": "1.2.0",
            "_view_name": "StyleView",
            "description_width": ""
          }
        },
        "739b6f2de9ec4176b1e930d03fd70dcd": {
          "model_module": "@jupyter-widgets/base",
          "model_name": "LayoutModel",
          "model_module_version": "1.2.0",
          "state": {
            "_model_module": "@jupyter-widgets/base",
            "_model_module_version": "1.2.0",
            "_model_name": "LayoutModel",
            "_view_count": null,
            "_view_module": "@jupyter-widgets/base",
            "_view_module_version": "1.2.0",
            "_view_name": "LayoutView",
            "align_content": null,
            "align_items": null,
            "align_self": null,
            "border": null,
            "bottom": null,
            "display": null,
            "flex": null,
            "flex_flow": null,
            "grid_area": null,
            "grid_auto_columns": null,
            "grid_auto_flow": null,
            "grid_auto_rows": null,
            "grid_column": null,
            "grid_gap": null,
            "grid_row": null,
            "grid_template_areas": null,
            "grid_template_columns": null,
            "grid_template_rows": null,
            "height": null,
            "justify_content": null,
            "justify_items": null,
            "left": null,
            "margin": null,
            "max_height": null,
            "max_width": null,
            "min_height": null,
            "min_width": null,
            "object_fit": null,
            "object_position": null,
            "order": null,
            "overflow": null,
            "overflow_x": null,
            "overflow_y": null,
            "padding": null,
            "right": null,
            "top": null,
            "visibility": null,
            "width": null
          }
        },
        "d7774f4e1ba1403b8ed1e2a02701edfd": {
          "model_module": "@jupyter-widgets/controls",
          "model_name": "ProgressStyleModel",
          "model_module_version": "1.5.0",
          "state": {
            "_model_module": "@jupyter-widgets/controls",
            "_model_module_version": "1.5.0",
            "_model_name": "ProgressStyleModel",
            "_view_count": null,
            "_view_module": "@jupyter-widgets/base",
            "_view_module_version": "1.2.0",
            "_view_name": "StyleView",
            "bar_color": null,
            "description_width": ""
          }
        },
        "06dc8d586ad143f5b27e43f6688a751a": {
          "model_module": "@jupyter-widgets/base",
          "model_name": "LayoutModel",
          "model_module_version": "1.2.0",
          "state": {
            "_model_module": "@jupyter-widgets/base",
            "_model_module_version": "1.2.0",
            "_model_name": "LayoutModel",
            "_view_count": null,
            "_view_module": "@jupyter-widgets/base",
            "_view_module_version": "1.2.0",
            "_view_name": "LayoutView",
            "align_content": null,
            "align_items": null,
            "align_self": null,
            "border": null,
            "bottom": null,
            "display": null,
            "flex": null,
            "flex_flow": null,
            "grid_area": null,
            "grid_auto_columns": null,
            "grid_auto_flow": null,
            "grid_auto_rows": null,
            "grid_column": null,
            "grid_gap": null,
            "grid_row": null,
            "grid_template_areas": null,
            "grid_template_columns": null,
            "grid_template_rows": null,
            "height": null,
            "justify_content": null,
            "justify_items": null,
            "left": null,
            "margin": null,
            "max_height": null,
            "max_width": null,
            "min_height": null,
            "min_width": null,
            "object_fit": null,
            "object_position": null,
            "order": null,
            "overflow": null,
            "overflow_x": null,
            "overflow_y": null,
            "padding": null,
            "right": null,
            "top": null,
            "visibility": null,
            "width": null
          }
        },
        "523643e6ec9d4278ba5ff371e0f23285": {
          "model_module": "@jupyter-widgets/controls",
          "model_name": "DescriptionStyleModel",
          "model_module_version": "1.5.0",
          "state": {
            "_model_module": "@jupyter-widgets/controls",
            "_model_module_version": "1.5.0",
            "_model_name": "DescriptionStyleModel",
            "_view_count": null,
            "_view_module": "@jupyter-widgets/base",
            "_view_module_version": "1.2.0",
            "_view_name": "StyleView",
            "description_width": ""
          }
        },
        "c6a568d64216471aa2379b196f551626": {
          "model_module": "@jupyter-widgets/controls",
          "model_name": "HBoxModel",
          "model_module_version": "1.5.0",
          "state": {
            "_dom_classes": [],
            "_model_module": "@jupyter-widgets/controls",
            "_model_module_version": "1.5.0",
            "_model_name": "HBoxModel",
            "_view_count": null,
            "_view_module": "@jupyter-widgets/controls",
            "_view_module_version": "1.5.0",
            "_view_name": "HBoxView",
            "box_style": "",
            "children": [
              "IPY_MODEL_090f2cf93d1d48dba6013d579b3838cf",
              "IPY_MODEL_596359df30924352937504fe6d1bb6bc",
              "IPY_MODEL_de7c79179a6c417b8f61322558aa710d"
            ],
            "layout": "IPY_MODEL_e878ce4f380644848806cf9f3d034616"
          }
        },
        "090f2cf93d1d48dba6013d579b3838cf": {
          "model_module": "@jupyter-widgets/controls",
          "model_name": "HTMLModel",
          "model_module_version": "1.5.0",
          "state": {
            "_dom_classes": [],
            "_model_module": "@jupyter-widgets/controls",
            "_model_module_version": "1.5.0",
            "_model_name": "HTMLModel",
            "_view_count": null,
            "_view_module": "@jupyter-widgets/controls",
            "_view_module_version": "1.5.0",
            "_view_name": "HTMLView",
            "description": "",
            "description_tooltip": null,
            "layout": "IPY_MODEL_7aa3cdaf40724e9d896f804fc4ef5d9d",
            "placeholder": "​",
            "style": "IPY_MODEL_33771a7bc22a4296bf7c6c6f933e8b7a",
            "value": "Processing:  86%"
          }
        },
        "596359df30924352937504fe6d1bb6bc": {
          "model_module": "@jupyter-widgets/controls",
          "model_name": "FloatProgressModel",
          "model_module_version": "1.5.0",
          "state": {
            "_dom_classes": [],
            "_model_module": "@jupyter-widgets/controls",
            "_model_module_version": "1.5.0",
            "_model_name": "FloatProgressModel",
            "_view_count": null,
            "_view_module": "@jupyter-widgets/controls",
            "_view_module_version": "1.5.0",
            "_view_name": "ProgressView",
            "bar_style": "",
            "description": "",
            "description_tooltip": null,
            "layout": "IPY_MODEL_bb7b461c18a94573b3c9ebf27ec2b4c0",
            "max": 7,
            "min": 0,
            "orientation": "horizontal",
            "style": "IPY_MODEL_ca74f34e1874457585daac875adfefb2",
            "value": 7
          }
        },
        "de7c79179a6c417b8f61322558aa710d": {
          "model_module": "@jupyter-widgets/controls",
          "model_name": "HTMLModel",
          "model_module_version": "1.5.0",
          "state": {
            "_dom_classes": [],
            "_model_module": "@jupyter-widgets/controls",
            "_model_module_version": "1.5.0",
            "_model_name": "HTMLModel",
            "_view_count": null,
            "_view_module": "@jupyter-widgets/controls",
            "_view_module_version": "1.5.0",
            "_view_name": "HTMLView",
            "description": "",
            "description_tooltip": null,
            "layout": "IPY_MODEL_0c9e1ec3fce64b338d112e5b0f2b5bc5",
            "placeholder": "​",
            "style": "IPY_MODEL_09387c1deef345d791f1cac335f0e44a",
            "value": " 6/7 [00:01&lt;00:00,  4.85it/s]"
          }
        },
        "e878ce4f380644848806cf9f3d034616": {
          "model_module": "@jupyter-widgets/base",
          "model_name": "LayoutModel",
          "model_module_version": "1.2.0",
          "state": {
            "_model_module": "@jupyter-widgets/base",
            "_model_module_version": "1.2.0",
            "_model_name": "LayoutModel",
            "_view_count": null,
            "_view_module": "@jupyter-widgets/base",
            "_view_module_version": "1.2.0",
            "_view_name": "LayoutView",
            "align_content": null,
            "align_items": null,
            "align_self": null,
            "border": null,
            "bottom": null,
            "display": null,
            "flex": null,
            "flex_flow": null,
            "grid_area": null,
            "grid_auto_columns": null,
            "grid_auto_flow": null,
            "grid_auto_rows": null,
            "grid_column": null,
            "grid_gap": null,
            "grid_row": null,
            "grid_template_areas": null,
            "grid_template_columns": null,
            "grid_template_rows": null,
            "height": null,
            "justify_content": null,
            "justify_items": null,
            "left": null,
            "margin": null,
            "max_height": null,
            "max_width": null,
            "min_height": null,
            "min_width": null,
            "object_fit": null,
            "object_position": null,
            "order": null,
            "overflow": null,
            "overflow_x": null,
            "overflow_y": null,
            "padding": null,
            "right": null,
            "top": null,
            "visibility": "hidden",
            "width": null
          }
        },
        "7aa3cdaf40724e9d896f804fc4ef5d9d": {
          "model_module": "@jupyter-widgets/base",
          "model_name": "LayoutModel",
          "model_module_version": "1.2.0",
          "state": {
            "_model_module": "@jupyter-widgets/base",
            "_model_module_version": "1.2.0",
            "_model_name": "LayoutModel",
            "_view_count": null,
            "_view_module": "@jupyter-widgets/base",
            "_view_module_version": "1.2.0",
            "_view_name": "LayoutView",
            "align_content": null,
            "align_items": null,
            "align_self": null,
            "border": null,
            "bottom": null,
            "display": null,
            "flex": null,
            "flex_flow": null,
            "grid_area": null,
            "grid_auto_columns": null,
            "grid_auto_flow": null,
            "grid_auto_rows": null,
            "grid_column": null,
            "grid_gap": null,
            "grid_row": null,
            "grid_template_areas": null,
            "grid_template_columns": null,
            "grid_template_rows": null,
            "height": null,
            "justify_content": null,
            "justify_items": null,
            "left": null,
            "margin": null,
            "max_height": null,
            "max_width": null,
            "min_height": null,
            "min_width": null,
            "object_fit": null,
            "object_position": null,
            "order": null,
            "overflow": null,
            "overflow_x": null,
            "overflow_y": null,
            "padding": null,
            "right": null,
            "top": null,
            "visibility": null,
            "width": null
          }
        },
        "33771a7bc22a4296bf7c6c6f933e8b7a": {
          "model_module": "@jupyter-widgets/controls",
          "model_name": "DescriptionStyleModel",
          "model_module_version": "1.5.0",
          "state": {
            "_model_module": "@jupyter-widgets/controls",
            "_model_module_version": "1.5.0",
            "_model_name": "DescriptionStyleModel",
            "_view_count": null,
            "_view_module": "@jupyter-widgets/base",
            "_view_module_version": "1.2.0",
            "_view_name": "StyleView",
            "description_width": ""
          }
        },
        "bb7b461c18a94573b3c9ebf27ec2b4c0": {
          "model_module": "@jupyter-widgets/base",
          "model_name": "LayoutModel",
          "model_module_version": "1.2.0",
          "state": {
            "_model_module": "@jupyter-widgets/base",
            "_model_module_version": "1.2.0",
            "_model_name": "LayoutModel",
            "_view_count": null,
            "_view_module": "@jupyter-widgets/base",
            "_view_module_version": "1.2.0",
            "_view_name": "LayoutView",
            "align_content": null,
            "align_items": null,
            "align_self": null,
            "border": null,
            "bottom": null,
            "display": null,
            "flex": null,
            "flex_flow": null,
            "grid_area": null,
            "grid_auto_columns": null,
            "grid_auto_flow": null,
            "grid_auto_rows": null,
            "grid_column": null,
            "grid_gap": null,
            "grid_row": null,
            "grid_template_areas": null,
            "grid_template_columns": null,
            "grid_template_rows": null,
            "height": null,
            "justify_content": null,
            "justify_items": null,
            "left": null,
            "margin": null,
            "max_height": null,
            "max_width": null,
            "min_height": null,
            "min_width": null,
            "object_fit": null,
            "object_position": null,
            "order": null,
            "overflow": null,
            "overflow_x": null,
            "overflow_y": null,
            "padding": null,
            "right": null,
            "top": null,
            "visibility": null,
            "width": null
          }
        },
        "ca74f34e1874457585daac875adfefb2": {
          "model_module": "@jupyter-widgets/controls",
          "model_name": "ProgressStyleModel",
          "model_module_version": "1.5.0",
          "state": {
            "_model_module": "@jupyter-widgets/controls",
            "_model_module_version": "1.5.0",
            "_model_name": "ProgressStyleModel",
            "_view_count": null,
            "_view_module": "@jupyter-widgets/base",
            "_view_module_version": "1.2.0",
            "_view_name": "StyleView",
            "bar_color": null,
            "description_width": ""
          }
        },
        "0c9e1ec3fce64b338d112e5b0f2b5bc5": {
          "model_module": "@jupyter-widgets/base",
          "model_name": "LayoutModel",
          "model_module_version": "1.2.0",
          "state": {
            "_model_module": "@jupyter-widgets/base",
            "_model_module_version": "1.2.0",
            "_model_name": "LayoutModel",
            "_view_count": null,
            "_view_module": "@jupyter-widgets/base",
            "_view_module_version": "1.2.0",
            "_view_name": "LayoutView",
            "align_content": null,
            "align_items": null,
            "align_self": null,
            "border": null,
            "bottom": null,
            "display": null,
            "flex": null,
            "flex_flow": null,
            "grid_area": null,
            "grid_auto_columns": null,
            "grid_auto_flow": null,
            "grid_auto_rows": null,
            "grid_column": null,
            "grid_gap": null,
            "grid_row": null,
            "grid_template_areas": null,
            "grid_template_columns": null,
            "grid_template_rows": null,
            "height": null,
            "justify_content": null,
            "justify_items": null,
            "left": null,
            "margin": null,
            "max_height": null,
            "max_width": null,
            "min_height": null,
            "min_width": null,
            "object_fit": null,
            "object_position": null,
            "order": null,
            "overflow": null,
            "overflow_x": null,
            "overflow_y": null,
            "padding": null,
            "right": null,
            "top": null,
            "visibility": null,
            "width": null
          }
        },
        "09387c1deef345d791f1cac335f0e44a": {
          "model_module": "@jupyter-widgets/controls",
          "model_name": "DescriptionStyleModel",
          "model_module_version": "1.5.0",
          "state": {
            "_model_module": "@jupyter-widgets/controls",
            "_model_module_version": "1.5.0",
            "_model_name": "DescriptionStyleModel",
            "_view_count": null,
            "_view_module": "@jupyter-widgets/base",
            "_view_module_version": "1.2.0",
            "_view_name": "StyleView",
            "description_width": ""
          }
        },
        "1fb08d258f4140a699b7fca18f7628de": {
          "model_module": "@jupyter-widgets/controls",
          "model_name": "HBoxModel",
          "model_module_version": "1.5.0",
          "state": {
            "_dom_classes": [],
            "_model_module": "@jupyter-widgets/controls",
            "_model_module_version": "1.5.0",
            "_model_name": "HBoxModel",
            "_view_count": null,
            "_view_module": "@jupyter-widgets/controls",
            "_view_module_version": "1.5.0",
            "_view_name": "HBoxView",
            "box_style": "",
            "children": [
              "IPY_MODEL_2e8c46830e964b8abaf1d2baf71c0ef8",
              "IPY_MODEL_2e7962be944c4cad9c0b8e7cf971e1f7",
              "IPY_MODEL_aa1d3201f62a44eaaa65e4326effc78d"
            ],
            "layout": "IPY_MODEL_ef13fb85873748b49961098b7869028c"
          }
        },
        "2e8c46830e964b8abaf1d2baf71c0ef8": {
          "model_module": "@jupyter-widgets/controls",
          "model_name": "HTMLModel",
          "model_module_version": "1.5.0",
          "state": {
            "_dom_classes": [],
            "_model_module": "@jupyter-widgets/controls",
            "_model_module_version": "1.5.0",
            "_model_name": "HTMLModel",
            "_view_count": null,
            "_view_module": "@jupyter-widgets/controls",
            "_view_module_version": "1.5.0",
            "_view_name": "HTMLView",
            "description": "",
            "description_tooltip": null,
            "layout": "IPY_MODEL_a0e4e9f823ee4290971760cbbb617a76",
            "placeholder": "​",
            "style": "IPY_MODEL_f1b9f9ba7f2548ed97f1cf04ada706f4",
            "value": "Processing:   0%"
          }
        },
        "2e7962be944c4cad9c0b8e7cf971e1f7": {
          "model_module": "@jupyter-widgets/controls",
          "model_name": "FloatProgressModel",
          "model_module_version": "1.5.0",
          "state": {
            "_dom_classes": [],
            "_model_module": "@jupyter-widgets/controls",
            "_model_module_version": "1.5.0",
            "_model_name": "FloatProgressModel",
            "_view_count": null,
            "_view_module": "@jupyter-widgets/controls",
            "_view_module_version": "1.5.0",
            "_view_name": "ProgressView",
            "bar_style": "",
            "description": "",
            "description_tooltip": null,
            "layout": "IPY_MODEL_75d577bb629a4d4bbba6f898a4afb118",
            "max": 4,
            "min": 0,
            "orientation": "horizontal",
            "style": "IPY_MODEL_a4bb3cb8dbd5491a828bdb40fd15faa1",
            "value": 4
          }
        },
        "aa1d3201f62a44eaaa65e4326effc78d": {
          "model_module": "@jupyter-widgets/controls",
          "model_name": "HTMLModel",
          "model_module_version": "1.5.0",
          "state": {
            "_dom_classes": [],
            "_model_module": "@jupyter-widgets/controls",
            "_model_module_version": "1.5.0",
            "_model_name": "HTMLModel",
            "_view_count": null,
            "_view_module": "@jupyter-widgets/controls",
            "_view_module_version": "1.5.0",
            "_view_name": "HTMLView",
            "description": "",
            "description_tooltip": null,
            "layout": "IPY_MODEL_6ec4f12fbfe2400088653046ffd40a9f",
            "placeholder": "​",
            "style": "IPY_MODEL_a60b3c4a35d441ba99a6ec6a5d6af1a9",
            "value": " 0/4 [00:00&lt;?, ?it/s]"
          }
        },
        "ef13fb85873748b49961098b7869028c": {
          "model_module": "@jupyter-widgets/base",
          "model_name": "LayoutModel",
          "model_module_version": "1.2.0",
          "state": {
            "_model_module": "@jupyter-widgets/base",
            "_model_module_version": "1.2.0",
            "_model_name": "LayoutModel",
            "_view_count": null,
            "_view_module": "@jupyter-widgets/base",
            "_view_module_version": "1.2.0",
            "_view_name": "LayoutView",
            "align_content": null,
            "align_items": null,
            "align_self": null,
            "border": null,
            "bottom": null,
            "display": null,
            "flex": null,
            "flex_flow": null,
            "grid_area": null,
            "grid_auto_columns": null,
            "grid_auto_flow": null,
            "grid_auto_rows": null,
            "grid_column": null,
            "grid_gap": null,
            "grid_row": null,
            "grid_template_areas": null,
            "grid_template_columns": null,
            "grid_template_rows": null,
            "height": null,
            "justify_content": null,
            "justify_items": null,
            "left": null,
            "margin": null,
            "max_height": null,
            "max_width": null,
            "min_height": null,
            "min_width": null,
            "object_fit": null,
            "object_position": null,
            "order": null,
            "overflow": null,
            "overflow_x": null,
            "overflow_y": null,
            "padding": null,
            "right": null,
            "top": null,
            "visibility": "hidden",
            "width": null
          }
        },
        "a0e4e9f823ee4290971760cbbb617a76": {
          "model_module": "@jupyter-widgets/base",
          "model_name": "LayoutModel",
          "model_module_version": "1.2.0",
          "state": {
            "_model_module": "@jupyter-widgets/base",
            "_model_module_version": "1.2.0",
            "_model_name": "LayoutModel",
            "_view_count": null,
            "_view_module": "@jupyter-widgets/base",
            "_view_module_version": "1.2.0",
            "_view_name": "LayoutView",
            "align_content": null,
            "align_items": null,
            "align_self": null,
            "border": null,
            "bottom": null,
            "display": null,
            "flex": null,
            "flex_flow": null,
            "grid_area": null,
            "grid_auto_columns": null,
            "grid_auto_flow": null,
            "grid_auto_rows": null,
            "grid_column": null,
            "grid_gap": null,
            "grid_row": null,
            "grid_template_areas": null,
            "grid_template_columns": null,
            "grid_template_rows": null,
            "height": null,
            "justify_content": null,
            "justify_items": null,
            "left": null,
            "margin": null,
            "max_height": null,
            "max_width": null,
            "min_height": null,
            "min_width": null,
            "object_fit": null,
            "object_position": null,
            "order": null,
            "overflow": null,
            "overflow_x": null,
            "overflow_y": null,
            "padding": null,
            "right": null,
            "top": null,
            "visibility": null,
            "width": null
          }
        },
        "f1b9f9ba7f2548ed97f1cf04ada706f4": {
          "model_module": "@jupyter-widgets/controls",
          "model_name": "DescriptionStyleModel",
          "model_module_version": "1.5.0",
          "state": {
            "_model_module": "@jupyter-widgets/controls",
            "_model_module_version": "1.5.0",
            "_model_name": "DescriptionStyleModel",
            "_view_count": null,
            "_view_module": "@jupyter-widgets/base",
            "_view_module_version": "1.2.0",
            "_view_name": "StyleView",
            "description_width": ""
          }
        },
        "75d577bb629a4d4bbba6f898a4afb118": {
          "model_module": "@jupyter-widgets/base",
          "model_name": "LayoutModel",
          "model_module_version": "1.2.0",
          "state": {
            "_model_module": "@jupyter-widgets/base",
            "_model_module_version": "1.2.0",
            "_model_name": "LayoutModel",
            "_view_count": null,
            "_view_module": "@jupyter-widgets/base",
            "_view_module_version": "1.2.0",
            "_view_name": "LayoutView",
            "align_content": null,
            "align_items": null,
            "align_self": null,
            "border": null,
            "bottom": null,
            "display": null,
            "flex": null,
            "flex_flow": null,
            "grid_area": null,
            "grid_auto_columns": null,
            "grid_auto_flow": null,
            "grid_auto_rows": null,
            "grid_column": null,
            "grid_gap": null,
            "grid_row": null,
            "grid_template_areas": null,
            "grid_template_columns": null,
            "grid_template_rows": null,
            "height": null,
            "justify_content": null,
            "justify_items": null,
            "left": null,
            "margin": null,
            "max_height": null,
            "max_width": null,
            "min_height": null,
            "min_width": null,
            "object_fit": null,
            "object_position": null,
            "order": null,
            "overflow": null,
            "overflow_x": null,
            "overflow_y": null,
            "padding": null,
            "right": null,
            "top": null,
            "visibility": null,
            "width": null
          }
        },
        "a4bb3cb8dbd5491a828bdb40fd15faa1": {
          "model_module": "@jupyter-widgets/controls",
          "model_name": "ProgressStyleModel",
          "model_module_version": "1.5.0",
          "state": {
            "_model_module": "@jupyter-widgets/controls",
            "_model_module_version": "1.5.0",
            "_model_name": "ProgressStyleModel",
            "_view_count": null,
            "_view_module": "@jupyter-widgets/base",
            "_view_module_version": "1.2.0",
            "_view_name": "StyleView",
            "bar_color": null,
            "description_width": ""
          }
        },
        "6ec4f12fbfe2400088653046ffd40a9f": {
          "model_module": "@jupyter-widgets/base",
          "model_name": "LayoutModel",
          "model_module_version": "1.2.0",
          "state": {
            "_model_module": "@jupyter-widgets/base",
            "_model_module_version": "1.2.0",
            "_model_name": "LayoutModel",
            "_view_count": null,
            "_view_module": "@jupyter-widgets/base",
            "_view_module_version": "1.2.0",
            "_view_name": "LayoutView",
            "align_content": null,
            "align_items": null,
            "align_self": null,
            "border": null,
            "bottom": null,
            "display": null,
            "flex": null,
            "flex_flow": null,
            "grid_area": null,
            "grid_auto_columns": null,
            "grid_auto_flow": null,
            "grid_auto_rows": null,
            "grid_column": null,
            "grid_gap": null,
            "grid_row": null,
            "grid_template_areas": null,
            "grid_template_columns": null,
            "grid_template_rows": null,
            "height": null,
            "justify_content": null,
            "justify_items": null,
            "left": null,
            "margin": null,
            "max_height": null,
            "max_width": null,
            "min_height": null,
            "min_width": null,
            "object_fit": null,
            "object_position": null,
            "order": null,
            "overflow": null,
            "overflow_x": null,
            "overflow_y": null,
            "padding": null,
            "right": null,
            "top": null,
            "visibility": null,
            "width": null
          }
        },
        "a60b3c4a35d441ba99a6ec6a5d6af1a9": {
          "model_module": "@jupyter-widgets/controls",
          "model_name": "DescriptionStyleModel",
          "model_module_version": "1.5.0",
          "state": {
            "_model_module": "@jupyter-widgets/controls",
            "_model_module_version": "1.5.0",
            "_model_name": "DescriptionStyleModel",
            "_view_count": null,
            "_view_module": "@jupyter-widgets/base",
            "_view_module_version": "1.2.0",
            "_view_name": "StyleView",
            "description_width": ""
          }
        },
        "7994712672cb4d3287b5e2c00bc78d90": {
          "model_module": "@jupyter-widgets/controls",
          "model_name": "HBoxModel",
          "model_module_version": "1.5.0",
          "state": {
            "_dom_classes": [],
            "_model_module": "@jupyter-widgets/controls",
            "_model_module_version": "1.5.0",
            "_model_name": "HBoxModel",
            "_view_count": null,
            "_view_module": "@jupyter-widgets/controls",
            "_view_module_version": "1.5.0",
            "_view_name": "HBoxView",
            "box_style": "",
            "children": [
              "IPY_MODEL_ff01ee56f5d340178e04026e0f8d69d6",
              "IPY_MODEL_8c16808689634196b111d45394673ebf",
              "IPY_MODEL_f5e97669a4e544068aa7a3d567ab227c"
            ],
            "layout": "IPY_MODEL_3f56dd7c02a14a2a87deb2bc79fbb393"
          }
        },
        "ff01ee56f5d340178e04026e0f8d69d6": {
          "model_module": "@jupyter-widgets/controls",
          "model_name": "HTMLModel",
          "model_module_version": "1.5.0",
          "state": {
            "_dom_classes": [],
            "_model_module": "@jupyter-widgets/controls",
            "_model_module_version": "1.5.0",
            "_model_name": "HTMLModel",
            "_view_count": null,
            "_view_module": "@jupyter-widgets/controls",
            "_view_module_version": "1.5.0",
            "_view_name": "HTMLView",
            "description": "",
            "description_tooltip": null,
            "layout": "IPY_MODEL_102dd237092e4dc68c27a06e3c261c91",
            "placeholder": "​",
            "style": "IPY_MODEL_32146a333b3f4a3ea51df9341ba74c8b",
            "value": "Processing:  86%"
          }
        },
        "8c16808689634196b111d45394673ebf": {
          "model_module": "@jupyter-widgets/controls",
          "model_name": "FloatProgressModel",
          "model_module_version": "1.5.0",
          "state": {
            "_dom_classes": [],
            "_model_module": "@jupyter-widgets/controls",
            "_model_module_version": "1.5.0",
            "_model_name": "FloatProgressModel",
            "_view_count": null,
            "_view_module": "@jupyter-widgets/controls",
            "_view_module_version": "1.5.0",
            "_view_name": "ProgressView",
            "bar_style": "",
            "description": "",
            "description_tooltip": null,
            "layout": "IPY_MODEL_a69b104a46a74a439e0481eb8c514f0a",
            "max": 7,
            "min": 0,
            "orientation": "horizontal",
            "style": "IPY_MODEL_91b86dec68ae4d178ae2ba088c78cec2",
            "value": 7
          }
        },
        "f5e97669a4e544068aa7a3d567ab227c": {
          "model_module": "@jupyter-widgets/controls",
          "model_name": "HTMLModel",
          "model_module_version": "1.5.0",
          "state": {
            "_dom_classes": [],
            "_model_module": "@jupyter-widgets/controls",
            "_model_module_version": "1.5.0",
            "_model_name": "HTMLModel",
            "_view_count": null,
            "_view_module": "@jupyter-widgets/controls",
            "_view_module_version": "1.5.0",
            "_view_name": "HTMLView",
            "description": "",
            "description_tooltip": null,
            "layout": "IPY_MODEL_3bee4d0c9cae45a480564034f9a0a5c9",
            "placeholder": "​",
            "style": "IPY_MODEL_1b7269502b954c3db49a8687d331a99d",
            "value": " 6/7 [00:01&lt;00:00,  5.12it/s]"
          }
        },
        "3f56dd7c02a14a2a87deb2bc79fbb393": {
          "model_module": "@jupyter-widgets/base",
          "model_name": "LayoutModel",
          "model_module_version": "1.2.0",
          "state": {
            "_model_module": "@jupyter-widgets/base",
            "_model_module_version": "1.2.0",
            "_model_name": "LayoutModel",
            "_view_count": null,
            "_view_module": "@jupyter-widgets/base",
            "_view_module_version": "1.2.0",
            "_view_name": "LayoutView",
            "align_content": null,
            "align_items": null,
            "align_self": null,
            "border": null,
            "bottom": null,
            "display": null,
            "flex": null,
            "flex_flow": null,
            "grid_area": null,
            "grid_auto_columns": null,
            "grid_auto_flow": null,
            "grid_auto_rows": null,
            "grid_column": null,
            "grid_gap": null,
            "grid_row": null,
            "grid_template_areas": null,
            "grid_template_columns": null,
            "grid_template_rows": null,
            "height": null,
            "justify_content": null,
            "justify_items": null,
            "left": null,
            "margin": null,
            "max_height": null,
            "max_width": null,
            "min_height": null,
            "min_width": null,
            "object_fit": null,
            "object_position": null,
            "order": null,
            "overflow": null,
            "overflow_x": null,
            "overflow_y": null,
            "padding": null,
            "right": null,
            "top": null,
            "visibility": "hidden",
            "width": null
          }
        },
        "102dd237092e4dc68c27a06e3c261c91": {
          "model_module": "@jupyter-widgets/base",
          "model_name": "LayoutModel",
          "model_module_version": "1.2.0",
          "state": {
            "_model_module": "@jupyter-widgets/base",
            "_model_module_version": "1.2.0",
            "_model_name": "LayoutModel",
            "_view_count": null,
            "_view_module": "@jupyter-widgets/base",
            "_view_module_version": "1.2.0",
            "_view_name": "LayoutView",
            "align_content": null,
            "align_items": null,
            "align_self": null,
            "border": null,
            "bottom": null,
            "display": null,
            "flex": null,
            "flex_flow": null,
            "grid_area": null,
            "grid_auto_columns": null,
            "grid_auto_flow": null,
            "grid_auto_rows": null,
            "grid_column": null,
            "grid_gap": null,
            "grid_row": null,
            "grid_template_areas": null,
            "grid_template_columns": null,
            "grid_template_rows": null,
            "height": null,
            "justify_content": null,
            "justify_items": null,
            "left": null,
            "margin": null,
            "max_height": null,
            "max_width": null,
            "min_height": null,
            "min_width": null,
            "object_fit": null,
            "object_position": null,
            "order": null,
            "overflow": null,
            "overflow_x": null,
            "overflow_y": null,
            "padding": null,
            "right": null,
            "top": null,
            "visibility": null,
            "width": null
          }
        },
        "32146a333b3f4a3ea51df9341ba74c8b": {
          "model_module": "@jupyter-widgets/controls",
          "model_name": "DescriptionStyleModel",
          "model_module_version": "1.5.0",
          "state": {
            "_model_module": "@jupyter-widgets/controls",
            "_model_module_version": "1.5.0",
            "_model_name": "DescriptionStyleModel",
            "_view_count": null,
            "_view_module": "@jupyter-widgets/base",
            "_view_module_version": "1.2.0",
            "_view_name": "StyleView",
            "description_width": ""
          }
        },
        "a69b104a46a74a439e0481eb8c514f0a": {
          "model_module": "@jupyter-widgets/base",
          "model_name": "LayoutModel",
          "model_module_version": "1.2.0",
          "state": {
            "_model_module": "@jupyter-widgets/base",
            "_model_module_version": "1.2.0",
            "_model_name": "LayoutModel",
            "_view_count": null,
            "_view_module": "@jupyter-widgets/base",
            "_view_module_version": "1.2.0",
            "_view_name": "LayoutView",
            "align_content": null,
            "align_items": null,
            "align_self": null,
            "border": null,
            "bottom": null,
            "display": null,
            "flex": null,
            "flex_flow": null,
            "grid_area": null,
            "grid_auto_columns": null,
            "grid_auto_flow": null,
            "grid_auto_rows": null,
            "grid_column": null,
            "grid_gap": null,
            "grid_row": null,
            "grid_template_areas": null,
            "grid_template_columns": null,
            "grid_template_rows": null,
            "height": null,
            "justify_content": null,
            "justify_items": null,
            "left": null,
            "margin": null,
            "max_height": null,
            "max_width": null,
            "min_height": null,
            "min_width": null,
            "object_fit": null,
            "object_position": null,
            "order": null,
            "overflow": null,
            "overflow_x": null,
            "overflow_y": null,
            "padding": null,
            "right": null,
            "top": null,
            "visibility": null,
            "width": null
          }
        },
        "91b86dec68ae4d178ae2ba088c78cec2": {
          "model_module": "@jupyter-widgets/controls",
          "model_name": "ProgressStyleModel",
          "model_module_version": "1.5.0",
          "state": {
            "_model_module": "@jupyter-widgets/controls",
            "_model_module_version": "1.5.0",
            "_model_name": "ProgressStyleModel",
            "_view_count": null,
            "_view_module": "@jupyter-widgets/base",
            "_view_module_version": "1.2.0",
            "_view_name": "StyleView",
            "bar_color": null,
            "description_width": ""
          }
        },
        "3bee4d0c9cae45a480564034f9a0a5c9": {
          "model_module": "@jupyter-widgets/base",
          "model_name": "LayoutModel",
          "model_module_version": "1.2.0",
          "state": {
            "_model_module": "@jupyter-widgets/base",
            "_model_module_version": "1.2.0",
            "_model_name": "LayoutModel",
            "_view_count": null,
            "_view_module": "@jupyter-widgets/base",
            "_view_module_version": "1.2.0",
            "_view_name": "LayoutView",
            "align_content": null,
            "align_items": null,
            "align_self": null,
            "border": null,
            "bottom": null,
            "display": null,
            "flex": null,
            "flex_flow": null,
            "grid_area": null,
            "grid_auto_columns": null,
            "grid_auto_flow": null,
            "grid_auto_rows": null,
            "grid_column": null,
            "grid_gap": null,
            "grid_row": null,
            "grid_template_areas": null,
            "grid_template_columns": null,
            "grid_template_rows": null,
            "height": null,
            "justify_content": null,
            "justify_items": null,
            "left": null,
            "margin": null,
            "max_height": null,
            "max_width": null,
            "min_height": null,
            "min_width": null,
            "object_fit": null,
            "object_position": null,
            "order": null,
            "overflow": null,
            "overflow_x": null,
            "overflow_y": null,
            "padding": null,
            "right": null,
            "top": null,
            "visibility": null,
            "width": null
          }
        },
        "1b7269502b954c3db49a8687d331a99d": {
          "model_module": "@jupyter-widgets/controls",
          "model_name": "DescriptionStyleModel",
          "model_module_version": "1.5.0",
          "state": {
            "_model_module": "@jupyter-widgets/controls",
            "_model_module_version": "1.5.0",
            "_model_name": "DescriptionStyleModel",
            "_view_count": null,
            "_view_module": "@jupyter-widgets/base",
            "_view_module_version": "1.2.0",
            "_view_name": "StyleView",
            "description_width": ""
          }
        },
        "133e04567f2d4a5499296dcb19bf1118": {
          "model_module": "@jupyter-widgets/controls",
          "model_name": "HBoxModel",
          "model_module_version": "1.5.0",
          "state": {
            "_dom_classes": [],
            "_model_module": "@jupyter-widgets/controls",
            "_model_module_version": "1.5.0",
            "_model_name": "HBoxModel",
            "_view_count": null,
            "_view_module": "@jupyter-widgets/controls",
            "_view_module_version": "1.5.0",
            "_view_name": "HBoxView",
            "box_style": "",
            "children": [
              "IPY_MODEL_21e1e152471c47d194bcc02e39780f5e",
              "IPY_MODEL_6a35c2da4866444cade9a1e5867f34a0",
              "IPY_MODEL_566774ebfab24cf7a44055d216cdba38"
            ],
            "layout": "IPY_MODEL_8618785d20af467dbd949a1c77fd5748"
          }
        },
        "21e1e152471c47d194bcc02e39780f5e": {
          "model_module": "@jupyter-widgets/controls",
          "model_name": "HTMLModel",
          "model_module_version": "1.5.0",
          "state": {
            "_dom_classes": [],
            "_model_module": "@jupyter-widgets/controls",
            "_model_module_version": "1.5.0",
            "_model_name": "HTMLModel",
            "_view_count": null,
            "_view_module": "@jupyter-widgets/controls",
            "_view_module_version": "1.5.0",
            "_view_name": "HTMLView",
            "description": "",
            "description_tooltip": null,
            "layout": "IPY_MODEL_831192e2d2d743dfa49c33ce77c8d610",
            "placeholder": "​",
            "style": "IPY_MODEL_118ff4ef28ec452ca28062d60d521f5a",
            "value": "Processing:   0%"
          }
        },
        "6a35c2da4866444cade9a1e5867f34a0": {
          "model_module": "@jupyter-widgets/controls",
          "model_name": "FloatProgressModel",
          "model_module_version": "1.5.0",
          "state": {
            "_dom_classes": [],
            "_model_module": "@jupyter-widgets/controls",
            "_model_module_version": "1.5.0",
            "_model_name": "FloatProgressModel",
            "_view_count": null,
            "_view_module": "@jupyter-widgets/controls",
            "_view_module_version": "1.5.0",
            "_view_name": "ProgressView",
            "bar_style": "",
            "description": "",
            "description_tooltip": null,
            "layout": "IPY_MODEL_d978383ca1844b429f308e85dde736dd",
            "max": 4,
            "min": 0,
            "orientation": "horizontal",
            "style": "IPY_MODEL_dab179647bfc4b5ca02f261d51284a29",
            "value": 4
          }
        },
        "566774ebfab24cf7a44055d216cdba38": {
          "model_module": "@jupyter-widgets/controls",
          "model_name": "HTMLModel",
          "model_module_version": "1.5.0",
          "state": {
            "_dom_classes": [],
            "_model_module": "@jupyter-widgets/controls",
            "_model_module_version": "1.5.0",
            "_model_name": "HTMLModel",
            "_view_count": null,
            "_view_module": "@jupyter-widgets/controls",
            "_view_module_version": "1.5.0",
            "_view_name": "HTMLView",
            "description": "",
            "description_tooltip": null,
            "layout": "IPY_MODEL_f3f31b9c9e6c4031989e42f02e09b576",
            "placeholder": "​",
            "style": "IPY_MODEL_16a272204a0747eb905dea504bd0d63f",
            "value": " 0/4 [00:00&lt;?, ?it/s]"
          }
        },
        "8618785d20af467dbd949a1c77fd5748": {
          "model_module": "@jupyter-widgets/base",
          "model_name": "LayoutModel",
          "model_module_version": "1.2.0",
          "state": {
            "_model_module": "@jupyter-widgets/base",
            "_model_module_version": "1.2.0",
            "_model_name": "LayoutModel",
            "_view_count": null,
            "_view_module": "@jupyter-widgets/base",
            "_view_module_version": "1.2.0",
            "_view_name": "LayoutView",
            "align_content": null,
            "align_items": null,
            "align_self": null,
            "border": null,
            "bottom": null,
            "display": null,
            "flex": null,
            "flex_flow": null,
            "grid_area": null,
            "grid_auto_columns": null,
            "grid_auto_flow": null,
            "grid_auto_rows": null,
            "grid_column": null,
            "grid_gap": null,
            "grid_row": null,
            "grid_template_areas": null,
            "grid_template_columns": null,
            "grid_template_rows": null,
            "height": null,
            "justify_content": null,
            "justify_items": null,
            "left": null,
            "margin": null,
            "max_height": null,
            "max_width": null,
            "min_height": null,
            "min_width": null,
            "object_fit": null,
            "object_position": null,
            "order": null,
            "overflow": null,
            "overflow_x": null,
            "overflow_y": null,
            "padding": null,
            "right": null,
            "top": null,
            "visibility": "hidden",
            "width": null
          }
        },
        "831192e2d2d743dfa49c33ce77c8d610": {
          "model_module": "@jupyter-widgets/base",
          "model_name": "LayoutModel",
          "model_module_version": "1.2.0",
          "state": {
            "_model_module": "@jupyter-widgets/base",
            "_model_module_version": "1.2.0",
            "_model_name": "LayoutModel",
            "_view_count": null,
            "_view_module": "@jupyter-widgets/base",
            "_view_module_version": "1.2.0",
            "_view_name": "LayoutView",
            "align_content": null,
            "align_items": null,
            "align_self": null,
            "border": null,
            "bottom": null,
            "display": null,
            "flex": null,
            "flex_flow": null,
            "grid_area": null,
            "grid_auto_columns": null,
            "grid_auto_flow": null,
            "grid_auto_rows": null,
            "grid_column": null,
            "grid_gap": null,
            "grid_row": null,
            "grid_template_areas": null,
            "grid_template_columns": null,
            "grid_template_rows": null,
            "height": null,
            "justify_content": null,
            "justify_items": null,
            "left": null,
            "margin": null,
            "max_height": null,
            "max_width": null,
            "min_height": null,
            "min_width": null,
            "object_fit": null,
            "object_position": null,
            "order": null,
            "overflow": null,
            "overflow_x": null,
            "overflow_y": null,
            "padding": null,
            "right": null,
            "top": null,
            "visibility": null,
            "width": null
          }
        },
        "118ff4ef28ec452ca28062d60d521f5a": {
          "model_module": "@jupyter-widgets/controls",
          "model_name": "DescriptionStyleModel",
          "model_module_version": "1.5.0",
          "state": {
            "_model_module": "@jupyter-widgets/controls",
            "_model_module_version": "1.5.0",
            "_model_name": "DescriptionStyleModel",
            "_view_count": null,
            "_view_module": "@jupyter-widgets/base",
            "_view_module_version": "1.2.0",
            "_view_name": "StyleView",
            "description_width": ""
          }
        },
        "d978383ca1844b429f308e85dde736dd": {
          "model_module": "@jupyter-widgets/base",
          "model_name": "LayoutModel",
          "model_module_version": "1.2.0",
          "state": {
            "_model_module": "@jupyter-widgets/base",
            "_model_module_version": "1.2.0",
            "_model_name": "LayoutModel",
            "_view_count": null,
            "_view_module": "@jupyter-widgets/base",
            "_view_module_version": "1.2.0",
            "_view_name": "LayoutView",
            "align_content": null,
            "align_items": null,
            "align_self": null,
            "border": null,
            "bottom": null,
            "display": null,
            "flex": null,
            "flex_flow": null,
            "grid_area": null,
            "grid_auto_columns": null,
            "grid_auto_flow": null,
            "grid_auto_rows": null,
            "grid_column": null,
            "grid_gap": null,
            "grid_row": null,
            "grid_template_areas": null,
            "grid_template_columns": null,
            "grid_template_rows": null,
            "height": null,
            "justify_content": null,
            "justify_items": null,
            "left": null,
            "margin": null,
            "max_height": null,
            "max_width": null,
            "min_height": null,
            "min_width": null,
            "object_fit": null,
            "object_position": null,
            "order": null,
            "overflow": null,
            "overflow_x": null,
            "overflow_y": null,
            "padding": null,
            "right": null,
            "top": null,
            "visibility": null,
            "width": null
          }
        },
        "dab179647bfc4b5ca02f261d51284a29": {
          "model_module": "@jupyter-widgets/controls",
          "model_name": "ProgressStyleModel",
          "model_module_version": "1.5.0",
          "state": {
            "_model_module": "@jupyter-widgets/controls",
            "_model_module_version": "1.5.0",
            "_model_name": "ProgressStyleModel",
            "_view_count": null,
            "_view_module": "@jupyter-widgets/base",
            "_view_module_version": "1.2.0",
            "_view_name": "StyleView",
            "bar_color": null,
            "description_width": ""
          }
        },
        "f3f31b9c9e6c4031989e42f02e09b576": {
          "model_module": "@jupyter-widgets/base",
          "model_name": "LayoutModel",
          "model_module_version": "1.2.0",
          "state": {
            "_model_module": "@jupyter-widgets/base",
            "_model_module_version": "1.2.0",
            "_model_name": "LayoutModel",
            "_view_count": null,
            "_view_module": "@jupyter-widgets/base",
            "_view_module_version": "1.2.0",
            "_view_name": "LayoutView",
            "align_content": null,
            "align_items": null,
            "align_self": null,
            "border": null,
            "bottom": null,
            "display": null,
            "flex": null,
            "flex_flow": null,
            "grid_area": null,
            "grid_auto_columns": null,
            "grid_auto_flow": null,
            "grid_auto_rows": null,
            "grid_column": null,
            "grid_gap": null,
            "grid_row": null,
            "grid_template_areas": null,
            "grid_template_columns": null,
            "grid_template_rows": null,
            "height": null,
            "justify_content": null,
            "justify_items": null,
            "left": null,
            "margin": null,
            "max_height": null,
            "max_width": null,
            "min_height": null,
            "min_width": null,
            "object_fit": null,
            "object_position": null,
            "order": null,
            "overflow": null,
            "overflow_x": null,
            "overflow_y": null,
            "padding": null,
            "right": null,
            "top": null,
            "visibility": null,
            "width": null
          }
        },
        "16a272204a0747eb905dea504bd0d63f": {
          "model_module": "@jupyter-widgets/controls",
          "model_name": "DescriptionStyleModel",
          "model_module_version": "1.5.0",
          "state": {
            "_model_module": "@jupyter-widgets/controls",
            "_model_module_version": "1.5.0",
            "_model_name": "DescriptionStyleModel",
            "_view_count": null,
            "_view_module": "@jupyter-widgets/base",
            "_view_module_version": "1.2.0",
            "_view_name": "StyleView",
            "description_width": ""
          }
        },
        "8e23513247fe4c0ca3d88d07549a9ea2": {
          "model_module": "@jupyter-widgets/controls",
          "model_name": "HBoxModel",
          "model_module_version": "1.5.0",
          "state": {
            "_dom_classes": [],
            "_model_module": "@jupyter-widgets/controls",
            "_model_module_version": "1.5.0",
            "_model_name": "HBoxModel",
            "_view_count": null,
            "_view_module": "@jupyter-widgets/controls",
            "_view_module_version": "1.5.0",
            "_view_name": "HBoxView",
            "box_style": "",
            "children": [
              "IPY_MODEL_fdf35be01334427bb71ac61641353ae3",
              "IPY_MODEL_dc0b06bee38e44ecbf63cedaf89ab069",
              "IPY_MODEL_0680d87e3c21403d914ca1f2a3319459"
            ],
            "layout": "IPY_MODEL_8958a6013df74c67b8aebe242685e68a"
          }
        },
        "fdf35be01334427bb71ac61641353ae3": {
          "model_module": "@jupyter-widgets/controls",
          "model_name": "HTMLModel",
          "model_module_version": "1.5.0",
          "state": {
            "_dom_classes": [],
            "_model_module": "@jupyter-widgets/controls",
            "_model_module_version": "1.5.0",
            "_model_name": "HTMLModel",
            "_view_count": null,
            "_view_module": "@jupyter-widgets/controls",
            "_view_module_version": "1.5.0",
            "_view_name": "HTMLView",
            "description": "",
            "description_tooltip": null,
            "layout": "IPY_MODEL_4243057bd5cc417da26ba917970da600",
            "placeholder": "​",
            "style": "IPY_MODEL_f7a9760542b247418cc7a55bcf11e054",
            "value": "Processing:  86%"
          }
        },
        "dc0b06bee38e44ecbf63cedaf89ab069": {
          "model_module": "@jupyter-widgets/controls",
          "model_name": "FloatProgressModel",
          "model_module_version": "1.5.0",
          "state": {
            "_dom_classes": [],
            "_model_module": "@jupyter-widgets/controls",
            "_model_module_version": "1.5.0",
            "_model_name": "FloatProgressModel",
            "_view_count": null,
            "_view_module": "@jupyter-widgets/controls",
            "_view_module_version": "1.5.0",
            "_view_name": "ProgressView",
            "bar_style": "",
            "description": "",
            "description_tooltip": null,
            "layout": "IPY_MODEL_185b174c9b3a47e68da8d3b8d7947e46",
            "max": 7,
            "min": 0,
            "orientation": "horizontal",
            "style": "IPY_MODEL_f00d34143be24276831f7a0b15160c27",
            "value": 7
          }
        },
        "0680d87e3c21403d914ca1f2a3319459": {
          "model_module": "@jupyter-widgets/controls",
          "model_name": "HTMLModel",
          "model_module_version": "1.5.0",
          "state": {
            "_dom_classes": [],
            "_model_module": "@jupyter-widgets/controls",
            "_model_module_version": "1.5.0",
            "_model_name": "HTMLModel",
            "_view_count": null,
            "_view_module": "@jupyter-widgets/controls",
            "_view_module_version": "1.5.0",
            "_view_name": "HTMLView",
            "description": "",
            "description_tooltip": null,
            "layout": "IPY_MODEL_c0f05df51da74f4297a5d6140338765a",
            "placeholder": "​",
            "style": "IPY_MODEL_2b53c1b50cb340d189351cd1196c40df",
            "value": " 6/7 [00:02&lt;00:00,  3.25it/s]"
          }
        },
        "8958a6013df74c67b8aebe242685e68a": {
          "model_module": "@jupyter-widgets/base",
          "model_name": "LayoutModel",
          "model_module_version": "1.2.0",
          "state": {
            "_model_module": "@jupyter-widgets/base",
            "_model_module_version": "1.2.0",
            "_model_name": "LayoutModel",
            "_view_count": null,
            "_view_module": "@jupyter-widgets/base",
            "_view_module_version": "1.2.0",
            "_view_name": "LayoutView",
            "align_content": null,
            "align_items": null,
            "align_self": null,
            "border": null,
            "bottom": null,
            "display": null,
            "flex": null,
            "flex_flow": null,
            "grid_area": null,
            "grid_auto_columns": null,
            "grid_auto_flow": null,
            "grid_auto_rows": null,
            "grid_column": null,
            "grid_gap": null,
            "grid_row": null,
            "grid_template_areas": null,
            "grid_template_columns": null,
            "grid_template_rows": null,
            "height": null,
            "justify_content": null,
            "justify_items": null,
            "left": null,
            "margin": null,
            "max_height": null,
            "max_width": null,
            "min_height": null,
            "min_width": null,
            "object_fit": null,
            "object_position": null,
            "order": null,
            "overflow": null,
            "overflow_x": null,
            "overflow_y": null,
            "padding": null,
            "right": null,
            "top": null,
            "visibility": "hidden",
            "width": null
          }
        },
        "4243057bd5cc417da26ba917970da600": {
          "model_module": "@jupyter-widgets/base",
          "model_name": "LayoutModel",
          "model_module_version": "1.2.0",
          "state": {
            "_model_module": "@jupyter-widgets/base",
            "_model_module_version": "1.2.0",
            "_model_name": "LayoutModel",
            "_view_count": null,
            "_view_module": "@jupyter-widgets/base",
            "_view_module_version": "1.2.0",
            "_view_name": "LayoutView",
            "align_content": null,
            "align_items": null,
            "align_self": null,
            "border": null,
            "bottom": null,
            "display": null,
            "flex": null,
            "flex_flow": null,
            "grid_area": null,
            "grid_auto_columns": null,
            "grid_auto_flow": null,
            "grid_auto_rows": null,
            "grid_column": null,
            "grid_gap": null,
            "grid_row": null,
            "grid_template_areas": null,
            "grid_template_columns": null,
            "grid_template_rows": null,
            "height": null,
            "justify_content": null,
            "justify_items": null,
            "left": null,
            "margin": null,
            "max_height": null,
            "max_width": null,
            "min_height": null,
            "min_width": null,
            "object_fit": null,
            "object_position": null,
            "order": null,
            "overflow": null,
            "overflow_x": null,
            "overflow_y": null,
            "padding": null,
            "right": null,
            "top": null,
            "visibility": null,
            "width": null
          }
        },
        "f7a9760542b247418cc7a55bcf11e054": {
          "model_module": "@jupyter-widgets/controls",
          "model_name": "DescriptionStyleModel",
          "model_module_version": "1.5.0",
          "state": {
            "_model_module": "@jupyter-widgets/controls",
            "_model_module_version": "1.5.0",
            "_model_name": "DescriptionStyleModel",
            "_view_count": null,
            "_view_module": "@jupyter-widgets/base",
            "_view_module_version": "1.2.0",
            "_view_name": "StyleView",
            "description_width": ""
          }
        },
        "185b174c9b3a47e68da8d3b8d7947e46": {
          "model_module": "@jupyter-widgets/base",
          "model_name": "LayoutModel",
          "model_module_version": "1.2.0",
          "state": {
            "_model_module": "@jupyter-widgets/base",
            "_model_module_version": "1.2.0",
            "_model_name": "LayoutModel",
            "_view_count": null,
            "_view_module": "@jupyter-widgets/base",
            "_view_module_version": "1.2.0",
            "_view_name": "LayoutView",
            "align_content": null,
            "align_items": null,
            "align_self": null,
            "border": null,
            "bottom": null,
            "display": null,
            "flex": null,
            "flex_flow": null,
            "grid_area": null,
            "grid_auto_columns": null,
            "grid_auto_flow": null,
            "grid_auto_rows": null,
            "grid_column": null,
            "grid_gap": null,
            "grid_row": null,
            "grid_template_areas": null,
            "grid_template_columns": null,
            "grid_template_rows": null,
            "height": null,
            "justify_content": null,
            "justify_items": null,
            "left": null,
            "margin": null,
            "max_height": null,
            "max_width": null,
            "min_height": null,
            "min_width": null,
            "object_fit": null,
            "object_position": null,
            "order": null,
            "overflow": null,
            "overflow_x": null,
            "overflow_y": null,
            "padding": null,
            "right": null,
            "top": null,
            "visibility": null,
            "width": null
          }
        },
        "f00d34143be24276831f7a0b15160c27": {
          "model_module": "@jupyter-widgets/controls",
          "model_name": "ProgressStyleModel",
          "model_module_version": "1.5.0",
          "state": {
            "_model_module": "@jupyter-widgets/controls",
            "_model_module_version": "1.5.0",
            "_model_name": "ProgressStyleModel",
            "_view_count": null,
            "_view_module": "@jupyter-widgets/base",
            "_view_module_version": "1.2.0",
            "_view_name": "StyleView",
            "bar_color": null,
            "description_width": ""
          }
        },
        "c0f05df51da74f4297a5d6140338765a": {
          "model_module": "@jupyter-widgets/base",
          "model_name": "LayoutModel",
          "model_module_version": "1.2.0",
          "state": {
            "_model_module": "@jupyter-widgets/base",
            "_model_module_version": "1.2.0",
            "_model_name": "LayoutModel",
            "_view_count": null,
            "_view_module": "@jupyter-widgets/base",
            "_view_module_version": "1.2.0",
            "_view_name": "LayoutView",
            "align_content": null,
            "align_items": null,
            "align_self": null,
            "border": null,
            "bottom": null,
            "display": null,
            "flex": null,
            "flex_flow": null,
            "grid_area": null,
            "grid_auto_columns": null,
            "grid_auto_flow": null,
            "grid_auto_rows": null,
            "grid_column": null,
            "grid_gap": null,
            "grid_row": null,
            "grid_template_areas": null,
            "grid_template_columns": null,
            "grid_template_rows": null,
            "height": null,
            "justify_content": null,
            "justify_items": null,
            "left": null,
            "margin": null,
            "max_height": null,
            "max_width": null,
            "min_height": null,
            "min_width": null,
            "object_fit": null,
            "object_position": null,
            "order": null,
            "overflow": null,
            "overflow_x": null,
            "overflow_y": null,
            "padding": null,
            "right": null,
            "top": null,
            "visibility": null,
            "width": null
          }
        },
        "2b53c1b50cb340d189351cd1196c40df": {
          "model_module": "@jupyter-widgets/controls",
          "model_name": "DescriptionStyleModel",
          "model_module_version": "1.5.0",
          "state": {
            "_model_module": "@jupyter-widgets/controls",
            "_model_module_version": "1.5.0",
            "_model_name": "DescriptionStyleModel",
            "_view_count": null,
            "_view_module": "@jupyter-widgets/base",
            "_view_module_version": "1.2.0",
            "_view_name": "StyleView",
            "description_width": ""
          }
        },
        "aec75b276c734758931ba286a76537bc": {
          "model_module": "@jupyter-widgets/controls",
          "model_name": "HBoxModel",
          "model_module_version": "1.5.0",
          "state": {
            "_dom_classes": [],
            "_model_module": "@jupyter-widgets/controls",
            "_model_module_version": "1.5.0",
            "_model_name": "HBoxModel",
            "_view_count": null,
            "_view_module": "@jupyter-widgets/controls",
            "_view_module_version": "1.5.0",
            "_view_name": "HBoxView",
            "box_style": "",
            "children": [
              "IPY_MODEL_08b73e19885b412abb3d9e83f108a58e",
              "IPY_MODEL_fd618f36af9d4eaeb1471430060c51ae",
              "IPY_MODEL_3e5c3c2b38864f05835011aae9355ded"
            ],
            "layout": "IPY_MODEL_3191a8748e804d8ba296645d02953d87"
          }
        },
        "08b73e19885b412abb3d9e83f108a58e": {
          "model_module": "@jupyter-widgets/controls",
          "model_name": "HTMLModel",
          "model_module_version": "1.5.0",
          "state": {
            "_dom_classes": [],
            "_model_module": "@jupyter-widgets/controls",
            "_model_module_version": "1.5.0",
            "_model_name": "HTMLModel",
            "_view_count": null,
            "_view_module": "@jupyter-widgets/controls",
            "_view_module_version": "1.5.0",
            "_view_name": "HTMLView",
            "description": "",
            "description_tooltip": null,
            "layout": "IPY_MODEL_8425e63c32ad4a2fa2aeea402ce994f6",
            "placeholder": "​",
            "style": "IPY_MODEL_8eedad9129f7424e8c26c993e816150b",
            "value": "Processing: 100%"
          }
        },
        "fd618f36af9d4eaeb1471430060c51ae": {
          "model_module": "@jupyter-widgets/controls",
          "model_name": "FloatProgressModel",
          "model_module_version": "1.5.0",
          "state": {
            "_dom_classes": [],
            "_model_module": "@jupyter-widgets/controls",
            "_model_module_version": "1.5.0",
            "_model_name": "FloatProgressModel",
            "_view_count": null,
            "_view_module": "@jupyter-widgets/controls",
            "_view_module_version": "1.5.0",
            "_view_name": "ProgressView",
            "bar_style": "",
            "description": "",
            "description_tooltip": null,
            "layout": "IPY_MODEL_105595a9bd8f49cc81fe688d66a3bd10",
            "max": 37,
            "min": 0,
            "orientation": "horizontal",
            "style": "IPY_MODEL_5032e2c381414cba9bd8730b95c6c87c",
            "value": 37
          }
        },
        "3e5c3c2b38864f05835011aae9355ded": {
          "model_module": "@jupyter-widgets/controls",
          "model_name": "HTMLModel",
          "model_module_version": "1.5.0",
          "state": {
            "_dom_classes": [],
            "_model_module": "@jupyter-widgets/controls",
            "_model_module_version": "1.5.0",
            "_model_name": "HTMLModel",
            "_view_count": null,
            "_view_module": "@jupyter-widgets/controls",
            "_view_module_version": "1.5.0",
            "_view_name": "HTMLView",
            "description": "",
            "description_tooltip": null,
            "layout": "IPY_MODEL_8c519935107d4ad9975c808709cbe454",
            "placeholder": "​",
            "style": "IPY_MODEL_57ace22e4c8641f78f3fd1db9883ac44",
            "value": " 37/37 [00:03&lt;00:00,  9.66it/s]"
          }
        },
        "3191a8748e804d8ba296645d02953d87": {
          "model_module": "@jupyter-widgets/base",
          "model_name": "LayoutModel",
          "model_module_version": "1.2.0",
          "state": {
            "_model_module": "@jupyter-widgets/base",
            "_model_module_version": "1.2.0",
            "_model_name": "LayoutModel",
            "_view_count": null,
            "_view_module": "@jupyter-widgets/base",
            "_view_module_version": "1.2.0",
            "_view_name": "LayoutView",
            "align_content": null,
            "align_items": null,
            "align_self": null,
            "border": null,
            "bottom": null,
            "display": null,
            "flex": null,
            "flex_flow": null,
            "grid_area": null,
            "grid_auto_columns": null,
            "grid_auto_flow": null,
            "grid_auto_rows": null,
            "grid_column": null,
            "grid_gap": null,
            "grid_row": null,
            "grid_template_areas": null,
            "grid_template_columns": null,
            "grid_template_rows": null,
            "height": null,
            "justify_content": null,
            "justify_items": null,
            "left": null,
            "margin": null,
            "max_height": null,
            "max_width": null,
            "min_height": null,
            "min_width": null,
            "object_fit": null,
            "object_position": null,
            "order": null,
            "overflow": null,
            "overflow_x": null,
            "overflow_y": null,
            "padding": null,
            "right": null,
            "top": null,
            "visibility": "hidden",
            "width": null
          }
        },
        "8425e63c32ad4a2fa2aeea402ce994f6": {
          "model_module": "@jupyter-widgets/base",
          "model_name": "LayoutModel",
          "model_module_version": "1.2.0",
          "state": {
            "_model_module": "@jupyter-widgets/base",
            "_model_module_version": "1.2.0",
            "_model_name": "LayoutModel",
            "_view_count": null,
            "_view_module": "@jupyter-widgets/base",
            "_view_module_version": "1.2.0",
            "_view_name": "LayoutView",
            "align_content": null,
            "align_items": null,
            "align_self": null,
            "border": null,
            "bottom": null,
            "display": null,
            "flex": null,
            "flex_flow": null,
            "grid_area": null,
            "grid_auto_columns": null,
            "grid_auto_flow": null,
            "grid_auto_rows": null,
            "grid_column": null,
            "grid_gap": null,
            "grid_row": null,
            "grid_template_areas": null,
            "grid_template_columns": null,
            "grid_template_rows": null,
            "height": null,
            "justify_content": null,
            "justify_items": null,
            "left": null,
            "margin": null,
            "max_height": null,
            "max_width": null,
            "min_height": null,
            "min_width": null,
            "object_fit": null,
            "object_position": null,
            "order": null,
            "overflow": null,
            "overflow_x": null,
            "overflow_y": null,
            "padding": null,
            "right": null,
            "top": null,
            "visibility": null,
            "width": null
          }
        },
        "8eedad9129f7424e8c26c993e816150b": {
          "model_module": "@jupyter-widgets/controls",
          "model_name": "DescriptionStyleModel",
          "model_module_version": "1.5.0",
          "state": {
            "_model_module": "@jupyter-widgets/controls",
            "_model_module_version": "1.5.0",
            "_model_name": "DescriptionStyleModel",
            "_view_count": null,
            "_view_module": "@jupyter-widgets/base",
            "_view_module_version": "1.2.0",
            "_view_name": "StyleView",
            "description_width": ""
          }
        },
        "105595a9bd8f49cc81fe688d66a3bd10": {
          "model_module": "@jupyter-widgets/base",
          "model_name": "LayoutModel",
          "model_module_version": "1.2.0",
          "state": {
            "_model_module": "@jupyter-widgets/base",
            "_model_module_version": "1.2.0",
            "_model_name": "LayoutModel",
            "_view_count": null,
            "_view_module": "@jupyter-widgets/base",
            "_view_module_version": "1.2.0",
            "_view_name": "LayoutView",
            "align_content": null,
            "align_items": null,
            "align_self": null,
            "border": null,
            "bottom": null,
            "display": null,
            "flex": null,
            "flex_flow": null,
            "grid_area": null,
            "grid_auto_columns": null,
            "grid_auto_flow": null,
            "grid_auto_rows": null,
            "grid_column": null,
            "grid_gap": null,
            "grid_row": null,
            "grid_template_areas": null,
            "grid_template_columns": null,
            "grid_template_rows": null,
            "height": null,
            "justify_content": null,
            "justify_items": null,
            "left": null,
            "margin": null,
            "max_height": null,
            "max_width": null,
            "min_height": null,
            "min_width": null,
            "object_fit": null,
            "object_position": null,
            "order": null,
            "overflow": null,
            "overflow_x": null,
            "overflow_y": null,
            "padding": null,
            "right": null,
            "top": null,
            "visibility": null,
            "width": null
          }
        },
        "5032e2c381414cba9bd8730b95c6c87c": {
          "model_module": "@jupyter-widgets/controls",
          "model_name": "ProgressStyleModel",
          "model_module_version": "1.5.0",
          "state": {
            "_model_module": "@jupyter-widgets/controls",
            "_model_module_version": "1.5.0",
            "_model_name": "ProgressStyleModel",
            "_view_count": null,
            "_view_module": "@jupyter-widgets/base",
            "_view_module_version": "1.2.0",
            "_view_name": "StyleView",
            "bar_color": null,
            "description_width": ""
          }
        },
        "8c519935107d4ad9975c808709cbe454": {
          "model_module": "@jupyter-widgets/base",
          "model_name": "LayoutModel",
          "model_module_version": "1.2.0",
          "state": {
            "_model_module": "@jupyter-widgets/base",
            "_model_module_version": "1.2.0",
            "_model_name": "LayoutModel",
            "_view_count": null,
            "_view_module": "@jupyter-widgets/base",
            "_view_module_version": "1.2.0",
            "_view_name": "LayoutView",
            "align_content": null,
            "align_items": null,
            "align_self": null,
            "border": null,
            "bottom": null,
            "display": null,
            "flex": null,
            "flex_flow": null,
            "grid_area": null,
            "grid_auto_columns": null,
            "grid_auto_flow": null,
            "grid_auto_rows": null,
            "grid_column": null,
            "grid_gap": null,
            "grid_row": null,
            "grid_template_areas": null,
            "grid_template_columns": null,
            "grid_template_rows": null,
            "height": null,
            "justify_content": null,
            "justify_items": null,
            "left": null,
            "margin": null,
            "max_height": null,
            "max_width": null,
            "min_height": null,
            "min_width": null,
            "object_fit": null,
            "object_position": null,
            "order": null,
            "overflow": null,
            "overflow_x": null,
            "overflow_y": null,
            "padding": null,
            "right": null,
            "top": null,
            "visibility": null,
            "width": null
          }
        },
        "57ace22e4c8641f78f3fd1db9883ac44": {
          "model_module": "@jupyter-widgets/controls",
          "model_name": "DescriptionStyleModel",
          "model_module_version": "1.5.0",
          "state": {
            "_model_module": "@jupyter-widgets/controls",
            "_model_module_version": "1.5.0",
            "_model_name": "DescriptionStyleModel",
            "_view_count": null,
            "_view_module": "@jupyter-widgets/base",
            "_view_module_version": "1.2.0",
            "_view_name": "StyleView",
            "description_width": ""
          }
        }
      }
    }
  },
  "nbformat": 4,
  "nbformat_minor": 0
}